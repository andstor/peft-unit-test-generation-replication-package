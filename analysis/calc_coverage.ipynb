{
 "cells": [
  {
   "cell_type": "code",
   "execution_count": 191,
   "metadata": {},
   "outputs": [
    {
     "name": "stdout",
     "output_type": "stream",
     "text": [
      "Avg. mean. executable tests:  0.23315000000000002\n",
      "Avg. mean. instruction coverage:  0.98811\n",
      "Avg. mean. branch coverage:  0.7854599999999999\n"
     ]
    }
   ],
   "source": [
    "import json\n",
    "import os\n",
    "from pathlib import Path\n",
    "import pandas as pd\n",
    "import math\n",
    "from tqdm import tqdm\n",
    "\n",
    "data_path = Path(\"../data/humaneval-x/\")\n",
    "\n",
    "root, dirs, files = next(os.walk(data_path / \"coverage\"))\n",
    "dataset_path = Path(root)\n",
    "\n",
    "\n",
    "runnable_data = {}\n",
    "instruction_data = {}\n",
    "branch_data = {}\n",
    "\n",
    "for method in dirs:\n",
    "    root, dirs, files = next(os.walk(dataset_path / method))\n",
    "    for series in dirs:\n",
    "        root, dirs, files = next(os.walk(dataset_path / method / series))\n",
    "        for model in dirs:\n",
    "            root, dirs, files = next(os.walk(dataset_path / method / series / model))\n",
    "            \n",
    "            res_file_path = Path(\"../data\") / \"humaneval-x\" / \"coverage\" / method / series / model / \"jacoco.jsonl\"\n",
    "            err_file_path = Path(\"../data\") / \"humaneval-x\" / \"coverage\" / method / series / model / \"error.jsonl\"\n",
    "            \n",
    "            df = pd.read_json(res_file_path, lines=True)\n",
    "            err_df = pd.read_json(err_file_path, lines=True)\n",
    "            runnable_data.setdefault(model, {})\n",
    "            tot_exec = len(df) + len(err_df)\n",
    "            if tot_exec == 0:\n",
    "                runnable_data[model][method] = 0\n",
    "            else:\n",
    "                runnable_data[model][method] = round(len(df) / tot_exec, 4)\n",
    "\n",
    "            instruction_data.setdefault(model, {})\n",
    "            instruction_coverage = 0\n",
    "            if not df.empty:\n",
    "                instruction_coverage = df[\"instruction_coverage\"].mean()\n",
    "            instruction_data[model][method] = round(instruction_coverage, 4)\n",
    "            \n",
    "\n",
    "            branch_data.setdefault(model, {})\n",
    "            branch_coverage = 0\n",
    "            if not df.empty:\n",
    "                branch_coverage = df[\"branch_coverage\"].mean()\n",
    "            branch_data[model][method] = round(branch_coverage, 4)\n",
    "\n",
    "\n",
    "\n",
    "runnable_df = pd.DataFrame(runnable_data)\n",
    "runnable_df.to_csv(data_path /  \"coverage_runnable.csv\", index_label = 'model')\n",
    "print(\"Avg. mean. runnable tests: \", runnable_df.T.median().mean())\n",
    "\n",
    "instruction_df = pd.DataFrame(instruction_data)\n",
    "instruction_df.to_csv(data_path / \"coverage_instruction.csv\", index_label = 'model')\n",
    "print(\"Avg. mean. instruction coverage: \", instruction_df.T.median().mean())\n",
    "\n",
    "\n",
    "branch_df = pd.DataFrame(branch_data)\n",
    "branch_df.to_csv(data_path / \"coverage_branch.csv\", index_label = 'model')\n",
    "print(\"Avg. mean. branch coverage: \", branch_df.T.median().mean())"
   ]
  }
 ],
 "metadata": {
  "kernelspec": {
   "display_name": ".venv",
   "language": "python",
   "name": "python3"
  },
  "language_info": {
   "codemirror_mode": {
    "name": "ipython",
    "version": 3
   },
   "file_extension": ".py",
   "mimetype": "text/x-python",
   "name": "python",
   "nbconvert_exporter": "python",
   "pygments_lexer": "ipython3",
   "version": "3.9.13"
  }
 },
 "nbformat": 4,
 "nbformat_minor": 2
}
