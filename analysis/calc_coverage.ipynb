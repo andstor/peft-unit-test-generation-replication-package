{
 "cells": [
  {
   "cell_type": "code",
   "execution_count": 1,
   "metadata": {},
   "outputs": [],
   "source": [
    "import os\n",
    "def find_file_paths(data_dir):\n",
    "    file_paths = []\n",
    "    for root, dirs, files in os.walk(data_dir):\n",
    "        for file in files:\n",
    "            if file.endswith(\"jacoco.jsonl\"):\n",
    "                file_path = os.path.join(root, file)\n",
    "                file_paths.append(file_path)\n",
    "\n",
    "    return file_paths"
   ]
  },
  {
   "cell_type": "code",
   "execution_count": 2,
   "metadata": {},
   "outputs": [],
   "source": [
    "\n",
    "keywords = [\"assert\", \"verify\", \"fail\"]\n",
    "\n",
    "def contains_keyword(text):\n",
    "    for keyword in keywords:\n",
    "        if keyword in text.lower():\n",
    "            return True\n",
    "    return False"
   ]
  },
  {
   "cell_type": "code",
   "execution_count": 3,
   "metadata": {},
   "outputs": [
    {
     "data": {
      "application/vnd.jupyter.widget-view+json": {
       "model_id": "10c99eb83d6f48ac9348c2bb9a14489b",
       "version_major": 2,
       "version_minor": 0
      },
      "text/plain": [
       "Processing humaneval-x: 0it [00:00, ?it/s]"
      ]
     },
     "metadata": {},
     "output_type": "display_data"
    },
    {
     "name": "stdout",
     "output_type": "stream",
     "text": [
      "Dataset: humaneval-x\n",
      "Avg. mean. runnable tests:  0.23182023486901535\n",
      "Avg. mean. instruction coverage:  0.98803538418231\n",
      "Avg. mean. branch coverage:  0.7843034704856462\n"
     ]
    },
    {
     "data": {
      "application/vnd.jupyter.widget-view+json": {
       "model_id": "46475439f7ce4d0caa8129e14072cda2",
       "version_major": 2,
       "version_minor": 0
      },
      "text/plain": [
       "Processing methods2test_runnable: 0it [00:00, ?it/s]"
      ]
     },
     "metadata": {},
     "output_type": "display_data"
    },
    {
     "name": "stdout",
     "output_type": "stream",
     "text": [
      "Dataset: methods2test_runnable\n",
      "Avg. mean. runnable tests:  0.19012323015574348\n",
      "Avg. mean. instruction coverage:  0.40884140923197715\n",
      "Avg. mean. branch coverage:  0.14307754619836463\n"
     ]
    }
   ],
   "source": [
    "import os\n",
    "from pathlib import Path\n",
    "from tqdm.auto import tqdm\n",
    "import pandas as pd\n",
    "\n",
    "import os\n",
    "\n",
    "root, dirs, files = next(os.walk(\"../data\"))\n",
    "datasets = dirs\n",
    "\n",
    "for dataset in datasets:\n",
    "    dataset_path = Path(root, dataset, \"coverage\")\n",
    "    \n",
    "    paths = find_file_paths(dataset_path)\n",
    "\n",
    "    #baseline_path = Path(root, dataset, \"coverage\", \"runnable_test.jsonl\")\n",
    "    #baseline_runnable_res = 1\n",
    "    #baseline_instruction_coverage = 1\n",
    "    #baseline_branch_coverage = 1\n",
    "    #if baseline_path.exists():\n",
    "    #    baseline_df = pd.read_json(baseline_path, lines=True)\n",
    "    #    baseline_runnable_df = baseline_df[baseline_df[\"status\"].isin([\"success\"])]\n",
    "    #    \n",
    "    #    baseline_runnable_res = len(baseline_runnable_df) / len(baseline_df) if len(baseline_df) > 0 else 0\n",
    "    #    baseline_instruction_coverage = baseline_runnable_df[\"instruction_coverage\"].mean()\n",
    "    #    baseline_branch_coverage = baseline_runnable_df[\"branch_coverage\"].mean()\n",
    "\n",
    "        \n",
    "    runnable_data = {}\n",
    "    instruction_data = {}\n",
    "    branch_data = {}\n",
    "    for path in tqdm(map(Path, paths), desc=f\"Processing {dataset}\"):\n",
    "\n",
    "        method = path.parts[4]\n",
    "        try:\n",
    "            model = path.parts[5] + \"/\" + path.parts[6]\n",
    "        except IndexError:\n",
    "            print(path)\n",
    "        \n",
    "        \n",
    "        df = pd.read_json(path, lines=True, dtype=False)\n",
    "        # if not empty, set index to \"id\" column\n",
    "        if not df.empty:\n",
    "            df = df.set_index(\"id\")\n",
    "\n",
    "            if dataset == \"methods2test_runnable\":\n",
    "                # remove all rows where \"status\": \"exception\". First check if the column exists\n",
    "                df = df[df[\"status\"] != \"exception\"]\n",
    "                df = df[df[\"status\"] != \"skipped\"]\n",
    "                # set status to failed if the prediction does not contain any of the keywords. else keep existing status\n",
    "                gen_data_path = Path(str(path).replace(\"coverage\", \"fixed\").replace(\"jacoco.jsonl\", \"00001-of-00001.jsonl\"))\n",
    "                gen_df = pd.read_json(gen_data_path, lines=True, dtype=False).set_index(\"id\")\n",
    "                ids = gen_df[~gen_df[\"prediction\"].apply(contains_keyword)].index.tolist()\n",
    "\n",
    "                keys = df.index.intersection(ids)\n",
    "                df.loc[keys, \"status\"] = \"failed\"\n",
    "\n",
    "            runnable_data.setdefault(model, {})\n",
    "            baseline_path = Path(root, dataset, \"coverage\", \"runnable_test.jsonl\")\n",
    "            # Select all with status success\n",
    "            runnable_df = df[df[\"status\"].isin([\"success\"])]\n",
    "            runnable_res = len(runnable_df) / len(df) if len(df) > 0 else 0\n",
    "            #runnable_res = runnable_res / baseline_runnable_res\n",
    "            runnable_data[model][method] = runnable_res\n",
    "            \n",
    "            instruction_data.setdefault(model, {})\n",
    "            instruction_coverage = 0\n",
    "            if not runnable_df.empty and \"instruction_coverage\" in runnable_df.columns:\n",
    "                instruction_coverage = runnable_df[\"instruction_coverage\"].mean()\n",
    "                #instruction_coverage = instruction_coverage / baseline_instruction_coverage\n",
    "            instruction_data[model][method] = instruction_coverage\n",
    "            \n",
    "\n",
    "            branch_data.setdefault(model, {})\n",
    "            branch_coverage = 0\n",
    "            if not runnable_df.empty and \"branch_coverage\" in runnable_df.columns:\n",
    "                branch_coverage = runnable_df[\"branch_coverage\"].mean()\n",
    "                #branch_coverage = branch_coverage / baseline_branch_coverage\n",
    "            branch_data[model][method] = branch_coverage\n",
    "\n",
    "        \n",
    "    print(f\"Dataset: {dataset}\")\n",
    "            \n",
    "    runnable_df = pd.DataFrame(runnable_data)\n",
    "    runnable_df = runnable_df.fillna(0)\n",
    "    \n",
    "    instruction_df = pd.DataFrame(instruction_data)\n",
    "    instruction_df = instruction_df.fillna(0)\n",
    "    \n",
    "    branch_df = pd.DataFrame(branch_data)\n",
    "    branch_df = branch_df.fillna(0)\n",
    "    \n",
    "    \n",
    "    \n",
    "    \n",
    "    \n",
    "    runnable_df.T.to_csv(Path(root, dataset, \"passing_rate.csv\"), index_label = 'model')\n",
    "    print(\"Avg. mean. runnable tests: \", runnable_df.T.median().mean())\n",
    "    \n",
    "    \n",
    "    instruction_df.T.to_csv(Path(root, dataset, \"coverage_instruction.csv\"), index_label = 'model')\n",
    "    print(\"Avg. mean. instruction coverage: \", instruction_df.T.median().mean())\n",
    "    \n",
    "    \n",
    "    branch_df.T.to_csv(Path(root, dataset, \"coverage_branch.csv\"), index_label = 'model')\n",
    "    print(\"Avg. mean. branch coverage: \", branch_df.T.median().mean())  \n",
    "    \n",
    "    "
   ]
  }
 ],
 "metadata": {
  "kernelspec": {
   "display_name": ".venv",
   "language": "python",
   "name": "python3"
  },
  "language_info": {
   "codemirror_mode": {
    "name": "ipython",
    "version": 3
   },
   "file_extension": ".py",
   "mimetype": "text/x-python",
   "name": "python",
   "nbconvert_exporter": "python",
   "pygments_lexer": "ipython3",
   "version": "3.12.2"
  }
 },
 "nbformat": 4,
 "nbformat_minor": 2
}
