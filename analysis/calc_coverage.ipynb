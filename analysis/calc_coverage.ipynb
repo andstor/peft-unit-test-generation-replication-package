{
 "cells": [
  {
   "cell_type": "code",
   "execution_count": 37,
   "metadata": {},
   "outputs": [],
   "source": [
    "import os\n",
    "def find_file_paths(data_dir):\n",
    "    file_paths = []\n",
    "    for root, dirs, files in os.walk(data_dir):\n",
    "        for file in files:\n",
    "            if file.endswith(\"jacoco.jsonl\"):\n",
    "                file_path = os.path.join(root, file)\n",
    "                file_paths.append(file_path)\n",
    "\n",
    "    return file_paths"
   ]
  },
  {
   "cell_type": "code",
   "execution_count": 51,
   "metadata": {},
   "outputs": [
    {
     "data": {
      "application/vnd.jupyter.widget-view+json": {
       "model_id": "5a3b674b358d4d53b34713c33799b166",
       "version_major": 2,
       "version_minor": 0
      },
      "text/plain": [
       "Processing humaneval-x: 0it [00:00, ?it/s]"
      ]
     },
     "metadata": {},
     "output_type": "display_data"
    },
    {
     "name": "stdout",
     "output_type": "stream",
     "text": [
      "Dataset: humaneval-x\n",
      "Avg. mean. runnable tests:  0.23181000000000002\n",
      "Avg. mean. instruction coverage:  0.98805\n",
      "Avg. mean. branch coverage:  0.78431\n"
     ]
    },
    {
     "data": {
      "application/vnd.jupyter.widget-view+json": {
       "model_id": "2e4b8d3401c34d23ae891c621498c21d",
       "version_major": 2,
       "version_minor": 0
      },
      "text/plain": [
       "Processing methods2test_small: 0it [00:00, ?it/s]"
      ]
     },
     "metadata": {},
     "output_type": "display_data"
    },
    {
     "name": "stdout",
     "output_type": "stream",
     "text": [
      "Dataset: methods2test_small\n",
      "Avg. mean. runnable tests:  nan\n",
      "Avg. mean. instruction coverage:  nan\n",
      "Avg. mean. branch coverage:  nan\n"
     ]
    },
    {
     "data": {
      "application/vnd.jupyter.widget-view+json": {
       "model_id": "b144b91fad9f4ba0a0e8462a67a5558d",
       "version_major": 2,
       "version_minor": 0
      },
      "text/plain": [
       "Processing methods2test_runnable: 0it [00:00, ?it/s]"
      ]
     },
     "metadata": {},
     "output_type": "display_data"
    },
    {
     "name": "stdout",
     "output_type": "stream",
     "text": [
      "Dataset: methods2test_runnable\n",
      "Avg. mean. runnable tests:  0.36439\n",
      "Avg. mean. instruction coverage:  0.45285000000000003\n",
      "Avg. mean. branch coverage:  0.39166\n"
     ]
    }
   ],
   "source": [
    "\n",
    "\n",
    "\n",
    "\n",
    "\n",
    "import os\n",
    "from pathlib import Path\n",
    "from tqdm.auto import tqdm\n",
    "import pandas as pd\n",
    "import fnmatch\n",
    "import os\n",
    "\n",
    "root, dirs, files = next(os.walk(\"../data\"))\n",
    "datasets = dirs\n",
    "\n",
    "for dataset in datasets:\n",
    "    dataset_path = Path(root, dataset, \"coverage\")\n",
    "    \n",
    "    paths = find_file_paths(dataset_path)\n",
    "\n",
    "    baseline_path = Path(root, dataset, \"coverage\", \"runnable_test.jsonl\")\n",
    "    baseline_runnable_res = 1\n",
    "    baseline_instruction_coverage = 1\n",
    "    baseline_branch_coverage = 1\n",
    "    if baseline_path.exists():\n",
    "        baseline_df = pd.read_json(baseline_path, lines=True)\n",
    "        baseline_runnable_df = baseline_df[baseline_df[\"status\"].isin([\"success\"])]\n",
    "        \n",
    "        baseline_runnable_res = len(baseline_runnable_df) / len(baseline_df) if len(baseline_df) > 0 else 0\n",
    "        baseline_instruction_coverage = baseline_runnable_df[\"instruction_coverage\"].mean()\n",
    "        baseline_branch_coverage = baseline_runnable_df[\"branch_coverage\"].mean()\n",
    "        \n",
    "        \n",
    "        \n",
    "    runnable_data = {}\n",
    "    instruction_data = {}\n",
    "    branch_data = {}\n",
    "    for path in tqdm(map(Path, paths), desc=f\"Processing {dataset}\"):\n",
    "\n",
    "        method = path.parts[4]\n",
    "        try:\n",
    "            model = path.parts[5] + \"/\" + path.parts[6]\n",
    "        except IndexError:\n",
    "            print(path)\n",
    "        \n",
    "        df = pd.read_json(path, lines=True)\n",
    "        \n",
    "        runnable_data.setdefault(model, {})\n",
    "        if not df.empty:\n",
    "            baseline_path = Path(root, dataset, \"coverage\", \"runnable_test.jsonl\")\n",
    "            # Select all with status success\n",
    "            runnable_df = df[df[\"status\"].isin([\"success\"])]\n",
    "            runnable_res = len(runnable_df) / len(df) if len(df) > 0 else 0\n",
    "            runnable_res = runnable_res / baseline_runnable_res\n",
    "            \n",
    "            instruction_data.setdefault(model, {})\n",
    "            instruction_coverage = 0\n",
    "            if not runnable_df.empty and \"instruction_coverage\" in runnable_df.columns:\n",
    "                instruction_coverage = runnable_df[\"instruction_coverage\"].mean()\n",
    "                instruction_coverage = instruction_coverage / baseline_instruction_coverage\n",
    "                \n",
    "\n",
    "            branch_data.setdefault(model, {})\n",
    "            branch_coverage = 0\n",
    "            if not runnable_df.empty and \"branch_coverage\" in runnable_df.columns:\n",
    "                branch_coverage = runnable_df[\"branch_coverage\"].mean()\n",
    "                branch_coverage = branch_coverage / baseline_branch_coverage\n",
    "            \n",
    "            runnable_data[model][method] = round(runnable_res, 4)\n",
    "            instruction_data[model][method] = round(instruction_coverage, 4)\n",
    "            branch_data[model][method] = round(branch_coverage, 4)\n",
    "    \n",
    "    \n",
    "    print(f\"Dataset: {dataset}\")\n",
    "            \n",
    "    runnable_df = pd.DataFrame(runnable_data)\n",
    "    runnable_df = runnable_df.fillna(0)\n",
    "    \n",
    "    instruction_df = pd.DataFrame(instruction_data)\n",
    "    instruction_df = instruction_df.fillna(0)\n",
    "    \n",
    "    branch_df = pd.DataFrame(branch_data)\n",
    "    branch_df = branch_df.fillna(0)\n",
    "    \n",
    "    \n",
    "    \n",
    "    \n",
    "    \n",
    "    runnable_df.T.to_csv(Path(root, dataset, \"coverage_runnable.csv\"), index_label = 'model')\n",
    "    print(\"Avg. mean. runnable tests: \", runnable_df.T.median().mean())\n",
    "    \n",
    "    \n",
    "    instruction_df.T.to_csv(Path(root, dataset, \"coverage_instruction.csv\"), index_label = 'model')\n",
    "    print(\"Avg. mean. instruction coverage: \", instruction_df.T.median().mean())\n",
    "    \n",
    "    \n",
    "    branch_df.T.to_csv(Path(root, dataset, \"coverage_branch.csv\"), index_label = 'model')\n",
    "    print(\"Avg. mean. branch coverage: \", branch_df.T.median().mean())  \n",
    "    \n",
    "    "
   ]
  }
 ],
 "metadata": {
  "kernelspec": {
   "display_name": ".venv",
   "language": "python",
   "name": "python3"
  },
  "language_info": {
   "codemirror_mode": {
    "name": "ipython",
    "version": 3
   },
   "file_extension": ".py",
   "mimetype": "text/x-python",
   "name": "python",
   "nbconvert_exporter": "python",
   "pygments_lexer": "ipython3",
   "version": "3.9.13"
  }
 },
 "nbformat": 4,
 "nbformat_minor": 2
}
