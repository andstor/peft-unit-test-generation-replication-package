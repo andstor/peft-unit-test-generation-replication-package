{
 "cells": [
  {
   "cell_type": "code",
   "execution_count": 1,
   "metadata": {},
   "outputs": [],
   "source": [
    "import pathlib\n",
    "import sys\n",
    "import os\n",
    "parser_dir = pathlib.Path(os.path.dirname(os.path.abspath(\"__file__\"))) / 'java-universal-parser' / 'parser'\n",
    "sys.path.append(str(parser_dir))"
   ]
  },
  {
   "cell_type": "code",
   "execution_count": 2,
   "metadata": {},
   "outputs": [],
   "source": [
    "from python3.JavaLexer import JavaLexer\n",
    "from python3.JavaParser import JavaParser\n",
    "\n",
    "from antlr4 import InputStream, CommonTokenStream"
   ]
  },
  {
   "cell_type": "code",
   "execution_count": 3,
   "metadata": {},
   "outputs": [],
   "source": [
    "from antlr4.error.ErrorListener import ErrorListener\n",
    "\n",
    "class MyErrorListener( ErrorListener ):\n",
    "\n",
    "    def __init__(self):\n",
    "        super(MyErrorListener, self).__init__()\n",
    "\n",
    "    def syntaxError(self, recognizer, offendingSymbol, line, column, msg, e):\n",
    "        #print(\"line \" + str(line) + \":\" + str(column) + \" \" + msg, file=sys.stderr)\n",
    "        raise Exception(\"Oh no!!\", line, column)\n"
   ]
  },
  {
   "cell_type": "code",
   "execution_count": 4,
   "metadata": {},
   "outputs": [],
   "source": [
    "def check_syntax(code):\n",
    "    try:\n",
    "        input_stream = InputStream(code)\n",
    "        lexer = JavaLexer(input_stream)\n",
    "        lexer.removeErrorListeners() # remove default error listener\n",
    "        lexer.addErrorListener( MyErrorListener() )\n",
    "        stream = CommonTokenStream(lexer)\n",
    "        parser = JavaParser(stream)\n",
    "        parser.removeErrorListeners()\n",
    "        parser.addErrorListener( MyErrorListener() )\n",
    "        parser.compilationUnit()\n",
    "    except Exception as e:\n",
    "        line = e.args[1]\n",
    "        return False, line\n",
    "    return True, None"
   ]
  },
  {
   "cell_type": "code",
   "execution_count": 5,
   "metadata": {},
   "outputs": [],
   "source": [
    "inner_brace = \"\\n    }\"\n",
    "outer_brace = \"\\n\\n}\"\n",
    "\n",
    "\n",
    "def get_brace_count(code, start_level=0):\n",
    "    count = start_level\n",
    "    for char in code:\n",
    "        if char == \"{\":\n",
    "            count += 1\n",
    "        if char == \"}\":\n",
    "            count -= 1\n",
    "    return count\n",
    "\n",
    "def balance_braces(code, start_level=0):\n",
    "    count = get_brace_count(code, start_level)\n",
    "    if count == 0:\n",
    "        #print(\"Well formed code\",)\n",
    "        return code\n",
    "    \n",
    "    lines = code.splitlines(keepends=True)\n",
    "    #print(\"Lines: \", len(lines))\n",
    "    for line in reversed(range(len(lines))):\n",
    "        candidate = \"\".join(lines)\n",
    "        count = get_brace_count(candidate, start_level)\n",
    "        #print(\"Count: \", count)\n",
    "        #print(\"Line idx: \", line)\n",
    "        if count == 0:\n",
    "            #print(\"0\")\n",
    "            return candidate\n",
    "        elif count == 1:\n",
    "            #print(\"1\")\n",
    "            candidate += outer_brace\n",
    "            return candidate\n",
    "        elif count == 2:\n",
    "            #print(\"2\")\n",
    "            candidate += inner_brace\n",
    "            candidate += outer_brace\n",
    "            return candidate\n",
    "        lines.pop()\n",
    "\n",
    "    return False\n"
   ]
  },
  {
   "cell_type": "code",
   "execution_count": 6,
   "metadata": {},
   "outputs": [],
   "source": [
    "def well_formed_code(code):\n",
    "    success, bad_line = check_syntax(code)\n",
    "    lines = code.splitlines(keepends=False) \n",
    "    if not success:\n",
    "        # Trim the code to the bad line\n",
    "        lines = lines[:bad_line-1]\n",
    "\n",
    "        if len(lines) <= 1:\n",
    "            return False, None\n",
    "\n",
    "        else:\n",
    "            balanced_code = balance_braces(\"\\n\".join(lines))\n",
    "            success, bad_line = check_syntax(balanced_code)\n",
    "\n",
    "            if not success:\n",
    "                return well_formed_code(\"\\n\".join(lines))\n",
    "            else:\n",
    "                return True, balanced_code\n",
    "\n",
    "    else:\n",
    "        return True, code"
   ]
  },
  {
   "cell_type": "markdown",
   "metadata": {},
   "source": [
    "# fixed"
   ]
  },
  {
   "cell_type": "code",
   "execution_count": 7,
   "metadata": {},
   "outputs": [
    {
     "name": "stdout",
     "output_type": "stream",
     "text": [
      "INFO: Pandarallel will run on 30 workers.\n",
      "INFO: Pandarallel will use standard multiprocessing data transfer (pipe) to transfer data between the main process and workers.\n"
     ]
    }
   ],
   "source": [
    "from tqdm.auto import tqdm\n",
    "tqdm.pandas()\n",
    "\n",
    "from pandarallel import pandarallel\n",
    "pandarallel.initialize(progress_bar=True, nb_workers=10)\n",
    "\n",
    "def well_formed_fix(code):\n",
    "    prefix = \"\"\"class dummyTest {\n",
    "        @Test\n",
    "        public void dummy() {\n",
    "    \"\"\"\n",
    "    code = prefix + code\n",
    "    try:\n",
    "        status, res = well_formed_code(code)\n",
    "    \n",
    "        if status:\n",
    "            res_trimmed = res.removeprefix(prefix)\n",
    "            return res_trimmed\n",
    "        else:\n",
    "            return None\n",
    "    except Exception as e:\n",
    "            print(\"Error: \", e)\n",
    "            return None\n"
   ]
  },
  {
   "cell_type": "code",
   "execution_count": 8,
   "metadata": {},
   "outputs": [],
   "source": [
    "import os\n",
    "import pandas as pd\n",
    "from pathlib import Path\n",
    "import re\n",
    "\n",
    "\n",
    "def fix_data(dataset, method, model):\n",
    "    regex = r\"^(\\d+)-of-(\\d+).test.jsonl$\"\n",
    "    path= Path(\"../data/\" + str(dataset) +  \"/generated/\" + str(method) +  \"/\" + str(model))\n",
    "    files = os.listdir(path)\n",
    "\n",
    "    \n",
    "    dfs = []\n",
    "    for file in files:\n",
    "        matches = re.search(regex, file)\n",
    "        if matches:\n",
    "            df = pd.read_json(path / file, orient='records', lines=True, dtype=False)\n",
    "            dfs.append(df)\n",
    "\n",
    "\n",
    "    df = pd.concat(dfs, axis=0).set_index('id')\n",
    "    df.sort_index(inplace=True)\n",
    "    df = df[~df.index.duplicated(keep='first')]\n",
    "    df = df[[\"prompt\", \"reference\", \"prediction\"]]\n",
    "\n",
    "    total = df.shape[0]\n",
    "    \n",
    "    df[\"prediction\"] = df[\"prediction\"].parallel_apply(well_formed_fix)\n",
    "    \n",
    "    # remove \"}\\n\\n}\" and none values\n",
    "    fixed_df = df[df[\"prediction\"]!=\"}\\n\\n}\"]\n",
    "    fixed_df = fixed_df[fixed_df[\"prediction\"].notnull()]\n",
    "    \n",
    "    num_fixed = fixed_df.shape[0]\n",
    "    \n",
    "    # save fixed predictions as jsonl\n",
    "    \n",
    "    save_path= Path(\"../data/\" + str(dataset) +  \"/fixed/\" + str(method) +  \"/\" + str(model))\n",
    "    save_path.mkdir(parents=True, exist_ok=True)\n",
    "    \n",
    "    fixed_df.reset_index().to_json(save_path / \"00001-of-00001.jsonl\", orient='records', lines=True)\n",
    "    return (num_fixed, total)\n"
   ]
  },
  {
   "cell_type": "code",
   "execution_count": 9,
   "metadata": {},
   "outputs": [
    {
     "data": {
      "application/vnd.jupyter.widget-view+json": {
       "model_id": "d0c1fa0adf1e4d3c9d62ee0b019a97e6",
       "version_major": 2,
       "version_minor": 0
      },
      "text/plain": [
       "  0%|          | 0/65 [00:00<?, ?it/s]"
      ]
     },
     "metadata": {},
     "output_type": "display_data"
    },
    {
     "name": "stdout",
     "output_type": "stream",
     "text": [
      "humaneval-x ia3 bigcode/starcoderbase\n"
     ]
    },
    {
     "data": {
      "application/vnd.jupyter.widget-view+json": {
       "model_id": "e6a4967a354343c383be43eac56dcd24",
       "version_major": 2,
       "version_minor": 0
      },
      "text/plain": [
       "VBox(children=(HBox(children=(IntProgress(value=0, description='0.00%', max=6), Label(value='0 / 6'))), HBox(c…"
      ]
     },
     "metadata": {},
     "output_type": "display_data"
    },
    {
     "name": "stdout",
     "output_type": "stream",
     "text": [
      "humaneval-x ia3 Qwen/Qwen2.5-Coder-14B\n"
     ]
    },
    {
     "data": {
      "application/vnd.jupyter.widget-view+json": {
       "model_id": "37309ecf8fca4cc3b487a2ce43a54e26",
       "version_major": 2,
       "version_minor": 0
      },
      "text/plain": [
       "VBox(children=(HBox(children=(IntProgress(value=0, description='0.00%', max=6), Label(value='0 / 6'))), HBox(c…"
      ]
     },
     "metadata": {},
     "output_type": "display_data"
    },
    {
     "name": "stdout",
     "output_type": "stream",
     "text": [
      "humaneval-x ia3 Salesforce/codegen2-7B_P\n"
     ]
    },
    {
     "data": {
      "application/vnd.jupyter.widget-view+json": {
       "model_id": "734e38c6379e486f8af3a86a07c9a25d",
       "version_major": 2,
       "version_minor": 0
      },
      "text/plain": [
       "VBox(children=(HBox(children=(IntProgress(value=0, description='0.00%', max=6), Label(value='0 / 6'))), HBox(c…"
      ]
     },
     "metadata": {},
     "output_type": "display_data"
    },
    {
     "name": "stdout",
     "output_type": "stream",
     "text": [
      "humaneval-x fine-tuning Salesforce/codegen2-16B_P\n"
     ]
    },
    {
     "data": {
      "application/vnd.jupyter.widget-view+json": {
       "model_id": "c0969485597845e7a4aa195f0e29f00b",
       "version_major": 2,
       "version_minor": 0
      },
      "text/plain": [
       "VBox(children=(HBox(children=(IntProgress(value=0, description='0.00%', max=6), Label(value='0 / 6'))), HBox(c…"
      ]
     },
     "metadata": {},
     "output_type": "display_data"
    },
    {
     "name": "stdout",
     "output_type": "stream",
     "text": [
      "humaneval-x lora Qwen/Qwen2.5-Coder-3B\n"
     ]
    },
    {
     "data": {
      "application/vnd.jupyter.widget-view+json": {
       "model_id": "27bed6994fbd4d9a8dfdadc19326c554",
       "version_major": 2,
       "version_minor": 0
      },
      "text/plain": [
       "VBox(children=(HBox(children=(IntProgress(value=0, description='0.00%', max=6), Label(value='0 / 6'))), HBox(c…"
      ]
     },
     "metadata": {},
     "output_type": "display_data"
    },
    {
     "name": "stdout",
     "output_type": "stream",
     "text": [
      "humaneval-x ia3 Salesforce/codegen2-1B_P\n"
     ]
    },
    {
     "data": {
      "application/vnd.jupyter.widget-view+json": {
       "model_id": "2663ec152933484bbe396f0c4815f63b",
       "version_major": 2,
       "version_minor": 0
      },
      "text/plain": [
       "VBox(children=(HBox(children=(IntProgress(value=0, description='0.00%', max=6), Label(value='0 / 6'))), HBox(c…"
      ]
     },
     "metadata": {},
     "output_type": "display_data"
    },
    {
     "name": "stdout",
     "output_type": "stream",
     "text": [
      "humaneval-x pre-trained Salesforce/codegen2-3_7B_P\n"
     ]
    },
    {
     "data": {
      "application/vnd.jupyter.widget-view+json": {
       "model_id": "ff75ce26883f4ac98bdc556678eb9ae3",
       "version_major": 2,
       "version_minor": 0
      },
      "text/plain": [
       "VBox(children=(HBox(children=(IntProgress(value=0, description='0.00%', max=6), Label(value='0 / 6'))), HBox(c…"
      ]
     },
     "metadata": {},
     "output_type": "display_data"
    },
    {
     "name": "stdout",
     "output_type": "stream",
     "text": [
      "humaneval-x ia3 metal-llama/CodeLlama-7b-hf\n"
     ]
    },
    {
     "data": {
      "application/vnd.jupyter.widget-view+json": {
       "model_id": "6d3101d994cd4e7cad7adcbd0b12db7f",
       "version_major": 2,
       "version_minor": 0
      },
      "text/plain": [
       "VBox(children=(HBox(children=(IntProgress(value=0, description='0.00%', max=6), Label(value='0 / 6'))), HBox(c…"
      ]
     },
     "metadata": {},
     "output_type": "display_data"
    },
    {
     "name": "stdout",
     "output_type": "stream",
     "text": [
      "humaneval-x fine-tuning bigcode/starcoder2-3b\n"
     ]
    },
    {
     "data": {
      "application/vnd.jupyter.widget-view+json": {
       "model_id": "e2df3808483b434b8da0f7316e352069",
       "version_major": 2,
       "version_minor": 0
      },
      "text/plain": [
       "VBox(children=(HBox(children=(IntProgress(value=0, description='0.00%', max=6), Label(value='0 / 6'))), HBox(c…"
      ]
     },
     "metadata": {},
     "output_type": "display_data"
    },
    {
     "name": "stdout",
     "output_type": "stream",
     "text": [
      "humaneval-x fine-tuning Qwen/Qwen2.5-Coder-14B\n"
     ]
    },
    {
     "data": {
      "application/vnd.jupyter.widget-view+json": {
       "model_id": "f160e4a62fce4d7e9e111a3897ff2097",
       "version_major": 2,
       "version_minor": 0
      },
      "text/plain": [
       "VBox(children=(HBox(children=(IntProgress(value=0, description='0.00%', max=6), Label(value='0 / 6'))), HBox(c…"
      ]
     },
     "metadata": {},
     "output_type": "display_data"
    },
    {
     "name": "stdout",
     "output_type": "stream",
     "text": [
      "humaneval-x ia3 bigcode/starcoder2-7b\n"
     ]
    },
    {
     "data": {
      "application/vnd.jupyter.widget-view+json": {
       "model_id": "495afe36d8d0442c825fee8589e61831",
       "version_major": 2,
       "version_minor": 0
      },
      "text/plain": [
       "VBox(children=(HBox(children=(IntProgress(value=0, description='0.00%', max=6), Label(value='0 / 6'))), HBox(c…"
      ]
     },
     "metadata": {},
     "output_type": "display_data"
    },
    {
     "name": "stdout",
     "output_type": "stream",
     "text": [
      "humaneval-x pre-trained Salesforce/codegen2-1B_P\n"
     ]
    },
    {
     "data": {
      "application/vnd.jupyter.widget-view+json": {
       "model_id": "5819db44506e4747ae0797e948174898",
       "version_major": 2,
       "version_minor": 0
      },
      "text/plain": [
       "VBox(children=(HBox(children=(IntProgress(value=0, description='0.00%', max=6), Label(value='0 / 6'))), HBox(c…"
      ]
     },
     "metadata": {},
     "output_type": "display_data"
    },
    {
     "name": "stdout",
     "output_type": "stream",
     "text": [
      "Error:  Error: tuple index out of range\n",
      "Error:  Error:  tuple index out of range tuple index out of rangetuple index out of range\n",
      "\n",
      "\n",
      "humaneval-x ia3 Qwen/Qwen2.5-Coder-3B\n"
     ]
    },
    {
     "data": {
      "application/vnd.jupyter.widget-view+json": {
       "model_id": "496d2c1e2b7542eeac860b517aff1bf0",
       "version_major": 2,
       "version_minor": 0
      },
      "text/plain": [
       "VBox(children=(HBox(children=(IntProgress(value=0, description='0.00%', max=6), Label(value='0 / 6'))), HBox(c…"
      ]
     },
     "metadata": {},
     "output_type": "display_data"
    },
    {
     "name": "stdout",
     "output_type": "stream",
     "text": [
      "humaneval-x prompt-tuning metal-llama/CodeLlama-7b-hf\n"
     ]
    },
    {
     "data": {
      "application/vnd.jupyter.widget-view+json": {
       "model_id": "83023bbd499c4d4da324eef5c839ade1",
       "version_major": 2,
       "version_minor": 0
      },
      "text/plain": [
       "VBox(children=(HBox(children=(IntProgress(value=0, description='0.00%', max=6), Label(value='0 / 6'))), HBox(c…"
      ]
     },
     "metadata": {},
     "output_type": "display_data"
    },
    {
     "name": "stdout",
     "output_type": "stream",
     "text": [
      "humaneval-x prompt-tuning bigcode/starcoder2-3b\n"
     ]
    },
    {
     "data": {
      "application/vnd.jupyter.widget-view+json": {
       "model_id": "0362a32ece1b47d79c759d8aafc58d50",
       "version_major": 2,
       "version_minor": 0
      },
      "text/plain": [
       "VBox(children=(HBox(children=(IntProgress(value=0, description='0.00%', max=6), Label(value='0 / 6'))), HBox(c…"
      ]
     },
     "metadata": {},
     "output_type": "display_data"
    },
    {
     "name": "stdout",
     "output_type": "stream",
     "text": [
      "humaneval-x lora Qwen/Qwen2.5-Coder-14B\n"
     ]
    },
    {
     "data": {
      "application/vnd.jupyter.widget-view+json": {
       "model_id": "9d2e62f1d1d2447ab23bffdec0af8c39",
       "version_major": 2,
       "version_minor": 0
      },
      "text/plain": [
       "VBox(children=(HBox(children=(IntProgress(value=0, description='0.00%', max=6), Label(value='0 / 6'))), HBox(c…"
      ]
     },
     "metadata": {},
     "output_type": "display_data"
    },
    {
     "name": "stdout",
     "output_type": "stream",
     "text": [
      "humaneval-x pre-trained bigcode/starcoder2-7b\n"
     ]
    },
    {
     "data": {
      "application/vnd.jupyter.widget-view+json": {
       "model_id": "67e123d74d26499598184836dd800036",
       "version_major": 2,
       "version_minor": 0
      },
      "text/plain": [
       "VBox(children=(HBox(children=(IntProgress(value=0, description='0.00%', max=6), Label(value='0 / 6'))), HBox(c…"
      ]
     },
     "metadata": {},
     "output_type": "display_data"
    },
    {
     "name": "stdout",
     "output_type": "stream",
     "text": [
      "humaneval-x pre-trained Qwen/Qwen2.5-Coder-3B\n"
     ]
    },
    {
     "data": {
      "application/vnd.jupyter.widget-view+json": {
       "model_id": "5b4ba48ee67e46e2bedecadccb20cbea",
       "version_major": 2,
       "version_minor": 0
      },
      "text/plain": [
       "VBox(children=(HBox(children=(IntProgress(value=0, description='0.00%', max=6), Label(value='0 / 6'))), HBox(c…"
      ]
     },
     "metadata": {},
     "output_type": "display_data"
    },
    {
     "name": "stdout",
     "output_type": "stream",
     "text": [
      "humaneval-x lora metal-llama/CodeLlama-7b-hf\n"
     ]
    },
    {
     "data": {
      "application/vnd.jupyter.widget-view+json": {
       "model_id": "9424dcd2a5c345778c181eedb4270c8d",
       "version_major": 2,
       "version_minor": 0
      },
      "text/plain": [
       "VBox(children=(HBox(children=(IntProgress(value=0, description='0.00%', max=6), Label(value='0 / 6'))), HBox(c…"
      ]
     },
     "metadata": {},
     "output_type": "display_data"
    },
    {
     "name": "stdout",
     "output_type": "stream",
     "text": [
      "humaneval-x ia3 Salesforce/codegen2-3_7B_P\n"
     ]
    },
    {
     "data": {
      "application/vnd.jupyter.widget-view+json": {
       "model_id": "1ed20d60bfca40c2bf3cc77a4fd3b267",
       "version_major": 2,
       "version_minor": 0
      },
      "text/plain": [
       "VBox(children=(HBox(children=(IntProgress(value=0, description='0.00%', max=6), Label(value='0 / 6'))), HBox(c…"
      ]
     },
     "metadata": {},
     "output_type": "display_data"
    },
    {
     "name": "stdout",
     "output_type": "stream",
     "text": [
      "humaneval-x fine-tuning metal-llama/CodeLlama-7b-hf\n"
     ]
    },
    {
     "data": {
      "application/vnd.jupyter.widget-view+json": {
       "model_id": "4dcf034f8ee345b1840b09258a5ddac2",
       "version_major": 2,
       "version_minor": 0
      },
      "text/plain": [
       "VBox(children=(HBox(children=(IntProgress(value=0, description='0.00%', max=6), Label(value='0 / 6'))), HBox(c…"
      ]
     },
     "metadata": {},
     "output_type": "display_data"
    },
    {
     "name": "stdout",
     "output_type": "stream",
     "text": [
      "humaneval-x lora bigcode/starcoderbase\n"
     ]
    },
    {
     "data": {
      "application/vnd.jupyter.widget-view+json": {
       "model_id": "bf5b2eff03a24be2a0962183452a3c76",
       "version_major": 2,
       "version_minor": 0
      },
      "text/plain": [
       "VBox(children=(HBox(children=(IntProgress(value=0, description='0.00%', max=6), Label(value='0 / 6'))), HBox(c…"
      ]
     },
     "metadata": {},
     "output_type": "display_data"
    },
    {
     "name": "stdout",
     "output_type": "stream",
     "text": [
      "humaneval-x lora Salesforce/codegen2-16B_P\n"
     ]
    },
    {
     "data": {
      "application/vnd.jupyter.widget-view+json": {
       "model_id": "4a7b5c151acd49c89b40ff527f9e967d",
       "version_major": 2,
       "version_minor": 0
      },
      "text/plain": [
       "VBox(children=(HBox(children=(IntProgress(value=0, description='0.00%', max=6), Label(value='0 / 6'))), HBox(c…"
      ]
     },
     "metadata": {},
     "output_type": "display_data"
    },
    {
     "name": "stdout",
     "output_type": "stream",
     "text": [
      "humaneval-x lora Salesforce/codegen2-3_7B_P\n"
     ]
    },
    {
     "data": {
      "application/vnd.jupyter.widget-view+json": {
       "model_id": "080c1ce9ce2048e6a2072d3b325ba748",
       "version_major": 2,
       "version_minor": 0
      },
      "text/plain": [
       "VBox(children=(HBox(children=(IntProgress(value=0, description='0.00%', max=6), Label(value='0 / 6'))), HBox(c…"
      ]
     },
     "metadata": {},
     "output_type": "display_data"
    },
    {
     "name": "stdout",
     "output_type": "stream",
     "text": [
      "humaneval-x fine-tuning Qwen/Qwen2.5-Coder-3B\n"
     ]
    },
    {
     "data": {
      "application/vnd.jupyter.widget-view+json": {
       "model_id": "b6116d7f9d4a4a88984b79f8cb2a99c7",
       "version_major": 2,
       "version_minor": 0
      },
      "text/plain": [
       "VBox(children=(HBox(children=(IntProgress(value=0, description='0.00%', max=6), Label(value='0 / 6'))), HBox(c…"
      ]
     },
     "metadata": {},
     "output_type": "display_data"
    },
    {
     "name": "stdout",
     "output_type": "stream",
     "text": [
      "humaneval-x pre-trained bigcode/starcoderbase\n"
     ]
    },
    {
     "data": {
      "application/vnd.jupyter.widget-view+json": {
       "model_id": "78b259f950324cfebc7d7ecc112a718f",
       "version_major": 2,
       "version_minor": 0
      },
      "text/plain": [
       "VBox(children=(HBox(children=(IntProgress(value=0, description='0.00%', max=6), Label(value='0 / 6'))), HBox(c…"
      ]
     },
     "metadata": {},
     "output_type": "display_data"
    },
    {
     "name": "stdout",
     "output_type": "stream",
     "text": [
      "humaneval-x fine-tuning Salesforce/codegen2-3_7B_P\n"
     ]
    },
    {
     "data": {
      "application/vnd.jupyter.widget-view+json": {
       "model_id": "f2f85199d0ba4098901c653dcd739d4d",
       "version_major": 2,
       "version_minor": 0
      },
      "text/plain": [
       "VBox(children=(HBox(children=(IntProgress(value=0, description='0.00%', max=6), Label(value='0 / 6'))), HBox(c…"
      ]
     },
     "metadata": {},
     "output_type": "display_data"
    },
    {
     "name": "stdout",
     "output_type": "stream",
     "text": [
      "Error:  tuple index out of range\n",
      "humaneval-x lora Salesforce/codegen2-7B_P\n"
     ]
    },
    {
     "data": {
      "application/vnd.jupyter.widget-view+json": {
       "model_id": "1d2ce3f3d0bb49c0aecd7d4eadaef99b",
       "version_major": 2,
       "version_minor": 0
      },
      "text/plain": [
       "VBox(children=(HBox(children=(IntProgress(value=0, description='0.00%', max=6), Label(value='0 / 6'))), HBox(c…"
      ]
     },
     "metadata": {},
     "output_type": "display_data"
    },
    {
     "name": "stdout",
     "output_type": "stream",
     "text": [
      "humaneval-x fine-tuning Salesforce/codegen2-7B_P\n"
     ]
    },
    {
     "data": {
      "application/vnd.jupyter.widget-view+json": {
       "model_id": "778f1cd736bc40e1be36373440ba4ac4",
       "version_major": 2,
       "version_minor": 0
      },
      "text/plain": [
       "VBox(children=(HBox(children=(IntProgress(value=0, description='0.00%', max=6), Label(value='0 / 6'))), HBox(c…"
      ]
     },
     "metadata": {},
     "output_type": "display_data"
    },
    {
     "name": "stdout",
     "output_type": "stream",
     "text": [
      "humaneval-x prompt-tuning Qwen/Qwen2.5-Coder-14B\n"
     ]
    },
    {
     "data": {
      "application/vnd.jupyter.widget-view+json": {
       "model_id": "cc5290d37bb74d47b2b20ed9366b3f16",
       "version_major": 2,
       "version_minor": 0
      },
      "text/plain": [
       "VBox(children=(HBox(children=(IntProgress(value=0, description='0.00%', max=6), Label(value='0 / 6'))), HBox(c…"
      ]
     },
     "metadata": {},
     "output_type": "display_data"
    },
    {
     "name": "stdout",
     "output_type": "stream",
     "text": [
      "humaneval-x lora bigcode/starcoder2-15b\n"
     ]
    },
    {
     "data": {
      "application/vnd.jupyter.widget-view+json": {
       "model_id": "5bf149369f254744ba90676d955e6f49",
       "version_major": 2,
       "version_minor": 0
      },
      "text/plain": [
       "VBox(children=(HBox(children=(IntProgress(value=0, description='0.00%', max=6), Label(value='0 / 6'))), HBox(c…"
      ]
     },
     "metadata": {},
     "output_type": "display_data"
    },
    {
     "name": "stdout",
     "output_type": "stream",
     "text": [
      "humaneval-x prompt-tuning Salesforce/codegen2-16B_P\n"
     ]
    },
    {
     "data": {
      "application/vnd.jupyter.widget-view+json": {
       "model_id": "a24020f1e622480a9b7bf8314049bdde",
       "version_major": 2,
       "version_minor": 0
      },
      "text/plain": [
       "VBox(children=(HBox(children=(IntProgress(value=0, description='0.00%', max=6), Label(value='0 / 6'))), HBox(c…"
      ]
     },
     "metadata": {},
     "output_type": "display_data"
    },
    {
     "name": "stdout",
     "output_type": "stream",
     "text": [
      "humaneval-x lora Salesforce/codegen-350M-multi\n"
     ]
    },
    {
     "data": {
      "application/vnd.jupyter.widget-view+json": {
       "model_id": "07401db287f6405ea4425f31b43f4639",
       "version_major": 2,
       "version_minor": 0
      },
      "text/plain": [
       "VBox(children=(HBox(children=(IntProgress(value=0, description='0.00%', max=6), Label(value='0 / 6'))), HBox(c…"
      ]
     },
     "metadata": {},
     "output_type": "display_data"
    },
    {
     "name": "stdout",
     "output_type": "stream",
     "text": [
      "humaneval-x pre-trained bigcode/starcoder2-15b\n"
     ]
    },
    {
     "data": {
      "application/vnd.jupyter.widget-view+json": {
       "model_id": "57da3bcdbaf24647aa568d8d2ad762a6",
       "version_major": 2,
       "version_minor": 0
      },
      "text/plain": [
       "VBox(children=(HBox(children=(IntProgress(value=0, description='0.00%', max=6), Label(value='0 / 6'))), HBox(c…"
      ]
     },
     "metadata": {},
     "output_type": "display_data"
    },
    {
     "name": "stdout",
     "output_type": "stream",
     "text": [
      "humaneval-x pre-trained Salesforce/codegen-350M-multi\n"
     ]
    },
    {
     "data": {
      "application/vnd.jupyter.widget-view+json": {
       "model_id": "bff2d59f18264f6b8f904274ac2f829f",
       "version_major": 2,
       "version_minor": 0
      },
      "text/plain": [
       "VBox(children=(HBox(children=(IntProgress(value=0, description='0.00%', max=6), Label(value='0 / 6'))), HBox(c…"
      ]
     },
     "metadata": {},
     "output_type": "display_data"
    },
    {
     "name": "stdout",
     "output_type": "stream",
     "text": [
      "humaneval-x ia3 bigcode/starcoder2-15b\n"
     ]
    },
    {
     "data": {
      "application/vnd.jupyter.widget-view+json": {
       "model_id": "83a90fb17bf14641b13a0daf47ec1b37",
       "version_major": 2,
       "version_minor": 0
      },
      "text/plain": [
       "VBox(children=(HBox(children=(IntProgress(value=0, description='0.00%', max=6), Label(value='0 / 6'))), HBox(c…"
      ]
     },
     "metadata": {},
     "output_type": "display_data"
    },
    {
     "name": "stdout",
     "output_type": "stream",
     "text": [
      "humaneval-x prompt-tuning Salesforce/codegen-350M-multi\n"
     ]
    },
    {
     "data": {
      "application/vnd.jupyter.widget-view+json": {
       "model_id": "d7ef01971e44430094d7d095d2a32e22",
       "version_major": 2,
       "version_minor": 0
      },
      "text/plain": [
       "VBox(children=(HBox(children=(IntProgress(value=0, description='0.00%', max=6), Label(value='0 / 6'))), HBox(c…"
      ]
     },
     "metadata": {},
     "output_type": "display_data"
    },
    {
     "name": "stdout",
     "output_type": "stream",
     "text": [
      "humaneval-x lora bigcode/starcoder2-3b\n"
     ]
    },
    {
     "data": {
      "application/vnd.jupyter.widget-view+json": {
       "model_id": "17d0d21aee014b11910be2f4368baea5",
       "version_major": 2,
       "version_minor": 0
      },
      "text/plain": [
       "VBox(children=(HBox(children=(IntProgress(value=0, description='0.00%', max=6), Label(value='0 / 6'))), HBox(c…"
      ]
     },
     "metadata": {},
     "output_type": "display_data"
    },
    {
     "name": "stdout",
     "output_type": "stream",
     "text": [
      "humaneval-x fine-tuning Salesforce/codegen-350M-multi\n"
     ]
    },
    {
     "data": {
      "application/vnd.jupyter.widget-view+json": {
       "model_id": "d90d1cb095f04ef887ecced89563c681",
       "version_major": 2,
       "version_minor": 0
      },
      "text/plain": [
       "VBox(children=(HBox(children=(IntProgress(value=0, description='0.00%', max=6), Label(value='0 / 6'))), HBox(c…"
      ]
     },
     "metadata": {},
     "output_type": "display_data"
    },
    {
     "name": "stdout",
     "output_type": "stream",
     "text": [
      "humaneval-x prompt-tuning Salesforce/codegen2-1B_P\n"
     ]
    },
    {
     "data": {
      "application/vnd.jupyter.widget-view+json": {
       "model_id": "424c31a5159448dca3257f22a17b722d",
       "version_major": 2,
       "version_minor": 0
      },
      "text/plain": [
       "VBox(children=(HBox(children=(IntProgress(value=0, description='0.00%', max=6), Label(value='0 / 6'))), HBox(c…"
      ]
     },
     "metadata": {},
     "output_type": "display_data"
    },
    {
     "name": "stdout",
     "output_type": "stream",
     "text": [
      "humaneval-x pre-trained Qwen/Qwen2.5-Coder-7B\n"
     ]
    },
    {
     "data": {
      "application/vnd.jupyter.widget-view+json": {
       "model_id": "353e4e9b42374114b00ce7d7f98623ac",
       "version_major": 2,
       "version_minor": 0
      },
      "text/plain": [
       "VBox(children=(HBox(children=(IntProgress(value=0, description='0.00%', max=6), Label(value='0 / 6'))), HBox(c…"
      ]
     },
     "metadata": {},
     "output_type": "display_data"
    },
    {
     "name": "stdout",
     "output_type": "stream",
     "text": [
      "humaneval-x ia3 Salesforce/codegen-350M-multi\n"
     ]
    },
    {
     "data": {
      "application/vnd.jupyter.widget-view+json": {
       "model_id": "97a69e09d85b4a3fb01c1059ff6115b1",
       "version_major": 2,
       "version_minor": 0
      },
      "text/plain": [
       "VBox(children=(HBox(children=(IntProgress(value=0, description='0.00%', max=6), Label(value='0 / 6'))), HBox(c…"
      ]
     },
     "metadata": {},
     "output_type": "display_data"
    },
    {
     "name": "stdout",
     "output_type": "stream",
     "text": [
      "humaneval-x pre-trained Qwen/Qwen2.5-Coder-14B\n"
     ]
    },
    {
     "data": {
      "application/vnd.jupyter.widget-view+json": {
       "model_id": "3ce36c36115944dea8f1c9fd398a892f",
       "version_major": 2,
       "version_minor": 0
      },
      "text/plain": [
       "VBox(children=(HBox(children=(IntProgress(value=0, description='0.00%', max=6), Label(value='0 / 6'))), HBox(c…"
      ]
     },
     "metadata": {},
     "output_type": "display_data"
    },
    {
     "name": "stdout",
     "output_type": "stream",
     "text": [
      "humaneval-x pre-trained bigcode/starcoder2-3b\n"
     ]
    },
    {
     "data": {
      "application/vnd.jupyter.widget-view+json": {
       "model_id": "669a2aa2388d494cb983abd99a4496c1",
       "version_major": 2,
       "version_minor": 0
      },
      "text/plain": [
       "VBox(children=(HBox(children=(IntProgress(value=0, description='0.00%', max=6), Label(value='0 / 6'))), HBox(c…"
      ]
     },
     "metadata": {},
     "output_type": "display_data"
    },
    {
     "name": "stdout",
     "output_type": "stream",
     "text": [
      "humaneval-x fine-tuning bigcode/starcoder2-15b\n"
     ]
    },
    {
     "data": {
      "application/vnd.jupyter.widget-view+json": {
       "model_id": "dc841a37562d4df2b90ba844827d5906",
       "version_major": 2,
       "version_minor": 0
      },
      "text/plain": [
       "VBox(children=(HBox(children=(IntProgress(value=0, description='0.00%', max=6), Label(value='0 / 6'))), HBox(c…"
      ]
     },
     "metadata": {},
     "output_type": "display_data"
    },
    {
     "name": "stdout",
     "output_type": "stream",
     "text": [
      "humaneval-x ia3 Qwen/Qwen2.5-Coder-7B\n"
     ]
    },
    {
     "data": {
      "application/vnd.jupyter.widget-view+json": {
       "model_id": "44175d089f8a4f948163c3e3f367ed54",
       "version_major": 2,
       "version_minor": 0
      },
      "text/plain": [
       "VBox(children=(HBox(children=(IntProgress(value=0, description='0.00%', max=6), Label(value='0 / 6'))), HBox(c…"
      ]
     },
     "metadata": {},
     "output_type": "display_data"
    },
    {
     "name": "stdout",
     "output_type": "stream",
     "text": [
      "humaneval-x prompt-tuning Salesforce/codegen2-3_7B_P\n"
     ]
    },
    {
     "data": {
      "application/vnd.jupyter.widget-view+json": {
       "model_id": "50596af07c0e4d82adf588df618f243d",
       "version_major": 2,
       "version_minor": 0
      },
      "text/plain": [
       "VBox(children=(HBox(children=(IntProgress(value=0, description='0.00%', max=6), Label(value='0 / 6'))), HBox(c…"
      ]
     },
     "metadata": {},
     "output_type": "display_data"
    },
    {
     "name": "stdout",
     "output_type": "stream",
     "text": [
      "humaneval-x prompt-tuning bigcode/starcoder2-7b\n"
     ]
    },
    {
     "data": {
      "application/vnd.jupyter.widget-view+json": {
       "model_id": "21a792f536bb4ac69672f42d603ecd8b",
       "version_major": 2,
       "version_minor": 0
      },
      "text/plain": [
       "VBox(children=(HBox(children=(IntProgress(value=0, description='0.00%', max=6), Label(value='0 / 6'))), HBox(c…"
      ]
     },
     "metadata": {},
     "output_type": "display_data"
    },
    {
     "name": "stdout",
     "output_type": "stream",
     "text": [
      "humaneval-x fine-tuning bigcode/starcoder2-7b\n"
     ]
    },
    {
     "data": {
      "application/vnd.jupyter.widget-view+json": {
       "model_id": "a0df877a5f5a49d0817c2ed517705169",
       "version_major": 2,
       "version_minor": 0
      },
      "text/plain": [
       "VBox(children=(HBox(children=(IntProgress(value=0, description='0.00%', max=6), Label(value='0 / 6'))), HBox(c…"
      ]
     },
     "metadata": {},
     "output_type": "display_data"
    },
    {
     "name": "stdout",
     "output_type": "stream",
     "text": [
      "humaneval-x pre-trained metal-llama/CodeLlama-7b-hf\n"
     ]
    },
    {
     "data": {
      "application/vnd.jupyter.widget-view+json": {
       "model_id": "df13a4149d01488b9cedc3260b730718",
       "version_major": 2,
       "version_minor": 0
      },
      "text/plain": [
       "VBox(children=(HBox(children=(IntProgress(value=0, description='0.00%', max=6), Label(value='0 / 6'))), HBox(c…"
      ]
     },
     "metadata": {},
     "output_type": "display_data"
    },
    {
     "name": "stdout",
     "output_type": "stream",
     "text": [
      "humaneval-x lora bigcode/starcoder2-7b\n"
     ]
    },
    {
     "data": {
      "application/vnd.jupyter.widget-view+json": {
       "model_id": "fd4975e0bd1c43b9b7f301c5051a1c80",
       "version_major": 2,
       "version_minor": 0
      },
      "text/plain": [
       "VBox(children=(HBox(children=(IntProgress(value=0, description='0.00%', max=6), Label(value='0 / 6'))), HBox(c…"
      ]
     },
     "metadata": {},
     "output_type": "display_data"
    },
    {
     "name": "stdout",
     "output_type": "stream",
     "text": [
      "humaneval-x fine-tuning bigcode/starcoderbase\n"
     ]
    },
    {
     "data": {
      "application/vnd.jupyter.widget-view+json": {
       "model_id": "50377f1a29684e79b8aed738b46399a7",
       "version_major": 2,
       "version_minor": 0
      },
      "text/plain": [
       "VBox(children=(HBox(children=(IntProgress(value=0, description='0.00%', max=6), Label(value='0 / 6'))), HBox(c…"
      ]
     },
     "metadata": {},
     "output_type": "display_data"
    },
    {
     "name": "stdout",
     "output_type": "stream",
     "text": [
      "humaneval-x prompt-tuning bigcode/starcoder2-15b\n"
     ]
    },
    {
     "data": {
      "application/vnd.jupyter.widget-view+json": {
       "model_id": "e083e444bc564d96b0bc0ce7f95f76ae",
       "version_major": 2,
       "version_minor": 0
      },
      "text/plain": [
       "VBox(children=(HBox(children=(IntProgress(value=0, description='0.00%', max=6), Label(value='0 / 6'))), HBox(c…"
      ]
     },
     "metadata": {},
     "output_type": "display_data"
    },
    {
     "name": "stdout",
     "output_type": "stream",
     "text": [
      "humaneval-x ia3 bigcode/starcoder2-3b\n"
     ]
    },
    {
     "data": {
      "application/vnd.jupyter.widget-view+json": {
       "model_id": "8c90095b72804a03859e15bb3f0f8dd7",
       "version_major": 2,
       "version_minor": 0
      },
      "text/plain": [
       "VBox(children=(HBox(children=(IntProgress(value=0, description='0.00%', max=6), Label(value='0 / 6'))), HBox(c…"
      ]
     },
     "metadata": {},
     "output_type": "display_data"
    },
    {
     "name": "stdout",
     "output_type": "stream",
     "text": [
      "humaneval-x ia3 Salesforce/codegen2-16B_P\n"
     ]
    },
    {
     "data": {
      "application/vnd.jupyter.widget-view+json": {
       "model_id": "323c269d5d3a4f13aea55296e806356b",
       "version_major": 2,
       "version_minor": 0
      },
      "text/plain": [
       "VBox(children=(HBox(children=(IntProgress(value=0, description='0.00%', max=6), Label(value='0 / 6'))), HBox(c…"
      ]
     },
     "metadata": {},
     "output_type": "display_data"
    },
    {
     "name": "stdout",
     "output_type": "stream",
     "text": [
      "humaneval-x prompt-tuning Salesforce/codegen2-7B_P\n"
     ]
    },
    {
     "data": {
      "application/vnd.jupyter.widget-view+json": {
       "model_id": "84559a1a3c5c48bf86664159ae485eec",
       "version_major": 2,
       "version_minor": 0
      },
      "text/plain": [
       "VBox(children=(HBox(children=(IntProgress(value=0, description='0.00%', max=6), Label(value='0 / 6'))), HBox(c…"
      ]
     },
     "metadata": {},
     "output_type": "display_data"
    },
    {
     "name": "stdout",
     "output_type": "stream",
     "text": [
      "humaneval-x lora Salesforce/codegen2-1B_P\n"
     ]
    },
    {
     "data": {
      "application/vnd.jupyter.widget-view+json": {
       "model_id": "01995ae096d94140918dc63c54f04738",
       "version_major": 2,
       "version_minor": 0
      },
      "text/plain": [
       "VBox(children=(HBox(children=(IntProgress(value=0, description='0.00%', max=6), Label(value='0 / 6'))), HBox(c…"
      ]
     },
     "metadata": {},
     "output_type": "display_data"
    },
    {
     "name": "stdout",
     "output_type": "stream",
     "text": [
      "humaneval-x prompt-tuning Qwen/Qwen2.5-Coder-3B\n"
     ]
    },
    {
     "data": {
      "application/vnd.jupyter.widget-view+json": {
       "model_id": "b7172e9601a44d8fb40fac9709ae7b56",
       "version_major": 2,
       "version_minor": 0
      },
      "text/plain": [
       "VBox(children=(HBox(children=(IntProgress(value=0, description='0.00%', max=6), Label(value='0 / 6'))), HBox(c…"
      ]
     },
     "metadata": {},
     "output_type": "display_data"
    },
    {
     "name": "stdout",
     "output_type": "stream",
     "text": [
      "humaneval-x pre-trained Salesforce/codegen2-16B_P\n"
     ]
    },
    {
     "data": {
      "application/vnd.jupyter.widget-view+json": {
       "model_id": "eda4bdeba1d84308abe7eb33e07a6011",
       "version_major": 2,
       "version_minor": 0
      },
      "text/plain": [
       "VBox(children=(HBox(children=(IntProgress(value=0, description='0.00%', max=6), Label(value='0 / 6'))), HBox(c…"
      ]
     },
     "metadata": {},
     "output_type": "display_data"
    },
    {
     "name": "stdout",
     "output_type": "stream",
     "text": [
      "humaneval-x pre-trained Salesforce/codegen2-7B_P\n"
     ]
    },
    {
     "data": {
      "application/vnd.jupyter.widget-view+json": {
       "model_id": "0d469e495ea44e09aa2eeaa171414919",
       "version_major": 2,
       "version_minor": 0
      },
      "text/plain": [
       "VBox(children=(HBox(children=(IntProgress(value=0, description='0.00%', max=6), Label(value='0 / 6'))), HBox(c…"
      ]
     },
     "metadata": {},
     "output_type": "display_data"
    },
    {
     "name": "stdout",
     "output_type": "stream",
     "text": [
      "humaneval-x fine-tuning Salesforce/codegen2-1B_P\n"
     ]
    },
    {
     "data": {
      "application/vnd.jupyter.widget-view+json": {
       "model_id": "401aac45551e42d086ba79e9aced83ee",
       "version_major": 2,
       "version_minor": 0
      },
      "text/plain": [
       "VBox(children=(HBox(children=(IntProgress(value=0, description='0.00%', max=6), Label(value='0 / 6'))), HBox(c…"
      ]
     },
     "metadata": {},
     "output_type": "display_data"
    },
    {
     "name": "stdout",
     "output_type": "stream",
     "text": [
      "humaneval-x fine-tuning Qwen/Qwen2.5-Coder-7B\n"
     ]
    },
    {
     "data": {
      "application/vnd.jupyter.widget-view+json": {
       "model_id": "89b886c7628341c18bdc7bfdd067216c",
       "version_major": 2,
       "version_minor": 0
      },
      "text/plain": [
       "VBox(children=(HBox(children=(IntProgress(value=0, description='0.00%', max=6), Label(value='0 / 6'))), HBox(c…"
      ]
     },
     "metadata": {},
     "output_type": "display_data"
    },
    {
     "name": "stdout",
     "output_type": "stream",
     "text": [
      "humaneval-x lora Qwen/Qwen2.5-Coder-7B\n"
     ]
    },
    {
     "data": {
      "application/vnd.jupyter.widget-view+json": {
       "model_id": "70725095bff642a5a784b3745ca75275",
       "version_major": 2,
       "version_minor": 0
      },
      "text/plain": [
       "VBox(children=(HBox(children=(IntProgress(value=0, description='0.00%', max=6), Label(value='0 / 6'))), HBox(c…"
      ]
     },
     "metadata": {},
     "output_type": "display_data"
    },
    {
     "name": "stdout",
     "output_type": "stream",
     "text": [
      "humaneval-x prompt-tuning Qwen/Qwen2.5-Coder-7B\n"
     ]
    },
    {
     "data": {
      "application/vnd.jupyter.widget-view+json": {
       "model_id": "eee1c7490509485eb6f7dd54cdea6523",
       "version_major": 2,
       "version_minor": 0
      },
      "text/plain": [
       "VBox(children=(HBox(children=(IntProgress(value=0, description='0.00%', max=6), Label(value='0 / 6'))), HBox(c…"
      ]
     },
     "metadata": {},
     "output_type": "display_data"
    },
    {
     "name": "stdout",
     "output_type": "stream",
     "text": [
      "humaneval-x prompt-tuning bigcode/starcoderbase\n"
     ]
    },
    {
     "data": {
      "application/vnd.jupyter.widget-view+json": {
       "model_id": "45fdbd1e3d0747588603e63125aed0b7",
       "version_major": 2,
       "version_minor": 0
      },
      "text/plain": [
       "VBox(children=(HBox(children=(IntProgress(value=0, description='0.00%', max=6), Label(value='0 / 6'))), HBox(c…"
      ]
     },
     "metadata": {},
     "output_type": "display_data"
    },
    {
     "data": {
      "application/vnd.jupyter.widget-view+json": {
       "model_id": "132dfc56499e412eab14b553c9bb92a1",
       "version_major": 2,
       "version_minor": 0
      },
      "text/plain": [
       "  0%|          | 0/65 [00:00<?, ?it/s]"
      ]
     },
     "metadata": {},
     "output_type": "display_data"
    },
    {
     "name": "stdout",
     "output_type": "stream",
     "text": [
      "methods2test_runnable pre-trained Salesforce/codegen2-7B_P\n"
     ]
    },
    {
     "data": {
      "application/vnd.jupyter.widget-view+json": {
       "model_id": "57e7847463fb498a9a36e18ebdfbaf79",
       "version_major": 2,
       "version_minor": 0
      },
      "text/plain": [
       "VBox(children=(HBox(children=(IntProgress(value=0, description='0.00%', max=101), Label(value='0 / 101'))), HB…"
      ]
     },
     "metadata": {},
     "output_type": "display_data"
    },
    {
     "name": "stdout",
     "output_type": "stream",
     "text": [
      "methods2test_runnable ia3 Salesforce/codegen2-16B_P\n"
     ]
    },
    {
     "data": {
      "application/vnd.jupyter.widget-view+json": {
       "model_id": "7c56e63ff2654184bdaeec58ae1bad62",
       "version_major": 2,
       "version_minor": 0
      },
      "text/plain": [
       "VBox(children=(HBox(children=(IntProgress(value=0, description='0.00%', max=101), Label(value='0 / 101'))), HB…"
      ]
     },
     "metadata": {},
     "output_type": "display_data"
    },
    {
     "name": "stdout",
     "output_type": "stream",
     "text": [
      "methods2test_runnable prompt-tuning meta-llama/CodeLlama-7b-hf\n"
     ]
    },
    {
     "data": {
      "application/vnd.jupyter.widget-view+json": {
       "model_id": "8e8f9af7e1b348b483eab8a768d861a0",
       "version_major": 2,
       "version_minor": 0
      },
      "text/plain": [
       "VBox(children=(HBox(children=(IntProgress(value=0, description='0.00%', max=101), Label(value='0 / 101'))), HB…"
      ]
     },
     "metadata": {},
     "output_type": "display_data"
    },
    {
     "name": "stdout",
     "output_type": "stream",
     "text": [
      "methods2test_runnable lora Salesforce/codegen2-1B_P\n"
     ]
    },
    {
     "data": {
      "application/vnd.jupyter.widget-view+json": {
       "model_id": "61ed5160184c4da183c791f9fa708a46",
       "version_major": 2,
       "version_minor": 0
      },
      "text/plain": [
       "VBox(children=(HBox(children=(IntProgress(value=0, description='0.00%', max=101), Label(value='0 / 101'))), HB…"
      ]
     },
     "metadata": {},
     "output_type": "display_data"
    },
    {
     "name": "stdout",
     "output_type": "stream",
     "text": [
      "methods2test_runnable prompt-tuning bigcode/starcoder2-7b\n"
     ]
    },
    {
     "data": {
      "application/vnd.jupyter.widget-view+json": {
       "model_id": "208762e0229243fd9e69a35645295875",
       "version_major": 2,
       "version_minor": 0
      },
      "text/plain": [
       "VBox(children=(HBox(children=(IntProgress(value=0, description='0.00%', max=102), Label(value='0 / 102'))), HB…"
      ]
     },
     "metadata": {},
     "output_type": "display_data"
    },
    {
     "name": "stdout",
     "output_type": "stream",
     "text": [
      "methods2test_runnable fine-tuning Qwen/Qwen2.5-Coder-3B\n"
     ]
    },
    {
     "data": {
      "application/vnd.jupyter.widget-view+json": {
       "model_id": "164ffa2c56bc41d6abf5caa8bd32aa34",
       "version_major": 2,
       "version_minor": 0
      },
      "text/plain": [
       "VBox(children=(HBox(children=(IntProgress(value=0, description='0.00%', max=102), Label(value='0 / 102'))), HB…"
      ]
     },
     "metadata": {},
     "output_type": "display_data"
    },
    {
     "name": "stdout",
     "output_type": "stream",
     "text": [
      "methods2test_runnable pre-trained Salesforce/codegen2-3_7B_P\n"
     ]
    },
    {
     "data": {
      "application/vnd.jupyter.widget-view+json": {
       "model_id": "1221c03649924718b284601349860294",
       "version_major": 2,
       "version_minor": 0
      },
      "text/plain": [
       "VBox(children=(HBox(children=(IntProgress(value=0, description='0.00%', max=101), Label(value='0 / 101'))), HB…"
      ]
     },
     "metadata": {},
     "output_type": "display_data"
    },
    {
     "name": "stdout",
     "output_type": "stream",
     "text": [
      "methods2test_runnable ia3 bigcode/starcoder2-15b\n"
     ]
    },
    {
     "data": {
      "application/vnd.jupyter.widget-view+json": {
       "model_id": "adb90962f45145c8b4ad2fd5a2fdaae5",
       "version_major": 2,
       "version_minor": 0
      },
      "text/plain": [
       "VBox(children=(HBox(children=(IntProgress(value=0, description='0.00%', max=102), Label(value='0 / 102'))), HB…"
      ]
     },
     "metadata": {},
     "output_type": "display_data"
    },
    {
     "name": "stdout",
     "output_type": "stream",
     "text": [
      "methods2test_runnable lora Qwen/Qwen2.5-Coder-3B\n"
     ]
    },
    {
     "data": {
      "application/vnd.jupyter.widget-view+json": {
       "model_id": "da3fc380bf2e4eeba626f35a1fe422b4",
       "version_major": 2,
       "version_minor": 0
      },
      "text/plain": [
       "VBox(children=(HBox(children=(IntProgress(value=0, description='0.00%', max=102), Label(value='0 / 102'))), HB…"
      ]
     },
     "metadata": {},
     "output_type": "display_data"
    },
    {
     "name": "stdout",
     "output_type": "stream",
     "text": [
      "methods2test_runnable pre-trained meta-llama/CodeLlama-7b-hf\n"
     ]
    },
    {
     "data": {
      "application/vnd.jupyter.widget-view+json": {
       "model_id": "ad80a6b38b1040219e59654bed79d78a",
       "version_major": 2,
       "version_minor": 0
      },
      "text/plain": [
       "VBox(children=(HBox(children=(IntProgress(value=0, description='0.00%', max=101), Label(value='0 / 101'))), HB…"
      ]
     },
     "metadata": {},
     "output_type": "display_data"
    },
    {
     "name": "stdout",
     "output_type": "stream",
     "text": [
      "methods2test_runnable pre-trained Salesforce/codegen-350M-multi\n"
     ]
    },
    {
     "data": {
      "application/vnd.jupyter.widget-view+json": {
       "model_id": "fd100c61167b427d8b43d570ced55344",
       "version_major": 2,
       "version_minor": 0
      },
      "text/plain": [
       "VBox(children=(HBox(children=(IntProgress(value=0, description='0.00%', max=101), Label(value='0 / 101'))), HB…"
      ]
     },
     "metadata": {},
     "output_type": "display_data"
    },
    {
     "name": "stdout",
     "output_type": "stream",
     "text": [
      "methods2test_runnable prompt-tuning Qwen/Qwen2.5-Coder-14B\n"
     ]
    },
    {
     "data": {
      "application/vnd.jupyter.widget-view+json": {
       "model_id": "e5fc52d273b74db28b765bd27b60269f",
       "version_major": 2,
       "version_minor": 0
      },
      "text/plain": [
       "VBox(children=(HBox(children=(IntProgress(value=0, description='0.00%', max=102), Label(value='0 / 102'))), HB…"
      ]
     },
     "metadata": {},
     "output_type": "display_data"
    },
    {
     "name": "stdout",
     "output_type": "stream",
     "text": [
      "methods2test_runnable ia3 bigcode/starcoder2-3b\n"
     ]
    },
    {
     "data": {
      "application/vnd.jupyter.widget-view+json": {
       "model_id": "140d34649949448f875c4c7cdaf3cbe2",
       "version_major": 2,
       "version_minor": 0
      },
      "text/plain": [
       "VBox(children=(HBox(children=(IntProgress(value=0, description='0.00%', max=102), Label(value='0 / 102'))), HB…"
      ]
     },
     "metadata": {},
     "output_type": "display_data"
    },
    {
     "name": "stdout",
     "output_type": "stream",
     "text": [
      "methods2test_runnable fine-tuning Qwen/Qwen2.5-Coder-14B\n"
     ]
    },
    {
     "data": {
      "application/vnd.jupyter.widget-view+json": {
       "model_id": "a9e817db08cc4ce5bfb6a9333647fde3",
       "version_major": 2,
       "version_minor": 0
      },
      "text/plain": [
       "VBox(children=(HBox(children=(IntProgress(value=0, description='0.00%', max=102), Label(value='0 / 102'))), HB…"
      ]
     },
     "metadata": {},
     "output_type": "display_data"
    },
    {
     "name": "stdout",
     "output_type": "stream",
     "text": [
      "methods2test_runnable fine-tuning Salesforce/codegen-350M-multi\n"
     ]
    },
    {
     "data": {
      "application/vnd.jupyter.widget-view+json": {
       "model_id": "b9d92644a4734c5daf4737ccd71b89a8",
       "version_major": 2,
       "version_minor": 0
      },
      "text/plain": [
       "VBox(children=(HBox(children=(IntProgress(value=0, description='0.00%', max=101), Label(value='0 / 101'))), HB…"
      ]
     },
     "metadata": {},
     "output_type": "display_data"
    },
    {
     "name": "stdout",
     "output_type": "stream",
     "text": [
      "methods2test_runnable ia3 Qwen/Qwen2.5-Coder-7B\n"
     ]
    },
    {
     "data": {
      "application/vnd.jupyter.widget-view+json": {
       "model_id": "9c4f9b4ee17a43219b2ffbe934babf04",
       "version_major": 2,
       "version_minor": 0
      },
      "text/plain": [
       "VBox(children=(HBox(children=(IntProgress(value=0, description='0.00%', max=102), Label(value='0 / 102'))), HB…"
      ]
     },
     "metadata": {},
     "output_type": "display_data"
    },
    {
     "name": "stdout",
     "output_type": "stream",
     "text": [
      "methods2test_runnable pre-trained Qwen/Qwen2.5-Coder-3B\n"
     ]
    },
    {
     "data": {
      "application/vnd.jupyter.widget-view+json": {
       "model_id": "ef31609fbf174c27b547db632c55739b",
       "version_major": 2,
       "version_minor": 0
      },
      "text/plain": [
       "VBox(children=(HBox(children=(IntProgress(value=0, description='0.00%', max=102), Label(value='0 / 102'))), HB…"
      ]
     },
     "metadata": {},
     "output_type": "display_data"
    },
    {
     "name": "stdout",
     "output_type": "stream",
     "text": [
      "methods2test_runnable ia3 bigcode/starcoder2-7b\n"
     ]
    },
    {
     "data": {
      "application/vnd.jupyter.widget-view+json": {
       "model_id": "cca2f3bd824449f1b8f4930023ce1e05",
       "version_major": 2,
       "version_minor": 0
      },
      "text/plain": [
       "VBox(children=(HBox(children=(IntProgress(value=0, description='0.00%', max=102), Label(value='0 / 102'))), HB…"
      ]
     },
     "metadata": {},
     "output_type": "display_data"
    },
    {
     "name": "stdout",
     "output_type": "stream",
     "text": [
      "methods2test_runnable prompt-tuning Salesforce/codegen2-3_7B_P\n"
     ]
    },
    {
     "data": {
      "application/vnd.jupyter.widget-view+json": {
       "model_id": "2a9f5e6bb9d24c2e825c80ade49e0754",
       "version_major": 2,
       "version_minor": 0
      },
      "text/plain": [
       "VBox(children=(HBox(children=(IntProgress(value=0, description='0.00%', max=101), Label(value='0 / 101'))), HB…"
      ]
     },
     "metadata": {},
     "output_type": "display_data"
    },
    {
     "name": "stdout",
     "output_type": "stream",
     "text": [
      "methods2test_runnable lora bigcode/starcoder2-7b\n"
     ]
    },
    {
     "data": {
      "application/vnd.jupyter.widget-view+json": {
       "model_id": "665e63581ce94d93949b65d04a4c1b0e",
       "version_major": 2,
       "version_minor": 0
      },
      "text/plain": [
       "VBox(children=(HBox(children=(IntProgress(value=0, description='0.00%', max=102), Label(value='0 / 102'))), HB…"
      ]
     },
     "metadata": {},
     "output_type": "display_data"
    },
    {
     "name": "stdout",
     "output_type": "stream",
     "text": [
      "methods2test_runnable lora Qwen/Qwen2.5-Coder-14B\n"
     ]
    },
    {
     "data": {
      "application/vnd.jupyter.widget-view+json": {
       "model_id": "ca63cb21747a439ba5ccc907b41dc97f",
       "version_major": 2,
       "version_minor": 0
      },
      "text/plain": [
       "VBox(children=(HBox(children=(IntProgress(value=0, description='0.00%', max=102), Label(value='0 / 102'))), HB…"
      ]
     },
     "metadata": {},
     "output_type": "display_data"
    },
    {
     "name": "stdout",
     "output_type": "stream",
     "text": [
      "methods2test_runnable fine-tuning bigcode/starcoder2-3b\n"
     ]
    },
    {
     "data": {
      "application/vnd.jupyter.widget-view+json": {
       "model_id": "5650153d5ae14fcf8de542f78e4e11ae",
       "version_major": 2,
       "version_minor": 0
      },
      "text/plain": [
       "VBox(children=(HBox(children=(IntProgress(value=0, description='0.00%', max=102), Label(value='0 / 102'))), HB…"
      ]
     },
     "metadata": {},
     "output_type": "display_data"
    },
    {
     "name": "stdout",
     "output_type": "stream",
     "text": [
      "methods2test_runnable fine-tuning Salesforce/codegen2-1B_P\n"
     ]
    },
    {
     "data": {
      "application/vnd.jupyter.widget-view+json": {
       "model_id": "2b09e37d52b34995b3c73b1b6f8adc4d",
       "version_major": 2,
       "version_minor": 0
      },
      "text/plain": [
       "VBox(children=(HBox(children=(IntProgress(value=0, description='0.00%', max=101), Label(value='0 / 101'))), HB…"
      ]
     },
     "metadata": {},
     "output_type": "display_data"
    },
    {
     "name": "stdout",
     "output_type": "stream",
     "text": [
      "methods2test_runnable ia3 Salesforce/codegen2-3_7B_P\n"
     ]
    },
    {
     "data": {
      "application/vnd.jupyter.widget-view+json": {
       "model_id": "f0f1e17dd8434cae885c4281d1aaf9b4",
       "version_major": 2,
       "version_minor": 0
      },
      "text/plain": [
       "VBox(children=(HBox(children=(IntProgress(value=0, description='0.00%', max=101), Label(value='0 / 101'))), HB…"
      ]
     },
     "metadata": {},
     "output_type": "display_data"
    },
    {
     "name": "stdout",
     "output_type": "stream",
     "text": [
      "Error:  tuple index out of range\n",
      "Error:  tuple index out of range\n",
      "Error:  tuple index out of range\n",
      "Error: Error: tuple index out of range \n",
      "Error:  tuple index out of range\n",
      " tuple index out of rangeError:  tuple index out of range\n",
      "\n",
      "Error:  tuple index out of range\n",
      "Error:  tuple index out of range\n",
      "Error:  tuple index out of range\n",
      "Error:  tuple index out of rangeError: \n",
      " tuple index out of range\n",
      "Error:  Error: tuple index out of range tuple index out of range\n",
      "\n",
      "Error:  tuple index out of range\n",
      "Error:  Error: tuple index out of range Error: \n",
      " tuple index out of range\n",
      "tuple index out of range\n",
      "Error:  tuple index out of range\n",
      "Error:  tuple index out of range\n",
      "Error:  tuple index out of range\n",
      "Error:  tuple index out of range\n",
      "Error:  tuple index out of range\n",
      "Error:  tuple index out of range\n",
      "Error:  tuple index out of range\n",
      "Error:  tuple index out of range\n",
      "Error:  tuple index out of range\n",
      "Error:  tuple index out of range\n",
      "Error:  tuple index out of range\n",
      "Error:  tuple index out of range\n",
      "Error:  tuple index out of range\n",
      "Error:  tuple index out of range\n",
      "Error:  tuple index out of range\n",
      "Error:  tuple index out of range\n",
      "Error:  tuple index out of range\n",
      "Error:  tuple index out of range\n",
      "Error:  tuple index out of range\n",
      "Error:  tuple index out of range\n",
      "Error:  tuple index out of range\n",
      "Error:  tuple index out of range\n",
      "Error:  tuple index out of range\n",
      "Error:  tuple index out of range\n",
      "Error:  tuple index out of range\n",
      "Error:  tuple index out of range\n",
      "Error:  tuple index out of range\n",
      "Error:  tuple index out of range\n",
      "Error:  tuple index out of range\n",
      "Error:  tuple index out of range\n",
      "Error:  tuple index out of range\n",
      "Error:  tuple index out of range\n",
      "Error:  tuple index out of range\n",
      "Error:  tuple index out of range\n",
      "Error:  tuple index out of range\n",
      "Error:  tuple index out of range\n",
      "Error:  tuple index out of range\n",
      "Error:  tuple index out of range\n",
      "Error:  tuple index out of range\n",
      "Error:  tuple index out of range\n",
      "Error:  tuple index out of range\n",
      "Error:  tuple index out of range\n",
      "Error:  tuple index out of range\n",
      "Error:  tuple index out of range\n",
      "Error:  tuple index out of range\n",
      "Error:  tuple index out of range\n",
      "Error:  tuple index out of range\n",
      "Error:  tuple index out of range\n",
      "methods2test_runnable pre-trained bigcode/starcoder2-3b\n"
     ]
    },
    {
     "data": {
      "application/vnd.jupyter.widget-view+json": {
       "model_id": "fb2749b1e62d4cfe80a978810f822193",
       "version_major": 2,
       "version_minor": 0
      },
      "text/plain": [
       "VBox(children=(HBox(children=(IntProgress(value=0, description='0.00%', max=102), Label(value='0 / 102'))), HB…"
      ]
     },
     "metadata": {},
     "output_type": "display_data"
    },
    {
     "name": "stdout",
     "output_type": "stream",
     "text": [
      "methods2test_runnable prompt-tuning Salesforce/codegen-350M-multi\n"
     ]
    },
    {
     "data": {
      "application/vnd.jupyter.widget-view+json": {
       "model_id": "24db28596bd84148a9a30ba4196f6d63",
       "version_major": 2,
       "version_minor": 0
      },
      "text/plain": [
       "VBox(children=(HBox(children=(IntProgress(value=0, description='0.00%', max=101), Label(value='0 / 101'))), HB…"
      ]
     },
     "metadata": {},
     "output_type": "display_data"
    },
    {
     "name": "stdout",
     "output_type": "stream",
     "text": [
      "methods2test_runnable pre-trained Qwen/Qwen2.5-Coder-7B\n"
     ]
    },
    {
     "data": {
      "application/vnd.jupyter.widget-view+json": {
       "model_id": "64a2209a57604fee8132dd63f742b4c0",
       "version_major": 2,
       "version_minor": 0
      },
      "text/plain": [
       "VBox(children=(HBox(children=(IntProgress(value=0, description='0.00%', max=102), Label(value='0 / 102'))), HB…"
      ]
     },
     "metadata": {},
     "output_type": "display_data"
    },
    {
     "name": "stdout",
     "output_type": "stream",
     "text": [
      "methods2test_runnable fine-tuning Salesforce/codegen2-3_7B_P\n"
     ]
    },
    {
     "data": {
      "application/vnd.jupyter.widget-view+json": {
       "model_id": "96aefec81b9449a0b9b5618c91bcbd3d",
       "version_major": 2,
       "version_minor": 0
      },
      "text/plain": [
       "VBox(children=(HBox(children=(IntProgress(value=0, description='0.00%', max=101), Label(value='0 / 101'))), HB…"
      ]
     },
     "metadata": {},
     "output_type": "display_data"
    },
    {
     "name": "stdout",
     "output_type": "stream",
     "text": [
      "Error:  tuple index out of range\n",
      "Error:  tuple index out of range\n",
      "Error:  tuple index out of range\n",
      "Error:  tuple index out of range\n",
      "Error:  tuple index out of range\n",
      "Error:  tuple index out of range\n",
      "Error:  tuple index out of range\n",
      "methods2test_runnable fine-tuning Salesforce/codegen2-7B_P\n"
     ]
    },
    {
     "data": {
      "application/vnd.jupyter.widget-view+json": {
       "model_id": "3593c0b16c7f46239d22643382d3aaca",
       "version_major": 2,
       "version_minor": 0
      },
      "text/plain": [
       "VBox(children=(HBox(children=(IntProgress(value=0, description='0.00%', max=101), Label(value='0 / 101'))), HB…"
      ]
     },
     "metadata": {},
     "output_type": "display_data"
    },
    {
     "name": "stdout",
     "output_type": "stream",
     "text": [
      "methods2test_runnable ia3 meta-llama/CodeLlama-7b-hf\n"
     ]
    },
    {
     "data": {
      "application/vnd.jupyter.widget-view+json": {
       "model_id": "e6d25698a99146958e642e035d75909c",
       "version_major": 2,
       "version_minor": 0
      },
      "text/plain": [
       "VBox(children=(HBox(children=(IntProgress(value=0, description='0.00%', max=101), Label(value='0 / 101'))), HB…"
      ]
     },
     "metadata": {},
     "output_type": "display_data"
    },
    {
     "name": "stdout",
     "output_type": "stream",
     "text": [
      "methods2test_runnable prompt-tuning Qwen/Qwen2.5-Coder-7B\n"
     ]
    },
    {
     "data": {
      "application/vnd.jupyter.widget-view+json": {
       "model_id": "d427d02d21a84c78951b862805b34a1d",
       "version_major": 2,
       "version_minor": 0
      },
      "text/plain": [
       "VBox(children=(HBox(children=(IntProgress(value=0, description='0.00%', max=102), Label(value='0 / 102'))), HB…"
      ]
     },
     "metadata": {},
     "output_type": "display_data"
    },
    {
     "name": "stdout",
     "output_type": "stream",
     "text": [
      "methods2test_runnable fine-tuning bigcode/starcoder2-7b\n"
     ]
    },
    {
     "data": {
      "application/vnd.jupyter.widget-view+json": {
       "model_id": "84e864af99bb491281e46c479300bcb1",
       "version_major": 2,
       "version_minor": 0
      },
      "text/plain": [
       "VBox(children=(HBox(children=(IntProgress(value=0, description='0.00%', max=102), Label(value='0 / 102'))), HB…"
      ]
     },
     "metadata": {},
     "output_type": "display_data"
    },
    {
     "name": "stdout",
     "output_type": "stream",
     "text": [
      "methods2test_runnable pre-trained Salesforce/codegen2-16B_P\n"
     ]
    },
    {
     "data": {
      "application/vnd.jupyter.widget-view+json": {
       "model_id": "c30f26a32ada4219b7794144f294f6df",
       "version_major": 2,
       "version_minor": 0
      },
      "text/plain": [
       "VBox(children=(HBox(children=(IntProgress(value=0, description='0.00%', max=101), Label(value='0 / 101'))), HB…"
      ]
     },
     "metadata": {},
     "output_type": "display_data"
    },
    {
     "name": "stdout",
     "output_type": "stream",
     "text": [
      "methods2test_runnable ia3 Salesforce/codegen2-7B_P\n"
     ]
    },
    {
     "data": {
      "application/vnd.jupyter.widget-view+json": {
       "model_id": "7e17ea514e204857bb4550258c3951c5",
       "version_major": 2,
       "version_minor": 0
      },
      "text/plain": [
       "VBox(children=(HBox(children=(IntProgress(value=0, description='0.00%', max=101), Label(value='0 / 101'))), HB…"
      ]
     },
     "metadata": {},
     "output_type": "display_data"
    },
    {
     "name": "stdout",
     "output_type": "stream",
     "text": [
      "methods2test_runnable prompt-tuning Qwen/Qwen2.5-Coder-3B\n"
     ]
    },
    {
     "data": {
      "application/vnd.jupyter.widget-view+json": {
       "model_id": "5034376d77c44969802c429f92dd276f",
       "version_major": 2,
       "version_minor": 0
      },
      "text/plain": [
       "VBox(children=(HBox(children=(IntProgress(value=0, description='0.00%', max=102), Label(value='0 / 102'))), HB…"
      ]
     },
     "metadata": {},
     "output_type": "display_data"
    },
    {
     "name": "stdout",
     "output_type": "stream",
     "text": [
      "methods2test_runnable lora bigcode/starcoder2-3b\n"
     ]
    },
    {
     "data": {
      "application/vnd.jupyter.widget-view+json": {
       "model_id": "a769c4287ad44b60bd22f31b891f2b91",
       "version_major": 2,
       "version_minor": 0
      },
      "text/plain": [
       "VBox(children=(HBox(children=(IntProgress(value=0, description='0.00%', max=102), Label(value='0 / 102'))), HB…"
      ]
     },
     "metadata": {},
     "output_type": "display_data"
    },
    {
     "name": "stdout",
     "output_type": "stream",
     "text": [
      "methods2test_runnable pre-trained bigcode/starcoder2-7b\n"
     ]
    },
    {
     "data": {
      "application/vnd.jupyter.widget-view+json": {
       "model_id": "2ba29b275de24a058c87545a653f8bb1",
       "version_major": 2,
       "version_minor": 0
      },
      "text/plain": [
       "VBox(children=(HBox(children=(IntProgress(value=0, description='0.00%', max=102), Label(value='0 / 102'))), HB…"
      ]
     },
     "metadata": {},
     "output_type": "display_data"
    },
    {
     "name": "stdout",
     "output_type": "stream",
     "text": [
      "methods2test_runnable lora Qwen/Qwen2.5-Coder-7B\n"
     ]
    },
    {
     "data": {
      "application/vnd.jupyter.widget-view+json": {
       "model_id": "d722c4395c854e3888769d1b883bbe0e",
       "version_major": 2,
       "version_minor": 0
      },
      "text/plain": [
       "VBox(children=(HBox(children=(IntProgress(value=0, description='0.00%', max=102), Label(value='0 / 102'))), HB…"
      ]
     },
     "metadata": {},
     "output_type": "display_data"
    },
    {
     "name": "stdout",
     "output_type": "stream",
     "text": [
      "methods2test_runnable ia3 Qwen/Qwen2.5-Coder-3B\n"
     ]
    },
    {
     "data": {
      "application/vnd.jupyter.widget-view+json": {
       "model_id": "104736c033c14346bdd032e39764481d",
       "version_major": 2,
       "version_minor": 0
      },
      "text/plain": [
       "VBox(children=(HBox(children=(IntProgress(value=0, description='0.00%', max=102), Label(value='0 / 102'))), HB…"
      ]
     },
     "metadata": {},
     "output_type": "display_data"
    },
    {
     "name": "stdout",
     "output_type": "stream",
     "text": [
      "methods2test_runnable prompt-tuning Salesforce/codegen2-1B_P\n"
     ]
    },
    {
     "data": {
      "application/vnd.jupyter.widget-view+json": {
       "model_id": "b3851e4556344e9f899372e16d4bf3c5",
       "version_major": 2,
       "version_minor": 0
      },
      "text/plain": [
       "VBox(children=(HBox(children=(IntProgress(value=0, description='0.00%', max=101), Label(value='0 / 101'))), HB…"
      ]
     },
     "metadata": {},
     "output_type": "display_data"
    },
    {
     "name": "stdout",
     "output_type": "stream",
     "text": [
      "methods2test_runnable lora Salesforce/codegen2-7B_P\n"
     ]
    },
    {
     "data": {
      "application/vnd.jupyter.widget-view+json": {
       "model_id": "8fca5001778e49c5a813dd11bc629bda",
       "version_major": 2,
       "version_minor": 0
      },
      "text/plain": [
       "VBox(children=(HBox(children=(IntProgress(value=0, description='0.00%', max=101), Label(value='0 / 101'))), HB…"
      ]
     },
     "metadata": {},
     "output_type": "display_data"
    },
    {
     "name": "stdout",
     "output_type": "stream",
     "text": [
      "methods2test_runnable fine-tuning Qwen/Qwen2.5-Coder-7B\n"
     ]
    },
    {
     "data": {
      "application/vnd.jupyter.widget-view+json": {
       "model_id": "88ea2797c9504873aa472c70e03c7f21",
       "version_major": 2,
       "version_minor": 0
      },
      "text/plain": [
       "VBox(children=(HBox(children=(IntProgress(value=0, description='0.00%', max=102), Label(value='0 / 102'))), HB…"
      ]
     },
     "metadata": {},
     "output_type": "display_data"
    },
    {
     "name": "stdout",
     "output_type": "stream",
     "text": [
      "methods2test_runnable lora bigcode/starcoderbase\n"
     ]
    },
    {
     "data": {
      "application/vnd.jupyter.widget-view+json": {
       "model_id": "83876236f26e437b863ac8b2e65116cb",
       "version_major": 2,
       "version_minor": 0
      },
      "text/plain": [
       "VBox(children=(HBox(children=(IntProgress(value=0, description='0.00%', max=102), Label(value='0 / 102'))), HB…"
      ]
     },
     "metadata": {},
     "output_type": "display_data"
    },
    {
     "name": "stdout",
     "output_type": "stream",
     "text": [
      "methods2test_runnable fine-tuning Salesforce/codegen2-16B_P\n"
     ]
    },
    {
     "data": {
      "application/vnd.jupyter.widget-view+json": {
       "model_id": "65a325e6daa24eef9749ded963d4ef9e",
       "version_major": 2,
       "version_minor": 0
      },
      "text/plain": [
       "VBox(children=(HBox(children=(IntProgress(value=0, description='0.00%', max=101), Label(value='0 / 101'))), HB…"
      ]
     },
     "metadata": {},
     "output_type": "display_data"
    },
    {
     "name": "stdout",
     "output_type": "stream",
     "text": [
      "methods2test_runnable lora meta-llama/CodeLlama-7b-hf\n"
     ]
    },
    {
     "data": {
      "application/vnd.jupyter.widget-view+json": {
       "model_id": "cee16bd1acfc47988424de9ba80c264f",
       "version_major": 2,
       "version_minor": 0
      },
      "text/plain": [
       "VBox(children=(HBox(children=(IntProgress(value=0, description='0.00%', max=101), Label(value='0 / 101'))), HB…"
      ]
     },
     "metadata": {},
     "output_type": "display_data"
    },
    {
     "name": "stdout",
     "output_type": "stream",
     "text": [
      "methods2test_runnable prompt-tuning bigcode/starcoder2-15b\n"
     ]
    },
    {
     "data": {
      "application/vnd.jupyter.widget-view+json": {
       "model_id": "eff40dc2ae874f88aa8eb0e03502ccd4",
       "version_major": 2,
       "version_minor": 0
      },
      "text/plain": [
       "VBox(children=(HBox(children=(IntProgress(value=0, description='0.00%', max=102), Label(value='0 / 102'))), HB…"
      ]
     },
     "metadata": {},
     "output_type": "display_data"
    },
    {
     "name": "stdout",
     "output_type": "stream",
     "text": [
      "methods2test_runnable prompt-tuning Salesforce/codegen2-16B_P\n"
     ]
    },
    {
     "data": {
      "application/vnd.jupyter.widget-view+json": {
       "model_id": "0756e9e9c4184d1caf75299b227a4f63",
       "version_major": 2,
       "version_minor": 0
      },
      "text/plain": [
       "VBox(children=(HBox(children=(IntProgress(value=0, description='0.00%', max=101), Label(value='0 / 101'))), HB…"
      ]
     },
     "metadata": {},
     "output_type": "display_data"
    },
    {
     "name": "stdout",
     "output_type": "stream",
     "text": [
      "methods2test_runnable lora Salesforce/codegen2-3_7B_P\n"
     ]
    },
    {
     "data": {
      "application/vnd.jupyter.widget-view+json": {
       "model_id": "cd53818c2e1a40338357fb41113b7302",
       "version_major": 2,
       "version_minor": 0
      },
      "text/plain": [
       "VBox(children=(HBox(children=(IntProgress(value=0, description='0.00%', max=101), Label(value='0 / 101'))), HB…"
      ]
     },
     "metadata": {},
     "output_type": "display_data"
    },
    {
     "name": "stdout",
     "output_type": "stream",
     "text": [
      "methods2test_runnable ia3 Qwen/Qwen2.5-Coder-14B\n"
     ]
    },
    {
     "data": {
      "application/vnd.jupyter.widget-view+json": {
       "model_id": "feef7d05bffe4b7786adff98ce0d940f",
       "version_major": 2,
       "version_minor": 0
      },
      "text/plain": [
       "VBox(children=(HBox(children=(IntProgress(value=0, description='0.00%', max=98), Label(value='0 / 98'))), HBox…"
      ]
     },
     "metadata": {},
     "output_type": "display_data"
    },
    {
     "name": "stdout",
     "output_type": "stream",
     "text": [
      "methods2test_runnable lora Salesforce/codegen-350M-multi\n"
     ]
    },
    {
     "data": {
      "application/vnd.jupyter.widget-view+json": {
       "model_id": "eea161b8f92b460f90b1352089e239b6",
       "version_major": 2,
       "version_minor": 0
      },
      "text/plain": [
       "VBox(children=(HBox(children=(IntProgress(value=0, description='0.00%', max=101), Label(value='0 / 101'))), HB…"
      ]
     },
     "metadata": {},
     "output_type": "display_data"
    },
    {
     "name": "stdout",
     "output_type": "stream",
     "text": [
      "methods2test_runnable prompt-tuning bigcode/starcoderbase\n"
     ]
    },
    {
     "data": {
      "application/vnd.jupyter.widget-view+json": {
       "model_id": "a19f0106df6f4aa5974a6b56641888a9",
       "version_major": 2,
       "version_minor": 0
      },
      "text/plain": [
       "VBox(children=(HBox(children=(IntProgress(value=0, description='0.00%', max=102), Label(value='0 / 102'))), HB…"
      ]
     },
     "metadata": {},
     "output_type": "display_data"
    },
    {
     "name": "stdout",
     "output_type": "stream",
     "text": [
      "methods2test_runnable lora bigcode/starcoder2-15b\n"
     ]
    },
    {
     "data": {
      "application/vnd.jupyter.widget-view+json": {
       "model_id": "4ccef1b9f55949b5883aa137be2c35a1",
       "version_major": 2,
       "version_minor": 0
      },
      "text/plain": [
       "VBox(children=(HBox(children=(IntProgress(value=0, description='0.00%', max=102), Label(value='0 / 102'))), HB…"
      ]
     },
     "metadata": {},
     "output_type": "display_data"
    },
    {
     "name": "stdout",
     "output_type": "stream",
     "text": [
      "methods2test_runnable prompt-tuning bigcode/starcoder2-3b\n"
     ]
    },
    {
     "data": {
      "application/vnd.jupyter.widget-view+json": {
       "model_id": "fc48ff09a7b94245bd01911e68874941",
       "version_major": 2,
       "version_minor": 0
      },
      "text/plain": [
       "VBox(children=(HBox(children=(IntProgress(value=0, description='0.00%', max=102), Label(value='0 / 102'))), HB…"
      ]
     },
     "metadata": {},
     "output_type": "display_data"
    },
    {
     "name": "stdout",
     "output_type": "stream",
     "text": [
      "methods2test_runnable fine-tuning meta-llama/CodeLlama-7b-hf\n"
     ]
    },
    {
     "data": {
      "application/vnd.jupyter.widget-view+json": {
       "model_id": "4399151a56ee481a9ebcdcb97c571c11",
       "version_major": 2,
       "version_minor": 0
      },
      "text/plain": [
       "VBox(children=(HBox(children=(IntProgress(value=0, description='0.00%', max=101), Label(value='0 / 101'))), HB…"
      ]
     },
     "metadata": {},
     "output_type": "display_data"
    },
    {
     "name": "stdout",
     "output_type": "stream",
     "text": [
      "methods2test_runnable pre-trained Salesforce/codegen2-1B_P\n"
     ]
    },
    {
     "data": {
      "application/vnd.jupyter.widget-view+json": {
       "model_id": "452c3bfd5390489595efb0b0c18d345c",
       "version_major": 2,
       "version_minor": 0
      },
      "text/plain": [
       "VBox(children=(HBox(children=(IntProgress(value=0, description='0.00%', max=101), Label(value='0 / 101'))), HB…"
      ]
     },
     "metadata": {},
     "output_type": "display_data"
    },
    {
     "name": "stdout",
     "output_type": "stream",
     "text": [
      "Error: Error: Error:   tuple index out of range \n",
      "tuple index out of rangetuple index out of range\n",
      "\n",
      "Error: Error:   tuple index out of rangetuple index out of range\n",
      "\n",
      "Error:  tuple index out of range\n",
      "Error: Error:  Error: Error: Error: Error:   tuple index out of rangetuple index out of range\n",
      "\n",
      " tuple index out of range\n",
      " Error: tuple index out of range tuple index out of range\n",
      "Error:  tuple index out of range\n",
      "tuple index out of range\n",
      "\n",
      " tuple index out of range\n",
      "Error:  tuple index out of range\n",
      "Error:  tuple index out of range\n",
      "Error:  tuple index out of range\n",
      "Error:  tuple index out of range\n",
      "Error: Error:   Error: tuple index out of rangetuple index out of range\n",
      "\n",
      " tuple index out of range\n",
      "Error: Error: \n",
      " tuple index out of range Error:  tuple index out of range\n",
      "tuple index out of range\n",
      "Error:  tuple index out of range\n",
      "Error:  tuple index out of range\n",
      "Error:  tuple index out of range\n",
      "Error:  tuple index out of range\n",
      "Error:  Error: tuple index out of range tuple index out of range\n",
      "\n",
      "Error:  tuple index out of range\n",
      "Error:  tuple index out of range\n",
      "Error:  tuple index out of range\n",
      "Error:  tuple index out of range\n",
      "Error:  tuple index out of range\n",
      "Error:  tuple index out of range\n",
      "Error:  tuple index out of range\n",
      "Error:  Error: tuple index out of range \n",
      "tuple index out of range\n",
      "Error:  tuple index out of range\n",
      "Error:  Error:  tuple index out of rangetuple index out of range\n",
      "\n",
      "Error:  tuple index out of range\n",
      "Error: Error:  tuple index out of range\n",
      " tuple index out of range\n",
      "Error:  tuple index out of range\n",
      "Error:  tuple index out of range\n",
      "Error: Error:  tuple index out of range \n",
      "tuple index out of range\n",
      "Error:  tuple index out of rangeError:  \n",
      "tuple index out of range\n",
      "Error:  tuple index out of range\n",
      "Error:  Error:  Error:  tuple index out of range\n",
      "tuple index out of range\n",
      "tuple index out of range\n",
      "Error:  tuple index out of range\n",
      "Error:  tuple index out of range\n",
      "Error:  tuple index out of range\n",
      "Error:  tuple index out of range\n",
      "Error:  tuple index out of range\n",
      "Error:  tuple index out of range\n",
      "Error: Error:   tuple index out of range\n",
      "tuple index out of range\n",
      "Error:  tuple index out of range\n",
      "Error:  Error: tuple index out of range\n",
      " tuple index out of range\n",
      "Error: tuple index out of range \n",
      "Error: Error:   tuple index out of rangetuple index out of range\n",
      "\n",
      "Error:  tuple index out of range\n",
      "Error:  tuple index out of range\n",
      "Error:  tuple index out of range\n",
      "Error:  tuple index out of range\n",
      "Error:  tuple index out of range\n",
      "Error:  tuple index out of range\n",
      "Error:  tuple index out of range\n",
      "Error:  tuple index out of range\n",
      "Error:  tuple index out of range\n",
      "Error: Error:  tuple index out of range\n",
      " tuple index out of range\n",
      "Error:  tuple index out of range\n",
      "Error:  tuple index out of range\n",
      "Error:  tuple index out of range\n",
      "Error:  tuple index out of range\n",
      "Error:  tuple index out of range\n",
      "Error:  tuple index out of rangeError: \n",
      "Error:  tuple index out of range\n",
      "Error:  Error:   Error: tuple index out of rangetuple index out of range \n",
      "\n",
      "tuple index out of range\n",
      "Error:  tuple index out of range\n",
      "tuple index out of range\n",
      "Error:  tuple index out of range\n",
      "Error:  tuple index out of range\n",
      "Error:  Error: tuple index out of range Error: tuple index out of range tuple index out of range\n",
      "\n",
      "\n",
      "Error:  tuple index out of range\n",
      "Error:  tuple index out of range\n",
      "Error:  tuple index out of range\n",
      "Error:  tuple index out of range\n",
      "Error:  tuple index out of range\n",
      "Error: Error:   tuple index out of rangetuple index out of range\n",
      "Error: \n",
      " Error: tuple index out of rangeError:  \n",
      "tuple index out of range\n",
      "Error:  tuple index out of range\n",
      "Error:  tuple index out of range\n",
      "Error: tuple index out of range Error:  \n",
      "Error: \n",
      "tuple index out of range  tuple index out of rangetuple index out of range\n",
      "Error: Error:  tuple index out of range\n",
      " tuple index out of range\n",
      "\n",
      "Error:  tuple index out of range\n",
      "Error:  tuple index out of range\n",
      "Error:  tuple index out of range\n",
      "Error:  tuple index out of range\n",
      "Error:  tuple index out of range\n",
      "Error:  Error:  tuple index out of range\n",
      "Error:  tuple index out of range\n",
      "Error: Error:  tuple index out of range\n",
      " tuple index out of range\n",
      "Error:  tuple index out of range\n",
      "Error:  tuple index out of range\n",
      "Error:  Error: tuple index out of range\n",
      " tuple index out of range\n",
      "Error:  tuple index out of range\n",
      "tuple index out of rangeError: \n",
      "Error:  tuple index out of range\n",
      " tuple index out of range\n",
      "Error: Error:   tuple index out of rangetuple index out of range\n",
      "Error: \n",
      " Error: Error:  tuple index out of range\n",
      " tuple index out of range\n",
      "Error:  tuple index out of range\n",
      "tuple index out of range\n",
      "Error:  tuple index out of range\n",
      "Error:  tuple index out of range\n",
      "Error:  tuple index out of range\n",
      "Error:  tuple index out of range\n",
      "Error:  tuple index out of range\n",
      "Error:  tuple index out of range\n",
      "Error:  tuple index out of range\n",
      "Error: Error:   tuple index out of range\n",
      "tuple index out of range\n",
      "Error:  tuple index out of range\n",
      "Error:  tuple index out of range\n",
      "Error: Error:  tuple index out of range\n",
      "Error:  tuple index out of range\n",
      " tuple index out of range\n",
      "Error:  tuple index out of range\n",
      "Error:  Error: tuple index out of range\n",
      " Error: tuple index out of range tuple index out of range\n",
      "\n",
      "Error: \n",
      " tuple index out of rangeError: \n",
      " tuple index out of rangeError: tuple index out of range \n",
      "Error: Error: Error: Error:  tuple index out of range\n",
      "Error:    tuple index out of range \n",
      "tuple index out of range\n",
      "tuple index out of range\n",
      "tuple index out of range\n",
      "Error: Error:   tuple index out of rangetuple index out of range\n",
      "Error:  tuple index out of range\n",
      "\n",
      "Error:  tuple index out of range\n",
      "Error:  tuple index out of range\n",
      "Error:  tuple index out of rangeError: \n",
      " tuple index out of range\n",
      "Error:  tuple index out of range\n",
      "Error: Error:  tuple index out of range tuple index out of range\n",
      "\n",
      "Error:  tuple index out of range\n",
      "Error: Error: Error: Error:   tuple index out of rangetuple index out of range\n",
      "\n",
      "Error:  tuple index out of range\n",
      " tuple index out of range\n",
      " tuple index out of range\n",
      "Error:  tuple index out of range\n",
      "Error:  tuple index out of range\n",
      "Error:  tuple index out of range\n",
      "Error: Error:   tuple index out of rangetuple index out of range\n",
      "\n",
      "Error:  tuple index out of range\n",
      "Error: Error: Error:  tuple index out of range\n",
      " tuple index out of range\n",
      "Error:  tuple index out of range\n",
      " Error:  tuple index out of range\n",
      "Error:  tuple index out of range\n",
      "tuple index out of range\n",
      "Error:  tuple index out of range\n",
      "Error:  Error: tuple index out of range\n",
      " tuple index out of range\n",
      "Error:  tuple index out of range\n",
      "Error:  tuple index out of range\n",
      "Error:  Error: tuple index out of range \n",
      "tuple index out of range\n",
      "Error:  tuple index out of range\n",
      "Error:  tuple index out of range\n",
      "Error:  tuple index out of range\n",
      "Error:  tuple index out of range\n",
      "Error:  tuple index out of range\n",
      "Error: Error: Error:  tuple index out of range\n",
      "Error:  Error:  tuple index out of range\n",
      "Error: tuple index out of range \n",
      "\n",
      "tuple index out of rangeError:  tuple index out of range\n",
      " tuple index out of range\n",
      " tuple index out of rangeError:  tuple index out of range\n",
      "\n",
      "Error:  tuple index out of range\n",
      "Error:  tuple index out of range\n",
      "Error:  tuple index out of range\n",
      "Error:  tuple index out of range\n",
      "Error: Error:  tuple index out of range\n",
      "Error: Error:  tuple index out of range \n",
      " tuple index out of rangetuple index out of range\n",
      "\n",
      "Error: Error:  tuple index out of range\n",
      "Error:  tuple index out of range\n",
      " Error: tuple index out of range\n",
      "Error:  tuple index out of range\n",
      " tuple index out of range\n",
      "Error:  Error: tuple index out of range \n",
      "tuple index out of range\n",
      "Error:  tuple index out of range\n",
      "Error:  tuple index out of range\n",
      "Error:  tuple index out of range\n",
      "Error:  tuple index out of range\n",
      "Error:  tuple index out of range\n",
      "Error:  tuple index out of range\n",
      "Error: Error:  Error:  tuple index out of rangetuple index out of range\n",
      "\n",
      "Error:  tuple index out of range\n",
      "Error:  tuple index out of range\n",
      " tuple index out of range\n",
      "Error:  tuple index out of range\n",
      "Error:  Error: tuple index out of range\n",
      " tuple index out of range\n",
      "Error:  tuple index out of range\n",
      "Error:  \n",
      "tuple index out of rangeError:  Error:  tuple index out of range\n",
      "tuple index out of range\n",
      "Error:  tuple index out of range\n",
      "Error:  tuple index out of range\n",
      "Error:  tuple index out of range\n",
      "Error:  tuple index out of range\n",
      "Error:  tuple index out of range\n",
      "Error:  tuple index out of range\n",
      "Error:  tuple index out of rangeError:  tuple index out of range\n",
      "\n",
      "Error:  tuple index out of range\n",
      "Error:  tuple index out of range\n",
      "Error:  tuple index out of range\n",
      "Error:  tuple index out of range\n",
      "Error:  tuple index out of range\n",
      "Error:  tuple index out of range\n",
      "Error:  tuple index out of range\n",
      "Error:  tuple index out of range\n",
      "Error:  tuple index out of rangeError: \n",
      " tuple index out of range\n",
      "Error:  tuple index out of range\n",
      "Error:  tuple index out of range\n",
      "Error:  tuple index out of range\n",
      "Error:  tuple index out of range\n",
      "Error:  tuple index out of range\n",
      "Error:  tuple index out of range\n",
      "Error:  Error: tuple index out of range \n",
      "tuple index out of range\n",
      "Error:  tuple index out of range\n",
      "Error:  tuple index out of range\n",
      "Error:  tuple index out of rangeError:  \n",
      "tuple index out of range\n",
      "Error:  tuple index out of range\n",
      "Error:  tuple index out of range\n",
      "Error:  tuple index out of range\n",
      "Error:  tuple index out of range\n",
      "Error:  tuple index out of range\n",
      "Error:  Error: Error:  tuple index out of range tuple index out of range\n",
      "tuple index out of range\n",
      "\n",
      "Error:  tuple index out of rangeError: \n",
      " tuple index out of range\n",
      "Error:  tuple index out of range\n",
      "Error:  tuple index out of range\n",
      "Error:  tuple index out of range\n",
      "Error:  tuple index out of rangeError:  tuple index out of range\n",
      "\n",
      "Error:  tuple index out of range\n",
      "Error:  tuple index out of range\n",
      "Error:  tuple index out of range\n",
      "Error:  tuple index out of range\n",
      "Error:  tuple index out of range\n",
      "Error:  tuple index out of range\n",
      "Error:  tuple index out of range\n",
      "Error:  tuple index out of range\n",
      "Error:  tuple index out of range\n",
      "Error:  tuple index out of range\n",
      "methods2test_runnable ia3 Salesforce/codegen2-1B_P\n"
     ]
    },
    {
     "data": {
      "application/vnd.jupyter.widget-view+json": {
       "model_id": "77d1d10d375c466681ff91f245ce7069",
       "version_major": 2,
       "version_minor": 0
      },
      "text/plain": [
       "VBox(children=(HBox(children=(IntProgress(value=0, description='0.00%', max=101), Label(value='0 / 101'))), HB…"
      ]
     },
     "metadata": {},
     "output_type": "display_data"
    },
    {
     "name": "stdout",
     "output_type": "stream",
     "text": [
      "methods2test_runnable ia3 Salesforce/codegen-350M-multi\n"
     ]
    },
    {
     "data": {
      "application/vnd.jupyter.widget-view+json": {
       "model_id": "f9cfb3084c144c07bf686789a4573702",
       "version_major": 2,
       "version_minor": 0
      },
      "text/plain": [
       "VBox(children=(HBox(children=(IntProgress(value=0, description='0.00%', max=101), Label(value='0 / 101'))), HB…"
      ]
     },
     "metadata": {},
     "output_type": "display_data"
    },
    {
     "name": "stdout",
     "output_type": "stream",
     "text": [
      "methods2test_runnable pre-trained bigcode/starcoder2-15b\n"
     ]
    },
    {
     "data": {
      "application/vnd.jupyter.widget-view+json": {
       "model_id": "2de8db7569d648aaacc0e1fe3e15eb8e",
       "version_major": 2,
       "version_minor": 0
      },
      "text/plain": [
       "VBox(children=(HBox(children=(IntProgress(value=0, description='0.00%', max=102), Label(value='0 / 102'))), HB…"
      ]
     },
     "metadata": {},
     "output_type": "display_data"
    },
    {
     "name": "stdout",
     "output_type": "stream",
     "text": [
      "methods2test_runnable pre-trained Qwen/Qwen2.5-Coder-14B\n"
     ]
    },
    {
     "data": {
      "application/vnd.jupyter.widget-view+json": {
       "model_id": "e5062c07df6843f7b7d65d3a6bc29dbc",
       "version_major": 2,
       "version_minor": 0
      },
      "text/plain": [
       "VBox(children=(HBox(children=(IntProgress(value=0, description='0.00%', max=102), Label(value='0 / 102'))), HB…"
      ]
     },
     "metadata": {},
     "output_type": "display_data"
    },
    {
     "name": "stdout",
     "output_type": "stream",
     "text": [
      "methods2test_runnable prompt-tuning Salesforce/codegen2-7B_P\n"
     ]
    },
    {
     "data": {
      "application/vnd.jupyter.widget-view+json": {
       "model_id": "367cc67263b249d38dd726f481902277",
       "version_major": 2,
       "version_minor": 0
      },
      "text/plain": [
       "VBox(children=(HBox(children=(IntProgress(value=0, description='0.00%', max=101), Label(value='0 / 101'))), HB…"
      ]
     },
     "metadata": {},
     "output_type": "display_data"
    },
    {
     "name": "stdout",
     "output_type": "stream",
     "text": [
      "methods2test_runnable lora Salesforce/codegen2-16B_P\n"
     ]
    },
    {
     "data": {
      "application/vnd.jupyter.widget-view+json": {
       "model_id": "d0f4434778eb4a7b9b0905ebf151be73",
       "version_major": 2,
       "version_minor": 0
      },
      "text/plain": [
       "VBox(children=(HBox(children=(IntProgress(value=0, description='0.00%', max=101), Label(value='0 / 101'))), HB…"
      ]
     },
     "metadata": {},
     "output_type": "display_data"
    },
    {
     "name": "stdout",
     "output_type": "stream",
     "text": [
      "methods2test_runnable fine-tuning bigcode/starcoderbase\n"
     ]
    },
    {
     "data": {
      "application/vnd.jupyter.widget-view+json": {
       "model_id": "230ace97577d4991a61c60387017c63c",
       "version_major": 2,
       "version_minor": 0
      },
      "text/plain": [
       "VBox(children=(HBox(children=(IntProgress(value=0, description='0.00%', max=102), Label(value='0 / 102'))), HB…"
      ]
     },
     "metadata": {},
     "output_type": "display_data"
    },
    {
     "name": "stdout",
     "output_type": "stream",
     "text": [
      "methods2test_runnable pre-trained bigcode/starcoderbase\n"
     ]
    },
    {
     "data": {
      "application/vnd.jupyter.widget-view+json": {
       "model_id": "4e238edb8b7b439d81c030b4767a1435",
       "version_major": 2,
       "version_minor": 0
      },
      "text/plain": [
       "VBox(children=(HBox(children=(IntProgress(value=0, description='0.00%', max=102), Label(value='0 / 102'))), HB…"
      ]
     },
     "metadata": {},
     "output_type": "display_data"
    },
    {
     "name": "stdout",
     "output_type": "stream",
     "text": [
      "methods2test_runnable fine-tuning bigcode/starcoder2-15b\n"
     ]
    },
    {
     "data": {
      "application/vnd.jupyter.widget-view+json": {
       "model_id": "ca43dfc6cad941d19fbd0107cec91de5",
       "version_major": 2,
       "version_minor": 0
      },
      "text/plain": [
       "VBox(children=(HBox(children=(IntProgress(value=0, description='0.00%', max=102), Label(value='0 / 102'))), HB…"
      ]
     },
     "metadata": {},
     "output_type": "display_data"
    },
    {
     "name": "stdout",
     "output_type": "stream",
     "text": [
      "methods2test_runnable ia3 bigcode/starcoderbase\n"
     ]
    },
    {
     "data": {
      "application/vnd.jupyter.widget-view+json": {
       "model_id": "bcf6f8bf8b004aa09b917df4b1533dde",
       "version_major": 2,
       "version_minor": 0
      },
      "text/plain": [
       "VBox(children=(HBox(children=(IntProgress(value=0, description='0.00%', max=102), Label(value='0 / 102'))), HB…"
      ]
     },
     "metadata": {},
     "output_type": "display_data"
    }
   ],
   "source": [
    "import os\n",
    "from pathlib import Path\n",
    "from tqdm.auto import tqdm\n",
    "import os\n",
    "\n",
    "root, dirs, files = next(os.walk(\"../data\"))\n",
    "datasets = dirs\n",
    "\n",
    "for dataset in datasets:\n",
    "    dataset_path = Path(root, dataset, \"generated\")\n",
    "    \n",
    "    paths = []\n",
    "    for d_root, dirnames, filenames in os.walk(dataset_path):\n",
    "        # only keep \"output\" directories\n",
    "        path = Path(d_root)\n",
    "        #print(path.parts)\n",
    "        if len(path.parts) == 7:\n",
    "            paths.append(path)\n",
    "\n",
    "    paths = list(set(paths))\n",
    "\n",
    "    valid_syntax_data = {}\n",
    "    for path in tqdm(paths):\n",
    "        path = path.parts\n",
    "        method = path[4]\n",
    "        model = path[5] + \"/\" + path[6]\n",
    "        print(dataset, method, model)\n",
    "        fixed, total = fix_data(dataset, method, model)\n",
    "\n",
    "        valid_syntax_data.setdefault(model, {})\n",
    "        percentage = fixed / total if total > 0 else 0\n",
    "        valid_syntax_data[model][method] = percentage\n",
    "\n",
    "    valid_df = pd.DataFrame(valid_syntax_data)\n",
    "    valid_df.T.to_csv(Path(root, dataset, \"valid_syntax.csv\"), index_label = 'model')"
   ]
  },
  {
   "cell_type": "code",
   "execution_count": null,
   "metadata": {},
   "outputs": [],
   "source": []
  }
 ],
 "metadata": {
  "kernelspec": {
   "display_name": ".venv",
   "language": "python",
   "name": "python3"
  },
  "language_info": {
   "codemirror_mode": {
    "name": "ipython",
    "version": 3
   },
   "file_extension": ".py",
   "mimetype": "text/x-python",
   "name": "python",
   "nbconvert_exporter": "python",
   "pygments_lexer": "ipython3",
   "version": "3.12.2"
  }
 },
 "nbformat": 4,
 "nbformat_minor": 2
}
