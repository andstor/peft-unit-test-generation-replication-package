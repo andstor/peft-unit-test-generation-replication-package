{
 "cells": [
  {
   "cell_type": "code",
   "execution_count": 1,
   "metadata": {},
   "outputs": [],
   "source": [
    "import pathlib\n",
    "import sys\n",
    "import os\n",
    "parser_dir = pathlib.Path(os.path.dirname(os.path.abspath(\"__file__\"))).parent / 'utilities' / 'java-universal-parser' / 'parser'\n",
    "sys.path.append(str(parser_dir))"
   ]
  },
  {
   "cell_type": "code",
   "execution_count": 2,
   "metadata": {},
   "outputs": [],
   "source": [
    "from python3.JavaLexer import JavaLexer\n",
    "from python3.JavaParser import JavaParser\n",
    "\n",
    "from antlr4 import InputStream, CommonTokenStream"
   ]
  },
  {
   "cell_type": "code",
   "execution_count": 3,
   "metadata": {},
   "outputs": [],
   "source": [
    "from antlr4.error.ErrorListener import ErrorListener\n",
    "\n",
    "class MyErrorListener( ErrorListener ):\n",
    "\n",
    "    def __init__(self):\n",
    "        super(MyErrorListener, self).__init__()\n",
    "\n",
    "    def syntaxError(self, recognizer, offendingSymbol, line, column, msg, e):\n",
    "        #print(\"line \" + str(line) + \":\" + str(column) + \" \" + msg, file=sys.stderr)\n",
    "        raise Exception(\"Oh no!!\", line, column)\n"
   ]
  },
  {
   "cell_type": "code",
   "execution_count": 4,
   "metadata": {},
   "outputs": [],
   "source": [
    "def check_syntax(code):\n",
    "    try:\n",
    "        input_stream = InputStream(code)\n",
    "        lexer = JavaLexer(input_stream)\n",
    "        lexer.removeErrorListeners() # remove default error listener\n",
    "        lexer.addErrorListener( MyErrorListener() )\n",
    "        stream = CommonTokenStream(lexer)\n",
    "        parser = JavaParser(stream)\n",
    "        parser.removeErrorListeners()\n",
    "        parser.addErrorListener( MyErrorListener() )\n",
    "        parser.compilationUnit()\n",
    "    except Exception as e:\n",
    "        line = e.args[1]\n",
    "        return False, line\n",
    "    return True, None"
   ]
  },
  {
   "cell_type": "code",
   "execution_count": 5,
   "metadata": {},
   "outputs": [],
   "source": [
    "inner_brace = \"\\n    }\"\n",
    "outer_brace = \"\\n\\n}\"\n",
    "\n",
    "\n",
    "def get_brace_count(code, start_level=0):\n",
    "    count = start_level\n",
    "    for char in code:\n",
    "        if char == \"{\":\n",
    "            count += 1\n",
    "        if char == \"}\":\n",
    "            count -= 1\n",
    "    return count\n",
    "\n",
    "def balance_braces(code, start_level=0):\n",
    "    count = get_brace_count(code, start_level)\n",
    "    if count == 0:\n",
    "        #print(\"Well formed code\",)\n",
    "        return code\n",
    "    \n",
    "    lines = code.splitlines(keepends=True)\n",
    "    #print(\"Lines: \", len(lines))\n",
    "    for line in reversed(range(len(lines))):\n",
    "        candidate = \"\".join(lines)\n",
    "        count = get_brace_count(candidate, start_level)\n",
    "        #print(\"Count: \", count)\n",
    "        #print(\"Line idx: \", line)\n",
    "        if count == 0:\n",
    "            #print(\"0\")\n",
    "            return candidate\n",
    "        elif count == 1:\n",
    "            #print(\"1\")\n",
    "            candidate += outer_brace\n",
    "            return candidate\n",
    "        elif count == 2:\n",
    "            #print(\"2\")\n",
    "            candidate += inner_brace\n",
    "            candidate += outer_brace\n",
    "            return candidate\n",
    "        lines.pop()\n",
    "\n",
    "    return False\n"
   ]
  },
  {
   "cell_type": "code",
   "execution_count": 6,
   "metadata": {},
   "outputs": [],
   "source": [
    "def well_formed_code(code):\n",
    "    success, bad_line = check_syntax(code)\n",
    "    lines = code.splitlines(keepends=False) \n",
    "    if not success:\n",
    "        # Trim the code to the bad line\n",
    "        lines = lines[:bad_line-1]\n",
    "\n",
    "        if len(lines) <= 1:\n",
    "            return False, None\n",
    "\n",
    "        else:\n",
    "            balanced_code = balance_braces(\"\\n\".join(lines))\n",
    "            success, bad_line = check_syntax(balanced_code)\n",
    "\n",
    "            if not success:\n",
    "                return well_formed_code(\"\\n\".join(lines))\n",
    "            else:\n",
    "                return True, balanced_code\n",
    "\n",
    "    else:\n",
    "        return True, code"
   ]
  },
  {
   "cell_type": "markdown",
   "metadata": {},
   "source": [
    "# fixed"
   ]
  },
  {
   "cell_type": "code",
   "execution_count": 7,
   "metadata": {},
   "outputs": [
    {
     "name": "stdout",
     "output_type": "stream",
     "text": [
      "INFO: Pandarallel will run on 10 workers.\n",
      "INFO: Pandarallel will use standard multiprocessing data transfer (pipe) to transfer data between the main process and workers.\n"
     ]
    }
   ],
   "source": [
    "from tqdm.auto import tqdm\n",
    "tqdm.pandas()\n",
    "\n",
    "from pandarallel import pandarallel\n",
    "pandarallel.initialize(progress_bar=True)\n",
    "\n",
    "def well_formed_fix(code):\n",
    "    prefix = \"\"\"class dummyTest {\n",
    "        @Test\n",
    "        public void dummy() {\n",
    "    \"\"\"\n",
    "    code = prefix + code\n",
    "    try:\n",
    "        status, res = well_formed_code(code)\n",
    "    \n",
    "        if status:\n",
    "            res_trimmed = res.removeprefix(prefix)\n",
    "            return res_trimmed\n",
    "        else:\n",
    "            return None\n",
    "    except Exception as e:\n",
    "            print(\"Error: \", e)\n",
    "            return None\n"
   ]
  },
  {
   "cell_type": "code",
   "execution_count": 8,
   "metadata": {},
   "outputs": [],
   "source": [
    "import os\n",
    "import pandas as pd\n",
    "from pathlib import Path\n",
    "import re\n",
    "\n",
    "\n",
    "def fix_data(dataset, method, model):\n",
    "    regex = r\"^(\\d+)-of-(\\d+).test.jsonl$\"\n",
    "    path= Path(\"../data/\" + str(dataset) +  \"/generated/\" + str(method) +  \"/\" + str(model))\n",
    "    print(path)\n",
    "    files = os.listdir(path)\n",
    "    print(files)\n",
    "    \n",
    "\n",
    "    dfs = []\n",
    "    for file in files:\n",
    "        matches = re.search(regex, file)\n",
    "        if matches:\n",
    "            print(\"Loading file: \", file)\n",
    "            df = pd.read_json(path / file, orient='records', lines=True, dtype=False)\n",
    "            dfs.append(df)\n",
    "\n",
    "\n",
    "    df = pd.concat(dfs, axis=0).set_index('id')\n",
    "    df.sort_index(inplace=True)\n",
    "    df = df[~df.index.duplicated(keep='first')]\n",
    "    total = df.shape[0]\n",
    "    df[\"fixed_prediction\"] = df[\"prediction\"].parallel_apply(well_formed_fix)\n",
    "    \n",
    "    # remove \"}\\n\\n}\" and none values\n",
    "    fixed_df = df[df[\"fixed_prediction\"]!=\"}\\n\\n}\"]\n",
    "    fixed_df = fixed_df[fixed_df[\"fixed_prediction\"].notnull()]\n",
    "\n",
    "    num_fixed = fixed_df.shape[0]\n",
    "\n",
    "    # save fixed predictions as jsonl\n",
    "    save_path= Path(\"../data/\" + str(dataset) +  \"/fixed/\" + str(method) +  \"/\" + str(model))\n",
    "    save_path.mkdir(parents=True, exist_ok=True)\n",
    "    fixed_df.reset_index().to_json(save_path / \"00001-of-00001.jsonl\", orient='records', lines=True)\n",
    "    return (num_fixed, total)\n"
   ]
  },
  {
   "cell_type": "code",
   "execution_count": 11,
   "metadata": {},
   "outputs": [
    {
     "data": {
      "application/vnd.jupyter.widget-view+json": {
       "model_id": "a7f48f9b2d9b4962b67ee8f8d3c59660",
       "version_major": 2,
       "version_minor": 0
      },
      "text/plain": [
       "0it [00:00, ?it/s]"
      ]
     },
     "metadata": {},
     "output_type": "display_data"
    },
    {
     "data": {
      "application/vnd.jupyter.widget-view+json": {
       "model_id": "caa5ef9a3bea41abab0d711b1d713d46",
       "version_major": 2,
       "version_minor": 0
      },
      "text/plain": [
       "0it [00:00, ?it/s]"
      ]
     },
     "metadata": {},
     "output_type": "display_data"
    },
    {
     "data": {
      "application/vnd.jupyter.widget-view+json": {
       "model_id": "4c3c10a252b242f8b774755568622b87",
       "version_major": 2,
       "version_minor": 0
      },
      "text/plain": [
       "  0%|          | 0/50 [00:00<?, ?it/s]"
      ]
     },
     "metadata": {},
     "output_type": "display_data"
    },
    {
     "name": "stdout",
     "output_type": "stream",
     "text": [
      "methods2test_runnable fine-tuning Salesforce/codegen2-1B_P\n",
      "../data/methods2test_runnable/generated/fine-tuning/Salesforce/codegen2-1B_P\n",
      "['.DS_Store', '00001-of-00002.test.jsonl', '00002-of-00002.test.jsonl', 'generation_config_diff.json', 'generation_config.json', 'model_config_diff.json', 'model_config.json']\n",
      "Loading file:  00001-of-00002.test.jsonl\n",
      "Loading file:  00002-of-00002.test.jsonl\n"
     ]
    },
    {
     "data": {
      "application/vnd.jupyter.widget-view+json": {
       "model_id": "589364a145d9405cbb70432267d1ce29",
       "version_major": 2,
       "version_minor": 0
      },
      "text/plain": [
       "VBox(children=(HBox(children=(IntProgress(value=0, description='0.00%', max=680), Label(value='0 / 680'))), HB…"
      ]
     },
     "metadata": {},
     "output_type": "display_data"
    },
    {
     "name": "stdout",
     "output_type": "stream",
     "text": [
      "methods2test_runnable ia3 meta-llama/CodeLLama-7b-hf\n",
      "../data/methods2test_runnable/generated/ia3/meta-llama/CodeLLama-7b-hf\n",
      "['.DS_Store', '00001-of-00002.test.jsonl', '00002-of-00002.test.jsonl', 'generation_config_diff.json', 'generation_config.json', 'adapter_config.json', 'model_config_diff.json', 'model_config.json']\n",
      "Loading file:  00001-of-00002.test.jsonl\n",
      "Loading file:  00002-of-00002.test.jsonl\n"
     ]
    },
    {
     "data": {
      "application/vnd.jupyter.widget-view+json": {
       "model_id": "ad5b38a692594cffa240d1cdd4202989",
       "version_major": 2,
       "version_minor": 0
      },
      "text/plain": [
       "VBox(children=(HBox(children=(IntProgress(value=0, description='0.00%', max=677), Label(value='0 / 677'))), HB…"
      ]
     },
     "metadata": {},
     "output_type": "display_data"
    },
    {
     "name": "stdout",
     "output_type": "stream",
     "text": [
      "methods2test_runnable ia3 Salesforce/codegen2-16B_P\n",
      "../data/methods2test_runnable/generated/ia3/Salesforce/codegen2-16B_P\n",
      "['.DS_Store', 'generation_config_diff.json', 'generation_config.json', 'adapter_config.json', '00001-of-00001.test.jsonl', 'model_config_diff.json', 'model_config.json']\n",
      "Loading file:  00001-of-00001.test.jsonl\n"
     ]
    },
    {
     "data": {
      "application/vnd.jupyter.widget-view+json": {
       "model_id": "d25930dad49140e9ac53786ef9a5e43a",
       "version_major": 2,
       "version_minor": 0
      },
      "text/plain": [
       "VBox(children=(HBox(children=(IntProgress(value=0, description='0.00%', max=680), Label(value='0 / 680'))), HB…"
      ]
     },
     "metadata": {},
     "output_type": "display_data"
    },
    {
     "name": "stdout",
     "output_type": "stream",
     "text": [
      "methods2test_runnable prompt-tuning bigcode/starcoder2-15b\n",
      "../data/methods2test_runnable/generated/prompt-tuning/bigcode/starcoder2-15b\n",
      "['.DS_Store', 'generation_config_diff.json', 'generation_config.json', 'adapter_config.json', '00001-of-00001.test.jsonl', 'model_config_diff.json', 'model_config.json']\n",
      "Loading file:  00001-of-00001.test.jsonl\n"
     ]
    },
    {
     "data": {
      "application/vnd.jupyter.widget-view+json": {
       "model_id": "4fd4ed66411f46bd9f68122796cf821f",
       "version_major": 2,
       "version_minor": 0
      },
      "text/plain": [
       "VBox(children=(HBox(children=(IntProgress(value=0, description='0.00%', max=684), Label(value='0 / 684'))), HB…"
      ]
     },
     "metadata": {},
     "output_type": "display_data"
    },
    {
     "name": "stdout",
     "output_type": "stream",
     "text": [
      "methods2test_runnable pre-trained Salesforce/codegen-350M-multi\n",
      "../data/methods2test_runnable/generated/pre-trained/Salesforce/codegen-350M-multi\n",
      "['.DS_Store', '00001-of-00002.test.jsonl', '00002-of-00002.test.jsonl', 'generation_config_diff.json', 'generation_config.json', 'model_config_diff.json', 'model_config.json']\n",
      "Loading file:  00001-of-00002.test.jsonl\n",
      "Loading file:  00002-of-00002.test.jsonl\n"
     ]
    },
    {
     "data": {
      "application/vnd.jupyter.widget-view+json": {
       "model_id": "b2edc0d2a55141f889b864ebb1a0e19d",
       "version_major": 2,
       "version_minor": 0
      },
      "text/plain": [
       "VBox(children=(HBox(children=(IntProgress(value=0, description='0.00%', max=680), Label(value='0 / 680'))), HB…"
      ]
     },
     "metadata": {},
     "output_type": "display_data"
    },
    {
     "name": "stdout",
     "output_type": "stream",
     "text": [
      "methods2test_runnable prompt-tuning bigcode/starcoderbase\n",
      "../data/methods2test_runnable/generated/prompt-tuning/bigcode/starcoderbase\n",
      "['.DS_Store', 'generation_config_diff.json', 'generation_config.json', 'adapter_config.json', '00001-of-00001.test.jsonl', 'model_config_diff.json', 'model_config.json']\n",
      "Loading file:  00001-of-00001.test.jsonl\n"
     ]
    },
    {
     "data": {
      "application/vnd.jupyter.widget-view+json": {
       "model_id": "442228242a3e4837b86f50cbc4525b62",
       "version_major": 2,
       "version_minor": 0
      },
      "text/plain": [
       "VBox(children=(HBox(children=(IntProgress(value=0, description='0.00%', max=684), Label(value='0 / 684'))), HB…"
      ]
     },
     "metadata": {},
     "output_type": "display_data"
    },
    {
     "name": "stdout",
     "output_type": "stream",
     "text": [
      "methods2test_runnable prompt-tuning Salesforce/codegen2-3_7B_P\n",
      "../data/methods2test_runnable/generated/prompt-tuning/Salesforce/codegen2-3_7B_P\n",
      "['.DS_Store', '00001-of-00002.test.jsonl', '00002-of-00002.test.jsonl', 'generation_config_diff.json', 'generation_config.json', 'adapter_config.json', 'model_config_diff.json', 'model_config.json']\n",
      "Loading file:  00001-of-00002.test.jsonl\n",
      "Loading file:  00002-of-00002.test.jsonl\n"
     ]
    },
    {
     "data": {
      "application/vnd.jupyter.widget-view+json": {
       "model_id": "a202fa54b126401aa60ffc13be58a6c8",
       "version_major": 2,
       "version_minor": 0
      },
      "text/plain": [
       "VBox(children=(HBox(children=(IntProgress(value=0, description='0.00%', max=680), Label(value='0 / 680'))), HB…"
      ]
     },
     "metadata": {},
     "output_type": "display_data"
    },
    {
     "name": "stdout",
     "output_type": "stream",
     "text": [
      "methods2test_runnable fine-tuning meta-llama/CodeLLama-7b-hf\n",
      "../data/methods2test_runnable/generated/fine-tuning/meta-llama/CodeLLama-7b-hf\n",
      "['.DS_Store', '00001-of-00002.test.jsonl', '00002-of-00002.test.jsonl', 'generation_config_diff.json', 'generation_config.json', 'model_config_diff.json', 'model_config.json']\n",
      "Loading file:  00001-of-00002.test.jsonl\n",
      "Loading file:  00002-of-00002.test.jsonl\n"
     ]
    },
    {
     "data": {
      "application/vnd.jupyter.widget-view+json": {
       "model_id": "23b79efc34b24630a58d2ec4a66dcc74",
       "version_major": 2,
       "version_minor": 0
      },
      "text/plain": [
       "VBox(children=(HBox(children=(IntProgress(value=0, description='0.00%', max=677), Label(value='0 / 677'))), HB…"
      ]
     },
     "metadata": {},
     "output_type": "display_data"
    },
    {
     "name": "stdout",
     "output_type": "stream",
     "text": [
      "methods2test_runnable pre-trained Salesforce/codegen2-16B_P\n",
      "../data/methods2test_runnable/generated/pre-trained/Salesforce/codegen2-16B_P\n",
      "['.DS_Store', 'generation_config_diff.json', 'generation_config.json', '00001-of-00001.test.jsonl', 'model_config_diff.json', 'model_config.json']\n",
      "Loading file:  00001-of-00001.test.jsonl\n"
     ]
    },
    {
     "data": {
      "application/vnd.jupyter.widget-view+json": {
       "model_id": "2550c8e4ea00496f8b09d47a72bc5114",
       "version_major": 2,
       "version_minor": 0
      },
      "text/plain": [
       "VBox(children=(HBox(children=(IntProgress(value=0, description='0.00%', max=680), Label(value='0 / 680'))), HB…"
      ]
     },
     "metadata": {},
     "output_type": "display_data"
    },
    {
     "name": "stdout",
     "output_type": "stream",
     "text": [
      "methods2test_runnable fine-tuning bigcode/starcoder2-7b\n",
      "../data/methods2test_runnable/generated/fine-tuning/bigcode/starcoder2-7b\n",
      "['.DS_Store', '00001-of-00002.test.jsonl', '00002-of-00002.test.jsonl', 'generation_config_diff.json', 'generation_config.json', 'model_config_diff.json', 'model_config.json']\n",
      "Loading file:  00001-of-00002.test.jsonl\n",
      "Loading file:  00002-of-00002.test.jsonl\n"
     ]
    },
    {
     "data": {
      "application/vnd.jupyter.widget-view+json": {
       "model_id": "c93e17b2e3564bc3a1d216b608f8a366",
       "version_major": 2,
       "version_minor": 0
      },
      "text/plain": [
       "VBox(children=(HBox(children=(IntProgress(value=0, description='0.00%', max=684), Label(value='0 / 684'))), HB…"
      ]
     },
     "metadata": {},
     "output_type": "display_data"
    },
    {
     "name": "stdout",
     "output_type": "stream",
     "text": [
      "methods2test_runnable lora bigcode/starcoder2-7b\n",
      "../data/methods2test_runnable/generated/lora/bigcode/starcoder2-7b\n",
      "['.DS_Store', '00001-of-00002.test.jsonl', '00002-of-00002.test.jsonl', 'generation_config_diff.json', 'generation_config.json', 'adapter_config.json', 'model_config_diff.json', 'model_config.json']\n",
      "Loading file:  00001-of-00002.test.jsonl\n",
      "Loading file:  00002-of-00002.test.jsonl\n"
     ]
    },
    {
     "data": {
      "application/vnd.jupyter.widget-view+json": {
       "model_id": "520655b5cd7d47bc96e38def6954c3be",
       "version_major": 2,
       "version_minor": 0
      },
      "text/plain": [
       "VBox(children=(HBox(children=(IntProgress(value=0, description='0.00%', max=684), Label(value='0 / 684'))), HB…"
      ]
     },
     "metadata": {},
     "output_type": "display_data"
    },
    {
     "name": "stdout",
     "output_type": "stream",
     "text": [
      "methods2test_runnable lora Salesforce/codegen-350M-multi\n",
      "../data/methods2test_runnable/generated/lora/Salesforce/codegen-350M-multi\n",
      "['.DS_Store', '00001-of-00002.test.jsonl', '00002-of-00002.test.jsonl', 'generation_config_diff.json', 'generation_config.json', 'adapter_config.json', 'model_config_diff.json', 'model_config.json']\n",
      "Loading file:  00001-of-00002.test.jsonl\n",
      "Loading file:  00002-of-00002.test.jsonl\n"
     ]
    },
    {
     "data": {
      "application/vnd.jupyter.widget-view+json": {
       "model_id": "95985c2b9b5b4f8299b0bbf823889a20",
       "version_major": 2,
       "version_minor": 0
      },
      "text/plain": [
       "VBox(children=(HBox(children=(IntProgress(value=0, description='0.00%', max=680), Label(value='0 / 680'))), HB…"
      ]
     },
     "metadata": {},
     "output_type": "display_data"
    },
    {
     "name": "stdout",
     "output_type": "stream",
     "text": [
      "methods2test_runnable prompt-tuning Salesforce/codegen2-1B_P\n",
      "../data/methods2test_runnable/generated/prompt-tuning/Salesforce/codegen2-1B_P\n",
      "['.DS_Store', '00001-of-00002.test.jsonl', '00002-of-00002.test.jsonl', 'generation_config_diff.json', 'generation_config.json', 'adapter_config.json', 'model_config_diff.json', 'model_config.json']\n",
      "Loading file:  00001-of-00002.test.jsonl\n",
      "Loading file:  00002-of-00002.test.jsonl\n"
     ]
    },
    {
     "data": {
      "application/vnd.jupyter.widget-view+json": {
       "model_id": "9a29c1adb5404e46ba65e633ca4fc61e",
       "version_major": 2,
       "version_minor": 0
      },
      "text/plain": [
       "VBox(children=(HBox(children=(IntProgress(value=0, description='0.00%', max=680), Label(value='0 / 680'))), HB…"
      ]
     },
     "metadata": {},
     "output_type": "display_data"
    },
    {
     "name": "stdout",
     "output_type": "stream",
     "text": [
      "methods2test_runnable prompt-tuning bigcode/starcoder2-7b\n",
      "../data/methods2test_runnable/generated/prompt-tuning/bigcode/starcoder2-7b\n",
      "['.DS_Store', '00001-of-00002.test.jsonl', '00002-of-00002.test.jsonl', 'generation_config_diff.json', 'generation_config.json', 'adapter_config.json', 'model_config_diff.json', 'model_config.json']\n",
      "Loading file:  00001-of-00002.test.jsonl\n",
      "Loading file:  00002-of-00002.test.jsonl\n"
     ]
    },
    {
     "data": {
      "application/vnd.jupyter.widget-view+json": {
       "model_id": "b72deae4a00948438d450e3a5a6360fb",
       "version_major": 2,
       "version_minor": 0
      },
      "text/plain": [
       "VBox(children=(HBox(children=(IntProgress(value=0, description='0.00%', max=684), Label(value='0 / 684'))), HB…"
      ]
     },
     "metadata": {},
     "output_type": "display_data"
    },
    {
     "name": "stdout",
     "output_type": "stream",
     "text": [
      "methods2test_runnable lora Salesforce/codegen2-16B_P\n",
      "../data/methods2test_runnable/generated/lora/Salesforce/codegen2-16B_P\n",
      "['.DS_Store', 'generation_config_diff.json', 'generation_config.json', 'adapter_config.json', '00001-of-00001.test.jsonl', 'model_config_diff.json', 'model_config.json']\n",
      "Loading file:  00001-of-00001.test.jsonl\n"
     ]
    },
    {
     "data": {
      "application/vnd.jupyter.widget-view+json": {
       "model_id": "2a6f0b269fa84305ac262a86dee9f22f",
       "version_major": 2,
       "version_minor": 0
      },
      "text/plain": [
       "VBox(children=(HBox(children=(IntProgress(value=0, description='0.00%', max=680), Label(value='0 / 680'))), HB…"
      ]
     },
     "metadata": {},
     "output_type": "display_data"
    },
    {
     "name": "stdout",
     "output_type": "stream",
     "text": [
      "methods2test_runnable fine-tuning Salesforce/codegen-350M-multi\n",
      "../data/methods2test_runnable/generated/fine-tuning/Salesforce/codegen-350M-multi\n",
      "['.DS_Store', '00001-of-00002.test.jsonl', '00002-of-00002.test.jsonl', 'generation_config_diff.json', 'generation_config.json', 'model_config_diff.json', 'model_config.json']\n",
      "Loading file:  00001-of-00002.test.jsonl\n",
      "Loading file:  00002-of-00002.test.jsonl\n"
     ]
    },
    {
     "data": {
      "application/vnd.jupyter.widget-view+json": {
       "model_id": "6f1ccbe506004398b862eea522dee2c0",
       "version_major": 2,
       "version_minor": 0
      },
      "text/plain": [
       "VBox(children=(HBox(children=(IntProgress(value=0, description='0.00%', max=680), Label(value='0 / 680'))), HB…"
      ]
     },
     "metadata": {},
     "output_type": "display_data"
    },
    {
     "name": "stdout",
     "output_type": "stream",
     "text": [
      "methods2test_runnable ia3 Salesforce/codegen-350M-multi\n",
      "../data/methods2test_runnable/generated/ia3/Salesforce/codegen-350M-multi\n",
      "['.DS_Store', '00001-of-00002.test.jsonl', '00002-of-00002.test.jsonl', 'generation_config_diff.json', 'generation_config.json', 'adapter_config.json', 'model_config_diff.json', 'model_config.json']\n",
      "Loading file:  00001-of-00002.test.jsonl\n",
      "Loading file:  00002-of-00002.test.jsonl\n"
     ]
    },
    {
     "data": {
      "application/vnd.jupyter.widget-view+json": {
       "model_id": "d8766c6d873a4c03881ca86109eef9fa",
       "version_major": 2,
       "version_minor": 0
      },
      "text/plain": [
       "VBox(children=(HBox(children=(IntProgress(value=0, description='0.00%', max=680), Label(value='0 / 680'))), HB…"
      ]
     },
     "metadata": {},
     "output_type": "display_data"
    },
    {
     "name": "stdout",
     "output_type": "stream",
     "text": [
      "methods2test_runnable fine-tuning Salesforce/codegen2-16B_P\n",
      "../data/methods2test_runnable/generated/fine-tuning/Salesforce/codegen2-16B_P\n",
      "['.DS_Store', 'generation_config_diff.json', 'generation_config.json', '00001-of-00001.test.jsonl', 'model_config_diff.json', 'model_config.json']\n",
      "Loading file:  00001-of-00001.test.jsonl\n"
     ]
    },
    {
     "data": {
      "application/vnd.jupyter.widget-view+json": {
       "model_id": "7c2ea972a9ab44f1b5cfe82a6f659b2c",
       "version_major": 2,
       "version_minor": 0
      },
      "text/plain": [
       "VBox(children=(HBox(children=(IntProgress(value=0, description='0.00%', max=680), Label(value='0 / 680'))), HB…"
      ]
     },
     "metadata": {},
     "output_type": "display_data"
    },
    {
     "name": "stdout",
     "output_type": "stream",
     "text": [
      "methods2test_runnable ia3 Salesforce/codegen2-7B_P\n",
      "../data/methods2test_runnable/generated/ia3/Salesforce/codegen2-7B_P\n",
      "['.DS_Store', '00001-of-00002.test.jsonl', '00002-of-00002.test.jsonl', 'generation_config_diff.json', 'generation_config.json', 'adapter_config.json', 'model_config_diff.json', 'model_config.json']\n",
      "Loading file:  00001-of-00002.test.jsonl\n",
      "Loading file:  00002-of-00002.test.jsonl\n"
     ]
    },
    {
     "data": {
      "application/vnd.jupyter.widget-view+json": {
       "model_id": "ed3cdb41e7d44e198fd5cd7cc195a1f4",
       "version_major": 2,
       "version_minor": 0
      },
      "text/plain": [
       "VBox(children=(HBox(children=(IntProgress(value=0, description='0.00%', max=680), Label(value='0 / 680'))), HB…"
      ]
     },
     "metadata": {},
     "output_type": "display_data"
    },
    {
     "name": "stdout",
     "output_type": "stream",
     "text": [
      "methods2test_runnable ia3 bigcode/starcoder2-3b\n",
      "../data/methods2test_runnable/generated/ia3/bigcode/starcoder2-3b\n",
      "['.DS_Store', '00001-of-00002.test.jsonl', '00002-of-00002.test.jsonl', 'generation_config_diff.json', 'generation_config.json', 'adapter_config.json', 'model_config_diff.json', 'model_config.json']\n",
      "Loading file:  00001-of-00002.test.jsonl\n",
      "Loading file:  00002-of-00002.test.jsonl\n"
     ]
    },
    {
     "data": {
      "application/vnd.jupyter.widget-view+json": {
       "model_id": "3153d2fcf77d4cffb2465e872c7de0f4",
       "version_major": 2,
       "version_minor": 0
      },
      "text/plain": [
       "VBox(children=(HBox(children=(IntProgress(value=0, description='0.00%', max=684), Label(value='0 / 684'))), HB…"
      ]
     },
     "metadata": {},
     "output_type": "display_data"
    },
    {
     "name": "stdout",
     "output_type": "stream",
     "text": [
      "methods2test_runnable lora meta-llama/CodeLLama-7b-hf\n",
      "../data/methods2test_runnable/generated/lora/meta-llama/CodeLLama-7b-hf\n",
      "['.DS_Store', '00001-of-00002.test.jsonl', '00002-of-00002.test.jsonl', 'generation_config_diff.json', 'generation_config.json', 'adapter_config.json', 'model_config_diff.json', 'model_config.json']\n",
      "Loading file:  00001-of-00002.test.jsonl\n",
      "Loading file:  00002-of-00002.test.jsonl\n"
     ]
    },
    {
     "data": {
      "application/vnd.jupyter.widget-view+json": {
       "model_id": "e1e325b55b9a4e5e952bd6e9649d5469",
       "version_major": 2,
       "version_minor": 0
      },
      "text/plain": [
       "VBox(children=(HBox(children=(IntProgress(value=0, description='0.00%', max=677), Label(value='0 / 677'))), HB…"
      ]
     },
     "metadata": {},
     "output_type": "display_data"
    },
    {
     "name": "stdout",
     "output_type": "stream",
     "text": [
      "methods2test_runnable pre-trained bigcode/starcoder2-3b\n",
      "../data/methods2test_runnable/generated/pre-trained/bigcode/starcoder2-3b\n",
      "['.DS_Store', '00001-of-00002.test.jsonl', '00002-of-00002.test.jsonl', 'generation_config_diff.json', 'generation_config.json', 'model_config_diff.json', 'model_config.json']\n",
      "Loading file:  00001-of-00002.test.jsonl\n",
      "Loading file:  00002-of-00002.test.jsonl\n"
     ]
    },
    {
     "data": {
      "application/vnd.jupyter.widget-view+json": {
       "model_id": "bbfb2de5254945508b6287b4b4e32a33",
       "version_major": 2,
       "version_minor": 0
      },
      "text/plain": [
       "VBox(children=(HBox(children=(IntProgress(value=0, description='0.00%', max=684), Label(value='0 / 684'))), HB…"
      ]
     },
     "metadata": {},
     "output_type": "display_data"
    },
    {
     "name": "stdout",
     "output_type": "stream",
     "text": [
      "methods2test_runnable prompt-tuning Salesforce/codegen-350M-multi\n",
      "../data/methods2test_runnable/generated/prompt-tuning/Salesforce/codegen-350M-multi\n",
      "['.DS_Store', '00001-of-00002.test.jsonl', '00002-of-00002.test.jsonl', 'generation_config_diff.json', 'generation_config.json', 'adapter_config.json', 'model_config_diff.json', 'model_config.json']\n",
      "Loading file:  00001-of-00002.test.jsonl\n",
      "Loading file:  00002-of-00002.test.jsonl\n"
     ]
    },
    {
     "data": {
      "application/vnd.jupyter.widget-view+json": {
       "model_id": "23671d86f1a1404192849b8a3fe9710c",
       "version_major": 2,
       "version_minor": 0
      },
      "text/plain": [
       "VBox(children=(HBox(children=(IntProgress(value=0, description='0.00%', max=680), Label(value='0 / 680'))), HB…"
      ]
     },
     "metadata": {},
     "output_type": "display_data"
    },
    {
     "name": "stdout",
     "output_type": "stream",
     "text": [
      "methods2test_runnable pre-trained Salesforce/codegen2-7B_P\n",
      "../data/methods2test_runnable/generated/pre-trained/Salesforce/codegen2-7B_P\n",
      "['.DS_Store', '00001-of-00002.test.jsonl', '00002-of-00002.test.jsonl', 'generation_config_diff.json', 'generation_config.json', 'model_config_diff.json', 'model_config.json']\n",
      "Loading file:  00001-of-00002.test.jsonl\n",
      "Loading file:  00002-of-00002.test.jsonl\n"
     ]
    },
    {
     "data": {
      "application/vnd.jupyter.widget-view+json": {
       "model_id": "caf0a89adac2409ba4725066008ff685",
       "version_major": 2,
       "version_minor": 0
      },
      "text/plain": [
       "VBox(children=(HBox(children=(IntProgress(value=0, description='0.00%', max=680), Label(value='0 / 680'))), HB…"
      ]
     },
     "metadata": {},
     "output_type": "display_data"
    },
    {
     "name": "stdout",
     "output_type": "stream",
     "text": [
      "methods2test_runnable prompt-tuning meta-llama/CodeLLama-7b-hf\n",
      "../data/methods2test_runnable/generated/prompt-tuning/meta-llama/CodeLLama-7b-hf\n",
      "['.DS_Store', '00001-of-00002.test.jsonl', '00002-of-00002.test.jsonl', 'generation_config_diff.json', 'generation_config.json', 'adapter_config.json', 'model_config_diff.json', 'model_config.json']\n",
      "Loading file:  00001-of-00002.test.jsonl\n",
      "Loading file:  00002-of-00002.test.jsonl\n"
     ]
    },
    {
     "data": {
      "application/vnd.jupyter.widget-view+json": {
       "model_id": "a36106865fb44ac7ba8bec447c54cc12",
       "version_major": 2,
       "version_minor": 0
      },
      "text/plain": [
       "VBox(children=(HBox(children=(IntProgress(value=0, description='0.00%', max=677), Label(value='0 / 677'))), HB…"
      ]
     },
     "metadata": {},
     "output_type": "display_data"
    },
    {
     "name": "stdout",
     "output_type": "stream",
     "text": [
      "methods2test_runnable prompt-tuning Salesforce/codegen2-16B_P\n",
      "../data/methods2test_runnable/generated/prompt-tuning/Salesforce/codegen2-16B_P\n",
      "['.DS_Store', 'generation_config_diff.json', 'generation_config.json', 'adapter_config.json', '00001-of-00001.test.jsonl', 'model_config_diff.json', 'model_config.json']\n",
      "Loading file:  00001-of-00001.test.jsonl\n"
     ]
    },
    {
     "data": {
      "application/vnd.jupyter.widget-view+json": {
       "model_id": "d9f59e29540941448ca7519e85bc6337",
       "version_major": 2,
       "version_minor": 0
      },
      "text/plain": [
       "VBox(children=(HBox(children=(IntProgress(value=0, description='0.00%', max=680), Label(value='0 / 680'))), HB…"
      ]
     },
     "metadata": {},
     "output_type": "display_data"
    },
    {
     "name": "stdout",
     "output_type": "stream",
     "text": [
      "methods2test_runnable lora Salesforce/codegen2-7B_P\n",
      "../data/methods2test_runnable/generated/lora/Salesforce/codegen2-7B_P\n",
      "['.DS_Store', '00001-of-00002.test.jsonl', '00002-of-00002.test.jsonl', 'generation_config_diff.json', 'generation_config.json', 'adapter_config.json', 'model_config_diff.json', 'model_config.json']\n",
      "Loading file:  00001-of-00002.test.jsonl\n",
      "Loading file:  00002-of-00002.test.jsonl\n"
     ]
    },
    {
     "data": {
      "application/vnd.jupyter.widget-view+json": {
       "model_id": "d0efd910e26f4887a98fbeb2322aca66",
       "version_major": 2,
       "version_minor": 0
      },
      "text/plain": [
       "VBox(children=(HBox(children=(IntProgress(value=0, description='0.00%', max=680), Label(value='0 / 680'))), HB…"
      ]
     },
     "metadata": {},
     "output_type": "display_data"
    },
    {
     "name": "stdout",
     "output_type": "stream",
     "text": [
      "methods2test_runnable fine-tuning bigcode/starcoder2-3b\n",
      "../data/methods2test_runnable/generated/fine-tuning/bigcode/starcoder2-3b\n",
      "['.DS_Store', '00001-of-00002.test.jsonl', '00002-of-00002.test.jsonl', 'generation_config_diff.json', 'generation_config.json', 'model_config_diff.json', 'model_config.json']\n",
      "Loading file:  00001-of-00002.test.jsonl\n",
      "Loading file:  00002-of-00002.test.jsonl\n"
     ]
    },
    {
     "data": {
      "application/vnd.jupyter.widget-view+json": {
       "model_id": "2b67379f71114c87a6779cca76c3768f",
       "version_major": 2,
       "version_minor": 0
      },
      "text/plain": [
       "VBox(children=(HBox(children=(IntProgress(value=0, description='0.00%', max=684), Label(value='0 / 684'))), HB…"
      ]
     },
     "metadata": {},
     "output_type": "display_data"
    },
    {
     "name": "stdout",
     "output_type": "stream",
     "text": [
      "methods2test_runnable lora Salesforce/codegen2-1B_P\n",
      "../data/methods2test_runnable/generated/lora/Salesforce/codegen2-1B_P\n",
      "['.DS_Store', '00001-of-00002.test.jsonl', '00002-of-00002.test.jsonl', 'generation_config_diff.json', 'generation_config.json', 'adapter_config.json', 'model_config_diff.json', 'model_config.json']\n",
      "Loading file:  00001-of-00002.test.jsonl\n",
      "Loading file:  00002-of-00002.test.jsonl\n"
     ]
    },
    {
     "data": {
      "application/vnd.jupyter.widget-view+json": {
       "model_id": "72ca006c33c844c18979cf2f5174b0c6",
       "version_major": 2,
       "version_minor": 0
      },
      "text/plain": [
       "VBox(children=(HBox(children=(IntProgress(value=0, description='0.00%', max=680), Label(value='0 / 680'))), HB…"
      ]
     },
     "metadata": {},
     "output_type": "display_data"
    },
    {
     "name": "stdout",
     "output_type": "stream",
     "text": [
      "methods2test_runnable fine-tuning Salesforce/codegen2-7B_P\n",
      "../data/methods2test_runnable/generated/fine-tuning/Salesforce/codegen2-7B_P\n",
      "['.DS_Store', '00001-of-00002.test.jsonl', '00002-of-00002.test.jsonl', 'generation_config_diff.json', 'generation_config.json', 'model_config_diff.json', 'model_config.json']\n",
      "Loading file:  00001-of-00002.test.jsonl\n",
      "Loading file:  00002-of-00002.test.jsonl\n"
     ]
    },
    {
     "data": {
      "application/vnd.jupyter.widget-view+json": {
       "model_id": "1b35987d44a44bc29c9d8a4c1c16a007",
       "version_major": 2,
       "version_minor": 0
      },
      "text/plain": [
       "VBox(children=(HBox(children=(IntProgress(value=0, description='0.00%', max=680), Label(value='0 / 680'))), HB…"
      ]
     },
     "metadata": {},
     "output_type": "display_data"
    },
    {
     "name": "stdout",
     "output_type": "stream",
     "text": [
      "methods2test_runnable lora bigcode/starcoder2-3b\n",
      "../data/methods2test_runnable/generated/lora/bigcode/starcoder2-3b\n",
      "['.DS_Store', '00001-of-00002.test.jsonl', '00002-of-00002.test.jsonl', 'generation_config_diff.json', 'generation_config.json', 'adapter_config.json', 'model_config_diff.json', 'model_config.json']\n",
      "Loading file:  00001-of-00002.test.jsonl\n",
      "Loading file:  00002-of-00002.test.jsonl\n"
     ]
    },
    {
     "data": {
      "application/vnd.jupyter.widget-view+json": {
       "model_id": "28109630bbe7423892e7b7b2953a6910",
       "version_major": 2,
       "version_minor": 0
      },
      "text/plain": [
       "VBox(children=(HBox(children=(IntProgress(value=0, description='0.00%', max=684), Label(value='0 / 684'))), HB…"
      ]
     },
     "metadata": {},
     "output_type": "display_data"
    },
    {
     "name": "stdout",
     "output_type": "stream",
     "text": [
      "methods2test_runnable prompt-tuning bigcode/starcoder2-3b\n",
      "../data/methods2test_runnable/generated/prompt-tuning/bigcode/starcoder2-3b\n",
      "['.DS_Store', '00001-of-00002.test.jsonl', '00002-of-00002.test.jsonl', 'generation_config_diff.json', 'generation_config.json', 'adapter_config.json', 'model_config_diff.json', 'model_config.json']\n",
      "Loading file:  00001-of-00002.test.jsonl\n",
      "Loading file:  00002-of-00002.test.jsonl\n"
     ]
    },
    {
     "data": {
      "application/vnd.jupyter.widget-view+json": {
       "model_id": "fbd64a5eefa24c9c98ae23a908041354",
       "version_major": 2,
       "version_minor": 0
      },
      "text/plain": [
       "VBox(children=(HBox(children=(IntProgress(value=0, description='0.00%', max=684), Label(value='0 / 684'))), HB…"
      ]
     },
     "metadata": {},
     "output_type": "display_data"
    },
    {
     "name": "stdout",
     "output_type": "stream",
     "text": [
      "methods2test_runnable ia3 bigcode/starcoder2-15b\n",
      "../data/methods2test_runnable/generated/ia3/bigcode/starcoder2-15b\n",
      "['.DS_Store', 'generation_config_diff.json', 'generation_config.json', 'adapter_config.json', '00001-of-00001.test.jsonl', 'model_config_diff.json', 'model_config.json']\n",
      "Loading file:  00001-of-00001.test.jsonl\n"
     ]
    },
    {
     "data": {
      "application/vnd.jupyter.widget-view+json": {
       "model_id": "1f9375aaa5334b6585643791a9a79675",
       "version_major": 2,
       "version_minor": 0
      },
      "text/plain": [
       "VBox(children=(HBox(children=(IntProgress(value=0, description='0.00%', max=684), Label(value='0 / 684'))), HB…"
      ]
     },
     "metadata": {},
     "output_type": "display_data"
    },
    {
     "name": "stdout",
     "output_type": "stream",
     "text": [
      "methods2test_runnable pre-trained bigcode/starcoder2-15b\n",
      "../data/methods2test_runnable/generated/pre-trained/bigcode/starcoder2-15b\n",
      "['.DS_Store', 'generation_config_diff.json', 'generation_config.json', '00001-of-00001.test.jsonl', 'model_config_diff.json', 'model_config.json']\n",
      "Loading file:  00001-of-00001.test.jsonl\n"
     ]
    },
    {
     "data": {
      "application/vnd.jupyter.widget-view+json": {
       "model_id": "e701869e5f0c47b2b0b7e2b92745fb5e",
       "version_major": 2,
       "version_minor": 0
      },
      "text/plain": [
       "VBox(children=(HBox(children=(IntProgress(value=0, description='0.00%', max=684), Label(value='0 / 684'))), HB…"
      ]
     },
     "metadata": {},
     "output_type": "display_data"
    },
    {
     "name": "stdout",
     "output_type": "stream",
     "text": [
      "methods2test_runnable ia3 bigcode/starcoderbase\n",
      "../data/methods2test_runnable/generated/ia3/bigcode/starcoderbase\n",
      "['.DS_Store', 'generation_config_diff.json', 'generation_config.json', 'adapter_config.json', '00001-of-00001.test.jsonl', 'model_config_diff.json', 'model_config.json']\n",
      "Loading file:  00001-of-00001.test.jsonl\n"
     ]
    },
    {
     "data": {
      "application/vnd.jupyter.widget-view+json": {
       "model_id": "91e5cc40c6574bdfac82c734de49ce2e",
       "version_major": 2,
       "version_minor": 0
      },
      "text/plain": [
       "VBox(children=(HBox(children=(IntProgress(value=0, description='0.00%', max=684), Label(value='0 / 684'))), HB…"
      ]
     },
     "metadata": {},
     "output_type": "display_data"
    },
    {
     "name": "stdout",
     "output_type": "stream",
     "text": [
      "methods2test_runnable prompt-tuning Salesforce/codegen2-7B_P\n",
      "../data/methods2test_runnable/generated/prompt-tuning/Salesforce/codegen2-7B_P\n",
      "['.DS_Store', '00001-of-00002.test.jsonl', '00002-of-00002.test.jsonl', 'generation_config_diff.json', 'generation_config.json', 'adapter_config.json', 'model_config_diff.json', 'model_config.json']\n",
      "Loading file:  00001-of-00002.test.jsonl\n",
      "Loading file:  00002-of-00002.test.jsonl\n"
     ]
    },
    {
     "data": {
      "application/vnd.jupyter.widget-view+json": {
       "model_id": "b3ffc449be1b43e1b1b4ec7ddc8f5c6c",
       "version_major": 2,
       "version_minor": 0
      },
      "text/plain": [
       "VBox(children=(HBox(children=(IntProgress(value=0, description='0.00%', max=680), Label(value='0 / 680'))), HB…"
      ]
     },
     "metadata": {},
     "output_type": "display_data"
    },
    {
     "name": "stdout",
     "output_type": "stream",
     "text": [
      "methods2test_runnable pre-trained bigcode/starcoderbase\n",
      "../data/methods2test_runnable/generated/pre-trained/bigcode/starcoderbase\n",
      "['.DS_Store', 'generation_config_diff.json', 'generation_config.json', '00001-of-00001.test.jsonl', 'model_config_diff.json', 'model_config.json']\n",
      "Loading file:  00001-of-00001.test.jsonl\n"
     ]
    },
    {
     "data": {
      "application/vnd.jupyter.widget-view+json": {
       "model_id": "7121a052e0454bc7bcb1338320a899b9",
       "version_major": 2,
       "version_minor": 0
      },
      "text/plain": [
       "VBox(children=(HBox(children=(IntProgress(value=0, description='0.00%', max=684), Label(value='0 / 684'))), HB…"
      ]
     },
     "metadata": {},
     "output_type": "display_data"
    },
    {
     "name": "stdout",
     "output_type": "stream",
     "text": [
      "methods2test_runnable ia3 Salesforce/codegen2-3_7B_P\n",
      "../data/methods2test_runnable/generated/ia3/Salesforce/codegen2-3_7B_P\n",
      "['.DS_Store', '00001-of-00002.test.jsonl', '00002-of-00002.test.jsonl', 'generation_config_diff.json', 'generation_config.json', 'adapter_config.json', 'model_config_diff.json', 'model_config.json']\n",
      "Loading file:  00001-of-00002.test.jsonl\n",
      "Loading file:  00002-of-00002.test.jsonl\n"
     ]
    },
    {
     "data": {
      "application/vnd.jupyter.widget-view+json": {
       "model_id": "f91cd80c66144517a47656d6bbdda252",
       "version_major": 2,
       "version_minor": 0
      },
      "text/plain": [
       "VBox(children=(HBox(children=(IntProgress(value=0, description='0.00%', max=680), Label(value='0 / 680'))), HB…"
      ]
     },
     "metadata": {},
     "output_type": "display_data"
    },
    {
     "name": "stdout",
     "output_type": "stream",
     "text": [
      "Error:  tuple index out of range\n",
      "Error:  tuple index out of range\n",
      "Error:  tuple index out of range\n",
      "Error:  tuple index out of range\n",
      "Error:  tuple index out of range\n",
      "Error:  tuple index out of range\n",
      "Error:  tuple index out of range\n",
      "Error:  tuple index out of range\n",
      "Error:  tuple index out of range\n",
      "Error:  tuple index out of range\n",
      "Error:  tuple index out of range\n",
      "Error:  tuple index out of range\n",
      "Error:  Error: tuple index out of range\n",
      " tuple index out of rangeError:  \n",
      "tuple index out of range\n",
      "Error:  tuple index out of range\n",
      "Error:  tuple index out of range\n",
      "Error:  tuple index out of range\n",
      "Error:  tuple index out of range\n",
      "Error:  tuple index out of range\n",
      "Error:  tuple index out of range\n",
      "Error:  tuple index out of range\n",
      "Error:  tuple index out of range\n",
      "Error:  tuple index out of range\n",
      "Error:  tuple index out of range\n",
      "Error:  tuple index out of range\n",
      "Error:  tuple index out of range\n",
      "Error:  tuple index out of range\n",
      "Error:  tuple index out of range\n",
      "Error:  tuple index out of range\n",
      "Error:  tuple index out of range\n",
      "Error:  tuple index out of range\n",
      "Error:  tuple index out of range\n",
      "Error: Error:  tuple index out of range tuple index out of range\n",
      "\n",
      "Error:  tuple index out of range\n",
      "Error:  tuple index out of range\n",
      "Error:  tuple index out of range\n",
      "Error:  tuple index out of range\n",
      "Error:  tuple index out of range\n",
      "Error:  tuple index out of range\n",
      "Error:  tuple index out of range\n",
      "Error:  tuple index out of range\n",
      "Error:  tuple index out of range\n",
      "Error:  tuple index out of range\n",
      "Error:  tuple index out of range\n",
      "Error:  tuple index out of range\n",
      "Error:  tuple index out of range\n",
      "Error:  tuple index out of range\n",
      "Error:  tuple index out of range\n",
      "Error:  tuple index out of rangeError: \n",
      " tuple index out of range\n",
      "Error:  tuple index out of range\n",
      "Error:  tuple index out of range\n",
      "Error:  tuple index out of range\n",
      "Error:  tuple index out of range\n",
      "Error:  tuple index out of range\n",
      "Error:  tuple index out of range\n",
      "Error:  tuple index out of range\n",
      "Error:  tuple index out of range\n",
      "Error:  tuple index out of range\n",
      "Error:  tuple index out of range\n",
      "Error:  tuple index out of range\n",
      "Error:  tuple index out of range\n",
      "Error:  tuple index out of range\n",
      "Error:  tuple index out of range\n",
      "Error:  tuple index out of range\n",
      "Error:  tuple index out of range\n",
      "Error:  tuple index out of range\n",
      "Error:  tuple index out of range\n",
      "Error:  tuple index out of range\n",
      "Error:  tuple index out of range\n",
      "Error:  tuple index out of range\n",
      "Error:  tuple index out of range\n",
      "Error:  tuple index out of range\n",
      "Error:  tuple index out of range\n",
      "Error:  tuple index out of range\n",
      "Error:  tuple index out of range\n",
      "Error:  tuple index out of range\n",
      "Error:  tuple index out of range\n",
      "Error:  tuple index out of range\n",
      "Error:  tuple index out of range\n",
      "Error:  tuple index out of range\n",
      "Error:  tuple index out of range\n",
      "Error:  tuple index out of range\n",
      "Error:  tuple index out of range\n",
      "Error:  tuple index out of range\n",
      "Error:  tuple index out of range\n",
      "Error:  tuple index out of range\n",
      "Error:  tuple index out of range\n",
      "Error:  tuple index out of range\n",
      "Error:  tuple index out of range\n",
      "Error:  tuple index out of range\n",
      "Error:  tuple index out of range\n",
      "Error:  tuple index out of range\n",
      "Error:  tuple index out of range\n",
      "Error:  tuple index out of range\n",
      "Error:  tuple index out of range\n",
      "Error:  tuple index out of range\n",
      "Error:  tuple index out of range\n",
      "Error:  tuple index out of range\n",
      "Error:  tuple index out of range\n",
      "Error:  tuple index out of range\n",
      "Error:  tuple index out of range\n",
      "Error:  tuple index out of range\n",
      "Error:  tuple index out of range\n",
      "Error:  tuple index out of range\n",
      "Error:  tuple index out of range\n",
      "Error:  tuple index out of range\n",
      "Error:  tuple index out of range\n",
      "Error:  tuple index out of range\n",
      "Error:  tuple index out of range\n",
      "Error:  tuple index out of range\n",
      "Error:  tuple index out of range\n",
      "Error:  tuple index out of range\n",
      "Error:  tuple index out of range\n",
      "Error:  tuple index out of range\n",
      "Error:  tuple index out of range\n",
      "Error:  tuple index out of range\n",
      "methods2test_runnable pre-trained Salesforce/codegen2-3_7B_P\n",
      "../data/methods2test_runnable/generated/pre-trained/Salesforce/codegen2-3_7B_P\n",
      "['.DS_Store', '00001-of-00002.test.jsonl', '00002-of-00002.test.jsonl', 'generation_config_diff.json', 'generation_config.json', 'model_config_diff.json', 'model_config.json']\n",
      "Loading file:  00001-of-00002.test.jsonl\n",
      "Loading file:  00002-of-00002.test.jsonl\n"
     ]
    },
    {
     "data": {
      "application/vnd.jupyter.widget-view+json": {
       "model_id": "594c93bd0e474406b07ea62e02a6304c",
       "version_major": 2,
       "version_minor": 0
      },
      "text/plain": [
       "VBox(children=(HBox(children=(IntProgress(value=0, description='0.00%', max=680), Label(value='0 / 680'))), HB…"
      ]
     },
     "metadata": {},
     "output_type": "display_data"
    },
    {
     "name": "stdout",
     "output_type": "stream",
     "text": [
      "methods2test_runnable ia3 Salesforce/codegen2-1B_P\n",
      "../data/methods2test_runnable/generated/ia3/Salesforce/codegen2-1B_P\n",
      "['.DS_Store', '00001-of-00002.test.jsonl', '00002-of-00002.test.jsonl', 'generation_config_diff.json', 'generation_config.json', 'adapter_config.json', 'model_config_diff.json', 'model_config.json']\n",
      "Loading file:  00001-of-00002.test.jsonl\n",
      "Loading file:  00002-of-00002.test.jsonl\n"
     ]
    },
    {
     "data": {
      "application/vnd.jupyter.widget-view+json": {
       "model_id": "5e19841cc7d745ba8444e4936db8d06a",
       "version_major": 2,
       "version_minor": 0
      },
      "text/plain": [
       "VBox(children=(HBox(children=(IntProgress(value=0, description='0.00%', max=680), Label(value='0 / 680'))), HB…"
      ]
     },
     "metadata": {},
     "output_type": "display_data"
    },
    {
     "name": "stdout",
     "output_type": "stream",
     "text": [
      "methods2test_runnable pre-trained Salesforce/codegen2-1B_P\n",
      "../data/methods2test_runnable/generated/pre-trained/Salesforce/codegen2-1B_P\n",
      "['.DS_Store', '00001-of-00002.test.jsonl', '00002-of-00002.test.jsonl', 'generation_config_diff.json', 'generation_config.json', 'model_config_diff.json', 'model_config.json']\n",
      "Loading file:  00001-of-00002.test.jsonl\n",
      "Loading file:  00002-of-00002.test.jsonl\n"
     ]
    },
    {
     "data": {
      "application/vnd.jupyter.widget-view+json": {
       "model_id": "720f7a76bf7a4828aa25c840777e411d",
       "version_major": 2,
       "version_minor": 0
      },
      "text/plain": [
       "VBox(children=(HBox(children=(IntProgress(value=0, description='0.00%', max=680), Label(value='0 / 680'))), HB…"
      ]
     },
     "metadata": {},
     "output_type": "display_data"
    },
    {
     "name": "stdout",
     "output_type": "stream",
     "text": [
      "Error:  tuple index out of range\n",
      "Error:  tuple index out of range\n",
      "Error:  tuple index out of range\n",
      "Error:  tuple index out of range\n",
      "Error:  tuple index out of range\n",
      "Error:  tuple index out of range\n",
      "Error:  tuple index out of range\n",
      "Error:  tuple index out of range\n",
      "Error:  tuple index out of rangeError: \n",
      " tuple index out of range\n",
      "Error:  tuple index out of range\n",
      "Error:  tuple index out of range\n",
      "Error:  Error: tuple index out of range\n",
      " tuple index out of range\n",
      "Error:  tuple index out of range\n",
      "Error: Error:   tuple index out of rangetuple index out of range\n",
      "\n",
      "Error: Error:  Error:  tuple index out of range \n",
      "tuple index out of rangetuple index out of range\n",
      "\n",
      "Error:  Error: Error: Error: tuple index out of range   \n",
      "tuple index out of rangetuple index out of rangetuple index out of range\n",
      "\n",
      "\n",
      "Error:  tuple index out of range\n",
      "Error:  tuple index out of range\n",
      "Error:  tuple index out of range\n",
      "Error: Error:   tuple index out of rangetuple index out of range\n",
      "\n",
      "Error:  Error: tuple index out of range\n",
      " tuple index out of range\n",
      "Error:  tuple index out of range\n",
      "Error:  tuple index out of range\n",
      "Error:  tuple index out of range\n",
      "Error:  tuple index out of range\n",
      "Error:  Error: tuple index out of range \n",
      "tuple index out of range\n",
      "Error: Error:   tuple index out of rangeError: tuple index out of range\n",
      "\n",
      " tuple index out of range\n",
      "Error:  tuple index out of range\n",
      "Error:  tuple index out of range\n",
      "Error:  Error: tuple index out of rangeError:  \n",
      " tuple index out of rangetuple index out of range\n",
      "\n",
      "Error:  tuple index out of range\n",
      "Error:  tuple index out of range\n",
      "Error:  tuple index out of rangeError:  \n",
      "tuple index out of range\n",
      "Error:  tuple index out of range\n",
      "Error: Error:  tuple index out of range \n",
      "tuple index out of range\n",
      "Error:  tuple index out of range\n",
      "Error:  tuple index out of range\n",
      "Error:  tuple index out of range\n",
      "Error:  tuple index out of range\n",
      "Error:  tuple index out of range\n",
      "Error:  tuple index out of range\n",
      "Error:  tuple index out of range\n",
      "Error:  tuple index out of range\n",
      "Error: Error:  tuple index out of range\n",
      " tuple index out of range\n",
      "Error: Error: Error:   tuple index out of range tuple index out of range\n",
      "tuple index out of range\n",
      "\n",
      "Error: Error:   tuple index out of rangetuple index out of range\n",
      "\n",
      "Error:  tuple index out of rangeError: \n",
      " tuple index out of range\n",
      "Error:  tuple index out of range\n",
      "Error:  tuple index out of range\n",
      "Error: Error:   tuple index out of rangetuple index out of range\n",
      "\n",
      "Error:  Error: tuple index out of range \n",
      "tuple index out of range\n",
      "Error:  Error: tuple index out of range \n",
      "tuple index out of range\n",
      "Error:  tuple index out of range\n",
      "Error:  tuple index out of range\n",
      "Error:  tuple index out of range\n",
      "Error:  tuple index out of range\n",
      "Error:  tuple index out of range\n",
      "Error:  tuple index out of range\n",
      "Error:  Error: tuple index out of range tuple index out of range\n",
      "\n",
      "Error:  tuple index out of range\n",
      "Error:  tuple index out of range\n",
      "Error:  tuple index out of range\n",
      "Error: Error:   tuple index out of range\n",
      "tuple index out of range\n",
      "Error:  tuple index out of range\n",
      "Error:  tuple index out of range\n",
      "Error:  tuple index out of rangeError: \n",
      " tuple index out of range\n",
      "Error:  tuple index out of range\n",
      "Error:  tuple index out of range\n",
      "Error:  tuple index out of range\n",
      "Error:  tuple index out of range\n",
      "Error:  tuple index out of range\n",
      "Error: Error:   tuple index out of rangetuple index out of range\n",
      "\n",
      "Error:  tuple index out of range\n",
      "Error:  tuple index out of range\n",
      "Error:  Error: tuple index out of range \n",
      "tuple index out of rangeError:  tuple index out of range\n",
      "\n",
      "Error:  tuple index out of range\n",
      "Error: Error:  tuple index out of range tuple index out of range\n",
      "\n",
      "Error:  tuple index out of range\n",
      "Error: Error:  Error:  tuple index out of range tuple index out of range\n",
      "tuple index out of range\n",
      "\n",
      "Error:  tuple index out of range\n",
      "Error:  tuple index out of range\n",
      "Error:  tuple index out of range\n",
      "Error:  tuple index out of range\n",
      "Error:  tuple index out of range\n",
      "Error:  tuple index out of range\n",
      "Error:  Error: tuple index out of range \n",
      "tuple index out of range\n",
      "Error:  tuple index out of range\n",
      "Error: Error: Error:  tuple index out of range\n",
      "Error:  tuple index out of range \n",
      "tuple index out of range tuple index out of range\n",
      "\n",
      "Error:  tuple index out of range\n",
      "Error: Error:   tuple index out of rangetuple index out of range\n",
      "\n",
      "Error:  tuple index out of range\n",
      "Error:  tuple index out of range\n",
      "Error: Error:  Error:   tuple index out of rangetuple index out of range\n",
      "tuple index out of range\n",
      "\n",
      "Error:  tuple index out of range\n",
      "Error:  tuple index out of range\n",
      "Error:  tuple index out of range\n",
      "Error:  tuple index out of range\n",
      "Error:  tuple index out of range\n",
      "Error:  tuple index out of range\n",
      "Error:  tuple index out of range\n",
      "Error:  tuple index out of range\n",
      "Error:  tuple index out of range\n",
      "Error:  tuple index out of range\n",
      "Error:  tuple index out of range\n",
      "Error:  tuple index out of range\n",
      "Error:  tuple index out of range\n",
      "Error:  tuple index out of rangeError: \n",
      " tuple index out of range\n",
      "Error:  Error:  tuple index out of rangetuple index out of range\n",
      "\n",
      "Error:  tuple index out of range\n",
      "Error:  tuple index out of range\n",
      "Error:  tuple index out of range\n",
      "Error:  Error: tuple index out of range \n",
      "tuple index out of rangeError: \n",
      " tuple index out of range\n",
      "Error:  tuple index out of range\n",
      "Error:  Error: tuple index out of range\n",
      " tuple index out of range\n",
      "Error:  tuple index out of range\n",
      "Error:  tuple index out of range\n",
      "Error:  tuple index out of range\n",
      "Error:  tuple index out of range\n",
      "Error:  tuple index out of rangeError: \n",
      "Error:   tuple index out of rangeError: tuple index out of range\n",
      " \n",
      "tuple index out of range\n",
      "Error:  tuple index out of range\n",
      "Error:  tuple index out of range\n",
      "Error:  tuple index out of range\n",
      "Error:  tuple index out of range\n",
      "Error: Error:   tuple index out of rangeError: \n",
      " Error: tuple index out of rangetuple index out of range \n",
      "tuple index out of range\n",
      "\n",
      "Error: Error:   tuple index out of rangetuple index out of range\n",
      "\n",
      "Error:  tuple index out of range\n",
      "Error:  tuple index out of range\n",
      "Error:  tuple index out of range\n",
      "Error:  tuple index out of range\n",
      "Error:  tuple index out of range\n",
      "Error:  tuple index out of range\n",
      "Error:  tuple index out of range\n",
      "Error:  tuple index out of range\n",
      "Error:  tuple index out of range\n",
      "Error:  tuple index out of range\n",
      "Error:  tuple index out of range\n",
      "Error:  tuple index out of range\n",
      "Error:  tuple index out of range\n",
      "Error:  tuple index out of range\n",
      "Error:  tuple index out of range\n",
      "Error:  tuple index out of range\n",
      "Error:  tuple index out of range\n",
      "Error:  tuple index out of range\n",
      "Error:  tuple index out of range\n",
      "Error:  tuple index out of range\n",
      "Error:  tuple index out of rangeError: \n",
      " tuple index out of range\n",
      "Error:  tuple index out of rangeError: \n",
      " tuple index out of range\n",
      "Error:  tuple index out of range\n",
      "Error:  tuple index out of range\n",
      "Error:  tuple index out of range\n",
      "Error:  tuple index out of range\n",
      "Error:  tuple index out of range\n",
      "Error:  tuple index out of rangeError: \n",
      " tuple index out of range\n",
      "Error:  tuple index out of range\n",
      "Error: Error:  tuple index out of range \n",
      "tuple index out of rangeError: \n",
      " tuple index out of range\n",
      "Error:  tuple index out of range\n",
      "Error:  tuple index out of range\n",
      "Error: Error:   tuple index out of rangetuple index out of range\n",
      "\n",
      "Error:  tuple index out of range\n",
      "Error:  Error: Error: tuple index out of range tuple index out of range \n",
      "\n",
      "tuple index out of range\n",
      "Error:  tuple index out of range\n",
      "Error:  tuple index out of range\n",
      "Error:  Error: tuple index out of range \n",
      "tuple index out of range\n",
      "Error:  tuple index out of range\n",
      "Error:  tuple index out of range\n",
      "Error:  tuple index out of range\n",
      "Error:  Error: tuple index out of range\n",
      " tuple index out of range\n",
      "Error:  tuple index out of range\n",
      "Error:  tuple index out of range\n",
      "Error:  tuple index out of range\n",
      "Error:  tuple index out of rangeError: \n",
      " tuple index out of range\n",
      "Error:  tuple index out of range\n",
      "Error:  tuple index out of range\n",
      "Error:  tuple index out of range\n",
      "Error:  tuple index out of rangeError: \n",
      "Error:   tuple index out of rangetuple index out of range\n",
      "\n",
      "Error:  tuple index out of range\n",
      "Error: Error:   tuple index out of range\n",
      "tuple index out of range\n",
      "Error: Error:   tuple index out of rangetuple index out of range\n",
      "\n",
      "Error: Error:   tuple index out of rangetuple index out of range\n",
      "\n",
      "Error:  tuple index out of range\n",
      "Error:  tuple index out of range\n",
      "Error:  tuple index out of range\n",
      "Error: Error:   tuple index out of rangetuple index out of range\n",
      "\n",
      "Error:  tuple index out of range\n",
      "Error:  tuple index out of range\n",
      "Error:  tuple index out of range\n",
      "Error:  tuple index out of range\n",
      "Error:  tuple index out of range\n",
      "Error:  Error: tuple index out of range\n",
      " tuple index out of range\n",
      "Error:  tuple index out of range\n",
      "Error:  tuple index out of range\n",
      "Error:  tuple index out of range\n",
      "Error:  tuple index out of range\n",
      "Error:  Error: tuple index out of range \n",
      "tuple index out of range\n",
      "Error:  tuple index out of range\n",
      "Error:  tuple index out of range\n",
      "Error:  tuple index out of range\n",
      "Error:  tuple index out of range\n",
      "Error:  tuple index out of range\n",
      "Error:  tuple index out of range\n",
      "Error:  tuple index out of range\n",
      "Error:  tuple index out of range\n",
      "Error:  tuple index out of rangeError: \n",
      " tuple index out of rangeError: \n",
      " tuple index out of range\n",
      "Error:  tuple index out of range\n",
      "Error:  tuple index out of range\n",
      "Error:  tuple index out of range\n",
      "Error:  tuple index out of range\n",
      "Error:  tuple index out of range\n",
      "Error: Error:   tuple index out of rangetuple index out of range\n",
      "\n",
      "Error:  tuple index out of range\n",
      "Error: Error:   tuple index out of rangetuple index out of range\n",
      "\n",
      "Error:  tuple index out of range\n",
      "Error:  tuple index out of range\n",
      "Error:  tuple index out of range\n",
      "Error:  tuple index out of range\n",
      "Error:  tuple index out of range\n",
      "Error:  tuple index out of rangeError: \n",
      " tuple index out of range\n",
      "Error:  tuple index out of rangeError: \n",
      "Error:   tuple index out of rangetuple index out of range\n",
      "\n",
      "Error:  tuple index out of range\n",
      "Error:  tuple index out of range\n",
      "Error:  tuple index out of range\n",
      "Error:  tuple index out of range\n",
      "Error:  tuple index out of range\n",
      "Error:  tuple index out of range\n",
      "Error:  tuple index out of range\n",
      "Error:  tuple index out of range\n",
      "Error:  tuple index out of range\n",
      "Error: Error:   tuple index out of rangetuple index out of range\n",
      "\n",
      "Error:  tuple index out of range\n",
      "Error:  tuple index out of range\n",
      "Error:  tuple index out of range\n",
      "Error:  tuple index out of range\n",
      "Error:  tuple index out of range\n",
      "Error:  tuple index out of range\n",
      "Error:  tuple index out of range\n",
      "Error:  tuple index out of range\n",
      "Error:  tuple index out of range\n",
      "Error:  tuple index out of range\n",
      "Error:  tuple index out of range\n",
      "Error:  tuple index out of rangeError: \n",
      " Error: tuple index out of range \n",
      "tuple index out of range\n",
      "Error:  tuple index out of range\n",
      "Error:  tuple index out of range\n",
      "Error:  tuple index out of range\n",
      "Error:  tuple index out of range\n",
      "Error:  tuple index out of range\n",
      "Error:  tuple index out of range\n",
      "Error:  tuple index out of range\n",
      "Error:  tuple index out of range\n",
      "Error: Error:   tuple index out of rangetuple index out of range\n",
      "\n",
      "Error:  tuple index out of range\n",
      "Error:  Error: tuple index out of range\n",
      " tuple index out of range\n",
      "Error:  tuple index out of rangeError: \n",
      " tuple index out of range\n",
      "Error:  tuple index out of range\n",
      "Error:  Error: tuple index out of range \n",
      "tuple index out of range\n",
      "Error:  tuple index out of range\n",
      "Error: Error:   tuple index out of rangetuple index out of range\n",
      "\n",
      "Error: Error:   tuple index out of rangetuple index out of range\n",
      "\n",
      "Error: Error:   tuple index out of rangetuple index out of range\n",
      "\n",
      "Error: Error:   tuple index out of range\n",
      "tuple index out of rangeError: \n",
      " tuple index out of range\n",
      "Error:  tuple index out of range\n",
      "Error:  tuple index out of range\n",
      "Error:  tuple index out of range\n",
      "Error:  tuple index out of range\n",
      "Error:  tuple index out of rangeError: Error: \n",
      "  tuple index out of rangetuple index out of range\n",
      "\n",
      "Error:  tuple index out of rangeError: \n",
      " tuple index out of range\n",
      "Error:  tuple index out of range\n",
      "Error:  tuple index out of range\n",
      "Error: Error:   tuple index out of rangetuple index out of range\n",
      "\n",
      "Error:  Error: tuple index out of range \n",
      "tuple index out of range\n",
      "Error:  Error: tuple index out of range \n",
      "tuple index out of range\n",
      "Error:  tuple index out of range\n",
      "Error:  tuple index out of range\n",
      "Error:  tuple index out of range\n",
      "Error:  Error: tuple index out of range \n",
      "tuple index out of rangeError: Error: \n",
      "  tuple index out of range\n",
      "Error: tuple index out of range \n",
      "tuple index out of range\n",
      "Error:  tuple index out of range\n",
      "Error:  Error: Error: tuple index out of range  \n",
      "tuple index out of rangetuple index out of range\n",
      "\n",
      "Error:  tuple index out of range\n",
      "Error:  tuple index out of range\n",
      "Error:  tuple index out of range\n",
      "Error:  Error: tuple index out of range \n",
      "tuple index out of range\n",
      "Error:  tuple index out of range\n",
      "Error:  tuple index out of range\n",
      "Error:  tuple index out of range\n",
      "Error:  tuple index out of range\n",
      "Error:  Error: Error: tuple index out of range  \n",
      "Error: tuple index out of rangetuple index out of range \n",
      "\n",
      "tuple index out of range\n",
      "Error: Error:  tuple index out of range \n",
      "tuple index out of range\n",
      "Error: Error:  tuple index out of range\n",
      " tuple index out of range\n",
      "Error:  tuple index out of range\n",
      "Error:  tuple index out of rangeError: \n",
      " tuple index out of range\n",
      "Error: Error:  tuple index out of range \n",
      "Error: tuple index out of range\n",
      " tuple index out of range\n",
      "Error:  tuple index out of range\n",
      "Error:  Error: tuple index out of range \n",
      "tuple index out of range\n",
      "Error:  tuple index out of range\n",
      "Error:  tuple index out of range\n",
      "Error:  tuple index out of range\n",
      "Error:  tuple index out of range\n",
      "Error:  Error: tuple index out of range\n",
      " tuple index out of range\n",
      "Error:  tuple index out of range\n",
      "Error:  tuple index out of range\n",
      "Error: Error:  Error:  tuple index out of range tuple index out of range\n",
      "tuple index out of range\n",
      "Error: \n",
      " tuple index out of range\n",
      "Error: Error:   tuple index out of range\n",
      "tuple index out of range\n",
      "Error:  tuple index out of range\n",
      "Error: Error:  tuple index out of range\n",
      " tuple index out of range\n",
      "Error:  tuple index out of range\n",
      "Error: Error:   Error: tuple index out of rangetuple index out of range \n",
      "\n",
      "tuple index out of range\n",
      "Error: Error:   Error: tuple index out of range\n",
      " tuple index out of rangeError: tuple index out of range\n",
      " \n",
      "tuple index out of range\n",
      "Error:  tuple index out of range\n",
      "Error:  tuple index out of rangeError: \n",
      " tuple index out of range\n",
      "Error:  tuple index out of range\n",
      "Error:  tuple index out of rangeError: Error: \n",
      "  tuple index out of rangetuple index out of range\n",
      "\n",
      "Error: Error:   tuple index out of rangetuple index out of range\n",
      "\n",
      "Error:  tuple index out of rangeError: \n",
      " tuple index out of range\n",
      "Error:  tuple index out of range\n",
      "Error:  tuple index out of range\n",
      "Error:  tuple index out of range\n",
      "Error:  tuple index out of range\n",
      "Error:  tuple index out of range\n",
      "Error:  tuple index out of range\n",
      "Error:  tuple index out of range\n",
      "Error: Error:   tuple index out of range\n",
      "tuple index out of range\n",
      "Error:  Error: tuple index out of range \n",
      "tuple index out of range\n",
      "Error:  tuple index out of rangeError:  \n",
      "tuple index out of range\n",
      "Error:  tuple index out of range\n",
      "Error:  tuple index out of range\n",
      "Error:  tuple index out of range\n",
      "Error:  tuple index out of range\n",
      "Error:  tuple index out of range\n",
      "Error:  tuple index out of range\n",
      "Error:  tuple index out of range\n",
      "Error:  tuple index out of range\n",
      "Error:  tuple index out of rangeError: \n",
      " Error: Error:  tuple index out of range tuple index out of rangetuple index out of range\n",
      "\n",
      "\n",
      "Error:  tuple index out of range\n",
      "Error:  tuple index out of range\n",
      "Error:  tuple index out of range\n",
      "Error:  tuple index out of rangeError:  \n",
      "tuple index out of rangeError: \n",
      " tuple index out of range\n",
      "Error:  tuple index out of range\n",
      "Error:  tuple index out of range\n",
      "Error:  tuple index out of range\n",
      "Error:  tuple index out of range\n",
      "Error:  tuple index out of range\n",
      "Error:  tuple index out of range\n",
      "Error:  tuple index out of range\n",
      "Error:  tuple index out of range\n",
      "Error:  tuple index out of range\n",
      "Error: Error: Error:    tuple index out of rangetuple index out of range\n",
      "tuple index out of range\n",
      "\n",
      "Error:  tuple index out of range\n",
      "Error:  tuple index out of range\n",
      "Error:  tuple index out of range\n",
      "Error:  tuple index out of range\n",
      "Error: Error:   tuple index out of rangetuple index out of range\n",
      "\n",
      "Error:  tuple index out of range\n",
      "Error:  tuple index out of range\n",
      "Error:  tuple index out of range\n",
      "Error:  tuple index out of range\n",
      "Error:  tuple index out of range\n",
      "Error:  tuple index out of range\n",
      "Error:  tuple index out of range\n",
      "Error:  tuple index out of range\n",
      "Error:  tuple index out of range\n",
      "Error:  tuple index out of range\n",
      "Error:  tuple index out of range\n",
      "Error:  tuple index out of range\n",
      "Error:  tuple index out of range\n",
      "Error:  tuple index out of rangeError: Error: \n",
      "  tuple index out of rangetuple index out of range\n",
      "\n",
      "Error:  tuple index out of range\n",
      "Error:  tuple index out of range\n",
      "Error:  tuple index out of range\n",
      "Error:  tuple index out of range\n",
      "Error:  Error: tuple index out of range \n",
      "tuple index out of range\n",
      "Error:  tuple index out of range\n",
      "Error: Error:   tuple index out of rangetuple index out of range\n",
      "\n",
      "Error:  tuple index out of range\n",
      "Error:  Error:  tuple index out of range\n",
      "tuple index out of range\n",
      "Error:  tuple index out of range\n",
      "Error:  tuple index out of range\n",
      "Error:  Error: tuple index out of range \n",
      "tuple index out of range\n",
      "Error:  tuple index out of range\n",
      "Error:  tuple index out of range\n",
      "Error:  tuple index out of range\n",
      "Error:  tuple index out of range\n",
      "Error:  tuple index out of range\n",
      "Error:  tuple index out of range\n",
      "Error: Error:  tuple index out of range \n",
      "tuple index out of range\n",
      "Error:  Error:  tuple index out of range\n",
      "tuple index out of range\n",
      "Error:  tuple index out of range\n",
      "Error:  tuple index out of range\n",
      "Error:  tuple index out of range\n",
      "Error:  tuple index out of range\n",
      "Error:  tuple index out of range\n",
      "Error:  tuple index out of range\n",
      "Error:  tuple index out of range\n",
      "Error:  tuple index out of range\n",
      "Error: Error:   tuple index out of rangetuple index out of range\n",
      "\n",
      "Error:  tuple index out of range\n",
      "Error:  tuple index out of range\n",
      "Error:  tuple index out of range\n",
      "Error:  Error: tuple index out of range tuple index out of range\n",
      "\n",
      "Error: Error:   tuple index out of rangetuple index out of range\n",
      "\n",
      "Error:  tuple index out of rangeError: \n",
      " Error: tuple index out of range\n",
      " tuple index out of range\n",
      "Error:  tuple index out of range\n",
      "Error:  tuple index out of range\n",
      "Error: Error:   tuple index out of rangeError: Error: tuple index out of range\n",
      " \n",
      " tuple index out of rangetuple index out of range\n",
      "\n",
      "Error: Error:   tuple index out of rangetuple index out of rangeError: Error: \n",
      " Error: \n",
      " tuple index out of range \n",
      "tuple index out of rangetuple index out of range\n",
      "\n",
      "Error:  tuple index out of range\n",
      "Error:  tuple index out of range\n",
      "Error: Error:  Error:  tuple index out of rangeError:  tuple index out of range \n",
      "tuple index out of range\n",
      "tuple index out of range\n",
      "Error: \n",
      " tuple index out of range\n",
      "Error:  tuple index out of range\n",
      "Error:  tuple index out of range\n",
      "Error:  tuple index out of range\n",
      "Error:  tuple index out of range\n",
      "Error: Error:   tuple index out of rangetuple index out of range\n",
      "\n",
      "Error:  tuple index out of range\n",
      "Error:  tuple index out of range\n",
      "Error:  tuple index out of range\n",
      "Error:  tuple index out of range\n",
      "Error:  tuple index out of range\n",
      "Error:  tuple index out of range\n",
      "Error:  tuple index out of range\n",
      "Error: Error:  tuple index out of range\n",
      " tuple index out of range\n",
      "Error:  tuple index out of range\n",
      "Error:  tuple index out of range\n",
      "Error:  Error: tuple index out of rangeError: \n",
      "  tuple index out of rangetuple index out of range\n",
      "\n",
      "Error: Error:  tuple index out of range\n",
      " tuple index out of range\n",
      "Error: Error:  tuple index out of range Error: \n",
      " tuple index out of rangetuple index out of range\n",
      "\n",
      "Error:  Error: tuple index out of range \n",
      "Error: tuple index out of range \n",
      "tuple index out of range\n",
      "Error: Error:   tuple index out of rangetuple index out of range\n",
      "\n",
      "Error:  tuple index out of range\n",
      "Error:  tuple index out of rangeError:  \n",
      "tuple index out of rangeError: \n",
      " tuple index out of rangeError: \n",
      " tuple index out of range\n",
      "Error:  tuple index out of range\n",
      "Error:  tuple index out of range\n",
      "Error:  tuple index out of range\n",
      "Error:  tuple index out of rangeError: \n",
      " tuple index out of range\n",
      "Error:  tuple index out of range\n",
      "Error:  Error: tuple index out of range \n",
      "tuple index out of range\n",
      "Error:  tuple index out of range\n",
      "Error:  tuple index out of range\n",
      "Error:  tuple index out of range\n",
      "Error:  tuple index out of range\n",
      "Error:  tuple index out of range\n",
      "Error:  tuple index out of range\n",
      "Error: Error:  tuple index out of range tuple index out of range\n",
      "\n",
      "Error:  tuple index out of range\n",
      "Error:  tuple index out of range\n",
      "Error:  tuple index out of rangeError: \n",
      " tuple index out of range\n",
      "Error:  Error: tuple index out of range \n",
      "tuple index out of range\n",
      "Error:  Error: tuple index out of range \n",
      "tuple index out of rangeError: \n",
      " tuple index out of range\n",
      "Error:  tuple index out of range\n",
      "Error:  tuple index out of range\n",
      "Error:  tuple index out of range\n",
      "Error:  tuple index out of range\n",
      "Error:  tuple index out of range\n",
      "Error:  tuple index out of range\n",
      "Error:  tuple index out of range\n",
      "Error: Error:   tuple index out of rangetuple index out of range\n",
      "\n",
      "Error: Error:   tuple index out of rangetuple index out of range\n",
      "\n",
      "Error:  tuple index out of range\n",
      "Error: Error:   tuple index out of rangetuple index out of range\n",
      "\n",
      "Error: Error:   tuple index out of rangetuple index out of range\n",
      "\n",
      "Error:  tuple index out of range\n",
      "Error:  tuple index out of range\n",
      "Error:  Error:  tuple index out of range\n",
      "tuple index out of range\n",
      "Error:  tuple index out of range\n",
      "Error:  Error: tuple index out of range \n",
      "Error:  tuple index out of rangetuple index out of range\n",
      "\n",
      "Error:  tuple index out of rangeError: \n",
      " Error: tuple index out of range\n",
      " tuple index out of range\n",
      "Error: Error:   Error: tuple index out of rangetuple index out of range \n",
      "Error: \n",
      "tuple index out of range tuple index out of range\n",
      "\n",
      "Error: Error:   tuple index out of rangeError: tuple index out of range\n",
      "Error:  \n",
      "tuple index out of range\n",
      " tuple index out of range\n",
      "Error:  tuple index out of range\n",
      "Error:  tuple index out of range\n",
      "Error:  tuple index out of range\n",
      "Error:  Error: tuple index out of range \n",
      "tuple index out of range\n",
      "Error:  tuple index out of range\n",
      "Error:  tuple index out of range\n",
      "Error: Error:  Error:  tuple index out of rangetuple index out of range \n",
      "tuple index out of range\n",
      "Error: \n",
      " tuple index out of range\n",
      "Error:  tuple index out of range\n",
      "Error:  tuple index out of range\n",
      "Error:  tuple index out of range\n",
      "Error:  tuple index out of range\n",
      "Error:  Error: Error: tuple index out of range  \n",
      "tuple index out of rangetuple index out of rangeError: \n",
      "\n",
      " tuple index out of range\n",
      "Error:  tuple index out of range\n",
      "Error: Error: Error:    tuple index out of rangetuple index out of rangetuple index out of range\n",
      "\n",
      "\n",
      "Error:  tuple index out of range\n",
      "Error:  tuple index out of range\n",
      "Error:  tuple index out of range\n",
      "Error: Error:   Error: tuple index out of rangetuple index out of range \n",
      "\n",
      "tuple index out of range\n",
      "Error:  tuple index out of range\n",
      "Error: Error: Error:    tuple index out of rangetuple index out of rangetuple index out of range\n",
      "\n",
      "\n",
      "Error: Error:  tuple index out of range\n",
      " Error: tuple index out of range \n",
      "tuple index out of range\n",
      "Error: Error:  tuple index out of range tuple index out of range\n",
      "Error: \n",
      " tuple index out of rangeError: \n",
      " tuple index out of range\n",
      "Error: Error:   Error: tuple index out of rangetuple index out of range\n",
      "\n",
      " tuple index out of range\n",
      "Error: Error:   tuple index out of range\n",
      "tuple index out of range\n",
      "Error:  tuple index out of range\n",
      "Error:  tuple index out of range\n",
      "Error:  tuple index out of range\n",
      "Error:  tuple index out of range\n",
      "Error:  tuple index out of range\n",
      "Error:  tuple index out of range\n",
      "Error:  tuple index out of range\n",
      "Error: Error:   tuple index out of rangetuple index out of range\n",
      "\n",
      "Error:  tuple index out of rangeError: \n",
      " Error: tuple index out of range \n",
      "tuple index out of range\n",
      "Error:  tuple index out of range\n",
      "Error:  tuple index out of range\n",
      "Error:  tuple index out of range\n",
      "Error:  Error:  tuple index out of range\n",
      "tuple index out of range\n",
      "Error:  Error: tuple index out of range tuple index out of range\n",
      "Error: \n",
      " tuple index out of range\n",
      "Error:  tuple index out of range\n",
      "Error:  tuple index out of range\n",
      "Error:  Error: tuple index out of range\n",
      " tuple index out of range\n",
      "Error:  tuple index out of range\n",
      "Error:  tuple index out of range\n",
      "Error:  tuple index out of range\n",
      "Error: Error:   Error: tuple index out of rangetuple index out of range \n",
      "\n",
      "tuple index out of range\n",
      "Error:  tuple index out of range\n",
      "Error:  tuple index out of range\n",
      "Error:  tuple index out of range\n",
      "Error:  tuple index out of range\n",
      "Error:  tuple index out of range\n",
      "Error:  tuple index out of range\n",
      "Error: Error:  tuple index out of range\n",
      " tuple index out of range\n",
      "Error:  Error: tuple index out of range \n",
      "tuple index out of range\n",
      "Error:  tuple index out of range\n",
      "Error: Error:   tuple index out of rangetuple index out of range\n",
      "\n",
      "Error:  Error: tuple index out of rangeError:   \n",
      "tuple index out of rangetuple index out of range\n",
      "\n",
      "Error: Error:  tuple index out of range \n",
      "tuple index out of range\n",
      "Error: Error:   tuple index out of rangetuple index out of range\n",
      "\n",
      "Error:  tuple index out of range\n",
      "Error:  tuple index out of range\n",
      "Error: Error:   tuple index out of rangetuple index out of range\n",
      "\n",
      "Error: Error: Error:    tuple index out of rangetuple index out of rangetuple index out of range\n",
      "\n",
      "\n",
      "Error:  tuple index out of range\n",
      "Error:  tuple index out of range\n",
      "Error:  Error: tuple index out of range \n",
      "tuple index out of range\n",
      "Error:  tuple index out of range\n",
      "Error:  tuple index out of range\n",
      "Error:  tuple index out of range\n",
      "Error:  Error: tuple index out of range \n",
      "tuple index out of range\n",
      "Error:  Error: tuple index out of range tuple index out of range\n",
      "\n",
      "Error:  tuple index out of range\n",
      "Error:  tuple index out of range\n",
      "Error:  tuple index out of range\n",
      "Error: Error:  tuple index out of range\n",
      " tuple index out of range\n",
      "Error:  tuple index out of range\n",
      "Error:  tuple index out of range\n",
      "Error:  tuple index out of rangeError: \n",
      " tuple index out of range\n",
      "Error:  tuple index out of range\n",
      "Error:  tuple index out of range\n",
      "Error:  tuple index out of range\n",
      "Error: Error:  tuple index out of range \n",
      "tuple index out of range\n",
      "Error: Error: Error:    tuple index out of rangetuple index out of range\n",
      "tuple index out of range\n",
      "\n",
      "Error:  tuple index out of range\n",
      "Error: Error:   tuple index out of rangetuple index out of range\n",
      "\n",
      "Error:  tuple index out of range\n",
      "Error:  tuple index out of range\n",
      "Error:  tuple index out of range\n",
      "Error:  tuple index out of range\n",
      "Error:  tuple index out of range\n",
      "Error:  tuple index out of range\n",
      "Error:  tuple index out of range\n",
      "Error:  tuple index out of range\n",
      "Error:  tuple index out of range\n",
      "Error:  tuple index out of range\n",
      "Error:  tuple index out of range\n",
      "Error:  tuple index out of range\n",
      "Error:  tuple index out of range\n",
      "Error:  tuple index out of range\n",
      "Error:  tuple index out of range\n",
      "Error:  tuple index out of range\n",
      "Error:  tuple index out of range\n",
      "Error:  tuple index out of range\n",
      "Error:  tuple index out of range\n",
      "Error:  tuple index out of range\n",
      "Error:  tuple index out of range\n",
      "Error:  tuple index out of range\n",
      "Error:  tuple index out of range\n",
      "Error:  tuple index out of range\n",
      "Error:  tuple index out of range\n",
      "Error:  tuple index out of range\n",
      "Error:  tuple index out of range\n",
      "Error:  tuple index out of range\n",
      "Error:  tuple index out of range\n",
      "Error:  tuple index out of range\n",
      "Error:  tuple index out of range\n",
      "Error:  tuple index out of range\n",
      "Error:  tuple index out of range\n",
      "Error:  tuple index out of range\n",
      "Error:  tuple index out of range\n",
      "Error:  tuple index out of range\n",
      "Error:  tuple index out of range\n",
      "Error:  tuple index out of range\n",
      "Error:  tuple index out of range\n",
      "Error:  tuple index out of range\n",
      "Error:  tuple index out of rangeError: \n",
      " tuple index out of range\n",
      "Error:  tuple index out of range\n",
      "Error:  Error: tuple index out of range \n",
      "tuple index out of range\n",
      "Error:  tuple index out of range\n",
      "Error:  tuple index out of range\n",
      "Error:  tuple index out of range\n",
      "Error:  tuple index out of range\n",
      "Error:  tuple index out of range\n",
      "Error:  tuple index out of range\n",
      "Error:  tuple index out of range\n",
      "Error:  tuple index out of range\n",
      "Error:  tuple index out of range\n",
      "Error: Error:   tuple index out of rangetuple index out of range\n",
      "\n",
      "Error:  tuple index out of range\n",
      "Error:  tuple index out of range\n",
      "Error:  tuple index out of range\n",
      "Error: Error:   tuple index out of rangetuple index out of range\n",
      "\n",
      "Error:  tuple index out of range\n",
      "Error:  tuple index out of range\n",
      "Error:  tuple index out of range\n",
      "Error:  tuple index out of range\n",
      "Error:  tuple index out of range\n",
      "Error:  tuple index out of range\n",
      "Error:  tuple index out of range\n",
      "Error:  tuple index out of range\n",
      "Error:  tuple index out of range\n",
      "Error:  tuple index out of range\n",
      "Error:  tuple index out of range\n",
      "Error:  tuple index out of range\n",
      "Error:  tuple index out of range\n",
      "Error:  tuple index out of range\n",
      "Error:  tuple index out of range\n",
      "Error:  tuple index out of range\n",
      "Error:  tuple index out of range\n",
      "Error:  tuple index out of rangeError: \n",
      " tuple index out of range\n",
      "Error:  tuple index out of range\n",
      "Error:  tuple index out of range\n",
      "Error:  tuple index out of range\n",
      "Error:  tuple index out of range\n",
      "Error:  tuple index out of range\n",
      "Error:  tuple index out of range\n",
      "Error:  tuple index out of range\n",
      "Error:  tuple index out of range\n",
      "Error:  tuple index out of range\n",
      "Error:  tuple index out of range\n",
      "Error:  tuple index out of range\n",
      "Error:  tuple index out of range\n",
      "Error:  tuple index out of range\n",
      "Error:  tuple index out of range\n",
      "Error:  tuple index out of range\n",
      "Error:  tuple index out of range\n",
      "Error:  tuple index out of range\n",
      "Error:  tuple index out of range\n",
      "Error:  tuple index out of range\n",
      "Error:  tuple index out of range\n",
      "Error:  tuple index out of rangeError: \n",
      " tuple index out of range\n",
      "Error:  tuple index out of range\n",
      "Error:  tuple index out of range\n",
      "Error:  tuple index out of range\n",
      "Error:  tuple index out of range\n",
      "Error:  tuple index out of range\n",
      "Error:  tuple index out of range\n",
      "Error:  tuple index out of range\n",
      "Error:  tuple index out of range\n",
      "Error:  tuple index out of range\n",
      "Error:  tuple index out of range\n",
      "Error:  tuple index out of range\n",
      "Error:  tuple index out of range\n",
      "Error:  tuple index out of range\n",
      "Error:  tuple index out of range\n",
      "Error:  tuple index out of range\n",
      "Error:  tuple index out of range\n",
      "Error:  tuple index out of range\n",
      "Error:  tuple index out of range\n",
      "Error:  tuple index out of range\n",
      "Error:  tuple index out of range\n",
      "Error:  tuple index out of range\n",
      "Error:  tuple index out of range\n",
      "Error:  tuple index out of range\n",
      "Error:  tuple index out of range\n",
      "Error:  tuple index out of range\n",
      "Error:  tuple index out of range\n",
      "Error:  tuple index out of range\n",
      "Error:  tuple index out of range\n",
      "Error:  tuple index out of range\n",
      "Error:  tuple index out of range\n",
      "Error:  tuple index out of range\n",
      "Error:  tuple index out of range\n",
      "Error:  tuple index out of range\n",
      "Error:  tuple index out of range\n",
      "Error:  tuple index out of range\n",
      "Error:  tuple index out of range\n",
      "Error:  tuple index out of range\n",
      "Error:  tuple index out of range\n",
      "Error:  tuple index out of range\n",
      "Error:  tuple index out of range\n",
      "Error:  tuple index out of range\n",
      "Error:  tuple index out of range\n",
      "Error:  tuple index out of range\n",
      "methods2test_runnable fine-tuning bigcode/starcoder2-15b\n",
      "../data/methods2test_runnable/generated/fine-tuning/bigcode/starcoder2-15b\n",
      "['.DS_Store', 'generation_config_diff.json', 'generation_config.json', '00001-of-00001.test.jsonl', 'model_config_diff.json', 'model_config.json']\n",
      "Loading file:  00001-of-00001.test.jsonl\n"
     ]
    },
    {
     "data": {
      "application/vnd.jupyter.widget-view+json": {
       "model_id": "fc70cc9d13394a45a39f4450f642dcb4",
       "version_major": 2,
       "version_minor": 0
      },
      "text/plain": [
       "VBox(children=(HBox(children=(IntProgress(value=0, description='0.00%', max=684), Label(value='0 / 684'))), HB…"
      ]
     },
     "metadata": {},
     "output_type": "display_data"
    },
    {
     "name": "stdout",
     "output_type": "stream",
     "text": [
      "methods2test_runnable pre-trained meta-llama/CodeLLama-7b-hf\n",
      "../data/methods2test_runnable/generated/pre-trained/meta-llama/CodeLLama-7b-hf\n",
      "['.DS_Store', '00001-of-00002.test.jsonl', '00002-of-00002.test.jsonl', 'generation_config_diff.json', 'generation_config.json', 'model_config_diff.json', 'model_config.json']\n",
      "Loading file:  00001-of-00002.test.jsonl\n",
      "Loading file:  00002-of-00002.test.jsonl\n"
     ]
    },
    {
     "data": {
      "application/vnd.jupyter.widget-view+json": {
       "model_id": "498d4269db354cc8852c8b62a34ea5dc",
       "version_major": 2,
       "version_minor": 0
      },
      "text/plain": [
       "VBox(children=(HBox(children=(IntProgress(value=0, description='0.00%', max=677), Label(value='0 / 677'))), HB…"
      ]
     },
     "metadata": {},
     "output_type": "display_data"
    },
    {
     "name": "stdout",
     "output_type": "stream",
     "text": [
      "methods2test_runnable ia3 bigcode/starcoder2-7b\n",
      "../data/methods2test_runnable/generated/ia3/bigcode/starcoder2-7b\n",
      "['.DS_Store', '00001-of-00002.test.jsonl', '00002-of-00002.test.jsonl', 'generation_config_diff.json', 'generation_config.json', 'adapter_config.json', 'model_config_diff.json', 'model_config.json']\n",
      "Loading file:  00001-of-00002.test.jsonl\n",
      "Loading file:  00002-of-00002.test.jsonl\n"
     ]
    },
    {
     "data": {
      "application/vnd.jupyter.widget-view+json": {
       "model_id": "2679f2855ba0438287cbfe16731f1d98",
       "version_major": 2,
       "version_minor": 0
      },
      "text/plain": [
       "VBox(children=(HBox(children=(IntProgress(value=0, description='0.00%', max=684), Label(value='0 / 684'))), HB…"
      ]
     },
     "metadata": {},
     "output_type": "display_data"
    },
    {
     "name": "stdout",
     "output_type": "stream",
     "text": [
      "methods2test_runnable pre-trained bigcode/starcoder2-7b\n",
      "../data/methods2test_runnable/generated/pre-trained/bigcode/starcoder2-7b\n",
      "['.DS_Store', '00001-of-00002.test.jsonl', '00002-of-00002.test.jsonl', 'generation_config_diff.json', 'generation_config.json', 'model_config_diff.json', 'model_config.json']\n",
      "Loading file:  00001-of-00002.test.jsonl\n",
      "Loading file:  00002-of-00002.test.jsonl\n"
     ]
    },
    {
     "data": {
      "application/vnd.jupyter.widget-view+json": {
       "model_id": "f19dc6aa59e24cdc8b0dfe6496d0d111",
       "version_major": 2,
       "version_minor": 0
      },
      "text/plain": [
       "VBox(children=(HBox(children=(IntProgress(value=0, description='0.00%', max=684), Label(value='0 / 684'))), HB…"
      ]
     },
     "metadata": {},
     "output_type": "display_data"
    },
    {
     "name": "stdout",
     "output_type": "stream",
     "text": [
      "methods2test_runnable fine-tuning bigcode/starcoderbase\n",
      "../data/methods2test_runnable/generated/fine-tuning/bigcode/starcoderbase\n",
      "['.DS_Store', 'generation_config_diff.json', 'generation_config.json', '00001-of-00001.test.jsonl', 'model_config_diff.json', 'model_config.json']\n",
      "Loading file:  00001-of-00001.test.jsonl\n"
     ]
    },
    {
     "data": {
      "application/vnd.jupyter.widget-view+json": {
       "model_id": "0d9079a537d345be9a1b3d72a4d995a3",
       "version_major": 2,
       "version_minor": 0
      },
      "text/plain": [
       "VBox(children=(HBox(children=(IntProgress(value=0, description='0.00%', max=684), Label(value='0 / 684'))), HB…"
      ]
     },
     "metadata": {},
     "output_type": "display_data"
    },
    {
     "name": "stdout",
     "output_type": "stream",
     "text": [
      "methods2test_runnable lora Salesforce/codegen2-3_7B_P\n",
      "../data/methods2test_runnable/generated/lora/Salesforce/codegen2-3_7B_P\n",
      "['.DS_Store', '00001-of-00002.test.jsonl', '00002-of-00002.test.jsonl', 'generation_config_diff.json', 'generation_config.json', 'adapter_config.json', 'model_config_diff.json', 'model_config.json']\n",
      "Loading file:  00001-of-00002.test.jsonl\n",
      "Loading file:  00002-of-00002.test.jsonl\n"
     ]
    },
    {
     "data": {
      "application/vnd.jupyter.widget-view+json": {
       "model_id": "d798aa1ccda240ed88b6d71dae37e33f",
       "version_major": 2,
       "version_minor": 0
      },
      "text/plain": [
       "VBox(children=(HBox(children=(IntProgress(value=0, description='0.00%', max=680), Label(value='0 / 680'))), HB…"
      ]
     },
     "metadata": {},
     "output_type": "display_data"
    },
    {
     "name": "stdout",
     "output_type": "stream",
     "text": [
      "methods2test_runnable lora bigcode/starcoder2-15b\n",
      "../data/methods2test_runnable/generated/lora/bigcode/starcoder2-15b\n",
      "['.DS_Store', 'generation_config_diff.json', 'generation_config.json', 'adapter_config.json', '00001-of-00001.test.jsonl', 'model_config_diff.json', 'model_config.json']\n",
      "Loading file:  00001-of-00001.test.jsonl\n"
     ]
    },
    {
     "data": {
      "application/vnd.jupyter.widget-view+json": {
       "model_id": "d36fa821ba734d39bf0e528a3eda5e7c",
       "version_major": 2,
       "version_minor": 0
      },
      "text/plain": [
       "VBox(children=(HBox(children=(IntProgress(value=0, description='0.00%', max=684), Label(value='0 / 684'))), HB…"
      ]
     },
     "metadata": {},
     "output_type": "display_data"
    },
    {
     "name": "stdout",
     "output_type": "stream",
     "text": [
      "methods2test_runnable lora bigcode/starcoderbase\n",
      "../data/methods2test_runnable/generated/lora/bigcode/starcoderbase\n",
      "['.DS_Store', 'generation_config_diff.json', 'generation_config.json', 'adapter_config.json', '00001-of-00001.test.jsonl', 'model_config_diff.json', 'model_config.json']\n",
      "Loading file:  00001-of-00001.test.jsonl\n"
     ]
    },
    {
     "data": {
      "application/vnd.jupyter.widget-view+json": {
       "model_id": "aa4e120e243f4cb0a5e191d86eaa7fe7",
       "version_major": 2,
       "version_minor": 0
      },
      "text/plain": [
       "VBox(children=(HBox(children=(IntProgress(value=0, description='0.00%', max=684), Label(value='0 / 684'))), HB…"
      ]
     },
     "metadata": {},
     "output_type": "display_data"
    },
    {
     "name": "stdout",
     "output_type": "stream",
     "text": [
      "methods2test_runnable fine-tuning Salesforce/codegen2-3_7B_P\n",
      "../data/methods2test_runnable/generated/fine-tuning/Salesforce/codegen2-3_7B_P\n",
      "['.DS_Store', '00001-of-00002.test.jsonl', '00002-of-00002.test.jsonl', 'generation_config_diff.json', 'generation_config.json', 'model_config_diff.json', 'model_config.json']\n",
      "Loading file:  00001-of-00002.test.jsonl\n",
      "Loading file:  00002-of-00002.test.jsonl\n"
     ]
    },
    {
     "data": {
      "application/vnd.jupyter.widget-view+json": {
       "model_id": "28f1a11bb95b4a2aab8d448761ba3263",
       "version_major": 2,
       "version_minor": 0
      },
      "text/plain": [
       "VBox(children=(HBox(children=(IntProgress(value=0, description='0.00%', max=680), Label(value='0 / 680'))), HB…"
      ]
     },
     "metadata": {},
     "output_type": "display_data"
    },
    {
     "name": "stdout",
     "output_type": "stream",
     "text": [
      "Error:  tuple index out of range\n",
      "Error:  tuple index out of range\n",
      "Error:  tuple index out of range\n",
      "Error:  tuple index out of range\n",
      "Error:  tuple index out of range\n",
      "Error:  tuple index out of range\n",
      "Error:  tuple index out of range\n",
      "Error:  tuple index out of range\n",
      "Error:  tuple index out of range\n",
      "Error:  tuple index out of range\n",
      "Error:  tuple index out of range\n",
      "Error:  tuple index out of range\n",
      "Error:  tuple index out of range\n",
      "Error:  tuple index out of range\n",
      "Error:  tuple index out of range\n",
      "Error:  tuple index out of range\n",
      "Error:  tuple index out of range\n",
      "Error:  tuple index out of range\n",
      "Error:  tuple index out of range\n",
      "Error:  tuple index out of range\n",
      "Error:  tuple index out of range\n",
      "Error:  tuple index out of range\n"
     ]
    }
   ],
   "source": [
    "import os\n",
    "from pathlib import Path\n",
    "from tqdm.auto import tqdm\n",
    "import os\n",
    "\n",
    "root, dirs, files = next(os.walk(\"../data\"))\n",
    "datasets = dirs\n",
    "\n",
    "for dataset in datasets:\n",
    "    dataset_path = Path(root, dataset, \"generated\")\n",
    "    \n",
    "    paths = []\n",
    "    for d_root, dirnames, filenames in os.walk(dataset_path):\n",
    "        # only keep \"output\" directories\n",
    "        path = Path(d_root)\n",
    "        #print(path.parts)\n",
    "        if len(path.parts) == 7:\n",
    "            paths.append(path)\n",
    "\n",
    "    paths = list(set(paths))\n",
    "\n",
    "    valid_syntax_data = {}\n",
    "    for path in tqdm(paths):\n",
    "        path = path.parts\n",
    "        method = path[4]\n",
    "        model = path[5] + \"/\" + path[6]\n",
    "        print(dataset, method, model)\n",
    "        unfixable, total = fix_data(dataset, method, model)\n",
    "\n",
    "        valid_syntax_data.setdefault(model, {})\n",
    "        percentage = unfixable / total if total > 0 else 0\n",
    "        valid_syntax_data[model][method] = percentage\n",
    "\n",
    "    valid_df = pd.DataFrame(valid_syntax_data)\n",
    "    valid_df.T.to_csv(Path(root, dataset, \"valid_syntax.csv\"), index_label = 'model')"
   ]
  },
  {
   "cell_type": "code",
   "execution_count": null,
   "metadata": {},
   "outputs": [],
   "source": []
  }
 ],
 "metadata": {
  "kernelspec": {
   "display_name": ".venv",
   "language": "python",
   "name": "python3"
  },
  "language_info": {
   "codemirror_mode": {
    "name": "ipython",
    "version": 3
   },
   "file_extension": ".py",
   "mimetype": "text/x-python",
   "name": "python",
   "nbconvert_exporter": "python",
   "pygments_lexer": "ipython3",
   "version": "3.9.13"
  }
 },
 "nbformat": 4,
 "nbformat_minor": 2
}
