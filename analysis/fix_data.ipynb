{
 "cells": [
  {
   "cell_type": "code",
   "execution_count": 1,
   "metadata": {},
   "outputs": [],
   "source": [
    "import pathlib\n",
    "import sys\n",
    "import os\n",
    "parser_dir = pathlib.Path(os.path.dirname(os.path.abspath(\"__file__\"))) / 'java-universal-parser' / 'parser'\n",
    "sys.path.append(str(parser_dir))"
   ]
  },
  {
   "cell_type": "code",
   "execution_count": 2,
   "metadata": {},
   "outputs": [],
   "source": [
    "from python3.JavaLexer import JavaLexer\n",
    "from python3.JavaParser import JavaParser\n",
    "\n",
    "from antlr4 import InputStream, CommonTokenStream"
   ]
  },
  {
   "cell_type": "code",
   "execution_count": 3,
   "metadata": {},
   "outputs": [],
   "source": [
    "from antlr4.error.ErrorListener import ErrorListener\n",
    "\n",
    "class MyErrorListener( ErrorListener ):\n",
    "\n",
    "    def __init__(self):\n",
    "        super(MyErrorListener, self).__init__()\n",
    "\n",
    "    def syntaxError(self, recognizer, offendingSymbol, line, column, msg, e):\n",
    "        #print(\"line \" + str(line) + \":\" + str(column) + \" \" + msg, file=sys.stderr)\n",
    "        raise Exception(\"Oh no!!\", line, column)\n"
   ]
  },
  {
   "cell_type": "code",
   "execution_count": 4,
   "metadata": {},
   "outputs": [],
   "source": [
    "def check_syntax(code):\n",
    "    try:\n",
    "        input_stream = InputStream(code)\n",
    "        lexer = JavaLexer(input_stream)\n",
    "        lexer.removeErrorListeners() # remove default error listener\n",
    "        lexer.addErrorListener( MyErrorListener() )\n",
    "        stream = CommonTokenStream(lexer)\n",
    "        parser = JavaParser(stream)\n",
    "        parser.removeErrorListeners()\n",
    "        parser.addErrorListener( MyErrorListener() )\n",
    "        parser.compilationUnit()\n",
    "    except Exception as e:\n",
    "        line = e.args[1]\n",
    "        return False, line\n",
    "    return True, None"
   ]
  },
  {
   "cell_type": "code",
   "execution_count": 5,
   "metadata": {},
   "outputs": [],
   "source": [
    "inner_brace = \"\\n    }\"\n",
    "outer_brace = \"\\n\\n}\"\n",
    "\n",
    "\n",
    "def get_brace_count(code, start_level=0):\n",
    "    count = start_level\n",
    "    for char in code:\n",
    "        if char == \"{\":\n",
    "            count += 1\n",
    "        if char == \"}\":\n",
    "            count -= 1\n",
    "    return count\n",
    "\n",
    "def balance_braces(code, start_level=0):\n",
    "    count = get_brace_count(code, start_level)\n",
    "    if count == 0:\n",
    "        #print(\"Well formed code\",)\n",
    "        return code\n",
    "    \n",
    "    lines = code.splitlines(keepends=True)\n",
    "    #print(\"Lines: \", len(lines))\n",
    "    for line in reversed(range(len(lines))):\n",
    "        candidate = \"\".join(lines)\n",
    "        count = get_brace_count(candidate, start_level)\n",
    "        #print(\"Count: \", count)\n",
    "        #print(\"Line idx: \", line)\n",
    "        if count == 0:\n",
    "            #print(\"0\")\n",
    "            return candidate\n",
    "        elif count == 1:\n",
    "            #print(\"1\")\n",
    "            candidate += outer_brace\n",
    "            return candidate\n",
    "        elif count == 2:\n",
    "            #print(\"2\")\n",
    "            candidate += inner_brace\n",
    "            candidate += outer_brace\n",
    "            return candidate\n",
    "        lines.pop()\n",
    "\n",
    "    return False\n"
   ]
  },
  {
   "cell_type": "code",
   "execution_count": 6,
   "metadata": {},
   "outputs": [],
   "source": [
    "def well_formed_code(code):\n",
    "    success, bad_line = check_syntax(code)\n",
    "    lines = code.splitlines(keepends=False) \n",
    "    if not success:\n",
    "        # Trim the code to the bad line\n",
    "        lines = lines[:bad_line-1]\n",
    "\n",
    "        if len(lines) <= 1:\n",
    "            return False, None\n",
    "\n",
    "        else:\n",
    "            balanced_code = balance_braces(\"\\n\".join(lines))\n",
    "            success, bad_line = check_syntax(balanced_code)\n",
    "\n",
    "            if not success:\n",
    "                return well_formed_code(\"\\n\".join(lines))\n",
    "            else:\n",
    "                return True, balanced_code\n",
    "\n",
    "    else:\n",
    "        return True, code"
   ]
  },
  {
   "cell_type": "markdown",
   "metadata": {},
   "source": [
    "# fixed"
   ]
  },
  {
   "cell_type": "code",
   "execution_count": 7,
   "metadata": {},
   "outputs": [
    {
     "name": "stdout",
     "output_type": "stream",
     "text": [
      "INFO: Pandarallel will run on 10 workers.\n",
      "INFO: Pandarallel will use standard multiprocessing data transfer (pipe) to transfer data between the main process and workers.\n"
     ]
    }
   ],
   "source": [
    "from tqdm.auto import tqdm\n",
    "tqdm.pandas()\n",
    "\n",
    "from pandarallel import pandarallel\n",
    "pandarallel.initialize(progress_bar=True)\n",
    "\n",
    "def well_formed_fix(code):\n",
    "    prefix = \"\"\"class dummyTest {\n",
    "        @Test\n",
    "        public void dummy() {\n",
    "    \"\"\"\n",
    "    code = prefix + code\n",
    "    try:\n",
    "        status, res = well_formed_code(code)\n",
    "    \n",
    "        if status:\n",
    "            res_trimmed = res.removeprefix(prefix)\n",
    "            return res_trimmed\n",
    "        else:\n",
    "            return None\n",
    "    except Exception as e:\n",
    "            print(\"Error: \", e)\n",
    "            return None\n"
   ]
  },
  {
   "cell_type": "code",
   "execution_count": 8,
   "metadata": {},
   "outputs": [],
   "source": [
    "import os\n",
    "import pandas as pd\n",
    "from pathlib import Path\n",
    "import re\n",
    "\n",
    "\n",
    "def fix_data(dataset, method, model):\n",
    "    regex = r\"^(\\d+)-of-(\\d+).test.jsonl$\"\n",
    "    path= Path(\"../data/\" + str(dataset) +  \"/generated/\" + str(method) +  \"/\" + str(model))\n",
    "    files = os.listdir(path)\n",
    "\n",
    "    \n",
    "    dfs = []\n",
    "    for file in files:\n",
    "        matches = re.search(regex, file)\n",
    "        if matches:\n",
    "            df = pd.read_json(path / file, orient='records', lines=True, dtype=False)\n",
    "            dfs.append(df)\n",
    "\n",
    "\n",
    "    df = pd.concat(dfs, axis=0).set_index('id')\n",
    "    df.sort_index(inplace=True)\n",
    "    df = df[~df.index.duplicated(keep='first')]\n",
    "    df = df[[\"prompt\", \"reference\", \"prediction\"]]\n",
    "\n",
    "    total = df.shape[0]\n",
    "    \n",
    "    df[\"prediction\"] = df[\"prediction\"].parallel_apply(well_formed_fix)\n",
    "    \n",
    "    # remove \"}\\n\\n}\" and none values\n",
    "    fixed_df = df[df[\"prediction\"]!=\"}\\n\\n}\"]\n",
    "    fixed_df = fixed_df[fixed_df[\"prediction\"].notnull()]\n",
    "    \n",
    "    num_fixed = fixed_df.shape[0]\n",
    "    \n",
    "    # save fixed predictions as jsonl\n",
    "    \n",
    "    save_path= Path(\"../data/\" + str(dataset) +  \"/fixed/\" + str(method) +  \"/\" + str(model))\n",
    "    save_path.mkdir(parents=True, exist_ok=True)\n",
    "    \n",
    "    fixed_df.reset_index().to_json(save_path / \"00001-of-00001.jsonl\", orient='records', lines=True)\n",
    "    return (num_fixed, total)\n"
   ]
  },
  {
   "cell_type": "code",
   "execution_count": 9,
   "metadata": {},
   "outputs": [
    {
     "data": {
      "application/vnd.jupyter.widget-view+json": {
       "model_id": "a3aaf6cfe1354555a02123bb63188ec3",
       "version_major": 2,
       "version_minor": 0
      },
      "text/plain": [
       "  0%|          | 0/50 [00:00<?, ?it/s]"
      ]
     },
     "metadata": {},
     "output_type": "display_data"
    },
    {
     "name": "stdout",
     "output_type": "stream",
     "text": [
      "humaneval-x prompt-tuning Salesforce/codegen2-16B_P\n"
     ]
    },
    {
     "data": {
      "application/vnd.jupyter.widget-view+json": {
       "model_id": "0fe83d58d159454380832346916f179b",
       "version_major": 2,
       "version_minor": 0
      },
      "text/plain": [
       "VBox(children=(HBox(children=(IntProgress(value=0, description='0.00%', max=17), Label(value='0 / 17'))), HBox…"
      ]
     },
     "metadata": {},
     "output_type": "display_data"
    },
    {
     "name": "stdout",
     "output_type": "stream",
     "text": [
      "humaneval-x prompt-tuning Salesforce/codegen2-7B_P\n"
     ]
    },
    {
     "data": {
      "application/vnd.jupyter.widget-view+json": {
       "model_id": "9c9b3f3da1d243f48330bd5c1aa72d36",
       "version_major": 2,
       "version_minor": 0
      },
      "text/plain": [
       "VBox(children=(HBox(children=(IntProgress(value=0, description='0.00%', max=17), Label(value='0 / 17'))), HBox…"
      ]
     },
     "metadata": {},
     "output_type": "display_data"
    },
    {
     "name": "stdout",
     "output_type": "stream",
     "text": [
      "humaneval-x fine-tuning bigcode/starcoder2-3b\n"
     ]
    },
    {
     "data": {
      "application/vnd.jupyter.widget-view+json": {
       "model_id": "c370c77de64f4c2b84b21e7c4c01454d",
       "version_major": 2,
       "version_minor": 0
      },
      "text/plain": [
       "VBox(children=(HBox(children=(IntProgress(value=0, description='0.00%', max=17), Label(value='0 / 17'))), HBox…"
      ]
     },
     "metadata": {},
     "output_type": "display_data"
    },
    {
     "name": "stdout",
     "output_type": "stream",
     "text": [
      "humaneval-x fine-tuning metal-llama/CodeLlama-7b-hf\n"
     ]
    },
    {
     "data": {
      "application/vnd.jupyter.widget-view+json": {
       "model_id": "5b337d13ef7c4f64aaac67105e0600ca",
       "version_major": 2,
       "version_minor": 0
      },
      "text/plain": [
       "VBox(children=(HBox(children=(IntProgress(value=0, description='0.00%', max=17), Label(value='0 / 17'))), HBox…"
      ]
     },
     "metadata": {},
     "output_type": "display_data"
    },
    {
     "name": "stdout",
     "output_type": "stream",
     "text": [
      "humaneval-x prompt-tuning bigcode/starcoder2-15b\n"
     ]
    },
    {
     "data": {
      "application/vnd.jupyter.widget-view+json": {
       "model_id": "59a6fb2fa5b94f4796350e082e2a1115",
       "version_major": 2,
       "version_minor": 0
      },
      "text/plain": [
       "VBox(children=(HBox(children=(IntProgress(value=0, description='0.00%', max=17), Label(value='0 / 17'))), HBox…"
      ]
     },
     "metadata": {},
     "output_type": "display_data"
    },
    {
     "name": "stdout",
     "output_type": "stream",
     "text": [
      "humaneval-x prompt-tuning bigcode/starcoder2-3b\n"
     ]
    },
    {
     "data": {
      "application/vnd.jupyter.widget-view+json": {
       "model_id": "662c14e1c8ff4f009cecdbff0ae87341",
       "version_major": 2,
       "version_minor": 0
      },
      "text/plain": [
       "VBox(children=(HBox(children=(IntProgress(value=0, description='0.00%', max=17), Label(value='0 / 17'))), HBox…"
      ]
     },
     "metadata": {},
     "output_type": "display_data"
    },
    {
     "name": "stdout",
     "output_type": "stream",
     "text": [
      "humaneval-x prompt-tuning Salesforce/codegen2-3_7B_P\n"
     ]
    },
    {
     "data": {
      "application/vnd.jupyter.widget-view+json": {
       "model_id": "b05eac58bf5c4d7bbd142acd237ad31c",
       "version_major": 2,
       "version_minor": 0
      },
      "text/plain": [
       "VBox(children=(HBox(children=(IntProgress(value=0, description='0.00%', max=17), Label(value='0 / 17'))), HBox…"
      ]
     },
     "metadata": {},
     "output_type": "display_data"
    },
    {
     "name": "stdout",
     "output_type": "stream",
     "text": [
      "humaneval-x pre-trained bigcode/starcoderbase\n"
     ]
    },
    {
     "data": {
      "application/vnd.jupyter.widget-view+json": {
       "model_id": "8ffd343c073d4f78b4f72cc8660e00fa",
       "version_major": 2,
       "version_minor": 0
      },
      "text/plain": [
       "VBox(children=(HBox(children=(IntProgress(value=0, description='0.00%', max=17), Label(value='0 / 17'))), HBox…"
      ]
     },
     "metadata": {},
     "output_type": "display_data"
    },
    {
     "name": "stdout",
     "output_type": "stream",
     "text": [
      "humaneval-x ia3 bigcode/starcoder2-15b\n"
     ]
    },
    {
     "data": {
      "application/vnd.jupyter.widget-view+json": {
       "model_id": "88cc6a73022a4d4b87faa07841afd63f",
       "version_major": 2,
       "version_minor": 0
      },
      "text/plain": [
       "VBox(children=(HBox(children=(IntProgress(value=0, description='0.00%', max=17), Label(value='0 / 17'))), HBox…"
      ]
     },
     "metadata": {},
     "output_type": "display_data"
    },
    {
     "name": "stdout",
     "output_type": "stream",
     "text": [
      "humaneval-x pre-trained Salesforce/codegen2-1B_P\n"
     ]
    },
    {
     "data": {
      "application/vnd.jupyter.widget-view+json": {
       "model_id": "56d69a086e844b8796501d6f16369706",
       "version_major": 2,
       "version_minor": 0
      },
      "text/plain": [
       "VBox(children=(HBox(children=(IntProgress(value=0, description='0.00%', max=17), Label(value='0 / 17'))), HBox…"
      ]
     },
     "metadata": {},
     "output_type": "display_data"
    },
    {
     "name": "stdout",
     "output_type": "stream",
     "text": [
      "Error:  tuple index out of range\n",
      "Error:  tuple index out of range\n",
      "Error:  tuple index out of range\n",
      "Error:  tuple index out of range\n",
      "humaneval-x pre-trained bigcode/starcoder2-3b\n"
     ]
    },
    {
     "data": {
      "application/vnd.jupyter.widget-view+json": {
       "model_id": "cd6d4e0bf65b446a97058f19b999a48e",
       "version_major": 2,
       "version_minor": 0
      },
      "text/plain": [
       "VBox(children=(HBox(children=(IntProgress(value=0, description='0.00%', max=17), Label(value='0 / 17'))), HBox…"
      ]
     },
     "metadata": {},
     "output_type": "display_data"
    },
    {
     "name": "stdout",
     "output_type": "stream",
     "text": [
      "humaneval-x lora bigcode/starcoder2-3b\n"
     ]
    },
    {
     "data": {
      "application/vnd.jupyter.widget-view+json": {
       "model_id": "f0402e6fbffe4f87a63c28755868ab28",
       "version_major": 2,
       "version_minor": 0
      },
      "text/plain": [
       "VBox(children=(HBox(children=(IntProgress(value=0, description='0.00%', max=17), Label(value='0 / 17'))), HBox…"
      ]
     },
     "metadata": {},
     "output_type": "display_data"
    },
    {
     "name": "stdout",
     "output_type": "stream",
     "text": [
      "humaneval-x fine-tuning Salesforce/codegen-350M-multi\n"
     ]
    },
    {
     "data": {
      "application/vnd.jupyter.widget-view+json": {
       "model_id": "a81c3c8f8870437ebf2ebcab11bfb8a1",
       "version_major": 2,
       "version_minor": 0
      },
      "text/plain": [
       "VBox(children=(HBox(children=(IntProgress(value=0, description='0.00%', max=17), Label(value='0 / 17'))), HBox…"
      ]
     },
     "metadata": {},
     "output_type": "display_data"
    },
    {
     "name": "stdout",
     "output_type": "stream",
     "text": [
      "humaneval-x lora bigcode/starcoder2-15b\n"
     ]
    },
    {
     "data": {
      "application/vnd.jupyter.widget-view+json": {
       "model_id": "82040b24ee3b4deaae5c5b7ea24de9d6",
       "version_major": 2,
       "version_minor": 0
      },
      "text/plain": [
       "VBox(children=(HBox(children=(IntProgress(value=0, description='0.00%', max=17), Label(value='0 / 17'))), HBox…"
      ]
     },
     "metadata": {},
     "output_type": "display_data"
    },
    {
     "name": "stdout",
     "output_type": "stream",
     "text": [
      "humaneval-x prompt-tuning bigcode/starcoderbase\n"
     ]
    },
    {
     "data": {
      "application/vnd.jupyter.widget-view+json": {
       "model_id": "81e42063eee0451b8855cc9e94b12b1a",
       "version_major": 2,
       "version_minor": 0
      },
      "text/plain": [
       "VBox(children=(HBox(children=(IntProgress(value=0, description='0.00%', max=17), Label(value='0 / 17'))), HBox…"
      ]
     },
     "metadata": {},
     "output_type": "display_data"
    },
    {
     "name": "stdout",
     "output_type": "stream",
     "text": [
      "humaneval-x pre-trained Salesforce/codegen2-7B_P\n"
     ]
    },
    {
     "data": {
      "application/vnd.jupyter.widget-view+json": {
       "model_id": "ee6560d6813646f88ca218861c4f9f43",
       "version_major": 2,
       "version_minor": 0
      },
      "text/plain": [
       "VBox(children=(HBox(children=(IntProgress(value=0, description='0.00%', max=17), Label(value='0 / 17'))), HBox…"
      ]
     },
     "metadata": {},
     "output_type": "display_data"
    },
    {
     "name": "stdout",
     "output_type": "stream",
     "text": [
      "humaneval-x pre-trained Salesforce/codegen2-3_7B_P\n"
     ]
    },
    {
     "data": {
      "application/vnd.jupyter.widget-view+json": {
       "model_id": "603e4cbd51814517b13d84298e914e1e",
       "version_major": 2,
       "version_minor": 0
      },
      "text/plain": [
       "VBox(children=(HBox(children=(IntProgress(value=0, description='0.00%', max=17), Label(value='0 / 17'))), HBox…"
      ]
     },
     "metadata": {},
     "output_type": "display_data"
    },
    {
     "name": "stdout",
     "output_type": "stream",
     "text": [
      "humaneval-x fine-tuning bigcode/starcoder2-15b\n"
     ]
    },
    {
     "data": {
      "application/vnd.jupyter.widget-view+json": {
       "model_id": "a7e50a1db98446e9b2434d284c50592e",
       "version_major": 2,
       "version_minor": 0
      },
      "text/plain": [
       "VBox(children=(HBox(children=(IntProgress(value=0, description='0.00%', max=17), Label(value='0 / 17'))), HBox…"
      ]
     },
     "metadata": {},
     "output_type": "display_data"
    },
    {
     "name": "stdout",
     "output_type": "stream",
     "text": [
      "humaneval-x prompt-tuning bigcode/starcoder2-7b\n"
     ]
    },
    {
     "data": {
      "application/vnd.jupyter.widget-view+json": {
       "model_id": "954c856087c04bc38f4615a9b95e8346",
       "version_major": 2,
       "version_minor": 0
      },
      "text/plain": [
       "VBox(children=(HBox(children=(IntProgress(value=0, description='0.00%', max=17), Label(value='0 / 17'))), HBox…"
      ]
     },
     "metadata": {},
     "output_type": "display_data"
    },
    {
     "name": "stdout",
     "output_type": "stream",
     "text": [
      "humaneval-x ia3 bigcode/starcoder2-3b\n"
     ]
    },
    {
     "data": {
      "application/vnd.jupyter.widget-view+json": {
       "model_id": "eaaff1071d0a42648f736b66698d47ae",
       "version_major": 2,
       "version_minor": 0
      },
      "text/plain": [
       "VBox(children=(HBox(children=(IntProgress(value=0, description='0.00%', max=17), Label(value='0 / 17'))), HBox…"
      ]
     },
     "metadata": {},
     "output_type": "display_data"
    },
    {
     "name": "stdout",
     "output_type": "stream",
     "text": [
      "humaneval-x fine-tuning Salesforce/codegen2-16B_P\n"
     ]
    },
    {
     "data": {
      "application/vnd.jupyter.widget-view+json": {
       "model_id": "b23b009f6c5e47b2a7b2c780d913532f",
       "version_major": 2,
       "version_minor": 0
      },
      "text/plain": [
       "VBox(children=(HBox(children=(IntProgress(value=0, description='0.00%', max=17), Label(value='0 / 17'))), HBox…"
      ]
     },
     "metadata": {},
     "output_type": "display_data"
    },
    {
     "name": "stdout",
     "output_type": "stream",
     "text": [
      "humaneval-x prompt-tuning Salesforce/codegen-350M-multi\n"
     ]
    },
    {
     "data": {
      "application/vnd.jupyter.widget-view+json": {
       "model_id": "1ef50a9a0e9a4d5ca421bc19ef96be94",
       "version_major": 2,
       "version_minor": 0
      },
      "text/plain": [
       "VBox(children=(HBox(children=(IntProgress(value=0, description='0.00%', max=17), Label(value='0 / 17'))), HBox…"
      ]
     },
     "metadata": {},
     "output_type": "display_data"
    },
    {
     "name": "stdout",
     "output_type": "stream",
     "text": [
      "humaneval-x lora metal-llama/CodeLlama-7b-hf\n"
     ]
    },
    {
     "data": {
      "application/vnd.jupyter.widget-view+json": {
       "model_id": "f1dc8dbcbc7842699a86c5efd758e48c",
       "version_major": 2,
       "version_minor": 0
      },
      "text/plain": [
       "VBox(children=(HBox(children=(IntProgress(value=0, description='0.00%', max=17), Label(value='0 / 17'))), HBox…"
      ]
     },
     "metadata": {},
     "output_type": "display_data"
    },
    {
     "name": "stdout",
     "output_type": "stream",
     "text": [
      "humaneval-x ia3 Salesforce/codegen2-1B_P\n"
     ]
    },
    {
     "data": {
      "application/vnd.jupyter.widget-view+json": {
       "model_id": "38e87038432c47d299b8182d5861ac45",
       "version_major": 2,
       "version_minor": 0
      },
      "text/plain": [
       "VBox(children=(HBox(children=(IntProgress(value=0, description='0.00%', max=17), Label(value='0 / 17'))), HBox…"
      ]
     },
     "metadata": {},
     "output_type": "display_data"
    },
    {
     "name": "stdout",
     "output_type": "stream",
     "text": [
      "humaneval-x pre-trained bigcode/starcoder2-15b\n"
     ]
    },
    {
     "data": {
      "application/vnd.jupyter.widget-view+json": {
       "model_id": "f1ccb24d406f4c9dadd0bf11f6e75f6f",
       "version_major": 2,
       "version_minor": 0
      },
      "text/plain": [
       "VBox(children=(HBox(children=(IntProgress(value=0, description='0.00%', max=17), Label(value='0 / 17'))), HBox…"
      ]
     },
     "metadata": {},
     "output_type": "display_data"
    },
    {
     "name": "stdout",
     "output_type": "stream",
     "text": [
      "humaneval-x pre-trained Salesforce/codegen-350M-multi\n"
     ]
    },
    {
     "data": {
      "application/vnd.jupyter.widget-view+json": {
       "model_id": "3fa2f50cda2042a1ac5b5487d46f93ff",
       "version_major": 2,
       "version_minor": 0
      },
      "text/plain": [
       "VBox(children=(HBox(children=(IntProgress(value=0, description='0.00%', max=17), Label(value='0 / 17'))), HBox…"
      ]
     },
     "metadata": {},
     "output_type": "display_data"
    },
    {
     "name": "stdout",
     "output_type": "stream",
     "text": [
      "humaneval-x pre-trained bigcode/starcoder2-7b\n"
     ]
    },
    {
     "data": {
      "application/vnd.jupyter.widget-view+json": {
       "model_id": "a9a411ed5005426293e011192df3145a",
       "version_major": 2,
       "version_minor": 0
      },
      "text/plain": [
       "VBox(children=(HBox(children=(IntProgress(value=0, description='0.00%', max=17), Label(value='0 / 17'))), HBox…"
      ]
     },
     "metadata": {},
     "output_type": "display_data"
    },
    {
     "name": "stdout",
     "output_type": "stream",
     "text": [
      "humaneval-x ia3 bigcode/starcoder2-7b\n"
     ]
    },
    {
     "data": {
      "application/vnd.jupyter.widget-view+json": {
       "model_id": "ec0ca87f347248589bea82d68b3318e6",
       "version_major": 2,
       "version_minor": 0
      },
      "text/plain": [
       "VBox(children=(HBox(children=(IntProgress(value=0, description='0.00%', max=17), Label(value='0 / 17'))), HBox…"
      ]
     },
     "metadata": {},
     "output_type": "display_data"
    },
    {
     "name": "stdout",
     "output_type": "stream",
     "text": [
      "humaneval-x lora Salesforce/codegen2-3_7B_P\n"
     ]
    },
    {
     "data": {
      "application/vnd.jupyter.widget-view+json": {
       "model_id": "b8dd06b6fe4d470699b702f8d8bcce21",
       "version_major": 2,
       "version_minor": 0
      },
      "text/plain": [
       "VBox(children=(HBox(children=(IntProgress(value=0, description='0.00%', max=17), Label(value='0 / 17'))), HBox…"
      ]
     },
     "metadata": {},
     "output_type": "display_data"
    },
    {
     "name": "stdout",
     "output_type": "stream",
     "text": [
      "humaneval-x lora Salesforce/codegen2-16B_P\n"
     ]
    },
    {
     "data": {
      "application/vnd.jupyter.widget-view+json": {
       "model_id": "8978441e9e4247fc959a9b278a7343a1",
       "version_major": 2,
       "version_minor": 0
      },
      "text/plain": [
       "VBox(children=(HBox(children=(IntProgress(value=0, description='0.00%', max=17), Label(value='0 / 17'))), HBox…"
      ]
     },
     "metadata": {},
     "output_type": "display_data"
    },
    {
     "name": "stdout",
     "output_type": "stream",
     "text": [
      "humaneval-x lora Salesforce/codegen-350M-multi\n"
     ]
    },
    {
     "data": {
      "application/vnd.jupyter.widget-view+json": {
       "model_id": "53f04256d6e6456aa56435be186f26e8",
       "version_major": 2,
       "version_minor": 0
      },
      "text/plain": [
       "VBox(children=(HBox(children=(IntProgress(value=0, description='0.00%', max=17), Label(value='0 / 17'))), HBox…"
      ]
     },
     "metadata": {},
     "output_type": "display_data"
    },
    {
     "name": "stdout",
     "output_type": "stream",
     "text": [
      "humaneval-x ia3 Salesforce/codegen2-3_7B_P\n"
     ]
    },
    {
     "data": {
      "application/vnd.jupyter.widget-view+json": {
       "model_id": "52fd52d29e214cc59c110149a05a7006",
       "version_major": 2,
       "version_minor": 0
      },
      "text/plain": [
       "VBox(children=(HBox(children=(IntProgress(value=0, description='0.00%', max=17), Label(value='0 / 17'))), HBox…"
      ]
     },
     "metadata": {},
     "output_type": "display_data"
    },
    {
     "name": "stdout",
     "output_type": "stream",
     "text": [
      "humaneval-x fine-tuning Salesforce/codegen2-1B_P\n"
     ]
    },
    {
     "data": {
      "application/vnd.jupyter.widget-view+json": {
       "model_id": "a975c3fa010f4f87a7e84fe183dc2e3a",
       "version_major": 2,
       "version_minor": 0
      },
      "text/plain": [
       "VBox(children=(HBox(children=(IntProgress(value=0, description='0.00%', max=17), Label(value='0 / 17'))), HBox…"
      ]
     },
     "metadata": {},
     "output_type": "display_data"
    },
    {
     "name": "stdout",
     "output_type": "stream",
     "text": [
      "humaneval-x fine-tuning Salesforce/codegen2-7B_P\n"
     ]
    },
    {
     "data": {
      "application/vnd.jupyter.widget-view+json": {
       "model_id": "3dd3ffdb59914a2ba7c4b6a2eed6055c",
       "version_major": 2,
       "version_minor": 0
      },
      "text/plain": [
       "VBox(children=(HBox(children=(IntProgress(value=0, description='0.00%', max=17), Label(value='0 / 17'))), HBox…"
      ]
     },
     "metadata": {},
     "output_type": "display_data"
    },
    {
     "name": "stdout",
     "output_type": "stream",
     "text": [
      "humaneval-x pre-trained metal-llama/CodeLlama-7b-hf\n"
     ]
    },
    {
     "data": {
      "application/vnd.jupyter.widget-view+json": {
       "model_id": "37b966eead0b40a3b99802fd9a56338c",
       "version_major": 2,
       "version_minor": 0
      },
      "text/plain": [
       "VBox(children=(HBox(children=(IntProgress(value=0, description='0.00%', max=17), Label(value='0 / 17'))), HBox…"
      ]
     },
     "metadata": {},
     "output_type": "display_data"
    },
    {
     "name": "stdout",
     "output_type": "stream",
     "text": [
      "humaneval-x prompt-tuning Salesforce/codegen2-1B_P\n"
     ]
    },
    {
     "data": {
      "application/vnd.jupyter.widget-view+json": {
       "model_id": "eac6f96012cf47dc97616c4fa0ea5f9e",
       "version_major": 2,
       "version_minor": 0
      },
      "text/plain": [
       "VBox(children=(HBox(children=(IntProgress(value=0, description='0.00%', max=17), Label(value='0 / 17'))), HBox…"
      ]
     },
     "metadata": {},
     "output_type": "display_data"
    },
    {
     "name": "stdout",
     "output_type": "stream",
     "text": [
      "humaneval-x lora bigcode/starcoderbase\n"
     ]
    },
    {
     "data": {
      "application/vnd.jupyter.widget-view+json": {
       "model_id": "a8bb1cf569b84989950970091ced63c5",
       "version_major": 2,
       "version_minor": 0
      },
      "text/plain": [
       "VBox(children=(HBox(children=(IntProgress(value=0, description='0.00%', max=17), Label(value='0 / 17'))), HBox…"
      ]
     },
     "metadata": {},
     "output_type": "display_data"
    },
    {
     "name": "stdout",
     "output_type": "stream",
     "text": [
      "humaneval-x lora Salesforce/codegen2-1B_P\n"
     ]
    },
    {
     "data": {
      "application/vnd.jupyter.widget-view+json": {
       "model_id": "49be972d96c2439391a7abd6ce2373a5",
       "version_major": 2,
       "version_minor": 0
      },
      "text/plain": [
       "VBox(children=(HBox(children=(IntProgress(value=0, description='0.00%', max=17), Label(value='0 / 17'))), HBox…"
      ]
     },
     "metadata": {},
     "output_type": "display_data"
    },
    {
     "name": "stdout",
     "output_type": "stream",
     "text": [
      "humaneval-x prompt-tuning metal-llama/CodeLlama-7b-hf\n"
     ]
    },
    {
     "data": {
      "application/vnd.jupyter.widget-view+json": {
       "model_id": "5e1baac11a3f4df39f76cd325c023afa",
       "version_major": 2,
       "version_minor": 0
      },
      "text/plain": [
       "VBox(children=(HBox(children=(IntProgress(value=0, description='0.00%', max=17), Label(value='0 / 17'))), HBox…"
      ]
     },
     "metadata": {},
     "output_type": "display_data"
    },
    {
     "name": "stdout",
     "output_type": "stream",
     "text": [
      "humaneval-x fine-tuning Salesforce/codegen2-3_7B_P\n"
     ]
    },
    {
     "data": {
      "application/vnd.jupyter.widget-view+json": {
       "model_id": "f58ec7d7bdfd4558b41c7b51a522a6c1",
       "version_major": 2,
       "version_minor": 0
      },
      "text/plain": [
       "VBox(children=(HBox(children=(IntProgress(value=0, description='0.00%', max=17), Label(value='0 / 17'))), HBox…"
      ]
     },
     "metadata": {},
     "output_type": "display_data"
    },
    {
     "name": "stdout",
     "output_type": "stream",
     "text": [
      "Error:  tuple index out of range\n",
      "humaneval-x pre-trained Salesforce/codegen2-16B_P\n"
     ]
    },
    {
     "data": {
      "application/vnd.jupyter.widget-view+json": {
       "model_id": "4ff43c87d4e9473a85a2323273f28425",
       "version_major": 2,
       "version_minor": 0
      },
      "text/plain": [
       "VBox(children=(HBox(children=(IntProgress(value=0, description='0.00%', max=17), Label(value='0 / 17'))), HBox…"
      ]
     },
     "metadata": {},
     "output_type": "display_data"
    },
    {
     "name": "stdout",
     "output_type": "stream",
     "text": [
      "humaneval-x lora bigcode/starcoder2-7b\n"
     ]
    },
    {
     "data": {
      "application/vnd.jupyter.widget-view+json": {
       "model_id": "91c8e64187514db992087bae7204c502",
       "version_major": 2,
       "version_minor": 0
      },
      "text/plain": [
       "VBox(children=(HBox(children=(IntProgress(value=0, description='0.00%', max=17), Label(value='0 / 17'))), HBox…"
      ]
     },
     "metadata": {},
     "output_type": "display_data"
    },
    {
     "name": "stdout",
     "output_type": "stream",
     "text": [
      "humaneval-x fine-tuning bigcode/starcoder2-7b\n"
     ]
    },
    {
     "data": {
      "application/vnd.jupyter.widget-view+json": {
       "model_id": "7cc237d3d0a54bcf85bbad2f2f0d2e80",
       "version_major": 2,
       "version_minor": 0
      },
      "text/plain": [
       "VBox(children=(HBox(children=(IntProgress(value=0, description='0.00%', max=17), Label(value='0 / 17'))), HBox…"
      ]
     },
     "metadata": {},
     "output_type": "display_data"
    },
    {
     "name": "stdout",
     "output_type": "stream",
     "text": [
      "humaneval-x ia3 metal-llama/CodeLlama-7b-hf\n"
     ]
    },
    {
     "data": {
      "application/vnd.jupyter.widget-view+json": {
       "model_id": "90834b1dba84488ab94ef8f69d9463a9",
       "version_major": 2,
       "version_minor": 0
      },
      "text/plain": [
       "VBox(children=(HBox(children=(IntProgress(value=0, description='0.00%', max=17), Label(value='0 / 17'))), HBox…"
      ]
     },
     "metadata": {},
     "output_type": "display_data"
    },
    {
     "name": "stdout",
     "output_type": "stream",
     "text": [
      "humaneval-x fine-tuning bigcode/starcoderbase\n"
     ]
    },
    {
     "data": {
      "application/vnd.jupyter.widget-view+json": {
       "model_id": "496ead6b54be48f78675ea38ac9c7eb6",
       "version_major": 2,
       "version_minor": 0
      },
      "text/plain": [
       "VBox(children=(HBox(children=(IntProgress(value=0, description='0.00%', max=17), Label(value='0 / 17'))), HBox…"
      ]
     },
     "metadata": {},
     "output_type": "display_data"
    },
    {
     "name": "stdout",
     "output_type": "stream",
     "text": [
      "humaneval-x ia3 bigcode/starcoderbase\n"
     ]
    },
    {
     "data": {
      "application/vnd.jupyter.widget-view+json": {
       "model_id": "b82b9c2d63304b899220297283dfc399",
       "version_major": 2,
       "version_minor": 0
      },
      "text/plain": [
       "VBox(children=(HBox(children=(IntProgress(value=0, description='0.00%', max=17), Label(value='0 / 17'))), HBox…"
      ]
     },
     "metadata": {},
     "output_type": "display_data"
    },
    {
     "name": "stdout",
     "output_type": "stream",
     "text": [
      "humaneval-x ia3 Salesforce/codegen2-16B_P\n"
     ]
    },
    {
     "data": {
      "application/vnd.jupyter.widget-view+json": {
       "model_id": "bad6102283d34cf6bd42968250600839",
       "version_major": 2,
       "version_minor": 0
      },
      "text/plain": [
       "VBox(children=(HBox(children=(IntProgress(value=0, description='0.00%', max=17), Label(value='0 / 17'))), HBox…"
      ]
     },
     "metadata": {},
     "output_type": "display_data"
    },
    {
     "name": "stdout",
     "output_type": "stream",
     "text": [
      "humaneval-x lora Salesforce/codegen2-7B_P\n"
     ]
    },
    {
     "data": {
      "application/vnd.jupyter.widget-view+json": {
       "model_id": "69d5c10147b64c5bbf117722f1d68fd4",
       "version_major": 2,
       "version_minor": 0
      },
      "text/plain": [
       "VBox(children=(HBox(children=(IntProgress(value=0, description='0.00%', max=17), Label(value='0 / 17'))), HBox…"
      ]
     },
     "metadata": {},
     "output_type": "display_data"
    },
    {
     "name": "stdout",
     "output_type": "stream",
     "text": [
      "humaneval-x ia3 Salesforce/codegen-350M-multi\n"
     ]
    },
    {
     "data": {
      "application/vnd.jupyter.widget-view+json": {
       "model_id": "3dced013f30740bf95c537f21790af05",
       "version_major": 2,
       "version_minor": 0
      },
      "text/plain": [
       "VBox(children=(HBox(children=(IntProgress(value=0, description='0.00%', max=17), Label(value='0 / 17'))), HBox…"
      ]
     },
     "metadata": {},
     "output_type": "display_data"
    },
    {
     "name": "stdout",
     "output_type": "stream",
     "text": [
      "humaneval-x ia3 Salesforce/codegen2-7B_P\n"
     ]
    },
    {
     "data": {
      "application/vnd.jupyter.widget-view+json": {
       "model_id": "c6648fcc551c44a49dd4f5f1b9da606a",
       "version_major": 2,
       "version_minor": 0
      },
      "text/plain": [
       "VBox(children=(HBox(children=(IntProgress(value=0, description='0.00%', max=17), Label(value='0 / 17'))), HBox…"
      ]
     },
     "metadata": {},
     "output_type": "display_data"
    },
    {
     "data": {
      "application/vnd.jupyter.widget-view+json": {
       "model_id": "8d9f955772004d70adf8115d30697084",
       "version_major": 2,
       "version_minor": 0
      },
      "text/plain": [
       "  0%|          | 0/50 [00:00<?, ?it/s]"
      ]
     },
     "metadata": {},
     "output_type": "display_data"
    },
    {
     "name": "stdout",
     "output_type": "stream",
     "text": [
      "methods2test_runnable lora bigcode/starcoder2-3b\n"
     ]
    },
    {
     "data": {
      "application/vnd.jupyter.widget-view+json": {
       "model_id": "73daf84c947f42fcb20b25ba3cc5f9da",
       "version_major": 2,
       "version_minor": 0
      },
      "text/plain": [
       "VBox(children=(HBox(children=(IntProgress(value=0, description='0.00%', max=304), Label(value='0 / 304'))), HB…"
      ]
     },
     "metadata": {},
     "output_type": "display_data"
    },
    {
     "name": "stdout",
     "output_type": "stream",
     "text": [
      "methods2test_runnable lora bigcode/starcoderbase\n"
     ]
    },
    {
     "data": {
      "application/vnd.jupyter.widget-view+json": {
       "model_id": "6511ef450cdf41789cf5f03623e9829f",
       "version_major": 2,
       "version_minor": 0
      },
      "text/plain": [
       "VBox(children=(HBox(children=(IntProgress(value=0, description='0.00%', max=304), Label(value='0 / 304'))), HB…"
      ]
     },
     "metadata": {},
     "output_type": "display_data"
    },
    {
     "name": "stdout",
     "output_type": "stream",
     "text": [
      "methods2test_runnable lora Salesforce/codegen2-7B_P\n"
     ]
    },
    {
     "data": {
      "application/vnd.jupyter.widget-view+json": {
       "model_id": "fbfea887d9984b9892d93f6fa10594ef",
       "version_major": 2,
       "version_minor": 0
      },
      "text/plain": [
       "VBox(children=(HBox(children=(IntProgress(value=0, description='0.00%', max=303), Label(value='0 / 303'))), HB…"
      ]
     },
     "metadata": {},
     "output_type": "display_data"
    },
    {
     "name": "stdout",
     "output_type": "stream",
     "text": [
      "methods2test_runnable prompt-tuning meta-llama/CodeLlama-7b-hf\n"
     ]
    },
    {
     "data": {
      "application/vnd.jupyter.widget-view+json": {
       "model_id": "ca0b256bd25f4edd84d4caab87cf9817",
       "version_major": 2,
       "version_minor": 0
      },
      "text/plain": [
       "VBox(children=(HBox(children=(IntProgress(value=0, description='0.00%', max=302), Label(value='0 / 302'))), HB…"
      ]
     },
     "metadata": {},
     "output_type": "display_data"
    },
    {
     "name": "stdout",
     "output_type": "stream",
     "text": [
      "methods2test_runnable pre-trained Salesforce/codegen2-1B_P\n"
     ]
    },
    {
     "data": {
      "application/vnd.jupyter.widget-view+json": {
       "model_id": "01ef8096893b47d1800c543cb9fd1d32",
       "version_major": 2,
       "version_minor": 0
      },
      "text/plain": [
       "VBox(children=(HBox(children=(IntProgress(value=0, description='0.00%', max=303), Label(value='0 / 303'))), HB…"
      ]
     },
     "metadata": {},
     "output_type": "display_data"
    },
    {
     "name": "stdout",
     "output_type": "stream",
     "text": [
      "Error:  tuple index out of range\n",
      "Error:  tuple index out of range\n",
      "Error:  tuple index out of range\n",
      "Error:  tuple index out of range\n",
      "Error:  tuple index out of range\n",
      "Error:  tuple index out of range\n",
      "Error:  tuple index out of range\n",
      "Error:  tuple index out of range\n",
      "Error:  tuple index out of range\n",
      "Error:  tuple index out of rangeError: \n",
      " tuple index out of range\n",
      "Error:  tuple index out of range\n",
      "Error:  tuple index out of range\n",
      "Error:  Error: tuple index out of range\n",
      " tuple index out of range\n",
      "Error:  tuple index out of range\n",
      "Error:  tuple index out of rangeError: \n",
      " Error: tuple index out of range \n",
      "tuple index out of range\n",
      "Error: Error:   tuple index out of rangetuple index out of range\n",
      "\n",
      "Error:  Error:  tuple index out of rangetuple index out of range\n",
      "\n",
      "Error:  tuple index out of range\n",
      "Error: Error:   tuple index out of range\n",
      "tuple index out of range\n",
      "Error:  tuple index out of rangeError: \n",
      " tuple index out of range\n",
      "Error:  tuple index out of range\n",
      "Error: Error:   tuple index out of rangetuple index out of range\n",
      "\n",
      "Error: Error:   tuple index out of range\n",
      "tuple index out of rangeError: \n",
      " tuple index out of range\n",
      "Error:  tuple index out of rangeError: \n",
      " tuple index out of range\n",
      "Error:  tuple index out of range\n",
      "Error: Error:   tuple index out of rangetuple index out of range\n",
      "\n",
      "Error: Error:   tuple index out of rangetuple index out of range\n",
      "\n",
      "Error:  tuple index out of range\n",
      "Error:  tuple index out of range\n",
      "Error:  tuple index out of range\n",
      "Error:  tuple index out of range\n",
      "Error:  tuple index out of range\n",
      "Error:  tuple index out of range\n",
      "Error:  tuple index out of range\n",
      "Error:  tuple index out of range\n",
      "Error:  Error:  tuple index out of rangetuple index out of range\n",
      "\n",
      "Error: Error:   tuple index out of rangetuple index out of range\n",
      "\n",
      "Error: Error:   tuple index out of rangetuple index out of range\n",
      "\n",
      "Error:  tuple index out of range\n",
      "Error:  tuple index out of range\n",
      "Error:  tuple index out of range\n",
      "Error:  tuple index out of range\n",
      "Error:  Error: tuple index out of range \n",
      "tuple index out of range\n",
      "Error:  tuple index out of range\n",
      "Error:  Error: tuple index out of range \n",
      "tuple index out of range\n",
      "Error:  Error:  tuple index out of range\n",
      "tuple index out of range\n",
      "Error:  tuple index out of range\n",
      "Error:  tuple index out of range\n",
      "Error:  tuple index out of range\n",
      "Error:  tuple index out of range\n",
      "Error:  Error: tuple index out of range tuple index out of range\n",
      "\n",
      "Error:  tuple index out of rangeError: \n",
      "Error:   tuple index out of rangetuple index out of range\n",
      "\n",
      "Error:  tuple index out of range\n",
      "Error: Error:   tuple index out of rangetuple index out of range\n",
      "\n",
      "Error:  tuple index out of range\n",
      "Error:  tuple index out of range\n",
      "Error: Error: Error:    tuple index out of rangetuple index out of rangetuple index out of range\n",
      "\n",
      "\n",
      "Error:  tuple index out of range\n",
      "Error:  tuple index out of range\n",
      "Error:  tuple index out of range\n",
      "Error:  tuple index out of range\n",
      "Error: Error:  tuple index out of range\n",
      " tuple index out of range\n",
      "Error: Error:   tuple index out of rangetuple index out of range\n",
      "\n",
      "Error:  tuple index out of range\n",
      "Error:  tuple index out of range\n",
      "Error:  tuple index out of range\n",
      "Error:  Error: tuple index out of range\n",
      " tuple index out of range\n",
      "Error:  tuple index out of range\n",
      "Error:  tuple index out of range\n",
      "Error:  tuple index out of range\n",
      "Error:  tuple index out of range\n",
      "Error:  tuple index out of range\n",
      "Error:  Error: tuple index out of range \n",
      "tuple index out of range\n",
      "Error: Error:   tuple index out of rangetuple index out of range\n",
      "\n",
      "Error:  tuple index out of range\n",
      "Error:  tuple index out of range\n",
      "Error:  tuple index out of range\n",
      "Error:  tuple index out of range\n",
      "Error:  Error: tuple index out of range \n",
      "tuple index out of range\n",
      "Error:  tuple index out of range\n",
      "Error:  tuple index out of range\n",
      "Error:  tuple index out of range\n",
      "Error:  tuple index out of range\n",
      "Error:  tuple index out of range\n",
      "Error:  Error: tuple index out of range \n",
      "tuple index out of range\n",
      "Error:  Error: tuple index out of range tuple index out of range\n",
      "\n",
      "Error:  tuple index out of rangeError: \n",
      " tuple index out of range\n",
      "Error: Error:   tuple index out of rangetuple index out of range\n",
      "\n",
      "Error: Error:  Error:  tuple index out of range tuple index out of range\n",
      "tuple index out of rangeError: \n",
      "\n",
      " tuple index out of range\n",
      "Error:  tuple index out of range\n",
      "Error:  tuple index out of range\n",
      "Error:  tuple index out of range\n",
      "Error:  tuple index out of range\n",
      "Error:  tuple index out of range\n",
      "Error:  tuple index out of range\n",
      "Error: Error:  tuple index out of range\n",
      "Error:  tuple index out of range\n",
      " tuple index out of range\n",
      "Error:  Error:  tuple index out of range\n",
      "tuple index out of range\n",
      "Error:  tuple index out of range\n",
      "Error:  tuple index out of range\n",
      "Error: Error:   tuple index out of rangetuple index out of range\n",
      "\n",
      "Error:  tuple index out of range\n",
      "Error:  tuple index out of rangeError: \n",
      "Error:   tuple index out of rangetuple index out of range\n",
      "\n",
      "Error:  tuple index out of range\n",
      "Error:  tuple index out of range\n",
      "Error:  tuple index out of range\n",
      "Error: Error:   tuple index out of range\n",
      "tuple index out of range\n",
      "Error:  tuple index out of rangeError:  Error: \n",
      "tuple index out of range tuple index out of range\n",
      "\n",
      "Error:  tuple index out of range\n",
      "Error:  tuple index out of range\n",
      "Error:  tuple index out of range\n",
      "Error:  tuple index out of range\n",
      "Error:  tuple index out of range\n",
      "Error: Error:   Error: tuple index out of rangetuple index out of range \n",
      "\n",
      "tuple index out of rangeError: Error: \n",
      "  tuple index out of rangetuple index out of range\n",
      "Error: \n",
      " tuple index out of rangeError: \n",
      " tuple index out of range\n",
      "Error:  tuple index out of range\n",
      "Error:  tuple index out of range\n",
      "Error: Error:   tuple index out of range\n",
      "tuple index out of range\n",
      "Error:  tuple index out of range\n",
      "Error:  tuple index out of range\n",
      "Error:  tuple index out of range\n",
      "Error:  tuple index out of range\n",
      "Error:  tuple index out of range\n",
      "Error:  Error:  tuple index out of rangetuple index out of range\n",
      "\n",
      "Error:  tuple index out of range\n",
      "Error:  tuple index out of range\n",
      "Error: Error:  tuple index out of range \n",
      "tuple index out of range\n",
      "Error:  Error: tuple index out of range \n",
      "tuple index out of range\n",
      "Error:  Error: tuple index out of range\n",
      " tuple index out of range\n",
      "Error:  tuple index out of range\n",
      "Error:  tuple index out of range\n",
      "Error:  tuple index out of range\n",
      "Error:  tuple index out of range\n",
      "Error:  tuple index out of range\n",
      "Error: Error:   tuple index out of rangetuple index out of range\n",
      "Error: \n",
      " tuple index out of range\n",
      "Error:  tuple index out of range\n",
      "Error:  tuple index out of range\n",
      "Error:  tuple index out of range\n",
      "Error:  Error: tuple index out of range Error:  \n",
      "tuple index out of rangetuple index out of range\n",
      "\n",
      "Error: Error:   tuple index out of rangetuple index out of rangeError: \n",
      "\n",
      " tuple index out of range\n",
      "Error: Error:   tuple index out of rangetuple index out of range\n",
      "\n",
      "Error:  tuple index out of range\n",
      "Error:  tuple index out of range\n",
      "Error:  tuple index out of range\n",
      "Error:  tuple index out of rangeError: \n",
      " tuple index out of range\n",
      "Error:  tuple index out of range\n",
      "Error:  tuple index out of range\n",
      "Error:  tuple index out of range\n",
      "Error: Error:   tuple index out of range\n",
      "tuple index out of range\n",
      "Error:  tuple index out of range\n",
      "Error:  Error: tuple index out of range\n",
      " tuple index out of range\n",
      "Error:  Error: tuple index out of range \n",
      "tuple index out of range\n",
      "Error:  tuple index out of range\n",
      "Error: Error:   Error: tuple index out of rangetuple index out of range \n",
      "\n",
      "tuple index out of range\n",
      "Error:  tuple index out of range\n",
      "Error:  tuple index out of range\n",
      "Error:  tuple index out of range\n",
      "Error:  tuple index out of range\n",
      "Error:  tuple index out of range\n",
      "Error:  tuple index out of range\n",
      "Error:  tuple index out of range\n",
      "Error:  tuple index out of range\n",
      "Error:  tuple index out of range\n",
      "Error:  tuple index out of range\n",
      "Error:  tuple index out of rangeError: \n",
      " tuple index out of rangeError: \n",
      " tuple index out of range\n",
      "Error:  tuple index out of range\n",
      "Error:  tuple index out of range\n",
      "Error:  tuple index out of range\n",
      "Error:  tuple index out of range\n",
      "Error:  tuple index out of range\n",
      "Error:  tuple index out of range\n",
      "Error:  Error: tuple index out of range \n",
      "tuple index out of range\n",
      "Error:  tuple index out of range\n",
      "Error:  tuple index out of range\n",
      "Error:  Error: tuple index out of rangeError:  \n",
      "tuple index out of range \n",
      "tuple index out of range\n",
      "Error:  Error: tuple index out of range tuple index out of range\n",
      "\n",
      "Error:  tuple index out of range\n",
      "Error:  tuple index out of range\n",
      "Error:  tuple index out of range\n",
      "Error:  tuple index out of range\n",
      "Error:  tuple index out of range\n",
      "Error:  tuple index out of range\n",
      "Error:  tuple index out of rangeError: \n",
      " tuple index out of range\n",
      "Error:  tuple index out of range\n",
      "Error:  tuple index out of range\n",
      "Error:  tuple index out of range\n",
      "Error:  tuple index out of range\n",
      "Error:  tuple index out of range\n",
      "Error:  tuple index out of range\n",
      "Error: Error:   tuple index out of rangetuple index out of range\n",
      "\n",
      "Error:  tuple index out of range\n",
      "Error:  tuple index out of range\n",
      "Error:  tuple index out of range\n",
      "Error: Error:   tuple index out of rangetuple index out of range\n",
      "\n",
      "Error:  tuple index out of range\n",
      "Error: Error:   tuple index out of rangetuple index out of range\n",
      "\n",
      "Error:  tuple index out of range\n",
      "Error:  tuple index out of range\n",
      "Error:  tuple index out of range\n",
      "Error:  tuple index out of range\n",
      "Error:  tuple index out of range\n",
      "Error:  tuple index out of range\n",
      "Error:  tuple index out of range\n",
      "Error:  tuple index out of range\n",
      "Error:  tuple index out of range\n",
      "Error:  Error: tuple index out of range\n",
      " tuple index out of range\n",
      "Error:  tuple index out of range\n",
      "Error:  tuple index out of range\n",
      "Error:  tuple index out of range\n",
      "Error:  tuple index out of range\n",
      "Error:  tuple index out of range\n",
      "Error:  tuple index out of range\n",
      "Error:  tuple index out of range\n",
      "Error:  tuple index out of range\n",
      "Error:  tuple index out of range\n",
      "Error:  tuple index out of range\n",
      "Error:  tuple index out of range\n",
      "Error:  tuple index out of range\n",
      "methods2test_runnable fine-tuning Salesforce/codegen2-1B_P\n"
     ]
    },
    {
     "data": {
      "application/vnd.jupyter.widget-view+json": {
       "model_id": "223bde4aa4984737b31c18e0d583d47f",
       "version_major": 2,
       "version_minor": 0
      },
      "text/plain": [
       "VBox(children=(HBox(children=(IntProgress(value=0, description='0.00%', max=303), Label(value='0 / 303'))), HB…"
      ]
     },
     "metadata": {},
     "output_type": "display_data"
    },
    {
     "name": "stdout",
     "output_type": "stream",
     "text": [
      "methods2test_runnable fine-tuning Salesforce/codegen-350M-multi\n"
     ]
    },
    {
     "data": {
      "application/vnd.jupyter.widget-view+json": {
       "model_id": "fd856c55580e48cfa34c6fe9baace3b9",
       "version_major": 2,
       "version_minor": 0
      },
      "text/plain": [
       "VBox(children=(HBox(children=(IntProgress(value=0, description='0.00%', max=303), Label(value='0 / 303'))), HB…"
      ]
     },
     "metadata": {},
     "output_type": "display_data"
    },
    {
     "name": "stdout",
     "output_type": "stream",
     "text": [
      "methods2test_runnable fine-tuning Salesforce/codegen2-16B_P\n"
     ]
    },
    {
     "data": {
      "application/vnd.jupyter.widget-view+json": {
       "model_id": "cad79a6ecb23451dbdba0942cf23f62b",
       "version_major": 2,
       "version_minor": 0
      },
      "text/plain": [
       "VBox(children=(HBox(children=(IntProgress(value=0, description='0.00%', max=303), Label(value='0 / 303'))), HB…"
      ]
     },
     "metadata": {},
     "output_type": "display_data"
    },
    {
     "name": "stdout",
     "output_type": "stream",
     "text": [
      "methods2test_runnable pre-trained bigcode/starcoderbase\n"
     ]
    },
    {
     "data": {
      "application/vnd.jupyter.widget-view+json": {
       "model_id": "3e02a46099044a798515491654bd05ac",
       "version_major": 2,
       "version_minor": 0
      },
      "text/plain": [
       "VBox(children=(HBox(children=(IntProgress(value=0, description='0.00%', max=304), Label(value='0 / 304'))), HB…"
      ]
     },
     "metadata": {},
     "output_type": "display_data"
    },
    {
     "name": "stdout",
     "output_type": "stream",
     "text": [
      "methods2test_runnable ia3 Salesforce/codegen-350M-multi\n"
     ]
    },
    {
     "data": {
      "application/vnd.jupyter.widget-view+json": {
       "model_id": "94061f3efbe64494ab8dde938f4dacea",
       "version_major": 2,
       "version_minor": 0
      },
      "text/plain": [
       "VBox(children=(HBox(children=(IntProgress(value=0, description='0.00%', max=303), Label(value='0 / 303'))), HB…"
      ]
     },
     "metadata": {},
     "output_type": "display_data"
    },
    {
     "name": "stdout",
     "output_type": "stream",
     "text": [
      "methods2test_runnable pre-trained Salesforce/codegen2-16B_P\n"
     ]
    },
    {
     "data": {
      "application/vnd.jupyter.widget-view+json": {
       "model_id": "222b29577f8e4d299a4a274e9a1634c2",
       "version_major": 2,
       "version_minor": 0
      },
      "text/plain": [
       "VBox(children=(HBox(children=(IntProgress(value=0, description='0.00%', max=303), Label(value='0 / 303'))), HB…"
      ]
     },
     "metadata": {},
     "output_type": "display_data"
    },
    {
     "name": "stdout",
     "output_type": "stream",
     "text": [
      "methods2test_runnable ia3 bigcode/starcoderbase\n"
     ]
    },
    {
     "data": {
      "application/vnd.jupyter.widget-view+json": {
       "model_id": "cb1516cece64480ab247fdda27f3c30f",
       "version_major": 2,
       "version_minor": 0
      },
      "text/plain": [
       "VBox(children=(HBox(children=(IntProgress(value=0, description='0.00%', max=304), Label(value='0 / 304'))), HB…"
      ]
     },
     "metadata": {},
     "output_type": "display_data"
    },
    {
     "name": "stdout",
     "output_type": "stream",
     "text": [
      "methods2test_runnable fine-tuning bigcode/starcoder2-7b\n"
     ]
    },
    {
     "data": {
      "application/vnd.jupyter.widget-view+json": {
       "model_id": "52c9c65a398f4da48fe3654ebdf085ec",
       "version_major": 2,
       "version_minor": 0
      },
      "text/plain": [
       "VBox(children=(HBox(children=(IntProgress(value=0, description='0.00%', max=304), Label(value='0 / 304'))), HB…"
      ]
     },
     "metadata": {},
     "output_type": "display_data"
    },
    {
     "name": "stdout",
     "output_type": "stream",
     "text": [
      "methods2test_runnable lora Salesforce/codegen-350M-multi\n"
     ]
    },
    {
     "data": {
      "application/vnd.jupyter.widget-view+json": {
       "model_id": "87e7101751bb4fa19b24bd7547ea13b9",
       "version_major": 2,
       "version_minor": 0
      },
      "text/plain": [
       "VBox(children=(HBox(children=(IntProgress(value=0, description='0.00%', max=303), Label(value='0 / 303'))), HB…"
      ]
     },
     "metadata": {},
     "output_type": "display_data"
    },
    {
     "name": "stdout",
     "output_type": "stream",
     "text": [
      "methods2test_runnable lora meta-llama/CodeLlama-7b-hf\n"
     ]
    },
    {
     "data": {
      "application/vnd.jupyter.widget-view+json": {
       "model_id": "8739eab1b2134551910b04577b5c3a8b",
       "version_major": 2,
       "version_minor": 0
      },
      "text/plain": [
       "VBox(children=(HBox(children=(IntProgress(value=0, description='0.00%', max=302), Label(value='0 / 302'))), HB…"
      ]
     },
     "metadata": {},
     "output_type": "display_data"
    },
    {
     "name": "stdout",
     "output_type": "stream",
     "text": [
      "methods2test_runnable ia3 bigcode/starcoder2-3b\n"
     ]
    },
    {
     "data": {
      "application/vnd.jupyter.widget-view+json": {
       "model_id": "c06b91b4914244b5a4512f0867b8d240",
       "version_major": 2,
       "version_minor": 0
      },
      "text/plain": [
       "VBox(children=(HBox(children=(IntProgress(value=0, description='0.00%', max=304), Label(value='0 / 304'))), HB…"
      ]
     },
     "metadata": {},
     "output_type": "display_data"
    },
    {
     "name": "stdout",
     "output_type": "stream",
     "text": [
      "methods2test_runnable fine-tuning bigcode/starcoder2-15b\n"
     ]
    },
    {
     "data": {
      "application/vnd.jupyter.widget-view+json": {
       "model_id": "627bee6514c14eed95233aace6fc1475",
       "version_major": 2,
       "version_minor": 0
      },
      "text/plain": [
       "VBox(children=(HBox(children=(IntProgress(value=0, description='0.00%', max=304), Label(value='0 / 304'))), HB…"
      ]
     },
     "metadata": {},
     "output_type": "display_data"
    },
    {
     "name": "stdout",
     "output_type": "stream",
     "text": [
      "methods2test_runnable ia3 Salesforce/codegen2-1B_P\n"
     ]
    },
    {
     "data": {
      "application/vnd.jupyter.widget-view+json": {
       "model_id": "05a0ae44e14249e9bde124a7012c5ed4",
       "version_major": 2,
       "version_minor": 0
      },
      "text/plain": [
       "VBox(children=(HBox(children=(IntProgress(value=0, description='0.00%', max=303), Label(value='0 / 303'))), HB…"
      ]
     },
     "metadata": {},
     "output_type": "display_data"
    },
    {
     "name": "stdout",
     "output_type": "stream",
     "text": [
      "methods2test_runnable lora Salesforce/codegen2-16B_P\n"
     ]
    },
    {
     "data": {
      "application/vnd.jupyter.widget-view+json": {
       "model_id": "a07a65d3389745a9ad0221243a7f5bb1",
       "version_major": 2,
       "version_minor": 0
      },
      "text/plain": [
       "VBox(children=(HBox(children=(IntProgress(value=0, description='0.00%', max=303), Label(value='0 / 303'))), HB…"
      ]
     },
     "metadata": {},
     "output_type": "display_data"
    },
    {
     "name": "stdout",
     "output_type": "stream",
     "text": [
      "methods2test_runnable prompt-tuning bigcode/starcoderbase\n"
     ]
    },
    {
     "data": {
      "application/vnd.jupyter.widget-view+json": {
       "model_id": "de9fbfbb5aa34144ad2ee55c08797fbe",
       "version_major": 2,
       "version_minor": 0
      },
      "text/plain": [
       "VBox(children=(HBox(children=(IntProgress(value=0, description='0.00%', max=304), Label(value='0 / 304'))), HB…"
      ]
     },
     "metadata": {},
     "output_type": "display_data"
    },
    {
     "name": "stdout",
     "output_type": "stream",
     "text": [
      "methods2test_runnable pre-trained bigcode/starcoder2-7b\n"
     ]
    },
    {
     "data": {
      "application/vnd.jupyter.widget-view+json": {
       "model_id": "71c726072c00435ab1d2474e9e66009b",
       "version_major": 2,
       "version_minor": 0
      },
      "text/plain": [
       "VBox(children=(HBox(children=(IntProgress(value=0, description='0.00%', max=304), Label(value='0 / 304'))), HB…"
      ]
     },
     "metadata": {},
     "output_type": "display_data"
    },
    {
     "name": "stdout",
     "output_type": "stream",
     "text": [
      "methods2test_runnable pre-trained Salesforce/codegen2-7B_P\n"
     ]
    },
    {
     "data": {
      "application/vnd.jupyter.widget-view+json": {
       "model_id": "802fc268371e4819acffe3f9f2d51642",
       "version_major": 2,
       "version_minor": 0
      },
      "text/plain": [
       "VBox(children=(HBox(children=(IntProgress(value=0, description='0.00%', max=303), Label(value='0 / 303'))), HB…"
      ]
     },
     "metadata": {},
     "output_type": "display_data"
    },
    {
     "name": "stdout",
     "output_type": "stream",
     "text": [
      "methods2test_runnable prompt-tuning bigcode/starcoder2-15b\n"
     ]
    },
    {
     "data": {
      "application/vnd.jupyter.widget-view+json": {
       "model_id": "d06261371a4a4a13992c904f3cf73c66",
       "version_major": 2,
       "version_minor": 0
      },
      "text/plain": [
       "VBox(children=(HBox(children=(IntProgress(value=0, description='0.00%', max=304), Label(value='0 / 304'))), HB…"
      ]
     },
     "metadata": {},
     "output_type": "display_data"
    },
    {
     "name": "stdout",
     "output_type": "stream",
     "text": [
      "methods2test_runnable ia3 Salesforce/codegen2-3_7B_P\n"
     ]
    },
    {
     "data": {
      "application/vnd.jupyter.widget-view+json": {
       "model_id": "c466bad95612462cbd71d7078719fcb4",
       "version_major": 2,
       "version_minor": 0
      },
      "text/plain": [
       "VBox(children=(HBox(children=(IntProgress(value=0, description='0.00%', max=303), Label(value='0 / 303'))), HB…"
      ]
     },
     "metadata": {},
     "output_type": "display_data"
    },
    {
     "name": "stdout",
     "output_type": "stream",
     "text": [
      "Error:  tuple index out of range\n",
      "Error:  tuple index out of range\n",
      "Error:  tuple index out of range\n",
      "Error: Error:   tuple index out of rangetuple index out of range\n",
      "\n",
      "Error:  tuple index out of range\n",
      "Error:  tuple index out of range\n",
      "Error:  tuple index out of range\n",
      "Error:  tuple index out of range\n",
      "Error:  tuple index out of range\n",
      "Error:  tuple index out of range\n",
      "Error:  tuple index out of range\n",
      "Error:  tuple index out of range\n",
      "Error:  tuple index out of range\n",
      "Error:  tuple index out of range\n",
      "Error:  tuple index out of range\n",
      "Error:  tuple index out of range\n",
      "Error:  tuple index out of range\n",
      "Error:  tuple index out of range\n",
      "Error:  tuple index out of range\n",
      "Error:  tuple index out of range\n",
      "Error:  tuple index out of range\n",
      "Error:  tuple index out of range\n",
      "Error:  tuple index out of range\n",
      "Error:  tuple index out of range\n",
      "Error:  tuple index out of range\n",
      "Error:  tuple index out of range\n",
      "Error:  tuple index out of range\n",
      "Error:  tuple index out of range\n",
      "Error:  tuple index out of range\n",
      "Error:  tuple index out of range\n",
      "Error:  tuple index out of range\n",
      "Error:  tuple index out of range\n",
      "Error:  tuple index out of range\n",
      "Error:  tuple index out of range\n",
      "Error:  tuple index out of range\n",
      "Error:  tuple index out of range\n",
      "Error:  tuple index out of range\n",
      "Error:  tuple index out of range\n",
      "Error:  tuple index out of range\n",
      "Error:  tuple index out of range\n",
      "Error:  tuple index out of range\n",
      "Error:  tuple index out of range\n",
      "Error:  tuple index out of range\n",
      "Error:  tuple index out of range\n",
      "Error:  tuple index out of range\n",
      "Error:  tuple index out of range\n",
      "Error:  tuple index out of range\n",
      "Error:  tuple index out of range\n",
      "Error:  tuple index out of range\n",
      "Error:  tuple index out of range\n",
      "Error:  tuple index out of range\n",
      "Error:  tuple index out of range\n",
      "Error:  tuple index out of range\n",
      "Error:  tuple index out of range\n",
      "Error:  tuple index out of range\n",
      "Error:  tuple index out of range\n",
      "Error:  tuple index out of range\n",
      "Error:  tuple index out of range\n",
      "Error:  tuple index out of range\n",
      "Error:  tuple index out of range\n",
      "Error:  tuple index out of range\n",
      "Error:  tuple index out of range\n",
      "Error:  tuple index out of range\n",
      "Error:  tuple index out of range\n",
      "Error:  tuple index out of range\n",
      "methods2test_runnable prompt-tuning Salesforce/codegen2-16B_P\n"
     ]
    },
    {
     "data": {
      "application/vnd.jupyter.widget-view+json": {
       "model_id": "bf99eaa72fc44d0286ad9b8e58473076",
       "version_major": 2,
       "version_minor": 0
      },
      "text/plain": [
       "VBox(children=(HBox(children=(IntProgress(value=0, description='0.00%', max=303), Label(value='0 / 303'))), HB…"
      ]
     },
     "metadata": {},
     "output_type": "display_data"
    },
    {
     "name": "stdout",
     "output_type": "stream",
     "text": [
      "methods2test_runnable fine-tuning Salesforce/codegen2-7B_P\n"
     ]
    },
    {
     "data": {
      "application/vnd.jupyter.widget-view+json": {
       "model_id": "61ddaa62d7924006bfabd138cb90ff53",
       "version_major": 2,
       "version_minor": 0
      },
      "text/plain": [
       "VBox(children=(HBox(children=(IntProgress(value=0, description='0.00%', max=303), Label(value='0 / 303'))), HB…"
      ]
     },
     "metadata": {},
     "output_type": "display_data"
    },
    {
     "name": "stdout",
     "output_type": "stream",
     "text": [
      "methods2test_runnable prompt-tuning Salesforce/codegen-350M-multi\n"
     ]
    },
    {
     "data": {
      "application/vnd.jupyter.widget-view+json": {
       "model_id": "b25a6b52851947ac9e16ec1c83fb1a7a",
       "version_major": 2,
       "version_minor": 0
      },
      "text/plain": [
       "VBox(children=(HBox(children=(IntProgress(value=0, description='0.00%', max=303), Label(value='0 / 303'))), HB…"
      ]
     },
     "metadata": {},
     "output_type": "display_data"
    },
    {
     "name": "stdout",
     "output_type": "stream",
     "text": [
      "methods2test_runnable ia3 Salesforce/codegen2-16B_P\n"
     ]
    },
    {
     "data": {
      "application/vnd.jupyter.widget-view+json": {
       "model_id": "07bf67d66f2a461592642e3b0fd5af32",
       "version_major": 2,
       "version_minor": 0
      },
      "text/plain": [
       "VBox(children=(HBox(children=(IntProgress(value=0, description='0.00%', max=303), Label(value='0 / 303'))), HB…"
      ]
     },
     "metadata": {},
     "output_type": "display_data"
    },
    {
     "name": "stdout",
     "output_type": "stream",
     "text": [
      "methods2test_runnable prompt-tuning Salesforce/codegen2-7B_P\n"
     ]
    },
    {
     "data": {
      "application/vnd.jupyter.widget-view+json": {
       "model_id": "d54cf455015c49e0934bd29ec8261f3a",
       "version_major": 2,
       "version_minor": 0
      },
      "text/plain": [
       "VBox(children=(HBox(children=(IntProgress(value=0, description='0.00%', max=303), Label(value='0 / 303'))), HB…"
      ]
     },
     "metadata": {},
     "output_type": "display_data"
    },
    {
     "name": "stdout",
     "output_type": "stream",
     "text": [
      "methods2test_runnable lora Salesforce/codegen2-1B_P\n"
     ]
    },
    {
     "data": {
      "application/vnd.jupyter.widget-view+json": {
       "model_id": "8d18295b51334e44ad008dc6aeccdd8b",
       "version_major": 2,
       "version_minor": 0
      },
      "text/plain": [
       "VBox(children=(HBox(children=(IntProgress(value=0, description='0.00%', max=303), Label(value='0 / 303'))), HB…"
      ]
     },
     "metadata": {},
     "output_type": "display_data"
    },
    {
     "name": "stdout",
     "output_type": "stream",
     "text": [
      "methods2test_runnable pre-trained bigcode/starcoder2-15b\n"
     ]
    },
    {
     "data": {
      "application/vnd.jupyter.widget-view+json": {
       "model_id": "ddee75e9a9624670a5b34050f1d3742e",
       "version_major": 2,
       "version_minor": 0
      },
      "text/plain": [
       "VBox(children=(HBox(children=(IntProgress(value=0, description='0.00%', max=304), Label(value='0 / 304'))), HB…"
      ]
     },
     "metadata": {},
     "output_type": "display_data"
    },
    {
     "name": "stdout",
     "output_type": "stream",
     "text": [
      "methods2test_runnable pre-trained Salesforce/codegen-350M-multi\n"
     ]
    },
    {
     "data": {
      "application/vnd.jupyter.widget-view+json": {
       "model_id": "33dd3c3b82164940b546999a56cbaa09",
       "version_major": 2,
       "version_minor": 0
      },
      "text/plain": [
       "VBox(children=(HBox(children=(IntProgress(value=0, description='0.00%', max=303), Label(value='0 / 303'))), HB…"
      ]
     },
     "metadata": {},
     "output_type": "display_data"
    },
    {
     "name": "stdout",
     "output_type": "stream",
     "text": [
      "methods2test_runnable ia3 bigcode/starcoder2-15b\n"
     ]
    },
    {
     "data": {
      "application/vnd.jupyter.widget-view+json": {
       "model_id": "5aa02e395b5842af84f71468c25a0da7",
       "version_major": 2,
       "version_minor": 0
      },
      "text/plain": [
       "VBox(children=(HBox(children=(IntProgress(value=0, description='0.00%', max=304), Label(value='0 / 304'))), HB…"
      ]
     },
     "metadata": {},
     "output_type": "display_data"
    },
    {
     "name": "stdout",
     "output_type": "stream",
     "text": [
      "methods2test_runnable lora bigcode/starcoder2-15b\n"
     ]
    },
    {
     "data": {
      "application/vnd.jupyter.widget-view+json": {
       "model_id": "29fa75a950f746c381653b8507bb7721",
       "version_major": 2,
       "version_minor": 0
      },
      "text/plain": [
       "VBox(children=(HBox(children=(IntProgress(value=0, description='0.00%', max=304), Label(value='0 / 304'))), HB…"
      ]
     },
     "metadata": {},
     "output_type": "display_data"
    },
    {
     "name": "stdout",
     "output_type": "stream",
     "text": [
      "methods2test_runnable ia3 bigcode/starcoder2-7b\n"
     ]
    },
    {
     "data": {
      "application/vnd.jupyter.widget-view+json": {
       "model_id": "4a54fe4a3b4a47d2a1879c5adea6c40d",
       "version_major": 2,
       "version_minor": 0
      },
      "text/plain": [
       "VBox(children=(HBox(children=(IntProgress(value=0, description='0.00%', max=304), Label(value='0 / 304'))), HB…"
      ]
     },
     "metadata": {},
     "output_type": "display_data"
    },
    {
     "name": "stdout",
     "output_type": "stream",
     "text": [
      "methods2test_runnable prompt-tuning Salesforce/codegen2-3_7B_P\n"
     ]
    },
    {
     "data": {
      "application/vnd.jupyter.widget-view+json": {
       "model_id": "af01947d87534e31ba0879fbb226a7b2",
       "version_major": 2,
       "version_minor": 0
      },
      "text/plain": [
       "VBox(children=(HBox(children=(IntProgress(value=0, description='0.00%', max=303), Label(value='0 / 303'))), HB…"
      ]
     },
     "metadata": {},
     "output_type": "display_data"
    },
    {
     "name": "stdout",
     "output_type": "stream",
     "text": [
      "methods2test_runnable pre-trained meta-llama/CodeLlama-7b-hf\n"
     ]
    },
    {
     "data": {
      "application/vnd.jupyter.widget-view+json": {
       "model_id": "3d5538a5d0fa4b139e7f45f5736f31d7",
       "version_major": 2,
       "version_minor": 0
      },
      "text/plain": [
       "VBox(children=(HBox(children=(IntProgress(value=0, description='0.00%', max=302), Label(value='0 / 302'))), HB…"
      ]
     },
     "metadata": {},
     "output_type": "display_data"
    },
    {
     "name": "stdout",
     "output_type": "stream",
     "text": [
      "methods2test_runnable pre-trained Salesforce/codegen2-3_7B_P\n"
     ]
    },
    {
     "data": {
      "application/vnd.jupyter.widget-view+json": {
       "model_id": "bdb44437a2ff4bb7a592b8a6a59ae8ee",
       "version_major": 2,
       "version_minor": 0
      },
      "text/plain": [
       "VBox(children=(HBox(children=(IntProgress(value=0, description='0.00%', max=303), Label(value='0 / 303'))), HB…"
      ]
     },
     "metadata": {},
     "output_type": "display_data"
    },
    {
     "name": "stdout",
     "output_type": "stream",
     "text": [
      "methods2test_runnable fine-tuning meta-llama/CodeLlama-7b-hf\n"
     ]
    },
    {
     "data": {
      "application/vnd.jupyter.widget-view+json": {
       "model_id": "5697291f2f5343d287ecb182920a82e8",
       "version_major": 2,
       "version_minor": 0
      },
      "text/plain": [
       "VBox(children=(HBox(children=(IntProgress(value=0, description='0.00%', max=302), Label(value='0 / 302'))), HB…"
      ]
     },
     "metadata": {},
     "output_type": "display_data"
    },
    {
     "name": "stdout",
     "output_type": "stream",
     "text": [
      "methods2test_runnable fine-tuning bigcode/starcoderbase\n"
     ]
    },
    {
     "data": {
      "application/vnd.jupyter.widget-view+json": {
       "model_id": "05aa238723b54f598ad6d0d139e7ba7e",
       "version_major": 2,
       "version_minor": 0
      },
      "text/plain": [
       "VBox(children=(HBox(children=(IntProgress(value=0, description='0.00%', max=304), Label(value='0 / 304'))), HB…"
      ]
     },
     "metadata": {},
     "output_type": "display_data"
    },
    {
     "name": "stdout",
     "output_type": "stream",
     "text": [
      "methods2test_runnable prompt-tuning bigcode/starcoder2-3b\n"
     ]
    },
    {
     "data": {
      "application/vnd.jupyter.widget-view+json": {
       "model_id": "ea2e008a00f04db5ae6156d83fb67f88",
       "version_major": 2,
       "version_minor": 0
      },
      "text/plain": [
       "VBox(children=(HBox(children=(IntProgress(value=0, description='0.00%', max=304), Label(value='0 / 304'))), HB…"
      ]
     },
     "metadata": {},
     "output_type": "display_data"
    },
    {
     "name": "stdout",
     "output_type": "stream",
     "text": [
      "methods2test_runnable pre-trained bigcode/starcoder2-3b\n"
     ]
    },
    {
     "data": {
      "application/vnd.jupyter.widget-view+json": {
       "model_id": "bc7408cbdb284aaf8900d899a4ebd4f9",
       "version_major": 2,
       "version_minor": 0
      },
      "text/plain": [
       "VBox(children=(HBox(children=(IntProgress(value=0, description='0.00%', max=304), Label(value='0 / 304'))), HB…"
      ]
     },
     "metadata": {},
     "output_type": "display_data"
    },
    {
     "name": "stdout",
     "output_type": "stream",
     "text": [
      "methods2test_runnable prompt-tuning bigcode/starcoder2-7b\n"
     ]
    },
    {
     "data": {
      "application/vnd.jupyter.widget-view+json": {
       "model_id": "6cd5108a36a742f7b7c98e910f73a7b7",
       "version_major": 2,
       "version_minor": 0
      },
      "text/plain": [
       "VBox(children=(HBox(children=(IntProgress(value=0, description='0.00%', max=304), Label(value='0 / 304'))), HB…"
      ]
     },
     "metadata": {},
     "output_type": "display_data"
    },
    {
     "name": "stdout",
     "output_type": "stream",
     "text": [
      "methods2test_runnable ia3 Salesforce/codegen2-7B_P\n"
     ]
    },
    {
     "data": {
      "application/vnd.jupyter.widget-view+json": {
       "model_id": "b6cbc1ab5bab40f0add777b7e48aef20",
       "version_major": 2,
       "version_minor": 0
      },
      "text/plain": [
       "VBox(children=(HBox(children=(IntProgress(value=0, description='0.00%', max=303), Label(value='0 / 303'))), HB…"
      ]
     },
     "metadata": {},
     "output_type": "display_data"
    },
    {
     "name": "stdout",
     "output_type": "stream",
     "text": [
      "methods2test_runnable lora Salesforce/codegen2-3_7B_P\n"
     ]
    },
    {
     "data": {
      "application/vnd.jupyter.widget-view+json": {
       "model_id": "fe490eaa69654a02872db8cefce479ed",
       "version_major": 2,
       "version_minor": 0
      },
      "text/plain": [
       "VBox(children=(HBox(children=(IntProgress(value=0, description='0.00%', max=303), Label(value='0 / 303'))), HB…"
      ]
     },
     "metadata": {},
     "output_type": "display_data"
    },
    {
     "name": "stdout",
     "output_type": "stream",
     "text": [
      "methods2test_runnable prompt-tuning Salesforce/codegen2-1B_P\n"
     ]
    },
    {
     "data": {
      "application/vnd.jupyter.widget-view+json": {
       "model_id": "6aaad9d85d23445d841938d6367622b7",
       "version_major": 2,
       "version_minor": 0
      },
      "text/plain": [
       "VBox(children=(HBox(children=(IntProgress(value=0, description='0.00%', max=303), Label(value='0 / 303'))), HB…"
      ]
     },
     "metadata": {},
     "output_type": "display_data"
    },
    {
     "name": "stdout",
     "output_type": "stream",
     "text": [
      "methods2test_runnable fine-tuning bigcode/starcoder2-3b\n"
     ]
    },
    {
     "data": {
      "application/vnd.jupyter.widget-view+json": {
       "model_id": "b97f2b5c5c4d48748a5461755314fe15",
       "version_major": 2,
       "version_minor": 0
      },
      "text/plain": [
       "VBox(children=(HBox(children=(IntProgress(value=0, description='0.00%', max=304), Label(value='0 / 304'))), HB…"
      ]
     },
     "metadata": {},
     "output_type": "display_data"
    },
    {
     "name": "stdout",
     "output_type": "stream",
     "text": [
      "methods2test_runnable fine-tuning Salesforce/codegen2-3_7B_P\n"
     ]
    },
    {
     "data": {
      "application/vnd.jupyter.widget-view+json": {
       "model_id": "69609ea5c2b9430aae739bee66cc580d",
       "version_major": 2,
       "version_minor": 0
      },
      "text/plain": [
       "VBox(children=(HBox(children=(IntProgress(value=0, description='0.00%', max=303), Label(value='0 / 303'))), HB…"
      ]
     },
     "metadata": {},
     "output_type": "display_data"
    },
    {
     "name": "stdout",
     "output_type": "stream",
     "text": [
      "Error:  tuple index out of range\n",
      "Error:  tuple index out of range\n",
      "Error:  tuple index out of range\n",
      "Error:  tuple index out of range\n",
      "Error:  tuple index out of range\n",
      "Error:  tuple index out of range\n",
      "Error:  tuple index out of range\n",
      "methods2test_runnable ia3 meta-llama/CodeLlama-7b-hf\n"
     ]
    },
    {
     "data": {
      "application/vnd.jupyter.widget-view+json": {
       "model_id": "791b03c503e04596b153fa0edf4c4f8e",
       "version_major": 2,
       "version_minor": 0
      },
      "text/plain": [
       "VBox(children=(HBox(children=(IntProgress(value=0, description='0.00%', max=302), Label(value='0 / 302'))), HB…"
      ]
     },
     "metadata": {},
     "output_type": "display_data"
    },
    {
     "name": "stdout",
     "output_type": "stream",
     "text": [
      "methods2test_runnable lora bigcode/starcoder2-7b\n"
     ]
    },
    {
     "data": {
      "application/vnd.jupyter.widget-view+json": {
       "model_id": "1ddb2caa30f94d4c96006b1057315bd3",
       "version_major": 2,
       "version_minor": 0
      },
      "text/plain": [
       "VBox(children=(HBox(children=(IntProgress(value=0, description='0.00%', max=304), Label(value='0 / 304'))), HB…"
      ]
     },
     "metadata": {},
     "output_type": "display_data"
    }
   ],
   "source": [
    "import os\n",
    "from pathlib import Path\n",
    "from tqdm.auto import tqdm\n",
    "import os\n",
    "\n",
    "root, dirs, files = next(os.walk(\"../data\"))\n",
    "datasets = dirs\n",
    "\n",
    "for dataset in datasets:\n",
    "    dataset_path = Path(root, dataset, \"generated\")\n",
    "    \n",
    "    paths = []\n",
    "    for d_root, dirnames, filenames in os.walk(dataset_path):\n",
    "        # only keep \"output\" directories\n",
    "        path = Path(d_root)\n",
    "        #print(path.parts)\n",
    "        if len(path.parts) == 7:\n",
    "            paths.append(path)\n",
    "\n",
    "    paths = list(set(paths))\n",
    "\n",
    "    valid_syntax_data = {}\n",
    "    for path in tqdm(paths):\n",
    "        path = path.parts\n",
    "        method = path[4]\n",
    "        model = path[5] + \"/\" + path[6]\n",
    "        print(dataset, method, model)\n",
    "        fixed, total = fix_data(dataset, method, model)\n",
    "\n",
    "        valid_syntax_data.setdefault(model, {})\n",
    "        percentage = fixed / total if total > 0 else 0\n",
    "        valid_syntax_data[model][method] = percentage\n",
    "\n",
    "    valid_df = pd.DataFrame(valid_syntax_data)\n",
    "    valid_df.T.to_csv(Path(root, dataset, \"valid_syntax.csv\"), index_label = 'model')"
   ]
  },
  {
   "cell_type": "code",
   "execution_count": null,
   "metadata": {},
   "outputs": [],
   "source": []
  }
 ],
 "metadata": {
  "kernelspec": {
   "display_name": ".venv",
   "language": "python",
   "name": "python3"
  },
  "language_info": {
   "codemirror_mode": {
    "name": "ipython",
    "version": 3
   },
   "file_extension": ".py",
   "mimetype": "text/x-python",
   "name": "python",
   "nbconvert_exporter": "python",
   "pygments_lexer": "ipython3",
   "version": "3.12.2"
  }
 },
 "nbformat": 4,
 "nbformat_minor": 2
}
