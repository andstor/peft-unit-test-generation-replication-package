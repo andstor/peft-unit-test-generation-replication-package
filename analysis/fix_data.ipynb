{
 "cells": [
  {
   "cell_type": "code",
   "execution_count": 1,
   "metadata": {},
   "outputs": [],
   "source": [
    "import pathlib\n",
    "import sys\n",
    "import os\n",
    "parser_dir = pathlib.Path(os.path.dirname(os.path.abspath(\"__file__\"))) / 'java-universal-parser' / 'parser'\n",
    "sys.path.append(str(parser_dir))"
   ]
  },
  {
   "cell_type": "code",
   "execution_count": 2,
   "metadata": {},
   "outputs": [],
   "source": [
    "from python3.JavaLexer import JavaLexer\n",
    "from python3.JavaParser import JavaParser\n",
    "\n",
    "from antlr4 import InputStream, CommonTokenStream"
   ]
  },
  {
   "cell_type": "code",
   "execution_count": 3,
   "metadata": {},
   "outputs": [],
   "source": [
    "from antlr4.error.ErrorListener import ErrorListener\n",
    "\n",
    "class MyErrorListener( ErrorListener ):\n",
    "\n",
    "    def __init__(self):\n",
    "        super(MyErrorListener, self).__init__()\n",
    "\n",
    "    def syntaxError(self, recognizer, offendingSymbol, line, column, msg, e):\n",
    "        #print(\"line \" + str(line) + \":\" + str(column) + \" \" + msg, file=sys.stderr)\n",
    "        raise Exception(\"Oh no!!\", line, column)\n"
   ]
  },
  {
   "cell_type": "code",
   "execution_count": 4,
   "metadata": {},
   "outputs": [],
   "source": [
    "def check_syntax(code):\n",
    "    try:\n",
    "        input_stream = InputStream(code)\n",
    "        lexer = JavaLexer(input_stream)\n",
    "        lexer.removeErrorListeners() # remove default error listener\n",
    "        lexer.addErrorListener( MyErrorListener() )\n",
    "        stream = CommonTokenStream(lexer)\n",
    "        parser = JavaParser(stream)\n",
    "        parser.removeErrorListeners()\n",
    "        parser.addErrorListener( MyErrorListener() )\n",
    "        parser.compilationUnit()\n",
    "    except Exception as e:\n",
    "        line = e.args[1]\n",
    "        return False, line\n",
    "    return True, None"
   ]
  },
  {
   "cell_type": "code",
   "execution_count": 5,
   "metadata": {},
   "outputs": [],
   "source": [
    "inner_brace = \"\\n    }\"\n",
    "outer_brace = \"\\n\\n}\"\n",
    "\n",
    "\n",
    "def get_brace_count(code, start_level=0):\n",
    "    count = start_level\n",
    "    for char in code:\n",
    "        if char == \"{\":\n",
    "            count += 1\n",
    "        if char == \"}\":\n",
    "            count -= 1\n",
    "    return count\n",
    "\n",
    "def balance_braces(code, start_level=0):\n",
    "    count = get_brace_count(code, start_level)\n",
    "    if count == 0:\n",
    "        #print(\"Well formed code\",)\n",
    "        return code\n",
    "    \n",
    "    lines = code.splitlines(keepends=True)\n",
    "    #print(\"Lines: \", len(lines))\n",
    "    for line in reversed(range(len(lines))):\n",
    "        candidate = \"\".join(lines)\n",
    "        count = get_brace_count(candidate, start_level)\n",
    "        #print(\"Count: \", count)\n",
    "        #print(\"Line idx: \", line)\n",
    "        if count == 0:\n",
    "            #print(\"0\")\n",
    "            return candidate\n",
    "        elif count == 1:\n",
    "            #print(\"1\")\n",
    "            candidate += outer_brace\n",
    "            return candidate\n",
    "        elif count == 2:\n",
    "            #print(\"2\")\n",
    "            candidate += inner_brace\n",
    "            candidate += outer_brace\n",
    "            return candidate\n",
    "        lines.pop()\n",
    "\n",
    "    return False\n"
   ]
  },
  {
   "cell_type": "code",
   "execution_count": 6,
   "metadata": {},
   "outputs": [],
   "source": [
    "def well_formed_code(code):\n",
    "    success, bad_line = check_syntax(code)\n",
    "    lines = code.splitlines(keepends=False) \n",
    "    if not success:\n",
    "        # Trim the code to the bad line\n",
    "        lines = lines[:bad_line-1]\n",
    "\n",
    "        if len(lines) <= 1:\n",
    "            return False, None\n",
    "\n",
    "        else:\n",
    "            balanced_code = balance_braces(\"\\n\".join(lines))\n",
    "            success, bad_line = check_syntax(balanced_code)\n",
    "\n",
    "            if not success:\n",
    "                return well_formed_code(\"\\n\".join(lines))\n",
    "            else:\n",
    "                return True, balanced_code\n",
    "\n",
    "    else:\n",
    "        return True, code"
   ]
  },
  {
   "cell_type": "markdown",
   "metadata": {},
   "source": [
    "# fixed"
   ]
  },
  {
   "cell_type": "code",
   "execution_count": 7,
   "metadata": {},
   "outputs": [
    {
     "name": "stdout",
     "output_type": "stream",
     "text": [
      "INFO: Pandarallel will run on 10 workers.\n",
      "INFO: Pandarallel will use standard multiprocessing data transfer (pipe) to transfer data between the main process and workers.\n"
     ]
    }
   ],
   "source": [
    "from tqdm.auto import tqdm\n",
    "tqdm.pandas()\n",
    "\n",
    "from pandarallel import pandarallel\n",
    "pandarallel.initialize(progress_bar=True)\n",
    "\n",
    "def well_formed_fix(code):\n",
    "    prefix = \"\"\"class dummyTest {\n",
    "        @Test\n",
    "        public void dummy() {\n",
    "    \"\"\"\n",
    "    code = prefix + code\n",
    "    try:\n",
    "        status, res = well_formed_code(code)\n",
    "    \n",
    "        if status:\n",
    "            res_trimmed = res.removeprefix(prefix)\n",
    "            return res_trimmed\n",
    "        else:\n",
    "            return None\n",
    "    except Exception as e:\n",
    "            print(\"Error: \", e)\n",
    "            return None\n"
   ]
  },
  {
   "cell_type": "code",
   "execution_count": 8,
   "metadata": {},
   "outputs": [],
   "source": [
    "import os\n",
    "import pandas as pd\n",
    "from pathlib import Path\n",
    "import re\n",
    "\n",
    "\n",
    "def fix_data(dataset, method, model):\n",
    "    regex = r\"^(\\d+)-of-(\\d+).test.jsonl$\"\n",
    "    path= Path(\"../data/\" + str(dataset) +  \"/generated/\" + str(method) +  \"/\" + str(model))\n",
    "    print(path)\n",
    "    files = os.listdir(path)\n",
    "    print(files)\n",
    "    \n",
    "\n",
    "    dfs = []\n",
    "    for file in files:\n",
    "        matches = re.search(regex, file)\n",
    "        if matches:\n",
    "            print(\"Loading file: \", file)\n",
    "            df = pd.read_json(path / file, orient='records', lines=True, dtype=False)\n",
    "            dfs.append(df)\n",
    "\n",
    "\n",
    "    df = pd.concat(dfs, axis=0).set_index('id')\n",
    "    df.sort_index(inplace=True)\n",
    "    df = df[~df.index.duplicated(keep='first')]\n",
    "    total = df.shape[0]\n",
    "    df[\"fixed_prediction\"] = df[\"prediction\"].parallel_apply(well_formed_fix)\n",
    "    \n",
    "    # remove \"}\\n\\n}\" and none values\n",
    "    fixed_df = df[df[\"fixed_prediction\"]!=\"}\\n\\n}\"]\n",
    "    fixed_df = fixed_df[fixed_df[\"fixed_prediction\"].notnull()]\n",
    "\n",
    "    num_fixed = fixed_df.shape[0]\n",
    "\n",
    "    # save fixed predictions as jsonl\n",
    "    save_path= Path(\"../data/\" + str(dataset) +  \"/fixed/\" + str(method) +  \"/\" + str(model))\n",
    "    save_path.mkdir(parents=True, exist_ok=True)\n",
    "    fixed_df.reset_index().to_json(save_path / \"00001-of-00001.jsonl\", orient='records', lines=True)\n",
    "    return (num_fixed, total)\n"
   ]
  },
  {
   "cell_type": "code",
   "execution_count": 9,
   "metadata": {},
   "outputs": [
    {
     "data": {
      "application/vnd.jupyter.widget-view+json": {
       "model_id": "6a6544cf3a0a4d72b6c54f53ab2f1421",
       "version_major": 2,
       "version_minor": 0
      },
      "text/plain": [
       "  0%|          | 0/50 [00:00<?, ?it/s]"
      ]
     },
     "metadata": {},
     "output_type": "display_data"
    },
    {
     "name": "stdout",
     "output_type": "stream",
     "text": [
      "humaneval-x pre-trained bigcode/starcoder2-15b\n",
      "../data/humaneval-x/generated/pre-trained/bigcode/starcoder2-15b\n",
      "['.DS_Store', '00001-of-00002.test.jsonl', '00002-of-00002.test.jsonl', 'generation_config_diff.json', 'generation_config.json', 'model_config_diff.json', 'model_config.json']\n",
      "Loading file:  00001-of-00002.test.jsonl\n",
      "Loading file:  00002-of-00002.test.jsonl\n"
     ]
    },
    {
     "data": {
      "application/vnd.jupyter.widget-view+json": {
       "model_id": "073af4b0d9e44a468861c0336ba117b2",
       "version_major": 2,
       "version_minor": 0
      },
      "text/plain": [
       "VBox(children=(HBox(children=(IntProgress(value=0, description='0.00%', max=17), Label(value='0 / 17'))), HBox…"
      ]
     },
     "metadata": {},
     "output_type": "display_data"
    },
    {
     "name": "stdout",
     "output_type": "stream",
     "text": [
      "humaneval-x pre-trained Salesforce/codegen2-1B_P\n",
      "../data/humaneval-x/generated/pre-trained/Salesforce/codegen2-1B_P\n",
      "['.DS_Store', '00001-of-00002.test.jsonl', '00002-of-00002.test.jsonl', 'generation_config_diff.json', 'generation_config.json', 'model_config_diff.json', 'model_config.json']\n",
      "Loading file:  00001-of-00002.test.jsonl\n",
      "Loading file:  00002-of-00002.test.jsonl\n"
     ]
    },
    {
     "data": {
      "application/vnd.jupyter.widget-view+json": {
       "model_id": "07658e1d13d54dfcb3caf4dfd7fd2a82",
       "version_major": 2,
       "version_minor": 0
      },
      "text/plain": [
       "VBox(children=(HBox(children=(IntProgress(value=0, description='0.00%', max=17), Label(value='0 / 17'))), HBox…"
      ]
     },
     "metadata": {},
     "output_type": "display_data"
    },
    {
     "name": "stdout",
     "output_type": "stream",
     "text": [
      "Error:  tuple index out of range\n",
      "Error:  tuple index out of range\n",
      "Error:  tuple index out of range\n",
      "Error:  tuple index out of rangeError: \n",
      " tuple index out of range\n",
      "humaneval-x ia3 metal-llama/CodeLlama-7b-hf\n",
      "../data/humaneval-x/generated/ia3/metal-llama/CodeLlama-7b-hf\n",
      "['.DS_Store', 'generation_config_diff.json', 'generation_config.json', 'adapter_config.json', '00001-of-00001.test.jsonl', 'model_config_diff.json', 'model_config.json']\n",
      "Loading file:  00001-of-00001.test.jsonl\n"
     ]
    },
    {
     "data": {
      "application/vnd.jupyter.widget-view+json": {
       "model_id": "074235bd5df64157b9469ce97ee330e5",
       "version_major": 2,
       "version_minor": 0
      },
      "text/plain": [
       "VBox(children=(HBox(children=(IntProgress(value=0, description='0.00%', max=17), Label(value='0 / 17'))), HBox…"
      ]
     },
     "metadata": {},
     "output_type": "display_data"
    },
    {
     "name": "stdout",
     "output_type": "stream",
     "text": [
      "humaneval-x lora bigcode/starcoder2-3b\n",
      "../data/humaneval-x/generated/lora/bigcode/starcoder2-3b\n",
      "['.DS_Store', '00001-of-00002.test.jsonl', '00002-of-00002.test.jsonl', 'generation_config_diff.json', 'generation_config.json', 'adapter_config.json', 'model_config_diff.json', 'model_config.json']\n",
      "Loading file:  00001-of-00002.test.jsonl\n",
      "Loading file:  00002-of-00002.test.jsonl\n"
     ]
    },
    {
     "data": {
      "application/vnd.jupyter.widget-view+json": {
       "model_id": "46def5a38c234f549644e806530ec8b9",
       "version_major": 2,
       "version_minor": 0
      },
      "text/plain": [
       "VBox(children=(HBox(children=(IntProgress(value=0, description='0.00%', max=17), Label(value='0 / 17'))), HBox…"
      ]
     },
     "metadata": {},
     "output_type": "display_data"
    },
    {
     "name": "stdout",
     "output_type": "stream",
     "text": [
      "humaneval-x full_fine-tuning Salesforce/codegen2-3_7B_P\n",
      "../data/humaneval-x/generated/full_fine-tuning/Salesforce/codegen2-3_7B_P\n",
      "['.DS_Store', '00001-of-00002.test.jsonl', '00002-of-00002.test.jsonl', 'generation_config_diff.json', 'generation_config.json', 'model_config_diff.json', 'model_config.json']\n",
      "Loading file:  00001-of-00002.test.jsonl\n",
      "Loading file:  00002-of-00002.test.jsonl\n"
     ]
    },
    {
     "data": {
      "application/vnd.jupyter.widget-view+json": {
       "model_id": "a9b12356f05b43e59e4c6d6ced51af9f",
       "version_major": 2,
       "version_minor": 0
      },
      "text/plain": [
       "VBox(children=(HBox(children=(IntProgress(value=0, description='0.00%', max=17), Label(value='0 / 17'))), HBox…"
      ]
     },
     "metadata": {},
     "output_type": "display_data"
    },
    {
     "name": "stdout",
     "output_type": "stream",
     "text": [
      "Error:  tuple index out of range\n",
      "humaneval-x full_fine-tuning Salesforce/codegen2-16B_P\n",
      "../data/humaneval-x/generated/full_fine-tuning/Salesforce/codegen2-16B_P\n",
      "['.DS_Store', '00001-of-00002.test.jsonl', '00002-of-00002.test.jsonl', 'generation_config_diff.json', 'generation_config.json', 'model_config_diff.json', 'model_config.json']\n",
      "Loading file:  00001-of-00002.test.jsonl\n",
      "Loading file:  00002-of-00002.test.jsonl\n"
     ]
    },
    {
     "data": {
      "application/vnd.jupyter.widget-view+json": {
       "model_id": "f1bbf7a39f5841e787640a6a52b0737c",
       "version_major": 2,
       "version_minor": 0
      },
      "text/plain": [
       "VBox(children=(HBox(children=(IntProgress(value=0, description='0.00%', max=17), Label(value='0 / 17'))), HBox…"
      ]
     },
     "metadata": {},
     "output_type": "display_data"
    },
    {
     "name": "stdout",
     "output_type": "stream",
     "text": [
      "humaneval-x full_fine-tuning Salesforce/codegen-350M-multi\n",
      "../data/humaneval-x/generated/full_fine-tuning/Salesforce/codegen-350M-multi\n",
      "['.DS_Store', '00001-of-00002.test.jsonl', '00002-of-00002.test.jsonl', 'generation_config_diff.json', 'generation_config.json', 'model_config_diff.json', 'model_config.json']\n",
      "Loading file:  00001-of-00002.test.jsonl\n",
      "Loading file:  00002-of-00002.test.jsonl\n"
     ]
    },
    {
     "data": {
      "application/vnd.jupyter.widget-view+json": {
       "model_id": "95043dea826c4a42bf06b64639e930d8",
       "version_major": 2,
       "version_minor": 0
      },
      "text/plain": [
       "VBox(children=(HBox(children=(IntProgress(value=0, description='0.00%', max=17), Label(value='0 / 17'))), HBox…"
      ]
     },
     "metadata": {},
     "output_type": "display_data"
    },
    {
     "name": "stdout",
     "output_type": "stream",
     "text": [
      "humaneval-x pre-trained metal-llama/CodeLlama-7b-hf\n",
      "../data/humaneval-x/generated/pre-trained/metal-llama/CodeLlama-7b-hf\n",
      "['.DS_Store', '00001-of-00002.test.jsonl', '00002-of-00002.test.jsonl', 'generation_config_diff.json', 'generation_config.json', 'model_config_diff.json', 'model_config.json']\n",
      "Loading file:  00001-of-00002.test.jsonl\n",
      "Loading file:  00002-of-00002.test.jsonl\n"
     ]
    },
    {
     "data": {
      "application/vnd.jupyter.widget-view+json": {
       "model_id": "0a88d32da31e4c38a3a38bb60e7ab65c",
       "version_major": 2,
       "version_minor": 0
      },
      "text/plain": [
       "VBox(children=(HBox(children=(IntProgress(value=0, description='0.00%', max=17), Label(value='0 / 17'))), HBox…"
      ]
     },
     "metadata": {},
     "output_type": "display_data"
    },
    {
     "name": "stdout",
     "output_type": "stream",
     "text": [
      "humaneval-x lora Salesforce/codegen2-7B_P\n",
      "../data/humaneval-x/generated/lora/Salesforce/codegen2-7B_P\n",
      "['.DS_Store', '00001-of-00002.test.jsonl', '00002-of-00002.test.jsonl', 'generation_config_diff.json', 'generation_config.json', 'adapter_config.json', 'model_config_diff.json', 'model_config.json']\n",
      "Loading file:  00001-of-00002.test.jsonl\n",
      "Loading file:  00002-of-00002.test.jsonl\n"
     ]
    },
    {
     "data": {
      "application/vnd.jupyter.widget-view+json": {
       "model_id": "6be2a89d4bb94723b694c53004b86921",
       "version_major": 2,
       "version_minor": 0
      },
      "text/plain": [
       "VBox(children=(HBox(children=(IntProgress(value=0, description='0.00%', max=17), Label(value='0 / 17'))), HBox…"
      ]
     },
     "metadata": {},
     "output_type": "display_data"
    },
    {
     "name": "stdout",
     "output_type": "stream",
     "text": [
      "humaneval-x ia3 Salesforce/codegen2-3_7B_P\n",
      "../data/humaneval-x/generated/ia3/Salesforce/codegen2-3_7B_P\n",
      "['.DS_Store', 'generation_config_diff.json', 'generation_config.json', 'adapter_config.json', '00001-of-00001.test.jsonl', 'model_config_diff.json', 'model_config.json']\n",
      "Loading file:  00001-of-00001.test.jsonl\n"
     ]
    },
    {
     "data": {
      "application/vnd.jupyter.widget-view+json": {
       "model_id": "b99e00fa9fea459a9224c3dd82b2c858",
       "version_major": 2,
       "version_minor": 0
      },
      "text/plain": [
       "VBox(children=(HBox(children=(IntProgress(value=0, description='0.00%', max=17), Label(value='0 / 17'))), HBox…"
      ]
     },
     "metadata": {},
     "output_type": "display_data"
    },
    {
     "name": "stdout",
     "output_type": "stream",
     "text": [
      "humaneval-x ia3 Salesforce/codegen2-16B_P\n",
      "../data/humaneval-x/generated/ia3/Salesforce/codegen2-16B_P\n",
      "['.DS_Store', 'generation_config_diff.json', 'generation_config.json', 'adapter_config.json', '00001-of-00001.test.jsonl', 'model_config_diff.json', 'model_config.json']\n",
      "Loading file:  00001-of-00001.test.jsonl\n"
     ]
    },
    {
     "data": {
      "application/vnd.jupyter.widget-view+json": {
       "model_id": "89d4e4ad28b243209f59d72ecdd7e626",
       "version_major": 2,
       "version_minor": 0
      },
      "text/plain": [
       "VBox(children=(HBox(children=(IntProgress(value=0, description='0.00%', max=17), Label(value='0 / 17'))), HBox…"
      ]
     },
     "metadata": {},
     "output_type": "display_data"
    },
    {
     "name": "stdout",
     "output_type": "stream",
     "text": [
      "humaneval-x prompt-tuning Salesforce/codegen2-16B_P\n",
      "../data/humaneval-x/generated/prompt-tuning/Salesforce/codegen2-16B_P\n",
      "['.DS_Store', '00001-of-00002.test.jsonl', '00002-of-00002.test.jsonl', 'generation_config_diff.json', 'generation_config.json', 'adapter_config.json', 'model_config_diff.json', 'model_config.json']\n",
      "Loading file:  00001-of-00002.test.jsonl\n",
      "Loading file:  00002-of-00002.test.jsonl\n"
     ]
    },
    {
     "data": {
      "application/vnd.jupyter.widget-view+json": {
       "model_id": "e44b98cea21e478682068ca4adda07e9",
       "version_major": 2,
       "version_minor": 0
      },
      "text/plain": [
       "VBox(children=(HBox(children=(IntProgress(value=0, description='0.00%', max=17), Label(value='0 / 17'))), HBox…"
      ]
     },
     "metadata": {},
     "output_type": "display_data"
    },
    {
     "name": "stdout",
     "output_type": "stream",
     "text": [
      "humaneval-x prompt-tuning Salesforce/codegen2-3_7B_P\n",
      "../data/humaneval-x/generated/prompt-tuning/Salesforce/codegen2-3_7B_P\n",
      "['.DS_Store', '00001-of-00002.test.jsonl', '00002-of-00002.test.jsonl', 'generation_config_diff.json', 'generation_config.json', 'adapter_config.json', 'model_config_diff.json', 'model_config.json']\n",
      "Loading file:  00001-of-00002.test.jsonl\n",
      "Loading file:  00002-of-00002.test.jsonl\n"
     ]
    },
    {
     "data": {
      "application/vnd.jupyter.widget-view+json": {
       "model_id": "498975d95af54e429c77238eed55ef17",
       "version_major": 2,
       "version_minor": 0
      },
      "text/plain": [
       "VBox(children=(HBox(children=(IntProgress(value=0, description='0.00%', max=17), Label(value='0 / 17'))), HBox…"
      ]
     },
     "metadata": {},
     "output_type": "display_data"
    },
    {
     "name": "stdout",
     "output_type": "stream",
     "text": [
      "humaneval-x full_fine-tuning bigcode/starcoder2-3b\n",
      "../data/humaneval-x/generated/full_fine-tuning/bigcode/starcoder2-3b\n",
      "['.DS_Store', '00001-of-00002.test.jsonl', '00002-of-00002.test.jsonl', 'generation_config_diff.json', 'generation_config.json', 'model_config_diff.json', 'model_config.json']\n",
      "Loading file:  00001-of-00002.test.jsonl\n",
      "Loading file:  00002-of-00002.test.jsonl\n"
     ]
    },
    {
     "data": {
      "application/vnd.jupyter.widget-view+json": {
       "model_id": "6b68ae03933d49c6acf1e52502a1c660",
       "version_major": 2,
       "version_minor": 0
      },
      "text/plain": [
       "VBox(children=(HBox(children=(IntProgress(value=0, description='0.00%', max=17), Label(value='0 / 17'))), HBox…"
      ]
     },
     "metadata": {},
     "output_type": "display_data"
    },
    {
     "name": "stdout",
     "output_type": "stream",
     "text": [
      "humaneval-x lora bigcode/starcoder2-7b\n",
      "../data/humaneval-x/generated/lora/bigcode/starcoder2-7b\n",
      "['.DS_Store', '00001-of-00002.test.jsonl', '00002-of-00002.test.jsonl', 'generation_config_diff.json', 'generation_config.json', 'adapter_config.json', 'model_config_diff.json', 'model_config.json']\n",
      "Loading file:  00001-of-00002.test.jsonl\n",
      "Loading file:  00002-of-00002.test.jsonl\n"
     ]
    },
    {
     "data": {
      "application/vnd.jupyter.widget-view+json": {
       "model_id": "9a581e76903f4463a935cd7fc0aa3aad",
       "version_major": 2,
       "version_minor": 0
      },
      "text/plain": [
       "VBox(children=(HBox(children=(IntProgress(value=0, description='0.00%', max=17), Label(value='0 / 17'))), HBox…"
      ]
     },
     "metadata": {},
     "output_type": "display_data"
    },
    {
     "name": "stdout",
     "output_type": "stream",
     "text": [
      "humaneval-x pre-trained Salesforce/codegen2-3_7B_P\n",
      "../data/humaneval-x/generated/pre-trained/Salesforce/codegen2-3_7B_P\n",
      "['.DS_Store', '00001-of-00002.test.jsonl', '00002-of-00002.test.jsonl', 'generation_config_diff.json', 'generation_config.json', 'model_config_diff.json', 'model_config.json']\n",
      "Loading file:  00001-of-00002.test.jsonl\n",
      "Loading file:  00002-of-00002.test.jsonl\n"
     ]
    },
    {
     "data": {
      "application/vnd.jupyter.widget-view+json": {
       "model_id": "5c253195cf1a444aafe03ee5a9bc2a5e",
       "version_major": 2,
       "version_minor": 0
      },
      "text/plain": [
       "VBox(children=(HBox(children=(IntProgress(value=0, description='0.00%', max=17), Label(value='0 / 17'))), HBox…"
      ]
     },
     "metadata": {},
     "output_type": "display_data"
    },
    {
     "name": "stdout",
     "output_type": "stream",
     "text": [
      "humaneval-x pre-trained Salesforce/codegen2-16B_P\n",
      "../data/humaneval-x/generated/pre-trained/Salesforce/codegen2-16B_P\n",
      "['.DS_Store', '00001-of-00002.test.jsonl', '00002-of-00002.test.jsonl', 'generation_config_diff.json', 'generation_config.json', 'model_config_diff.json', 'model_config.json']\n",
      "Loading file:  00001-of-00002.test.jsonl\n",
      "Loading file:  00002-of-00002.test.jsonl\n"
     ]
    },
    {
     "data": {
      "application/vnd.jupyter.widget-view+json": {
       "model_id": "a104995215204e8394fb0d27ff4212f1",
       "version_major": 2,
       "version_minor": 0
      },
      "text/plain": [
       "VBox(children=(HBox(children=(IntProgress(value=0, description='0.00%', max=17), Label(value='0 / 17'))), HBox…"
      ]
     },
     "metadata": {},
     "output_type": "display_data"
    },
    {
     "name": "stdout",
     "output_type": "stream",
     "text": [
      "humaneval-x prompt-tuning bigcode/starcoder2-15b\n",
      "../data/humaneval-x/generated/prompt-tuning/bigcode/starcoder2-15b\n",
      "['.DS_Store', '00001-of-00002.test.jsonl', '00002-of-00002.test.jsonl', 'generation_config_diff.json', 'generation_config.json', 'adapter_config.json', 'model_config_diff.json', 'model_config.json']\n",
      "Loading file:  00001-of-00002.test.jsonl\n",
      "Loading file:  00002-of-00002.test.jsonl\n"
     ]
    },
    {
     "data": {
      "application/vnd.jupyter.widget-view+json": {
       "model_id": "c250d72263d44e2cb52c4efe3855076a",
       "version_major": 2,
       "version_minor": 0
      },
      "text/plain": [
       "VBox(children=(HBox(children=(IntProgress(value=0, description='0.00%', max=17), Label(value='0 / 17'))), HBox…"
      ]
     },
     "metadata": {},
     "output_type": "display_data"
    },
    {
     "name": "stdout",
     "output_type": "stream",
     "text": [
      "humaneval-x ia3 Salesforce/codegen-350M-multi\n",
      "../data/humaneval-x/generated/ia3/Salesforce/codegen-350M-multi\n",
      "['.DS_Store', 'generation_config_diff.json', 'generation_config.json', 'adapter_config.json', '00001-of-00001.test.jsonl', 'model_config_diff.json', 'model_config.json']\n",
      "Loading file:  00001-of-00001.test.jsonl\n"
     ]
    },
    {
     "data": {
      "application/vnd.jupyter.widget-view+json": {
       "model_id": "315161979cbb403baa2a5afcef5949df",
       "version_major": 2,
       "version_minor": 0
      },
      "text/plain": [
       "VBox(children=(HBox(children=(IntProgress(value=0, description='0.00%', max=17), Label(value='0 / 17'))), HBox…"
      ]
     },
     "metadata": {},
     "output_type": "display_data"
    },
    {
     "name": "stdout",
     "output_type": "stream",
     "text": [
      "humaneval-x prompt-tuning Salesforce/codegen-350M-multi\n",
      "../data/humaneval-x/generated/prompt-tuning/Salesforce/codegen-350M-multi\n",
      "['.DS_Store', '00001-of-00002.test.jsonl', '00002-of-00002.test.jsonl', 'generation_config_diff.json', 'generation_config.json', 'adapter_config.json', 'model_config_diff.json', 'model_config.json']\n",
      "Loading file:  00001-of-00002.test.jsonl\n",
      "Loading file:  00002-of-00002.test.jsonl\n"
     ]
    },
    {
     "data": {
      "application/vnd.jupyter.widget-view+json": {
       "model_id": "90385147aea540c29a196a69d4674016",
       "version_major": 2,
       "version_minor": 0
      },
      "text/plain": [
       "VBox(children=(HBox(children=(IntProgress(value=0, description='0.00%', max=17), Label(value='0 / 17'))), HBox…"
      ]
     },
     "metadata": {},
     "output_type": "display_data"
    },
    {
     "name": "stdout",
     "output_type": "stream",
     "text": [
      "humaneval-x pre-trained Salesforce/codegen-350M-multi\n",
      "../data/humaneval-x/generated/pre-trained/Salesforce/codegen-350M-multi\n",
      "['.DS_Store', '00001-of-00002.test.jsonl', '00002-of-00002.test.jsonl', 'generation_config_diff.json', 'generation_config.json', 'model_config_diff.json', 'model_config.json']\n",
      "Loading file:  00001-of-00002.test.jsonl\n",
      "Loading file:  00002-of-00002.test.jsonl\n"
     ]
    },
    {
     "data": {
      "application/vnd.jupyter.widget-view+json": {
       "model_id": "e20f5b31afe0495592e8b6d8af0da5f7",
       "version_major": 2,
       "version_minor": 0
      },
      "text/plain": [
       "VBox(children=(HBox(children=(IntProgress(value=0, description='0.00%', max=17), Label(value='0 / 17'))), HBox…"
      ]
     },
     "metadata": {},
     "output_type": "display_data"
    },
    {
     "name": "stdout",
     "output_type": "stream",
     "text": [
      "humaneval-x full_fine-tuning Salesforce/codegen2-7B_P\n",
      "../data/humaneval-x/generated/full_fine-tuning/Salesforce/codegen2-7B_P\n",
      "['.DS_Store', '00001-of-00002.test.jsonl', '00002-of-00002.test.jsonl', 'generation_config_diff.json', 'generation_config.json', 'model_config_diff.json', 'model_config.json']\n",
      "Loading file:  00001-of-00002.test.jsonl\n",
      "Loading file:  00002-of-00002.test.jsonl\n"
     ]
    },
    {
     "data": {
      "application/vnd.jupyter.widget-view+json": {
       "model_id": "4f7a1b6431d34bc0aea7ad6c6b9b9858",
       "version_major": 2,
       "version_minor": 0
      },
      "text/plain": [
       "VBox(children=(HBox(children=(IntProgress(value=0, description='0.00%', max=17), Label(value='0 / 17'))), HBox…"
      ]
     },
     "metadata": {},
     "output_type": "display_data"
    },
    {
     "name": "stdout",
     "output_type": "stream",
     "text": [
      "humaneval-x prompt-tuning bigcode/starcoder2-3b\n",
      "../data/humaneval-x/generated/prompt-tuning/bigcode/starcoder2-3b\n",
      "['.DS_Store', '00001-of-00002.test.jsonl', '00002-of-00002.test.jsonl', 'generation_config_diff.json', 'generation_config.json', 'adapter_config.json', 'model_config_diff.json', 'model_config.json']\n",
      "Loading file:  00001-of-00002.test.jsonl\n",
      "Loading file:  00002-of-00002.test.jsonl\n"
     ]
    },
    {
     "data": {
      "application/vnd.jupyter.widget-view+json": {
       "model_id": "2069308078864efab18ef83a306dcc09",
       "version_major": 2,
       "version_minor": 0
      },
      "text/plain": [
       "VBox(children=(HBox(children=(IntProgress(value=0, description='0.00%', max=17), Label(value='0 / 17'))), HBox…"
      ]
     },
     "metadata": {},
     "output_type": "display_data"
    },
    {
     "name": "stdout",
     "output_type": "stream",
     "text": [
      "humaneval-x prompt-tuning bigcode/starcoderbase\n",
      "../data/humaneval-x/generated/prompt-tuning/bigcode/starcoderbase\n",
      "['.DS_Store', '00001-of-00002.test.jsonl', '00002-of-00002.test.jsonl', 'generation_config_diff.json', 'generation_config.json', 'adapter_config.json', 'model_config_diff.json', 'model_config.json']\n",
      "Loading file:  00001-of-00002.test.jsonl\n",
      "Loading file:  00002-of-00002.test.jsonl\n"
     ]
    },
    {
     "data": {
      "application/vnd.jupyter.widget-view+json": {
       "model_id": "44d50305ad5c41ddb9cd26addd18c79d",
       "version_major": 2,
       "version_minor": 0
      },
      "text/plain": [
       "VBox(children=(HBox(children=(IntProgress(value=0, description='0.00%', max=17), Label(value='0 / 17'))), HBox…"
      ]
     },
     "metadata": {},
     "output_type": "display_data"
    },
    {
     "name": "stdout",
     "output_type": "stream",
     "text": [
      "humaneval-x lora bigcode/starcoder2-15b\n",
      "../data/humaneval-x/generated/lora/bigcode/starcoder2-15b\n",
      "['.DS_Store', '00001-of-00002.test.jsonl', '00002-of-00002.test.jsonl', 'generation_config_diff.json', 'generation_config.json', 'adapter_config.json', 'model_config_diff.json', 'model_config.json']\n",
      "Loading file:  00001-of-00002.test.jsonl\n",
      "Loading file:  00002-of-00002.test.jsonl\n"
     ]
    },
    {
     "data": {
      "application/vnd.jupyter.widget-view+json": {
       "model_id": "565c9d27c0e24bf88cb26c62d6b41533",
       "version_major": 2,
       "version_minor": 0
      },
      "text/plain": [
       "VBox(children=(HBox(children=(IntProgress(value=0, description='0.00%', max=17), Label(value='0 / 17'))), HBox…"
      ]
     },
     "metadata": {},
     "output_type": "display_data"
    },
    {
     "name": "stdout",
     "output_type": "stream",
     "text": [
      "humaneval-x lora bigcode/starcoderbase\n",
      "../data/humaneval-x/generated/lora/bigcode/starcoderbase\n",
      "['.DS_Store', '00001-of-00002.test.jsonl', '00002-of-00002.test.jsonl', 'generation_config_diff.json', 'generation_config.json', 'adapter_config.json', 'model_config_diff.json', 'model_config.json']\n",
      "Loading file:  00001-of-00002.test.jsonl\n",
      "Loading file:  00002-of-00002.test.jsonl\n"
     ]
    },
    {
     "data": {
      "application/vnd.jupyter.widget-view+json": {
       "model_id": "e2007c23411448778252e6afb80cfd92",
       "version_major": 2,
       "version_minor": 0
      },
      "text/plain": [
       "VBox(children=(HBox(children=(IntProgress(value=0, description='0.00%', max=17), Label(value='0 / 17'))), HBox…"
      ]
     },
     "metadata": {},
     "output_type": "display_data"
    },
    {
     "name": "stdout",
     "output_type": "stream",
     "text": [
      "humaneval-x lora Salesforce/codegen2-1B_P\n",
      "../data/humaneval-x/generated/lora/Salesforce/codegen2-1B_P\n",
      "['.DS_Store', '00001-of-00002.test.jsonl', '00002-of-00002.test.jsonl', 'generation_config_diff.json', 'generation_config.json', 'adapter_config.json', 'model_config_diff.json', 'model_config.json']\n",
      "Loading file:  00001-of-00002.test.jsonl\n",
      "Loading file:  00002-of-00002.test.jsonl\n"
     ]
    },
    {
     "data": {
      "application/vnd.jupyter.widget-view+json": {
       "model_id": "b9d37f9aabb64ad4aeffd63d45ee98e2",
       "version_major": 2,
       "version_minor": 0
      },
      "text/plain": [
       "VBox(children=(HBox(children=(IntProgress(value=0, description='0.00%', max=17), Label(value='0 / 17'))), HBox…"
      ]
     },
     "metadata": {},
     "output_type": "display_data"
    },
    {
     "name": "stdout",
     "output_type": "stream",
     "text": [
      "humaneval-x pre-trained bigcode/starcoder2-3b\n",
      "../data/humaneval-x/generated/pre-trained/bigcode/starcoder2-3b\n",
      "['.DS_Store', '00001-of-00002.test.jsonl', '00002-of-00002.test.jsonl', 'generation_config_diff.json', 'generation_config.json', 'model_config_diff.json', 'model_config.json']\n",
      "Loading file:  00001-of-00002.test.jsonl\n",
      "Loading file:  00002-of-00002.test.jsonl\n"
     ]
    },
    {
     "data": {
      "application/vnd.jupyter.widget-view+json": {
       "model_id": "61a5ffe1acd741fea7afd42a2f51f505",
       "version_major": 2,
       "version_minor": 0
      },
      "text/plain": [
       "VBox(children=(HBox(children=(IntProgress(value=0, description='0.00%', max=17), Label(value='0 / 17'))), HBox…"
      ]
     },
     "metadata": {},
     "output_type": "display_data"
    },
    {
     "name": "stdout",
     "output_type": "stream",
     "text": [
      "humaneval-x ia3 bigcode/starcoder2-3b\n",
      "../data/humaneval-x/generated/ia3/bigcode/starcoder2-3b\n",
      "['.DS_Store', 'generation_config_diff.json', 'generation_config.json', 'adapter_config.json', '00001-of-00001.test.jsonl', 'model_config_diff.json', 'model_config.json']\n",
      "Loading file:  00001-of-00001.test.jsonl\n"
     ]
    },
    {
     "data": {
      "application/vnd.jupyter.widget-view+json": {
       "model_id": "893549abfcb341bf9d4fc88a0090e48d",
       "version_major": 2,
       "version_minor": 0
      },
      "text/plain": [
       "VBox(children=(HBox(children=(IntProgress(value=0, description='0.00%', max=17), Label(value='0 / 17'))), HBox…"
      ]
     },
     "metadata": {},
     "output_type": "display_data"
    },
    {
     "name": "stdout",
     "output_type": "stream",
     "text": [
      "humaneval-x ia3 Salesforce/codegen2-1B_P\n",
      "../data/humaneval-x/generated/ia3/Salesforce/codegen2-1B_P\n",
      "['.DS_Store', 'generation_config_diff.json', 'generation_config.json', 'adapter_config.json', '00001-of-00001.test.jsonl', 'model_config_diff.json', 'model_config.json']\n",
      "Loading file:  00001-of-00001.test.jsonl\n"
     ]
    },
    {
     "data": {
      "application/vnd.jupyter.widget-view+json": {
       "model_id": "b658b62bbee84dbba99df0060becfc70",
       "version_major": 2,
       "version_minor": 0
      },
      "text/plain": [
       "VBox(children=(HBox(children=(IntProgress(value=0, description='0.00%', max=17), Label(value='0 / 17'))), HBox…"
      ]
     },
     "metadata": {},
     "output_type": "display_data"
    },
    {
     "name": "stdout",
     "output_type": "stream",
     "text": [
      "humaneval-x full_fine-tuning bigcode/starcoder2-7b\n",
      "../data/humaneval-x/generated/full_fine-tuning/bigcode/starcoder2-7b\n",
      "['.DS_Store', '00001-of-00002.test.jsonl', '00002-of-00002.test.jsonl', 'generation_config_diff.json', 'generation_config.json', 'model_config_diff.json', 'model_config.json']\n",
      "Loading file:  00001-of-00002.test.jsonl\n",
      "Loading file:  00002-of-00002.test.jsonl\n"
     ]
    },
    {
     "data": {
      "application/vnd.jupyter.widget-view+json": {
       "model_id": "b3125eb776b04a76a9d75e49c94a4421",
       "version_major": 2,
       "version_minor": 0
      },
      "text/plain": [
       "VBox(children=(HBox(children=(IntProgress(value=0, description='0.00%', max=17), Label(value='0 / 17'))), HBox…"
      ]
     },
     "metadata": {},
     "output_type": "display_data"
    },
    {
     "name": "stdout",
     "output_type": "stream",
     "text": [
      "humaneval-x ia3 Salesforce/codegen2-7B_P\n",
      "../data/humaneval-x/generated/ia3/Salesforce/codegen2-7B_P\n",
      "['.DS_Store', 'generation_config_diff.json', 'generation_config.json', 'adapter_config.json', '00001-of-00001.test.jsonl', 'model_config_diff.json', 'model_config.json']\n",
      "Loading file:  00001-of-00001.test.jsonl\n"
     ]
    },
    {
     "data": {
      "application/vnd.jupyter.widget-view+json": {
       "model_id": "04c8eb0988dd4d8d9999728a4cc7fadf",
       "version_major": 2,
       "version_minor": 0
      },
      "text/plain": [
       "VBox(children=(HBox(children=(IntProgress(value=0, description='0.00%', max=17), Label(value='0 / 17'))), HBox…"
      ]
     },
     "metadata": {},
     "output_type": "display_data"
    },
    {
     "name": "stdout",
     "output_type": "stream",
     "text": [
      "humaneval-x prompt-tuning Salesforce/codegen2-7B_P\n",
      "../data/humaneval-x/generated/prompt-tuning/Salesforce/codegen2-7B_P\n",
      "['.DS_Store', '00001-of-00002.test.jsonl', '00002-of-00002.test.jsonl', 'generation_config_diff.json', 'generation_config.json', 'adapter_config.json', 'model_config_diff.json', 'model_config.json']\n",
      "Loading file:  00001-of-00002.test.jsonl\n",
      "Loading file:  00002-of-00002.test.jsonl\n"
     ]
    },
    {
     "data": {
      "application/vnd.jupyter.widget-view+json": {
       "model_id": "d9c276e5760f43adb2f5174e3173d314",
       "version_major": 2,
       "version_minor": 0
      },
      "text/plain": [
       "VBox(children=(HBox(children=(IntProgress(value=0, description='0.00%', max=17), Label(value='0 / 17'))), HBox…"
      ]
     },
     "metadata": {},
     "output_type": "display_data"
    },
    {
     "name": "stdout",
     "output_type": "stream",
     "text": [
      "humaneval-x lora metal-llama/CodeLlama-7b-hf\n",
      "../data/humaneval-x/generated/lora/metal-llama/CodeLlama-7b-hf\n",
      "['.DS_Store', '00001-of-00002.test.jsonl', '00002-of-00002.test.jsonl', 'generation_config_diff.json', 'generation_config.json', 'adapter_config.json', 'model_config_diff.json', 'model_config.json']\n",
      "Loading file:  00001-of-00002.test.jsonl\n",
      "Loading file:  00002-of-00002.test.jsonl\n"
     ]
    },
    {
     "data": {
      "application/vnd.jupyter.widget-view+json": {
       "model_id": "60269354212e4049bd9c1a20c05d2edd",
       "version_major": 2,
       "version_minor": 0
      },
      "text/plain": [
       "VBox(children=(HBox(children=(IntProgress(value=0, description='0.00%', max=17), Label(value='0 / 17'))), HBox…"
      ]
     },
     "metadata": {},
     "output_type": "display_data"
    },
    {
     "name": "stdout",
     "output_type": "stream",
     "text": [
      "humaneval-x full_fine-tuning bigcode/starcoderbase\n",
      "../data/humaneval-x/generated/full_fine-tuning/bigcode/starcoderbase\n",
      "['.DS_Store', '00001-of-00002.test.jsonl', '00002-of-00002.test.jsonl', 'generation_config_diff.json', 'generation_config.json', 'model_config_diff.json', 'model_config.json']\n",
      "Loading file:  00001-of-00002.test.jsonl\n",
      "Loading file:  00002-of-00002.test.jsonl\n"
     ]
    },
    {
     "data": {
      "application/vnd.jupyter.widget-view+json": {
       "model_id": "23d2e8e0c412429992f877a4d54ab26c",
       "version_major": 2,
       "version_minor": 0
      },
      "text/plain": [
       "VBox(children=(HBox(children=(IntProgress(value=0, description='0.00%', max=17), Label(value='0 / 17'))), HBox…"
      ]
     },
     "metadata": {},
     "output_type": "display_data"
    },
    {
     "name": "stdout",
     "output_type": "stream",
     "text": [
      "humaneval-x pre-trained Salesforce/codegen2-7B_P\n",
      "../data/humaneval-x/generated/pre-trained/Salesforce/codegen2-7B_P\n",
      "['.DS_Store', '00001-of-00002.test.jsonl', '00002-of-00002.test.jsonl', 'generation_config_diff.json', 'generation_config.json', 'model_config_diff.json', 'model_config.json']\n",
      "Loading file:  00001-of-00002.test.jsonl\n",
      "Loading file:  00002-of-00002.test.jsonl\n"
     ]
    },
    {
     "data": {
      "application/vnd.jupyter.widget-view+json": {
       "model_id": "f69c5841c7a248d5816629a1caa885aa",
       "version_major": 2,
       "version_minor": 0
      },
      "text/plain": [
       "VBox(children=(HBox(children=(IntProgress(value=0, description='0.00%', max=17), Label(value='0 / 17'))), HBox…"
      ]
     },
     "metadata": {},
     "output_type": "display_data"
    },
    {
     "name": "stdout",
     "output_type": "stream",
     "text": [
      "humaneval-x prompt-tuning bigcode/starcoder2-7b\n",
      "../data/humaneval-x/generated/prompt-tuning/bigcode/starcoder2-7b\n",
      "['.DS_Store', '00001-of-00002.test.jsonl', '00002-of-00002.test.jsonl', 'generation_config_diff.json', 'generation_config.json', 'adapter_config.json', 'model_config_diff.json', 'model_config.json']\n",
      "Loading file:  00001-of-00002.test.jsonl\n",
      "Loading file:  00002-of-00002.test.jsonl\n"
     ]
    },
    {
     "data": {
      "application/vnd.jupyter.widget-view+json": {
       "model_id": "a5916c222edb42ebae24b01a239038cb",
       "version_major": 2,
       "version_minor": 0
      },
      "text/plain": [
       "VBox(children=(HBox(children=(IntProgress(value=0, description='0.00%', max=17), Label(value='0 / 17'))), HBox…"
      ]
     },
     "metadata": {},
     "output_type": "display_data"
    },
    {
     "name": "stdout",
     "output_type": "stream",
     "text": [
      "humaneval-x full_fine-tuning bigcode/starcoder2-15b\n",
      "../data/humaneval-x/generated/full_fine-tuning/bigcode/starcoder2-15b\n",
      "['.DS_Store', '00001-of-00002.test.jsonl', '00002-of-00002.test.jsonl', 'generation_config_diff.json', 'generation_config.json', 'model_config_diff.json', 'model_config.json']\n",
      "Loading file:  00001-of-00002.test.jsonl\n",
      "Loading file:  00002-of-00002.test.jsonl\n"
     ]
    },
    {
     "data": {
      "application/vnd.jupyter.widget-view+json": {
       "model_id": "7d23c2df09a94d2a8a42fd7702d42843",
       "version_major": 2,
       "version_minor": 0
      },
      "text/plain": [
       "VBox(children=(HBox(children=(IntProgress(value=0, description='0.00%', max=17), Label(value='0 / 17'))), HBox…"
      ]
     },
     "metadata": {},
     "output_type": "display_data"
    },
    {
     "name": "stdout",
     "output_type": "stream",
     "text": [
      "humaneval-x full_fine-tuning Salesforce/codegen2-1B_P\n",
      "../data/humaneval-x/generated/full_fine-tuning/Salesforce/codegen2-1B_P\n",
      "['.DS_Store', '00001-of-00002.test.jsonl', '00002-of-00002.test.jsonl', 'generation_config_diff.json', 'generation_config.json', 'model_config_diff.json', 'model_config.json']\n",
      "Loading file:  00001-of-00002.test.jsonl\n",
      "Loading file:  00002-of-00002.test.jsonl\n"
     ]
    },
    {
     "data": {
      "application/vnd.jupyter.widget-view+json": {
       "model_id": "2e18b99f4a154b3dbef8c16fd379d751",
       "version_major": 2,
       "version_minor": 0
      },
      "text/plain": [
       "VBox(children=(HBox(children=(IntProgress(value=0, description='0.00%', max=17), Label(value='0 / 17'))), HBox…"
      ]
     },
     "metadata": {},
     "output_type": "display_data"
    },
    {
     "name": "stdout",
     "output_type": "stream",
     "text": [
      "humaneval-x ia3 bigcode/starcoder2-7b\n",
      "../data/humaneval-x/generated/ia3/bigcode/starcoder2-7b\n",
      "['.DS_Store', 'generation_config_diff.json', 'generation_config.json', 'adapter_config.json', '00001-of-00001.test.jsonl', 'model_config_diff.json', 'model_config.json']\n",
      "Loading file:  00001-of-00001.test.jsonl\n"
     ]
    },
    {
     "data": {
      "application/vnd.jupyter.widget-view+json": {
       "model_id": "e1134c5284ae46d7a146f9a2194e555e",
       "version_major": 2,
       "version_minor": 0
      },
      "text/plain": [
       "VBox(children=(HBox(children=(IntProgress(value=0, description='0.00%', max=17), Label(value='0 / 17'))), HBox…"
      ]
     },
     "metadata": {},
     "output_type": "display_data"
    },
    {
     "name": "stdout",
     "output_type": "stream",
     "text": [
      "humaneval-x prompt-tuning metal-llama/CodeLlama-7b-hf\n",
      "../data/humaneval-x/generated/prompt-tuning/metal-llama/CodeLlama-7b-hf\n",
      "['.DS_Store', '00001-of-00002.test.jsonl', '00002-of-00002.test.jsonl', 'generation_config_diff.json', 'generation_config.json', 'adapter_config.json', 'model_config_diff.json', 'model_config.json']\n",
      "Loading file:  00001-of-00002.test.jsonl\n",
      "Loading file:  00002-of-00002.test.jsonl\n"
     ]
    },
    {
     "data": {
      "application/vnd.jupyter.widget-view+json": {
       "model_id": "d5b2b187da584cfb8c387215b012924e",
       "version_major": 2,
       "version_minor": 0
      },
      "text/plain": [
       "VBox(children=(HBox(children=(IntProgress(value=0, description='0.00%', max=17), Label(value='0 / 17'))), HBox…"
      ]
     },
     "metadata": {},
     "output_type": "display_data"
    },
    {
     "name": "stdout",
     "output_type": "stream",
     "text": [
      "humaneval-x lora Salesforce/codegen2-3_7B_P\n",
      "../data/humaneval-x/generated/lora/Salesforce/codegen2-3_7B_P\n",
      "['.DS_Store', '00001-of-00002.test.jsonl', '00002-of-00002.test.jsonl', 'generation_config_diff.json', 'generation_config.json', 'adapter_config.json', 'model_config_diff.json', 'model_config.json']\n",
      "Loading file:  00001-of-00002.test.jsonl\n",
      "Loading file:  00002-of-00002.test.jsonl\n"
     ]
    },
    {
     "data": {
      "application/vnd.jupyter.widget-view+json": {
       "model_id": "01383f5ceeba466aa50e53d6a8643115",
       "version_major": 2,
       "version_minor": 0
      },
      "text/plain": [
       "VBox(children=(HBox(children=(IntProgress(value=0, description='0.00%', max=17), Label(value='0 / 17'))), HBox…"
      ]
     },
     "metadata": {},
     "output_type": "display_data"
    },
    {
     "name": "stdout",
     "output_type": "stream",
     "text": [
      "humaneval-x lora Salesforce/codegen2-16B_P\n",
      "../data/humaneval-x/generated/lora/Salesforce/codegen2-16B_P\n",
      "['.DS_Store', '00001-of-00002.test.jsonl', '00002-of-00002.test.jsonl', 'generation_config_diff.json', 'generation_config.json', 'adapter_config.json', 'model_config_diff.json', 'model_config.json']\n",
      "Loading file:  00001-of-00002.test.jsonl\n",
      "Loading file:  00002-of-00002.test.jsonl\n"
     ]
    },
    {
     "data": {
      "application/vnd.jupyter.widget-view+json": {
       "model_id": "604ba42b9ea3495c92a64335f5b6b095",
       "version_major": 2,
       "version_minor": 0
      },
      "text/plain": [
       "VBox(children=(HBox(children=(IntProgress(value=0, description='0.00%', max=17), Label(value='0 / 17'))), HBox…"
      ]
     },
     "metadata": {},
     "output_type": "display_data"
    },
    {
     "name": "stdout",
     "output_type": "stream",
     "text": [
      "humaneval-x pre-trained bigcode/starcoder2-7b\n",
      "../data/humaneval-x/generated/pre-trained/bigcode/starcoder2-7b\n",
      "['.DS_Store', '00001-of-00002.test.jsonl', '00002-of-00002.test.jsonl', 'generation_config_diff.json', 'generation_config.json', 'model_config_diff.json', 'model_config.json']\n",
      "Loading file:  00001-of-00002.test.jsonl\n",
      "Loading file:  00002-of-00002.test.jsonl\n"
     ]
    },
    {
     "data": {
      "application/vnd.jupyter.widget-view+json": {
       "model_id": "5fe62e4aa94b42a781941d96ee1615d1",
       "version_major": 2,
       "version_minor": 0
      },
      "text/plain": [
       "VBox(children=(HBox(children=(IntProgress(value=0, description='0.00%', max=17), Label(value='0 / 17'))), HBox…"
      ]
     },
     "metadata": {},
     "output_type": "display_data"
    },
    {
     "name": "stdout",
     "output_type": "stream",
     "text": [
      "humaneval-x prompt-tuning Salesforce/codegen2-1B_P\n",
      "../data/humaneval-x/generated/prompt-tuning/Salesforce/codegen2-1B_P\n",
      "['.DS_Store', '00001-of-00002.test.jsonl', '00002-of-00002.test.jsonl', 'generation_config_diff.json', 'generation_config.json', 'adapter_config.json', 'model_config_diff.json', 'model_config.json']\n",
      "Loading file:  00001-of-00002.test.jsonl\n",
      "Loading file:  00002-of-00002.test.jsonl\n"
     ]
    },
    {
     "data": {
      "application/vnd.jupyter.widget-view+json": {
       "model_id": "78a1efda4b6941e4b1d5ef9f25431e29",
       "version_major": 2,
       "version_minor": 0
      },
      "text/plain": [
       "VBox(children=(HBox(children=(IntProgress(value=0, description='0.00%', max=17), Label(value='0 / 17'))), HBox…"
      ]
     },
     "metadata": {},
     "output_type": "display_data"
    },
    {
     "name": "stdout",
     "output_type": "stream",
     "text": [
      "humaneval-x ia3 bigcode/starcoderbase\n",
      "../data/humaneval-x/generated/ia3/bigcode/starcoderbase\n",
      "['.DS_Store', 'generation_config_diff.json', 'generation_config.json', 'adapter_config.json', '00001-of-00001.test.jsonl', 'model_config_diff.json', 'model_config.json']\n",
      "Loading file:  00001-of-00001.test.jsonl\n"
     ]
    },
    {
     "data": {
      "application/vnd.jupyter.widget-view+json": {
       "model_id": "04728dbdba184222ad66fc063f220a3a",
       "version_major": 2,
       "version_minor": 0
      },
      "text/plain": [
       "VBox(children=(HBox(children=(IntProgress(value=0, description='0.00%', max=17), Label(value='0 / 17'))), HBox…"
      ]
     },
     "metadata": {},
     "output_type": "display_data"
    },
    {
     "name": "stdout",
     "output_type": "stream",
     "text": [
      "humaneval-x lora Salesforce/codegen-350M-multi\n",
      "../data/humaneval-x/generated/lora/Salesforce/codegen-350M-multi\n",
      "['.DS_Store', '00001-of-00002.test.jsonl', '00002-of-00002.test.jsonl', 'generation_config_diff.json', 'generation_config.json', 'adapter_config.json', 'model_config_diff.json', 'model_config.json']\n",
      "Loading file:  00001-of-00002.test.jsonl\n",
      "Loading file:  00002-of-00002.test.jsonl\n"
     ]
    },
    {
     "data": {
      "application/vnd.jupyter.widget-view+json": {
       "model_id": "b7bc54315f3846d685f59a410342b11d",
       "version_major": 2,
       "version_minor": 0
      },
      "text/plain": [
       "VBox(children=(HBox(children=(IntProgress(value=0, description='0.00%', max=17), Label(value='0 / 17'))), HBox…"
      ]
     },
     "metadata": {},
     "output_type": "display_data"
    },
    {
     "name": "stdout",
     "output_type": "stream",
     "text": [
      "humaneval-x full_fine-tuning metal-llama/CodeLlama-7b-hf\n",
      "../data/humaneval-x/generated/full_fine-tuning/metal-llama/CodeLlama-7b-hf\n",
      "['.DS_Store', '00001-of-00002.test.jsonl', '00002-of-00002.test.jsonl', 'generation_config_diff.json', 'generation_config.json', 'model_config_diff.json', 'model_config.json']\n",
      "Loading file:  00001-of-00002.test.jsonl\n",
      "Loading file:  00002-of-00002.test.jsonl\n"
     ]
    },
    {
     "data": {
      "application/vnd.jupyter.widget-view+json": {
       "model_id": "834640bd551340ef855741d4e6c96baa",
       "version_major": 2,
       "version_minor": 0
      },
      "text/plain": [
       "VBox(children=(HBox(children=(IntProgress(value=0, description='0.00%', max=17), Label(value='0 / 17'))), HBox…"
      ]
     },
     "metadata": {},
     "output_type": "display_data"
    },
    {
     "name": "stdout",
     "output_type": "stream",
     "text": [
      "humaneval-x ia3 bigcode/starcoder2-15b\n",
      "../data/humaneval-x/generated/ia3/bigcode/starcoder2-15b\n",
      "['.DS_Store', 'generation_config_diff.json', 'generation_config.json', 'adapter_config.json', '00001-of-00001.test.jsonl', 'model_config_diff.json', 'model_config.json']\n",
      "Loading file:  00001-of-00001.test.jsonl\n"
     ]
    },
    {
     "data": {
      "application/vnd.jupyter.widget-view+json": {
       "model_id": "03e2c109fd9147ef82cc7a02a9ff64cf",
       "version_major": 2,
       "version_minor": 0
      },
      "text/plain": [
       "VBox(children=(HBox(children=(IntProgress(value=0, description='0.00%', max=17), Label(value='0 / 17'))), HBox…"
      ]
     },
     "metadata": {},
     "output_type": "display_data"
    },
    {
     "name": "stdout",
     "output_type": "stream",
     "text": [
      "humaneval-x pre-trained bigcode/starcoderbase\n",
      "../data/humaneval-x/generated/pre-trained/bigcode/starcoderbase\n",
      "['.DS_Store', '00001-of-00002.test.jsonl', '00002-of-00002.test.jsonl', 'generation_config_diff.json', 'generation_config.json', 'model_config_diff.json', 'model_config.json']\n",
      "Loading file:  00001-of-00002.test.jsonl\n",
      "Loading file:  00002-of-00002.test.jsonl\n"
     ]
    },
    {
     "data": {
      "application/vnd.jupyter.widget-view+json": {
       "model_id": "fcb41f80309d46b3911bec0d33b17f65",
       "version_major": 2,
       "version_minor": 0
      },
      "text/plain": [
       "VBox(children=(HBox(children=(IntProgress(value=0, description='0.00%', max=17), Label(value='0 / 17'))), HBox…"
      ]
     },
     "metadata": {},
     "output_type": "display_data"
    },
    {
     "data": {
      "application/vnd.jupyter.widget-view+json": {
       "model_id": "384edc1257e549d18a0c361b1a67ed64",
       "version_major": 2,
       "version_minor": 0
      },
      "text/plain": [
       "  0%|          | 0/50 [00:00<?, ?it/s]"
      ]
     },
     "metadata": {},
     "output_type": "display_data"
    },
    {
     "name": "stdout",
     "output_type": "stream",
     "text": [
      "methods2test_small pre-training metal-llama/CodeLlama-7b-hf\n",
      "../data/methods2test_small/generated/pre-training/metal-llama/CodeLlama-7b-hf\n",
      "['.DS_Store', '00001-of-00002.test.jsonl', '00002-of-00002.test.jsonl', 'generation_config_diff.json', 'generation_config.json', 'model_config_diff.json', 'model_config.json']\n",
      "Loading file:  00001-of-00002.test.jsonl\n",
      "Loading file:  00002-of-00002.test.jsonl\n"
     ]
    },
    {
     "data": {
      "application/vnd.jupyter.widget-view+json": {
       "model_id": "cac3325984214dfca21a10f6f8ede84b",
       "version_major": 2,
       "version_minor": 0
      },
      "text/plain": [
       "VBox(children=(HBox(children=(IntProgress(value=0, description='0.00%', max=99), Label(value='0 / 99'))), HBox…"
      ]
     },
     "metadata": {},
     "output_type": "display_data"
    },
    {
     "name": "stdout",
     "output_type": "stream",
     "text": [
      "methods2test_small pre-training Salesforce/codegen2-3_7B_P\n",
      "../data/methods2test_small/generated/pre-training/Salesforce/codegen2-3_7B_P\n",
      "['.DS_Store', '00001-of-00002.test.jsonl', '00002-of-00002.test.jsonl', 'generation_config_diff.json', 'generation_config.json', 'model_config_diff.json', 'model_config.json']\n",
      "Loading file:  00001-of-00002.test.jsonl\n",
      "Loading file:  00002-of-00002.test.jsonl\n"
     ]
    },
    {
     "data": {
      "application/vnd.jupyter.widget-view+json": {
       "model_id": "cf7d328a393b497ab1a48d0d1171273f",
       "version_major": 2,
       "version_minor": 0
      },
      "text/plain": [
       "VBox(children=(HBox(children=(IntProgress(value=0, description='0.00%', max=99), Label(value='0 / 99'))), HBox…"
      ]
     },
     "metadata": {},
     "output_type": "display_data"
    },
    {
     "name": "stdout",
     "output_type": "stream",
     "text": [
      "methods2test_small full_fine-tuning Salesforce/codegen2-1B_P\n",
      "../data/methods2test_small/generated/full_fine-tuning/Salesforce/codegen2-1B_P\n",
      "['.DS_Store', '00001-of-00002.test.jsonl', '00002-of-00002.test.jsonl', 'generation_config_diff.json', 'generation_config.json', 'model_config_diff.json', 'model_config.json']\n",
      "Loading file:  00001-of-00002.test.jsonl\n",
      "Loading file:  00002-of-00002.test.jsonl\n"
     ]
    },
    {
     "data": {
      "application/vnd.jupyter.widget-view+json": {
       "model_id": "4913e0e6f73147738095acfe61157a97",
       "version_major": 2,
       "version_minor": 0
      },
      "text/plain": [
       "VBox(children=(HBox(children=(IntProgress(value=0, description='0.00%', max=99), Label(value='0 / 99'))), HBox…"
      ]
     },
     "metadata": {},
     "output_type": "display_data"
    },
    {
     "name": "stdout",
     "output_type": "stream",
     "text": [
      "Error:  tuple index out of range\n",
      "methods2test_small pre-training Salesforce/codegen2-16B_P\n",
      "../data/methods2test_small/generated/pre-training/Salesforce/codegen2-16B_P\n",
      "['.DS_Store', '00001-of-00002.test.jsonl', '00002-of-00002.test.jsonl', 'generation_config_diff.json', 'generation_config.json', 'model_config_diff.json', 'model_config.json']\n",
      "Loading file:  00001-of-00002.test.jsonl\n",
      "Loading file:  00002-of-00002.test.jsonl\n"
     ]
    },
    {
     "data": {
      "application/vnd.jupyter.widget-view+json": {
       "model_id": "bb06d3d83fb1435da7c018b06058a87b",
       "version_major": 2,
       "version_minor": 0
      },
      "text/plain": [
       "VBox(children=(HBox(children=(IntProgress(value=0, description='0.00%', max=99), Label(value='0 / 99'))), HBox…"
      ]
     },
     "metadata": {},
     "output_type": "display_data"
    },
    {
     "name": "stdout",
     "output_type": "stream",
     "text": [
      "methods2test_small prompt-tuning bigcode/starcoder2-15b\n",
      "../data/methods2test_small/generated/prompt-tuning/bigcode/starcoder2-15b\n",
      "['.DS_Store', '00001-of-00002.test.jsonl', '00002-of-00002.test.jsonl', 'generation_config_diff.json', 'generation_config.json', 'adapter_config.json', 'model_config_diff.json', 'model_config.json']\n",
      "Loading file:  00001-of-00002.test.jsonl\n",
      "Loading file:  00002-of-00002.test.jsonl\n"
     ]
    },
    {
     "data": {
      "application/vnd.jupyter.widget-view+json": {
       "model_id": "07792dba18ee416a98c6a49d51a70211",
       "version_major": 2,
       "version_minor": 0
      },
      "text/plain": [
       "VBox(children=(HBox(children=(IntProgress(value=0, description='0.00%', max=101), Label(value='0 / 101'))), HB…"
      ]
     },
     "metadata": {},
     "output_type": "display_data"
    },
    {
     "name": "stdout",
     "output_type": "stream",
     "text": [
      "methods2test_small prompt-tuning bigcode/starcoderbase\n",
      "../data/methods2test_small/generated/prompt-tuning/bigcode/starcoderbase\n",
      "['.DS_Store', '00001-of-00002.test.jsonl', '00002-of-00002.test.jsonl', 'generation_config_diff.json', 'generation_config.json', 'adapter_config.json', 'model_config_diff.json', 'model_config.json']\n",
      "Loading file:  00001-of-00002.test.jsonl\n",
      "Loading file:  00002-of-00002.test.jsonl\n"
     ]
    },
    {
     "data": {
      "application/vnd.jupyter.widget-view+json": {
       "model_id": "1e6d39949ba542969d4e80a18fce6d6a",
       "version_major": 2,
       "version_minor": 0
      },
      "text/plain": [
       "VBox(children=(HBox(children=(IntProgress(value=0, description='0.00%', max=101), Label(value='0 / 101'))), HB…"
      ]
     },
     "metadata": {},
     "output_type": "display_data"
    },
    {
     "name": "stdout",
     "output_type": "stream",
     "text": [
      "methods2test_small prompt-tuning Salesforce/codegen2-1B_P\n",
      "../data/methods2test_small/generated/prompt-tuning/Salesforce/codegen2-1B_P\n",
      "['.DS_Store', '00001-of-00002.test.jsonl', '00002-of-00002.test.jsonl', 'generation_config_diff.json', 'generation_config.json', 'adapter_config.json', 'model_config_diff.json', 'model_config.json']\n",
      "Loading file:  00001-of-00002.test.jsonl\n",
      "Loading file:  00002-of-00002.test.jsonl\n"
     ]
    },
    {
     "data": {
      "application/vnd.jupyter.widget-view+json": {
       "model_id": "fe9b2255c6834cc294e6ccc1502a3bf8",
       "version_major": 2,
       "version_minor": 0
      },
      "text/plain": [
       "VBox(children=(HBox(children=(IntProgress(value=0, description='0.00%', max=99), Label(value='0 / 99'))), HBox…"
      ]
     },
     "metadata": {},
     "output_type": "display_data"
    },
    {
     "name": "stdout",
     "output_type": "stream",
     "text": [
      "methods2test_small lora Salesforce/codegen-350M-multi\n",
      "../data/methods2test_small/generated/lora/Salesforce/codegen-350M-multi\n",
      "['.DS_Store', '00001-of-00002.test.jsonl', '00002-of-00002.test.jsonl', 'generation_config_diff.json', 'generation_config.json', 'adapter_config.json', 'model_config_diff.json', 'model_config.json']\n",
      "Loading file:  00001-of-00002.test.jsonl\n",
      "Loading file:  00002-of-00002.test.jsonl\n"
     ]
    },
    {
     "data": {
      "application/vnd.jupyter.widget-view+json": {
       "model_id": "ad687e58390a4c41a6f9cf748ae52f23",
       "version_major": 2,
       "version_minor": 0
      },
      "text/plain": [
       "VBox(children=(HBox(children=(IntProgress(value=0, description='0.00%', max=99), Label(value='0 / 99'))), HBox…"
      ]
     },
     "metadata": {},
     "output_type": "display_data"
    },
    {
     "name": "stdout",
     "output_type": "stream",
     "text": [
      "methods2test_small full_fine-tuning metal-llama/CodeLlama-7b-hf\n",
      "../data/methods2test_small/generated/full_fine-tuning/metal-llama/CodeLlama-7b-hf\n",
      "['.DS_Store', '00001-of-00002.test.jsonl', '00002-of-00002.test.jsonl', 'generation_config_diff.json', 'generation_config.json', 'model_config_diff.json', 'model_config.json']\n",
      "Loading file:  00001-of-00002.test.jsonl\n",
      "Loading file:  00002-of-00002.test.jsonl\n"
     ]
    },
    {
     "data": {
      "application/vnd.jupyter.widget-view+json": {
       "model_id": "eaa5d15a423d4426a3f200b57a1a97a7",
       "version_major": 2,
       "version_minor": 0
      },
      "text/plain": [
       "VBox(children=(HBox(children=(IntProgress(value=0, description='0.00%', max=99), Label(value='0 / 99'))), HBox…"
      ]
     },
     "metadata": {},
     "output_type": "display_data"
    },
    {
     "name": "stdout",
     "output_type": "stream",
     "text": [
      "Error:  tuple index out of range\n",
      "methods2test_small ia3 bigcode/starcoder2-3b\n",
      "../data/methods2test_small/generated/ia3/bigcode/starcoder2-3b\n",
      "['.DS_Store', '00001-of-00002.test.jsonl', '00002-of-00002.test.jsonl', 'generation_config_diff.json', 'generation_config.json', 'adapter_config.json', 'model_config_diff.json', 'model_config.json']\n",
      "Loading file:  00001-of-00002.test.jsonl\n",
      "Loading file:  00002-of-00002.test.jsonl\n"
     ]
    },
    {
     "data": {
      "application/vnd.jupyter.widget-view+json": {
       "model_id": "ea4483c1b6bc455eaaed4e4d9a10504c",
       "version_major": 2,
       "version_minor": 0
      },
      "text/plain": [
       "VBox(children=(HBox(children=(IntProgress(value=0, description='0.00%', max=101), Label(value='0 / 101'))), HB…"
      ]
     },
     "metadata": {},
     "output_type": "display_data"
    },
    {
     "name": "stdout",
     "output_type": "stream",
     "text": [
      "methods2test_small pre-training Salesforce/codegen-350M-multi\n",
      "../data/methods2test_small/generated/pre-training/Salesforce/codegen-350M-multi\n",
      "['.DS_Store', '00001-of-00002.test.jsonl', '00002-of-00002.test.jsonl', 'generation_config_diff.json', 'generation_config.json', 'model_config_diff.json', 'model_config.json']\n",
      "Loading file:  00001-of-00002.test.jsonl\n",
      "Loading file:  00002-of-00002.test.jsonl\n"
     ]
    },
    {
     "data": {
      "application/vnd.jupyter.widget-view+json": {
       "model_id": "e4256c35c6e8475b8113b42b5dcc4255",
       "version_major": 2,
       "version_minor": 0
      },
      "text/plain": [
       "VBox(children=(HBox(children=(IntProgress(value=0, description='0.00%', max=99), Label(value='0 / 99'))), HBox…"
      ]
     },
     "metadata": {},
     "output_type": "display_data"
    },
    {
     "name": "stdout",
     "output_type": "stream",
     "text": [
      "methods2test_small lora bigcode/starcoder2-3b\n",
      "../data/methods2test_small/generated/lora/bigcode/starcoder2-3b\n",
      "['.DS_Store', '00001-of-00002.test.jsonl', '00002-of-00002.test.jsonl', 'generation_config_diff.json', 'generation_config.json', 'adapter_config.json', 'model_config_diff.json', 'model_config.json']\n",
      "Loading file:  00001-of-00002.test.jsonl\n",
      "Loading file:  00002-of-00002.test.jsonl\n"
     ]
    },
    {
     "data": {
      "application/vnd.jupyter.widget-view+json": {
       "model_id": "a1bb134d62ba4f2fbf998c3543bc4cac",
       "version_major": 2,
       "version_minor": 0
      },
      "text/plain": [
       "VBox(children=(HBox(children=(IntProgress(value=0, description='0.00%', max=101), Label(value='0 / 101'))), HB…"
      ]
     },
     "metadata": {},
     "output_type": "display_data"
    },
    {
     "name": "stdout",
     "output_type": "stream",
     "text": [
      "methods2test_small prompt-tuning metal-llama/CodeLlama-7b-hf\n",
      "../data/methods2test_small/generated/prompt-tuning/metal-llama/CodeLlama-7b-hf\n",
      "['.DS_Store', '00001-of-00002.test.jsonl', '00002-of-00002.test.jsonl', 'generation_config_diff.json', 'generation_config.json', 'adapter_config.json', 'model_config_diff.json', 'model_config.json']\n",
      "Loading file:  00001-of-00002.test.jsonl\n",
      "Loading file:  00002-of-00002.test.jsonl\n"
     ]
    },
    {
     "data": {
      "application/vnd.jupyter.widget-view+json": {
       "model_id": "e8ad2c8fd17449d5a624f404990db0eb",
       "version_major": 2,
       "version_minor": 0
      },
      "text/plain": [
       "VBox(children=(HBox(children=(IntProgress(value=0, description='0.00%', max=99), Label(value='0 / 99'))), HBox…"
      ]
     },
     "metadata": {},
     "output_type": "display_data"
    },
    {
     "name": "stdout",
     "output_type": "stream",
     "text": [
      "methods2test_small pre-training bigcode/starcoder2-3b\n",
      "../data/methods2test_small/generated/pre-training/bigcode/starcoder2-3b\n",
      "['.DS_Store', '00001-of-00002.test.jsonl', '00002-of-00002.test.jsonl', 'generation_config_diff.json', 'generation_config.json', 'model_config_diff.json', 'model_config.json']\n",
      "Loading file:  00001-of-00002.test.jsonl\n",
      "Loading file:  00002-of-00002.test.jsonl\n"
     ]
    },
    {
     "data": {
      "application/vnd.jupyter.widget-view+json": {
       "model_id": "b0031851b0884ee4a291465233842ca7",
       "version_major": 2,
       "version_minor": 0
      },
      "text/plain": [
       "VBox(children=(HBox(children=(IntProgress(value=0, description='0.00%', max=101), Label(value='0 / 101'))), HB…"
      ]
     },
     "metadata": {},
     "output_type": "display_data"
    },
    {
     "name": "stdout",
     "output_type": "stream",
     "text": [
      "methods2test_small ia3 Salesforce/codegen2-7B_P\n",
      "../data/methods2test_small/generated/ia3/Salesforce/codegen2-7B_P\n",
      "['.DS_Store', '00001-of-00002.test.jsonl', '00002-of-00002.test.jsonl', 'generation_config_diff.json', 'generation_config.json', 'adapter_config.json', 'model_config_diff.json', 'model_config.json']\n",
      "Loading file:  00001-of-00002.test.jsonl\n",
      "Loading file:  00002-of-00002.test.jsonl\n"
     ]
    },
    {
     "data": {
      "application/vnd.jupyter.widget-view+json": {
       "model_id": "bc8d2ffd7bb343ca88e8b279c22567ce",
       "version_major": 2,
       "version_minor": 0
      },
      "text/plain": [
       "VBox(children=(HBox(children=(IntProgress(value=0, description='0.00%', max=99), Label(value='0 / 99'))), HBox…"
      ]
     },
     "metadata": {},
     "output_type": "display_data"
    },
    {
     "name": "stdout",
     "output_type": "stream",
     "text": [
      "methods2test_small lora Salesforce/codegen2-7B_P\n",
      "../data/methods2test_small/generated/lora/Salesforce/codegen2-7B_P\n",
      "['.DS_Store', '00001-of-00002.test.jsonl', '00002-of-00002.test.jsonl', 'generation_config_diff.json', 'generation_config.json', 'adapter_config.json', 'model_config_diff.json', 'model_config.json']\n",
      "Loading file:  00001-of-00002.test.jsonl\n",
      "Loading file:  00002-of-00002.test.jsonl\n"
     ]
    },
    {
     "data": {
      "application/vnd.jupyter.widget-view+json": {
       "model_id": "68395ddb0f4847268856f818af4e1584",
       "version_major": 2,
       "version_minor": 0
      },
      "text/plain": [
       "VBox(children=(HBox(children=(IntProgress(value=0, description='0.00%', max=99), Label(value='0 / 99'))), HBox…"
      ]
     },
     "metadata": {},
     "output_type": "display_data"
    },
    {
     "name": "stdout",
     "output_type": "stream",
     "text": [
      "methods2test_small full_fine-tuning Salesforce/codegen2-3_7B_P\n",
      "../data/methods2test_small/generated/full_fine-tuning/Salesforce/codegen2-3_7B_P\n",
      "['.DS_Store', '00001-of-00002.test.jsonl', '00002-of-00002.test.jsonl', 'generation_config_diff.json', 'generation_config.json', 'model_config_diff.json', 'model_config.json']\n",
      "Loading file:  00001-of-00002.test.jsonl\n",
      "Loading file:  00002-of-00002.test.jsonl\n"
     ]
    },
    {
     "data": {
      "application/vnd.jupyter.widget-view+json": {
       "model_id": "c495995713c1488c9991d2178d49917a",
       "version_major": 2,
       "version_minor": 0
      },
      "text/plain": [
       "VBox(children=(HBox(children=(IntProgress(value=0, description='0.00%', max=99), Label(value='0 / 99'))), HBox…"
      ]
     },
     "metadata": {},
     "output_type": "display_data"
    },
    {
     "name": "stdout",
     "output_type": "stream",
     "text": [
      "Error:  tuple index out of range\n",
      "methods2test_small full_fine-tuning Salesforce/codegen2-16B_P\n",
      "../data/methods2test_small/generated/full_fine-tuning/Salesforce/codegen2-16B_P\n",
      "['.DS_Store', '00001-of-00002.test.jsonl', '00002-of-00002.test.jsonl', 'generation_config_diff.json', 'generation_config.json', 'model_config_diff.json', 'model_config.json']\n",
      "Loading file:  00001-of-00002.test.jsonl\n",
      "Loading file:  00002-of-00002.test.jsonl\n"
     ]
    },
    {
     "data": {
      "application/vnd.jupyter.widget-view+json": {
       "model_id": "6687065405764d1393293c1d76dce586",
       "version_major": 2,
       "version_minor": 0
      },
      "text/plain": [
       "VBox(children=(HBox(children=(IntProgress(value=0, description='0.00%', max=99), Label(value='0 / 99'))), HBox…"
      ]
     },
     "metadata": {},
     "output_type": "display_data"
    },
    {
     "name": "stdout",
     "output_type": "stream",
     "text": [
      "methods2test_small prompt-tuning Salesforce/codegen2-16B_P\n",
      "../data/methods2test_small/generated/prompt-tuning/Salesforce/codegen2-16B_P\n",
      "['.DS_Store', '00001-of-00002.test.jsonl', '00002-of-00002.test.jsonl', 'generation_config_diff.json', 'generation_config.json', 'adapter_config.json', 'model_config_diff.json', 'model_config.json']\n",
      "Loading file:  00001-of-00002.test.jsonl\n",
      "Loading file:  00002-of-00002.test.jsonl\n"
     ]
    },
    {
     "data": {
      "application/vnd.jupyter.widget-view+json": {
       "model_id": "7a5c0ac63c754f859d3a8cf9b26d8211",
       "version_major": 2,
       "version_minor": 0
      },
      "text/plain": [
       "VBox(children=(HBox(children=(IntProgress(value=0, description='0.00%', max=99), Label(value='0 / 99'))), HBox…"
      ]
     },
     "metadata": {},
     "output_type": "display_data"
    },
    {
     "name": "stdout",
     "output_type": "stream",
     "text": [
      "methods2test_small pre-training Salesforce/codegen2-7B_P\n",
      "../data/methods2test_small/generated/pre-training/Salesforce/codegen2-7B_P\n",
      "['.DS_Store', '00001-of-00002.test.jsonl', '00002-of-00002.test.jsonl', 'generation_config_diff.json', 'generation_config.json', 'model_config_diff.json', 'model_config.json']\n",
      "Loading file:  00001-of-00002.test.jsonl\n",
      "Loading file:  00002-of-00002.test.jsonl\n"
     ]
    },
    {
     "data": {
      "application/vnd.jupyter.widget-view+json": {
       "model_id": "1d03aaeb53b842fcbd24059ac88eedb1",
       "version_major": 2,
       "version_minor": 0
      },
      "text/plain": [
       "VBox(children=(HBox(children=(IntProgress(value=0, description='0.00%', max=99), Label(value='0 / 99'))), HBox…"
      ]
     },
     "metadata": {},
     "output_type": "display_data"
    },
    {
     "name": "stdout",
     "output_type": "stream",
     "text": [
      "methods2test_small ia3 bigcode/starcoder2-7b\n",
      "../data/methods2test_small/generated/ia3/bigcode/starcoder2-7b\n",
      "['.DS_Store', '00001-of-00002.test.jsonl', '00002-of-00002.test.jsonl', 'generation_config_diff.json', 'generation_config.json', 'adapter_config.json', 'model_config_diff.json', 'model_config.json']\n",
      "Loading file:  00001-of-00002.test.jsonl\n",
      "Loading file:  00002-of-00002.test.jsonl\n"
     ]
    },
    {
     "data": {
      "application/vnd.jupyter.widget-view+json": {
       "model_id": "989abcaed2554301af9f26d399976363",
       "version_major": 2,
       "version_minor": 0
      },
      "text/plain": [
       "VBox(children=(HBox(children=(IntProgress(value=0, description='0.00%', max=99), Label(value='0 / 99'))), HBox…"
      ]
     },
     "metadata": {},
     "output_type": "display_data"
    },
    {
     "name": "stdout",
     "output_type": "stream",
     "text": [
      "methods2test_small prompt-tuning Salesforce/codegen2-3_7B_P\n",
      "../data/methods2test_small/generated/prompt-tuning/Salesforce/codegen2-3_7B_P\n",
      "['.DS_Store', '00001-of-00002.test.jsonl', '00002-of-00002.test.jsonl', 'generation_config_diff.json', 'generation_config.json', 'adapter_config.json', 'model_config_diff.json', 'model_config.json']\n",
      "Loading file:  00001-of-00002.test.jsonl\n",
      "Loading file:  00002-of-00002.test.jsonl\n"
     ]
    },
    {
     "data": {
      "application/vnd.jupyter.widget-view+json": {
       "model_id": "8b1ce225616f4ebc9abbc4555a01f9e8",
       "version_major": 2,
       "version_minor": 0
      },
      "text/plain": [
       "VBox(children=(HBox(children=(IntProgress(value=0, description='0.00%', max=99), Label(value='0 / 99'))), HBox…"
      ]
     },
     "metadata": {},
     "output_type": "display_data"
    },
    {
     "name": "stdout",
     "output_type": "stream",
     "text": [
      "methods2test_small lora bigcode/starcoder2-7b\n",
      "../data/methods2test_small/generated/lora/bigcode/starcoder2-7b\n",
      "['.DS_Store', '00001-of-00002.test.jsonl', '00002-of-00002.test.jsonl', 'generation_config_diff.json', 'generation_config.json', 'adapter_config.json', 'model_config_diff.json', 'model_config.json']\n",
      "Loading file:  00001-of-00002.test.jsonl\n",
      "Loading file:  00002-of-00002.test.jsonl\n"
     ]
    },
    {
     "data": {
      "application/vnd.jupyter.widget-view+json": {
       "model_id": "54d9299e9533415cb747c67c4244352d",
       "version_major": 2,
       "version_minor": 0
      },
      "text/plain": [
       "VBox(children=(HBox(children=(IntProgress(value=0, description='0.00%', max=101), Label(value='0 / 101'))), HB…"
      ]
     },
     "metadata": {},
     "output_type": "display_data"
    },
    {
     "name": "stdout",
     "output_type": "stream",
     "text": [
      "methods2test_small full_fine-tuning Salesforce/codegen-350M-multi\n",
      "../data/methods2test_small/generated/full_fine-tuning/Salesforce/codegen-350M-multi\n",
      "['.DS_Store', '00001-of-00002.test.jsonl', '00002-of-00002.test.jsonl', 'generation_config_diff.json', 'generation_config.json', 'model_config_diff.json', 'model_config.json']\n",
      "Loading file:  00001-of-00002.test.jsonl\n",
      "Loading file:  00002-of-00002.test.jsonl\n"
     ]
    },
    {
     "data": {
      "application/vnd.jupyter.widget-view+json": {
       "model_id": "482f43bef30749c1862654f23532a24f",
       "version_major": 2,
       "version_minor": 0
      },
      "text/plain": [
       "VBox(children=(HBox(children=(IntProgress(value=0, description='0.00%', max=99), Label(value='0 / 99'))), HBox…"
      ]
     },
     "metadata": {},
     "output_type": "display_data"
    },
    {
     "name": "stdout",
     "output_type": "stream",
     "text": [
      "methods2test_small full_fine-tuning bigcode/starcoder2-3b\n",
      "../data/methods2test_small/generated/full_fine-tuning/bigcode/starcoder2-3b\n",
      "['.DS_Store', '00001-of-00002.test.jsonl', '00002-of-00002.test.jsonl', 'generation_config_diff.json', 'generation_config.json', 'model_config_diff.json', 'model_config.json']\n",
      "Loading file:  00001-of-00002.test.jsonl\n",
      "Loading file:  00002-of-00002.test.jsonl\n"
     ]
    },
    {
     "data": {
      "application/vnd.jupyter.widget-view+json": {
       "model_id": "a1d22a013ad74d20b44ae2574a03ba7e",
       "version_major": 2,
       "version_minor": 0
      },
      "text/plain": [
       "VBox(children=(HBox(children=(IntProgress(value=0, description='0.00%', max=101), Label(value='0 / 101'))), HB…"
      ]
     },
     "metadata": {},
     "output_type": "display_data"
    },
    {
     "name": "stdout",
     "output_type": "stream",
     "text": [
      "methods2test_small prompt-tuning Salesforce/codegen-350M-multi\n",
      "../data/methods2test_small/generated/prompt-tuning/Salesforce/codegen-350M-multi\n",
      "['.DS_Store', '00001-of-00002.test.jsonl', '00002-of-00002.test.jsonl', 'generation_config_diff.json', 'generation_config.json', 'adapter_config.json', 'model_config_diff.json', 'model_config.json']\n",
      "Loading file:  00001-of-00002.test.jsonl\n",
      "Loading file:  00002-of-00002.test.jsonl\n"
     ]
    },
    {
     "data": {
      "application/vnd.jupyter.widget-view+json": {
       "model_id": "77ab2b1899f84e809c3732eec8795c9b",
       "version_major": 2,
       "version_minor": 0
      },
      "text/plain": [
       "VBox(children=(HBox(children=(IntProgress(value=0, description='0.00%', max=99), Label(value='0 / 99'))), HBox…"
      ]
     },
     "metadata": {},
     "output_type": "display_data"
    },
    {
     "name": "stdout",
     "output_type": "stream",
     "text": [
      "methods2test_small pre-training bigcode/starcoder2-7b\n",
      "../data/methods2test_small/generated/pre-training/bigcode/starcoder2-7b\n",
      "['.DS_Store', '00001-of-00002.test.jsonl', '00002-of-00002.test.jsonl', 'generation_config_diff.json', 'generation_config.json', 'model_config_diff.json', 'model_config.json']\n",
      "Loading file:  00001-of-00002.test.jsonl\n",
      "Loading file:  00002-of-00002.test.jsonl\n"
     ]
    },
    {
     "data": {
      "application/vnd.jupyter.widget-view+json": {
       "model_id": "2e2a4b2f6b5044028d2afc2ed8d1949d",
       "version_major": 2,
       "version_minor": 0
      },
      "text/plain": [
       "VBox(children=(HBox(children=(IntProgress(value=0, description='0.00%', max=101), Label(value='0 / 101'))), HB…"
      ]
     },
     "metadata": {},
     "output_type": "display_data"
    },
    {
     "name": "stdout",
     "output_type": "stream",
     "text": [
      "methods2test_small ia3 bigcode/starcoderbase\n",
      "../data/methods2test_small/generated/ia3/bigcode/starcoderbase\n",
      "['.DS_Store', 'generation_config_diff.json', 'generation_config.json', 'adapter_config.json', '00001-of-00001.test.jsonl', 'model_config_diff.json', 'model_config.json']\n",
      "Loading file:  00001-of-00001.test.jsonl\n"
     ]
    },
    {
     "data": {
      "application/vnd.jupyter.widget-view+json": {
       "model_id": "01d4f3db6c2745e68569cf5c78b8c6c3",
       "version_major": 2,
       "version_minor": 0
      },
      "text/plain": [
       "VBox(children=(HBox(children=(IntProgress(value=0, description='0.00%', max=101), Label(value='0 / 101'))), HB…"
      ]
     },
     "metadata": {},
     "output_type": "display_data"
    },
    {
     "name": "stdout",
     "output_type": "stream",
     "text": [
      "methods2test_small ia3 bigcode/starcoder2-15b\n",
      "../data/methods2test_small/generated/ia3/bigcode/starcoder2-15b\n",
      "['.DS_Store', '00001-of-00002.test.jsonl', '00002-of-00002.test.jsonl', 'generation_config_diff.json', 'generation_config.json', 'adapter_config.json', '00001-of-00001.test.jsonl', 'model_config_diff.json', 'model_config.json']\n",
      "Loading file:  00001-of-00002.test.jsonl\n",
      "Loading file:  00002-of-00002.test.jsonl\n",
      "Loading file:  00001-of-00001.test.jsonl\n"
     ]
    },
    {
     "data": {
      "application/vnd.jupyter.widget-view+json": {
       "model_id": "5c35ef165d894ddc91d22dbf33f9c089",
       "version_major": 2,
       "version_minor": 0
      },
      "text/plain": [
       "VBox(children=(HBox(children=(IntProgress(value=0, description='0.00%', max=101), Label(value='0 / 101'))), HB…"
      ]
     },
     "metadata": {},
     "output_type": "display_data"
    },
    {
     "name": "stdout",
     "output_type": "stream",
     "text": [
      "methods2test_small ia3 Salesforce/codegen2-1B_P\n",
      "../data/methods2test_small/generated/ia3/Salesforce/codegen2-1B_P\n",
      "['.DS_Store', '00001-of-00002.test.jsonl', '00002-of-00002.test.jsonl', 'generation_config_diff.json', 'generation_config.json', 'adapter_config.json', 'model_config_diff.json', 'model_config.json']\n",
      "Loading file:  00001-of-00002.test.jsonl\n",
      "Loading file:  00002-of-00002.test.jsonl\n"
     ]
    },
    {
     "data": {
      "application/vnd.jupyter.widget-view+json": {
       "model_id": "0c8f98ae31a34e2292b4d8668e612cae",
       "version_major": 2,
       "version_minor": 0
      },
      "text/plain": [
       "VBox(children=(HBox(children=(IntProgress(value=0, description='0.00%', max=99), Label(value='0 / 99'))), HBox…"
      ]
     },
     "metadata": {},
     "output_type": "display_data"
    },
    {
     "name": "stdout",
     "output_type": "stream",
     "text": [
      "methods2test_small lora bigcode/starcoderbase\n",
      "../data/methods2test_small/generated/lora/bigcode/starcoderbase\n",
      "['.DS_Store', '00001-of-00002.test.jsonl', '00002-of-00002.test.jsonl', 'generation_config_diff.json', 'generation_config.json', 'adapter_config.json', 'model_config_diff.json', 'model_config.json']\n",
      "Loading file:  00001-of-00002.test.jsonl\n",
      "Loading file:  00002-of-00002.test.jsonl\n"
     ]
    },
    {
     "data": {
      "application/vnd.jupyter.widget-view+json": {
       "model_id": "088501a5c9504b1ba9998c362933d979",
       "version_major": 2,
       "version_minor": 0
      },
      "text/plain": [
       "VBox(children=(HBox(children=(IntProgress(value=0, description='0.00%', max=101), Label(value='0 / 101'))), HB…"
      ]
     },
     "metadata": {},
     "output_type": "display_data"
    },
    {
     "name": "stdout",
     "output_type": "stream",
     "text": [
      "methods2test_small prompt-tuning bigcode/starcoder2-3b\n",
      "../data/methods2test_small/generated/prompt-tuning/bigcode/starcoder2-3b\n",
      "['.DS_Store', '00001-of-00002.test.jsonl', '00002-of-00002.test.jsonl', 'generation_config_diff.json', 'generation_config.json', 'adapter_config.json', 'model_config_diff.json', 'model_config.json']\n",
      "Loading file:  00001-of-00002.test.jsonl\n",
      "Loading file:  00002-of-00002.test.jsonl\n"
     ]
    },
    {
     "data": {
      "application/vnd.jupyter.widget-view+json": {
       "model_id": "4da7a38f78f54d59b86634dcdc49f43f",
       "version_major": 2,
       "version_minor": 0
      },
      "text/plain": [
       "VBox(children=(HBox(children=(IntProgress(value=0, description='0.00%', max=101), Label(value='0 / 101'))), HB…"
      ]
     },
     "metadata": {},
     "output_type": "display_data"
    },
    {
     "name": "stdout",
     "output_type": "stream",
     "text": [
      "methods2test_small lora bigcode/starcoder2-15b\n",
      "../data/methods2test_small/generated/lora/bigcode/starcoder2-15b\n",
      "['.DS_Store', '00001-of-00002.test.jsonl', '00002-of-00002.test.jsonl', 'generation_config_diff.json', 'generation_config.json', 'adapter_config.json', 'model_config_diff.json', 'model_config.json']\n",
      "Loading file:  00001-of-00002.test.jsonl\n",
      "Loading file:  00002-of-00002.test.jsonl\n"
     ]
    },
    {
     "data": {
      "application/vnd.jupyter.widget-view+json": {
       "model_id": "be26a50205eb4679a64fca5d460b0d23",
       "version_major": 2,
       "version_minor": 0
      },
      "text/plain": [
       "VBox(children=(HBox(children=(IntProgress(value=0, description='0.00%', max=101), Label(value='0 / 101'))), HB…"
      ]
     },
     "metadata": {},
     "output_type": "display_data"
    },
    {
     "name": "stdout",
     "output_type": "stream",
     "text": [
      "methods2test_small pre-training bigcode/starcoderbase\n",
      "../data/methods2test_small/generated/pre-training/bigcode/starcoderbase\n",
      "['.DS_Store', '00001-of-00002.test.jsonl', '00002-of-00002.test.jsonl', 'generation_config_diff.json', 'generation_config.json', 'model_config_diff.json', 'model_config.json']\n",
      "Loading file:  00001-of-00002.test.jsonl\n",
      "Loading file:  00002-of-00002.test.jsonl\n"
     ]
    },
    {
     "data": {
      "application/vnd.jupyter.widget-view+json": {
       "model_id": "3eb60b3d226e4033870cb3b519913f91",
       "version_major": 2,
       "version_minor": 0
      },
      "text/plain": [
       "VBox(children=(HBox(children=(IntProgress(value=0, description='0.00%', max=101), Label(value='0 / 101'))), HB…"
      ]
     },
     "metadata": {},
     "output_type": "display_data"
    },
    {
     "name": "stdout",
     "output_type": "stream",
     "text": [
      "methods2test_small lora Salesforce/codegen2-1B_P\n",
      "../data/methods2test_small/generated/lora/Salesforce/codegen2-1B_P\n",
      "['.DS_Store', '00001-of-00002.test.jsonl', '00002-of-00002.test.jsonl', 'generation_config_diff.json', 'generation_config.json', 'adapter_config.json', 'model_config_diff.json', 'model_config.json']\n",
      "Loading file:  00001-of-00002.test.jsonl\n",
      "Loading file:  00002-of-00002.test.jsonl\n"
     ]
    },
    {
     "data": {
      "application/vnd.jupyter.widget-view+json": {
       "model_id": "984231e6baef46cbabdbd389c69a6751",
       "version_major": 2,
       "version_minor": 0
      },
      "text/plain": [
       "VBox(children=(HBox(children=(IntProgress(value=0, description='0.00%', max=99), Label(value='0 / 99'))), HBox…"
      ]
     },
     "metadata": {},
     "output_type": "display_data"
    },
    {
     "name": "stdout",
     "output_type": "stream",
     "text": [
      "methods2test_small pre-training bigcode/starcoder2-15b\n",
      "../data/methods2test_small/generated/pre-training/bigcode/starcoder2-15b\n",
      "['.DS_Store', '00001-of-00002.test.jsonl', '00002-of-00002.test.jsonl', 'generation_config_diff.json', 'generation_config.json', 'model_config_diff.json', 'model_config.json']\n",
      "Loading file:  00001-of-00002.test.jsonl\n",
      "Loading file:  00002-of-00002.test.jsonl\n"
     ]
    },
    {
     "data": {
      "application/vnd.jupyter.widget-view+json": {
       "model_id": "6036e7af9c8147a7998a4fa3c500e695",
       "version_major": 2,
       "version_minor": 0
      },
      "text/plain": [
       "VBox(children=(HBox(children=(IntProgress(value=0, description='0.00%', max=101), Label(value='0 / 101'))), HB…"
      ]
     },
     "metadata": {},
     "output_type": "display_data"
    },
    {
     "name": "stdout",
     "output_type": "stream",
     "text": [
      "methods2test_small pre-training Salesforce/codegen2-1B_P\n",
      "../data/methods2test_small/generated/pre-training/Salesforce/codegen2-1B_P\n",
      "['.DS_Store', '00001-of-00002.test.jsonl', '00002-of-00002.test.jsonl', 'generation_config_diff.json', 'generation_config.json', 'model_config_diff.json', 'model_config.json']\n",
      "Loading file:  00001-of-00002.test.jsonl\n",
      "Loading file:  00002-of-00002.test.jsonl\n"
     ]
    },
    {
     "data": {
      "application/vnd.jupyter.widget-view+json": {
       "model_id": "a5746e4a87ac4c9594f7391f58ea4e44",
       "version_major": 2,
       "version_minor": 0
      },
      "text/plain": [
       "VBox(children=(HBox(children=(IntProgress(value=0, description='0.00%', max=99), Label(value='0 / 99'))), HBox…"
      ]
     },
     "metadata": {},
     "output_type": "display_data"
    },
    {
     "name": "stdout",
     "output_type": "stream",
     "text": [
      "Error:  tuple index out of range\n",
      "Error:  tuple index out of range\n",
      "Error:  tuple index out of range\n",
      "Error:  tuple index out of range\n",
      "Error:  tuple index out of range\n",
      "Error:  tuple index out of range\n",
      "Error:  tuple index out of range\n",
      "Error: Error:  tuple index out of range \n",
      "tuple index out of range\n",
      "Error:  Error:  tuple index out of rangetuple index out of range\n",
      "\n",
      "Error:  tuple index out of range\n",
      "Error:  tuple index out of range\n",
      "Error: Error:   tuple index out of rangetuple index out of range\n",
      "\n",
      "Error: Error: Error:    tuple index out of rangetuple index out of rangetuple index out of range\n",
      "\n",
      "\n",
      "Error:  tuple index out of range\n",
      "Error:  tuple index out of range\n",
      "Error:  tuple index out of range\n",
      "Error:  tuple index out of range\n",
      "Error:  tuple index out of range\n",
      "Error: Error:   tuple index out of rangetuple index out of range\n",
      "\n",
      "Error:  tuple index out of range\n",
      "Error:  tuple index out of range\n",
      "Error: Error:   tuple index out of range\n",
      "tuple index out of range\n",
      "Error:  Error: tuple index out of range \n",
      "tuple index out of range\n",
      "Error:  tuple index out of range\n",
      "Error: Error:   tuple index out of rangetuple index out of range\n",
      "Error: \n",
      " tuple index out of rangeError: \n",
      " tuple index out of rangeError: \n",
      "Error:   tuple index out of range\n",
      "tuple index out of rangeError: \n",
      " tuple index out of range\n",
      "Error:  tuple index out of range\n",
      "Error:  Error: tuple index out of range\n",
      "Error:  tuple index out of range tuple index out of range\n",
      "\n",
      "Error:  tuple index out of range\n",
      "Error:  tuple index out of rangeError: \n",
      " tuple index out of range\n",
      "Error:  tuple index out of range\n",
      "Error:  tuple index out of range\n",
      "Error:  tuple index out of range\n",
      "Error:  tuple index out of rangeError: \n",
      " Error: Error: tuple index out of range \n",
      "tuple index out of range \n",
      "tuple index out of range\n",
      "Error: Error: Error:    tuple index out of rangetuple index out of range\n",
      "tuple index out of range\n",
      "\n",
      "Error:  tuple index out of range\n",
      "Error:  Error: tuple index out of range \n",
      "tuple index out of range\n",
      "Error:  tuple index out of range\n",
      "Error:  tuple index out of range\n",
      "Error:  tuple index out of range\n",
      "Error:  tuple index out of range\n",
      "Error:  tuple index out of range\n",
      "Error:  tuple index out of range\n",
      "Error: Error:  Error:  tuple index out of range\n",
      " tuple index out of range\n",
      "Error: tuple index out of range tuple index out of range\n",
      "\n",
      "Error:  Error: tuple index out of range Error: \n",
      "tuple index out of range \n",
      "tuple index out of range\n",
      "Error:  tuple index out of range\n",
      "Error:  tuple index out of range\n",
      "Error:  tuple index out of range\n",
      "Error:  tuple index out of range\n",
      "Error:  tuple index out of range\n",
      "Error: Error:   tuple index out of range\n",
      "tuple index out of range\n",
      "Error: Error:  tuple index out of range\n",
      " tuple index out of range\n",
      "Error:  tuple index out of range\n",
      "Error:  tuple index out of range\n",
      "Error:  Error: tuple index out of range \n",
      "tuple index out of range\n",
      "Error:  tuple index out of range\n",
      "Error:  tuple index out of range\n",
      "Error:  tuple index out of range\n",
      "Error:  tuple index out of range\n",
      "Error:  tuple index out of range\n",
      "Error:  tuple index out of range\n",
      "Error:  tuple index out of range\n",
      "Error:  tuple index out of rangeError: \n",
      " tuple index out of range\n",
      "Error:  tuple index out of range\n",
      "Error:  tuple index out of range\n",
      "Error:  tuple index out of range\n",
      "Error:  tuple index out of range\n",
      "Error: Error:   Error: tuple index out of rangetuple index out of range Error: \n",
      "\n",
      "tuple index out of range \n",
      "Error: tuple index out of range \n",
      "Error: tuple index out of range \n",
      "tuple index out of range\n",
      "Error:  tuple index out of range\n",
      "Error:  tuple index out of range\n",
      "Error: Error:  tuple index out of range tuple index out of range\n",
      "\n",
      "Error: Error:   tuple index out of rangetuple index out of range\n",
      "\n",
      "Error:  tuple index out of range\n",
      "Error:  tuple index out of rangeError: \n",
      " Error: tuple index out of range \n",
      "tuple index out of range\n",
      "Error:  tuple index out of range\n",
      "Error:  tuple index out of range\n",
      "Error:  tuple index out of range\n",
      "Error:  tuple index out of range\n",
      "Error: Error:   tuple index out of range\n",
      "tuple index out of range\n",
      "Error:  tuple index out of range\n",
      "Error:  tuple index out of range\n",
      "Error:  Error: Error: tuple index out of range  \n",
      "tuple index out of rangetuple index out of range\n",
      "\n",
      "Error:  tuple index out of range\n",
      "Error:  tuple index out of range\n",
      "Error: Error:  tuple index out of range \n",
      "tuple index out of range\n",
      "Error:  tuple index out of range\n",
      "Error:  tuple index out of range\n",
      "Error:  tuple index out of range\n",
      "Error: Error:  tuple index out of range \n",
      "tuple index out of range\n",
      "Error:  tuple index out of range\n",
      "Error:  tuple index out of range\n",
      "Error: Error:  tuple index out of range\n",
      " tuple index out of range\n",
      "Error:  tuple index out of range\n",
      "Error:  Error: tuple index out of range \n",
      "tuple index out of range\n",
      "Error:  tuple index out of rangeError: \n",
      " tuple index out of range\n",
      "Error:  tuple index out of range\n",
      "Error:  tuple index out of range\n",
      "Error:  Error: tuple index out of rangeError:  \n",
      " tuple index out of rangetuple index out of range\n",
      "\n",
      "Error:  tuple index out of range\n",
      "Error:  tuple index out of range\n",
      "Error:  tuple index out of range\n",
      "Error:  tuple index out of range\n",
      "Error:  tuple index out of range\n",
      "Error:  tuple index out of range\n",
      "Error:  Error: tuple index out of range \n",
      "tuple index out of range\n",
      "Error:  tuple index out of range\n",
      "Error:  tuple index out of range\n",
      "Error:  tuple index out of range\n",
      "Error:  tuple index out of rangeError: \n",
      " tuple index out of range\n",
      "Error:  tuple index out of range\n",
      "Error:  tuple index out of range\n",
      "Error:  tuple index out of range\n",
      "Error:  tuple index out of range\n",
      "Error:  Error:  tuple index out of rangetuple index out of range\n",
      "\n",
      "Error:  tuple index out of range\n",
      "Error: Error:   tuple index out of rangetuple index out of range\n",
      "\n",
      "Error:  tuple index out of range\n",
      "Error:  tuple index out of range\n",
      "Error:  tuple index out of range\n",
      "Error:  tuple index out of range\n",
      "Error:  tuple index out of range\n",
      "Error:  tuple index out of range\n",
      "Error:  tuple index out of range\n",
      "Error:  tuple index out of range\n",
      "Error:  tuple index out of range\n",
      "methods2test_small full_fine-tuning bigcode/starcoder2-7b\n",
      "../data/methods2test_small/generated/full_fine-tuning/bigcode/starcoder2-7b\n",
      "['.DS_Store', '00001-of-00002.test.jsonl', '00002-of-00002.test.jsonl', 'generation_config_diff.json', 'generation_config.json', 'model_config_diff.json', 'model_config.json']\n",
      "Loading file:  00001-of-00002.test.jsonl\n",
      "Loading file:  00002-of-00002.test.jsonl\n"
     ]
    },
    {
     "data": {
      "application/vnd.jupyter.widget-view+json": {
       "model_id": "fadd8280d10b43fdb178c094a17b2449",
       "version_major": 2,
       "version_minor": 0
      },
      "text/plain": [
       "VBox(children=(HBox(children=(IntProgress(value=0, description='0.00%', max=101), Label(value='0 / 101'))), HB…"
      ]
     },
     "metadata": {},
     "output_type": "display_data"
    },
    {
     "name": "stdout",
     "output_type": "stream",
     "text": [
      "methods2test_small full_fine-tuning Salesforce/codegen2-7B_P\n",
      "../data/methods2test_small/generated/full_fine-tuning/Salesforce/codegen2-7B_P\n",
      "['.DS_Store', '00001-of-00002.test.jsonl', '00002-of-00002.test.jsonl', 'generation_config_diff.json', 'generation_config.json', 'model_config_diff.json', 'model_config.json']\n",
      "Loading file:  00001-of-00002.test.jsonl\n",
      "Loading file:  00002-of-00002.test.jsonl\n"
     ]
    },
    {
     "data": {
      "application/vnd.jupyter.widget-view+json": {
       "model_id": "9aaba658030b4cceb7d2309f2d45b7c1",
       "version_major": 2,
       "version_minor": 0
      },
      "text/plain": [
       "VBox(children=(HBox(children=(IntProgress(value=0, description='0.00%', max=99), Label(value='0 / 99'))), HBox…"
      ]
     },
     "metadata": {},
     "output_type": "display_data"
    },
    {
     "name": "stdout",
     "output_type": "stream",
     "text": [
      "methods2test_small ia3 metal-llama/CodeLlama-7b-hf\n",
      "../data/methods2test_small/generated/ia3/metal-llama/CodeLlama-7b-hf\n",
      "['.DS_Store', '00001-of-00002.test.jsonl', '00002-of-00002.test.jsonl', 'generation_config_diff.json', 'generation_config.json', 'adapter_config.json', 'model_config_diff.json', 'model_config.json']\n",
      "Loading file:  00001-of-00002.test.jsonl\n",
      "Loading file:  00002-of-00002.test.jsonl\n"
     ]
    },
    {
     "data": {
      "application/vnd.jupyter.widget-view+json": {
       "model_id": "e1ad8fa387a2422cba9892f80af8826b",
       "version_major": 2,
       "version_minor": 0
      },
      "text/plain": [
       "VBox(children=(HBox(children=(IntProgress(value=0, description='0.00%', max=99), Label(value='0 / 99'))), HBox…"
      ]
     },
     "metadata": {},
     "output_type": "display_data"
    },
    {
     "name": "stdout",
     "output_type": "stream",
     "text": [
      "methods2test_small prompt-tuning Salesforce/codegen2-7B_P\n",
      "../data/methods2test_small/generated/prompt-tuning/Salesforce/codegen2-7B_P\n",
      "['.DS_Store', '00001-of-00002.test.jsonl', '00002-of-00002.test.jsonl', 'generation_config_diff.json', 'generation_config.json', 'adapter_config.json', 'model_config_diff.json', 'model_config.json']\n",
      "Loading file:  00001-of-00002.test.jsonl\n",
      "Loading file:  00002-of-00002.test.jsonl\n"
     ]
    },
    {
     "data": {
      "application/vnd.jupyter.widget-view+json": {
       "model_id": "532c2df241a54cb3997f4df8f93a24c7",
       "version_major": 2,
       "version_minor": 0
      },
      "text/plain": [
       "VBox(children=(HBox(children=(IntProgress(value=0, description='0.00%', max=99), Label(value='0 / 99'))), HBox…"
      ]
     },
     "metadata": {},
     "output_type": "display_data"
    },
    {
     "name": "stdout",
     "output_type": "stream",
     "text": [
      "methods2test_small lora metal-llama/CodeLlama-7b-hf\n",
      "../data/methods2test_small/generated/lora/metal-llama/CodeLlama-7b-hf\n",
      "['.DS_Store', '00001-of-00002.test.jsonl', '00002-of-00002.test.jsonl', 'generation_config_diff.json', 'generation_config.json', 'adapter_config.json', 'model_config_diff.json', 'model_config.json']\n",
      "Loading file:  00001-of-00002.test.jsonl\n",
      "Loading file:  00002-of-00002.test.jsonl\n"
     ]
    },
    {
     "data": {
      "application/vnd.jupyter.widget-view+json": {
       "model_id": "515949d24828417297a45c1b2c489352",
       "version_major": 2,
       "version_minor": 0
      },
      "text/plain": [
       "VBox(children=(HBox(children=(IntProgress(value=0, description='0.00%', max=99), Label(value='0 / 99'))), HBox…"
      ]
     },
     "metadata": {},
     "output_type": "display_data"
    },
    {
     "name": "stdout",
     "output_type": "stream",
     "text": [
      "methods2test_small full_fine-tuning bigcode/starcoderbase\n",
      "../data/methods2test_small/generated/full_fine-tuning/bigcode/starcoderbase\n",
      "['.DS_Store', '00001-of-00002.test.jsonl', '00002-of-00002.test.jsonl', 'generation_config_diff.json', 'generation_config.json', 'model_config_diff.json', 'model_config.json']\n",
      "Loading file:  00001-of-00002.test.jsonl\n",
      "Loading file:  00002-of-00002.test.jsonl\n"
     ]
    },
    {
     "data": {
      "application/vnd.jupyter.widget-view+json": {
       "model_id": "eb734a9891d547859e8bce05abf23e5f",
       "version_major": 2,
       "version_minor": 0
      },
      "text/plain": [
       "VBox(children=(HBox(children=(IntProgress(value=0, description='0.00%', max=101), Label(value='0 / 101'))), HB…"
      ]
     },
     "metadata": {},
     "output_type": "display_data"
    },
    {
     "name": "stdout",
     "output_type": "stream",
     "text": [
      "methods2test_small prompt-tuning bigcode/starcoder2-7b\n",
      "../data/methods2test_small/generated/prompt-tuning/bigcode/starcoder2-7b\n",
      "['.DS_Store', '00001-of-00002.test.jsonl', '00002-of-00002.test.jsonl', 'generation_config_diff.json', 'generation_config.json', 'adapter_config.json', 'model_config_diff.json', 'model_config.json']\n",
      "Loading file:  00001-of-00002.test.jsonl\n",
      "Loading file:  00002-of-00002.test.jsonl\n"
     ]
    },
    {
     "data": {
      "application/vnd.jupyter.widget-view+json": {
       "model_id": "a65d9b3488b4438c8e0391e94fa78516",
       "version_major": 2,
       "version_minor": 0
      },
      "text/plain": [
       "VBox(children=(HBox(children=(IntProgress(value=0, description='0.00%', max=101), Label(value='0 / 101'))), HB…"
      ]
     },
     "metadata": {},
     "output_type": "display_data"
    },
    {
     "name": "stdout",
     "output_type": "stream",
     "text": [
      "methods2test_small full_fine-tuning bigcode/starcoder2-15b\n",
      "../data/methods2test_small/generated/full_fine-tuning/bigcode/starcoder2-15b\n",
      "['.DS_Store', '00001-of-00002.test.jsonl', '00002-of-00002.test.jsonl', 'generation_config_diff.json', 'generation_config.json', 'model_config_diff.json', 'model_config.json']\n",
      "Loading file:  00001-of-00002.test.jsonl\n",
      "Loading file:  00002-of-00002.test.jsonl\n"
     ]
    },
    {
     "data": {
      "application/vnd.jupyter.widget-view+json": {
       "model_id": "0bac1f744e1b4812a38606ec7bce56c1",
       "version_major": 2,
       "version_minor": 0
      },
      "text/plain": [
       "VBox(children=(HBox(children=(IntProgress(value=0, description='0.00%', max=101), Label(value='0 / 101'))), HB…"
      ]
     },
     "metadata": {},
     "output_type": "display_data"
    },
    {
     "name": "stdout",
     "output_type": "stream",
     "text": [
      "methods2test_small ia3 Salesforce/codegen2-3_7B_P\n",
      "../data/methods2test_small/generated/ia3/Salesforce/codegen2-3_7B_P\n",
      "['.DS_Store', '00001-of-00002.test.jsonl', '00002-of-00002.test.jsonl', 'generation_config_diff.json', 'generation_config.json', 'adapter_config.json', 'model_config_diff.json', 'model_config.json']\n",
      "Loading file:  00001-of-00002.test.jsonl\n",
      "Loading file:  00002-of-00002.test.jsonl\n"
     ]
    },
    {
     "data": {
      "application/vnd.jupyter.widget-view+json": {
       "model_id": "f86ae6d8c4a5499f9fd6fcedbbb8bc69",
       "version_major": 2,
       "version_minor": 0
      },
      "text/plain": [
       "VBox(children=(HBox(children=(IntProgress(value=0, description='0.00%', max=99), Label(value='0 / 99'))), HBox…"
      ]
     },
     "metadata": {},
     "output_type": "display_data"
    },
    {
     "name": "stdout",
     "output_type": "stream",
     "text": [
      "Error:  tuple index out of range\n",
      "Error: Error:   tuple index out of rangetuple index out of range\n",
      "\n",
      "Error:  tuple index out of range\n",
      "Error:  tuple index out of range\n",
      "Error:  tuple index out of range\n",
      "Error:  tuple index out of range\n",
      "Error:  tuple index out of range\n",
      "Error:  tuple index out of range\n",
      "Error:  tuple index out of range\n",
      "Error:  tuple index out of range\n",
      "Error:  tuple index out of range\n",
      "Error:  tuple index out of range\n",
      "methods2test_small ia3 Salesforce/codegen2-16B_P\n",
      "../data/methods2test_small/generated/ia3/Salesforce/codegen2-16B_P\n",
      "['.DS_Store', 'generation_config_diff.json', 'generation_config.json', 'adapter_config.json', '00001-of-00001.test.jsonl', 'model_config_diff.json', 'model_config.json']\n",
      "Loading file:  00001-of-00001.test.jsonl\n"
     ]
    },
    {
     "data": {
      "application/vnd.jupyter.widget-view+json": {
       "model_id": "3811b6fb3e8f4dfd934e3f8d9128483f",
       "version_major": 2,
       "version_minor": 0
      },
      "text/plain": [
       "VBox(children=(HBox(children=(IntProgress(value=0, description='0.00%', max=99), Label(value='0 / 99'))), HBox…"
      ]
     },
     "metadata": {},
     "output_type": "display_data"
    },
    {
     "name": "stdout",
     "output_type": "stream",
     "text": [
      "methods2test_small lora Salesforce/codegen2-3_7B_P\n",
      "../data/methods2test_small/generated/lora/Salesforce/codegen2-3_7B_P\n",
      "['.DS_Store', '00001-of-00002.test.jsonl', '00002-of-00002.test.jsonl', 'generation_config_diff.json', 'generation_config.json', 'adapter_config.json', 'model_config_diff.json', 'model_config.json']\n",
      "Loading file:  00001-of-00002.test.jsonl\n",
      "Loading file:  00002-of-00002.test.jsonl\n"
     ]
    },
    {
     "data": {
      "application/vnd.jupyter.widget-view+json": {
       "model_id": "ccbf0951ccf84dd697c53678e784a5b9",
       "version_major": 2,
       "version_minor": 0
      },
      "text/plain": [
       "VBox(children=(HBox(children=(IntProgress(value=0, description='0.00%', max=99), Label(value='0 / 99'))), HBox…"
      ]
     },
     "metadata": {},
     "output_type": "display_data"
    },
    {
     "name": "stdout",
     "output_type": "stream",
     "text": [
      "methods2test_small lora Salesforce/codegen2-16B_P\n",
      "../data/methods2test_small/generated/lora/Salesforce/codegen2-16B_P\n",
      "['.DS_Store', '00001-of-00002.test.jsonl', '00002-of-00002.test.jsonl', 'generation_config_diff.json', 'generation_config.json', 'adapter_config.json', 'model_config_diff.json', 'model_config.json']\n",
      "Loading file:  00001-of-00002.test.jsonl\n",
      "Loading file:  00002-of-00002.test.jsonl\n"
     ]
    },
    {
     "data": {
      "application/vnd.jupyter.widget-view+json": {
       "model_id": "8b43baee08f94fe2b678446721f462f5",
       "version_major": 2,
       "version_minor": 0
      },
      "text/plain": [
       "VBox(children=(HBox(children=(IntProgress(value=0, description='0.00%', max=99), Label(value='0 / 99'))), HBox…"
      ]
     },
     "metadata": {},
     "output_type": "display_data"
    },
    {
     "name": "stdout",
     "output_type": "stream",
     "text": [
      "methods2test_small ia3 Salesforce/codegen-350M-multi\n",
      "../data/methods2test_small/generated/ia3/Salesforce/codegen-350M-multi\n",
      "['.DS_Store', '00001-of-00002.test.jsonl', '00002-of-00002.test.jsonl', 'generation_config_diff.json', 'generation_config.json', 'adapter_config.json', 'model_config_diff.json', 'model_config.json']\n",
      "Loading file:  00001-of-00002.test.jsonl\n",
      "Loading file:  00002-of-00002.test.jsonl\n"
     ]
    },
    {
     "data": {
      "application/vnd.jupyter.widget-view+json": {
       "model_id": "dc6ba5fb8748436b9d3aa57da630aa16",
       "version_major": 2,
       "version_minor": 0
      },
      "text/plain": [
       "VBox(children=(HBox(children=(IntProgress(value=0, description='0.00%', max=99), Label(value='0 / 99'))), HBox…"
      ]
     },
     "metadata": {},
     "output_type": "display_data"
    }
   ],
   "source": [
    "import os\n",
    "from pathlib import Path\n",
    "from tqdm.auto import tqdm\n",
    "import os\n",
    "\n",
    "root, dirs, files = next(os.walk(\"../data\"))\n",
    "datasets = dirs\n",
    "\n",
    "for dataset in datasets:\n",
    "    dataset_path = Path(root, dataset, \"generated\")\n",
    "    \n",
    "    paths = []\n",
    "    for d_root, dirnames, filenames in os.walk(dataset_path):\n",
    "        # only keep \"output\" directories\n",
    "        path = Path(d_root)\n",
    "        #print(path.parts)\n",
    "        if len(path.parts) == 7:\n",
    "            paths.append(path)\n",
    "\n",
    "    paths = list(set(paths))\n",
    "\n",
    "    valid_syntax_data = {}\n",
    "    for path in tqdm(paths):\n",
    "        path = path.parts\n",
    "        method = path[4]\n",
    "        model = path[5] + \"/\" + path[6]\n",
    "        print(dataset, method, model)\n",
    "        unfixable, total = fix_data(dataset, method, model)\n",
    "\n",
    "        valid_syntax_data.setdefault(model, {})\n",
    "        percentage = unfixable / total if total > 0 else 0\n",
    "        valid_syntax_data[model][method] = percentage\n",
    "\n",
    "    valid_df = pd.DataFrame(valid_syntax_data)\n",
    "    valid_df.T.to_csv(Path(root, dataset, \"valid_syntax.csv\"), index_label = 'model')"
   ]
  },
  {
   "cell_type": "code",
   "execution_count": null,
   "metadata": {},
   "outputs": [],
   "source": []
  }
 ],
 "metadata": {
  "kernelspec": {
   "display_name": ".venv",
   "language": "python",
   "name": "python3"
  },
  "language_info": {
   "codemirror_mode": {
    "name": "ipython",
    "version": 3
   },
   "file_extension": ".py",
   "mimetype": "text/x-python",
   "name": "python",
   "nbconvert_exporter": "python",
   "pygments_lexer": "ipython3",
   "version": "3.9.13"
  }
 },
 "nbformat": 4,
 "nbformat_minor": 2
}
