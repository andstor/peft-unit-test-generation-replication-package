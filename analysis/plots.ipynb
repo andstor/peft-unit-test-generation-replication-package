{
  "cells": [
    {
      "cell_type": "markdown",
      "metadata": {},
      "source": [
        "# Plots"
      ]
    },
    {
      "cell_type": "markdown",
      "metadata": {},
      "source": [
        "## Setup"
      ]
    },
    {
      "cell_type": "code",
      "execution_count": 1,
      "metadata": {
        "id": "mOQpSwTWFP4L"
      },
      "outputs": [],
      "source": [
        "import matplotlib\n",
        "import matplotlib.pyplot as plt\n",
        "\n",
        "matplotlib.use(\"pgf\")\n",
        "matplotlib.rcParams.update({\n",
        "    \"pgf.texsystem\": \"pdflatex\",\n",
        "    'font.family': 'serif',\n",
        "    'text.usetex': True,\n",
        "    'pgf.rcfonts': False,\n",
        "})\n",
        "\n",
        "%matplotlib inline"
      ]
    },
    {
      "cell_type": "code",
      "execution_count": 2,
      "metadata": {
        "id": "aZMb51jIFVpp"
      },
      "outputs": [],
      "source": [
        "from matplotlib import rcParams\n",
        "rcParams['figure.figsize'] = 7.00697, 7.00697\n",
        "#rcParams['figure.figsize'] = 3.337, 3.337\n",
        "\n",
        "TINY_SIZE = 5\n",
        "FOOTNOTE_SIZE = 7\n",
        "SMALL_SIZE = 8\n",
        "NORMAL_SIZE = 9\n",
        "LARGE_SIZE = 10\n",
        "\n",
        "rcParams['font.size'] = NORMAL_SIZE\n"
      ]
    },
    {
      "cell_type": "markdown",
      "metadata": {},
      "source": [
        "## Preprocessing"
      ]
    },
    {
      "cell_type": "code",
      "execution_count": 3,
      "metadata": {
        "id": "nPaR4F1-FiKC"
      },
      "outputs": [],
      "source": [
        "# load csv\n",
        "import pandas as pd\n",
        "\n",
        "df = pd.read_csv(\"../data/methods2test_small/scores.csv\")\n",
        "\n",
        "# set index as multi index based on the \"model\", and second level index on colum names\n",
        "df[\"model\"] = df[\"model\"].str.split(\"/\").str[-1]\n",
        "df.set_index(\"model\", inplace=True)\n",
        "\n",
        "df = df.unstack().reset_index()\n",
        "df.columns = [\"method\", \"model\", \"codebleu\"]\n",
        "df.set_index([\"model\", \"method\"], inplace=True)"
      ]
    },
    {
      "cell_type": "code",
      "execution_count": 4,
      "metadata": {
        "id": "2RLoQDPGeOIC"
      },
      "outputs": [],
      "source": [
        "# load csv\n",
        "import pandas as pd\n",
        "\n",
        "params_df = pd.read_csv(\"../data/params_data.csv\")\n",
        "# set baseline_parameters\tfine_tuning\tprompt_tuning\tlora\tia3  to float\n",
        "\n",
        "params_df[\"model\"] = params_df[\"model\"].str.split(\"/\").str[-1]\n",
        "params_df.set_index(\"model\", inplace=True)\n",
        "\n",
        "params_df = params_df.unstack().reset_index()\n",
        "params_df.columns = [\"method\", \"model\", \"trainable_params\"]\n",
        "params_df.set_index([\"model\", \"method\"], inplace=True)\n",
        "\n",
        "params_df[\"trainable_params\"] = params_df[\"trainable_params\"].str.replace(\",\", \"\").astype(float)\n"
      ]
    },
    {
      "cell_type": "code",
      "execution_count": 5,
      "metadata": {
        "id": "0SpGPSodeQ8q"
      },
      "outputs": [],
      "source": [
        "def add_parameters(row):\n",
        "\n",
        "    model = row.name[0]\n",
        "    method = row.name[1]\n",
        "    row[\"trainable_params\"] = params_df.loc[model, method][\"trainable_params\"]\n",
        "    row[\"trainable_params_frac\"] = params_df.loc[model, method][\"trainable_params\"] / params_df.loc[model, \"pre-training\"][\"trainable_params\"]\n",
        "    return row\n",
        "\n",
        "\n",
        "df = df.apply(add_parameters, axis=1)\n",
        "#df"
      ]
    },
    {
      "cell_type": "code",
      "execution_count": 6,
      "metadata": {
        "id": "9lLW6C0_eURi"
      },
      "outputs": [],
      "source": [
        "df[\"codebleu_increase\"] = df.apply(lambda x: x[\"codebleu\"] - df.loc[(x.name[0], \"pre-training\")][\"codebleu\"], axis=1)"
      ]
    },
    {
      "cell_type": "code",
      "execution_count": 7,
      "metadata": {
        "id": "h6nj82c1eV-P"
      },
      "outputs": [],
      "source": [
        "df[\"codebleu_relative_increase\"] = df.apply(lambda x: x[\"codebleu_increase\"] / x[\"trainable_params_frac\"], axis=1)"
      ]
    },
    {
      "cell_type": "code",
      "execution_count": 8,
      "metadata": {
        "id": "frfBtzC65FVi"
      },
      "outputs": [],
      "source": [
        "# normalize \"codebleu_relative_increase\". positive values should be normalized between 0 and 1, negative values between -1 and 0\n",
        "\n",
        "def normalize(x):\n",
        "    x_tot = x[\"codebleu_relative_increase\"]\n",
        "    res_pos = x_tot\n",
        "    res_tot = x_tot/x_tot.abs().sum()\n",
        "    \n",
        "    x_pos = x[\"codebleu_relative_increase\"].apply(lambda x: pd.NA if x < 0 else x)\n",
        "    res_pos = x_pos\n",
        "    res_pos = x_pos/x_pos.sum()\n",
        "    \n",
        "    x_neg = x[\"codebleu_relative_increase\"].apply(lambda x: pd.NA if x > 0 else x)\n",
        "    res_neg = x_neg\n",
        "    if x_neg.sum() == 0:\n",
        "      res_neg = 0\n",
        "    else:\n",
        "      res_neg = x_neg/x_neg.sum()*(-1)\n",
        "\n",
        "    return pd.DataFrame({\"pos\":res_pos, \"neg\":res_neg, \"tot\": res_tot})\n",
        "\n",
        "df_tmp = df[df.index.get_level_values(1) != \"pre-training\"]\n",
        "\n",
        "codebleu_relative_increase_normalized = df_tmp.groupby(\"model\") \\\n",
        "    .apply(normalize)\\\n",
        "    .droplevel(0)\n",
        "df2 = pd.merge(df, codebleu_relative_increase_normalized, on=[\"model\", \"method\"])\n",
        "\n",
        "df3 = pd.merge(df, df2, on=[\"model\", \"method\",'codebleu', 'trainable_params', 'trainable_params_frac',\n",
        "       'codebleu_increase', 'codebleu_relative_increase'], how=\"left\")\n"
      ]
    },
    {
      "cell_type": "markdown",
      "metadata": {
        "id": "RQyUMHd3ed5q"
      },
      "source": [
        "## Sorting"
      ]
    },
    {
      "cell_type": "code",
      "execution_count": 9,
      "metadata": {
        "id": "4v6keolLju89"
      },
      "outputs": [],
      "source": [
        "method_order = [ \"full_fine-tuning\", \"lora\", \"ia3\",\"prompt-tuning\", \"pre-training\"]\n",
        "\n",
        "method_mapping = {\n",
        "    \"pre-training\": \"Baseline\",\n",
        "    \"full_fine-tuning\": \"Full fine-tuning\",\n",
        "    \"lora\": \"LoRA\",\n",
        "    \"ia3\": \"(IA)\\\\textsuperscript{3}\",\n",
        "    \"prompt-tuning\": \"Prompt tuning\",\n",
        "    }\n",
        "\n",
        "color_map = {\n",
        "    \"full_fine-tuning\": \"C0\",\n",
        "    \"lora\": \"C1\",\n",
        "    \"ia3\": \"C2\",\n",
        "    \"prompt-tuning\": \"C3\",\n",
        "    \"pre-training\": \"C4\",\n",
        "    }\n",
        "\n",
        "model_order = [\n",
        "    \"codegen-350M-multi\",\n",
        "    \"codegen2-1B_P\",\n",
        "    \"starcoder2-3b\",\n",
        "    \"codegen2-3_7B_P\",\n",
        "    \"CodeLlama-7b-hf\",\n",
        "    \"codegen2-7B_P\",\n",
        "    \"starcoder2-7b\",\n",
        "    \"starcoderbase\",\n",
        "    \"starcoder2-15b\",\n",
        "    \"codegen2-16B_P\"]\n",
        "\n",
        "model_mapping = {\n",
        "    \"codegen-350M-multi\": \"CodeGen-350M-multi\",\n",
        "    \"codegen2-1B_P\": \"CodeGen2-1B\",\n",
        "    \"codegen2-3_7B_P\": \"CodeGen2-3.7B\",\n",
        "    \"codegen2-7B_P\": \"CodeGen2-7B\",\n",
        "    \"codegen2-16B_P\": \"CodeGen2-16B\",\n",
        "    \"CodeLlama-7b-hf\": \"CodeLlama-7B\",\n",
        "    \"starcoderbase\": \"StarCoderBase\",\n",
        "    \"starcoder2-3b\": \"StarCoder2-3B\",\n",
        "    \"starcoder2-7b\": \"StarCoder2-7B\",\n",
        "    \"starcoder2-15b\": \"StarCoder2-15B\"\n",
        "    }\n"
      ]
    },
    {
      "cell_type": "code",
      "execution_count": 10,
      "metadata": {
        "id": "d2pFFS4VtNHt"
      },
      "outputs": [],
      "source": [
        "# Sort the data frame\n",
        "sorterIndex = dict(zip(model_order, range(len(model_order))))\n",
        "df3['model_rank'] = df3.index.get_level_values(0).map(sorterIndex)\n",
        "\n",
        "sorterIndex = dict(zip(method_order, range(len(method_order))))\n",
        "df3['method_rank'] = df3.index.get_level_values(1).map(sorterIndex)\n",
        "\n",
        "df3.sort_values(['model_rank', 'method_rank'], ascending = [True, True], inplace = True)"
      ]
    },
    {
      "cell_type": "markdown",
      "metadata": {},
      "source": [
        "## Figures"
      ]
    },
    {
      "cell_type": "code",
      "execution_count": 40,
      "metadata": {
        "colab": {
          "base_uri": "https://localhost:8080/",
          "height": 361
        },
        "id": "u9i4IOIbK4rt",
        "outputId": "282702d4-9a21-4e14-9134-7e3ce0743c2b"
      },
      "outputs": [
        {
          "data": {
            "image/png": "[encoded data removed]",
            "text/plain": [
              "<Figure size 333.74x346.547 with 1 Axes>"
            ]
          },
          "metadata": {},
          "output_type": "display_data"
        }
      ],
      "source": [
        "# Figure 2\n",
        "\n",
        "df_tmp = df3[df3.index.get_level_values(1) != \"pre-training\"]\n",
        "df_tmp = df_tmp[df_tmp.index.get_level_values(1) != \"full_fine-tuning\"]\n",
        "\n",
        "fig, ax = plt.subplots(figsize=(7.00697, 7.00697))\n",
        "\n",
        "method_colors = [color_map[name] for name in method_order if name not in [\"pre-training\", \"full_fine-tuning\"]]\n",
        "df_tmp.unstack(level=1)[\"tot\"].fillna(0.0)\\\n",
        "      .sort_index(key=lambda x: x.map({v: i for i, v in enumerate(model_order)}))\\\n",
        "      .plot( kind='bar', stacked=True, ax=ax, legend=True, color=method_colors)\n",
        "\n",
        "handles, labels = ax.get_legend_handles_labels()\n",
        "dict_legends = dict(zip(labels, handles))\n",
        "handles_order =[dict_legends[lo] for lo in method_order if lo not in [\"pre-training\", \"full_fine-tuning\"]]\n",
        "method_names = [method_mapping[name] for name in method_order if name not in [\"pre-training\", \"full_fine-tuning\"]]\n",
        "ax.legend(handles_order, method_names, bbox_to_anchor=(0,1.02,1,0.2), loc=\"lower left\", mode=\"expand\", borderaxespad=0, ncol=3, frameon=False)\n",
        "\n",
        "model_names = [model_mapping[item.get_text()] for item in ax.get_xticklabels()]\n",
        "ax.set_xticklabels(model_names, rotation=90, ha='center', rotation_mode='default')\n",
        "ax.set_ylabel('Relative importance')\n",
        "ax.set_xlabel('Models')\n",
        "ax.xaxis.label.set_visible(False)\n",
        "ax.grid(True)\n",
        "ax.set_ylim(bottom=-1, top=1)\n",
        "\n",
        "# Show and save the plot\n",
        "fig.set_size_inches(w=3.3374, h=(8.66367/2)*0.8)\n",
        "plt.show()\n",
        "fig.tight_layout()\n",
        "fig.savefig('../figures/relative_importance.pdf', bbox_inches='tight')\n",
        "\n",
        "ax.xaxis.set_tick_params(pad=-5)\n",
        "fig.savefig('../figures/relative_importance.pgf', bbox_inches='tight')\n"
      ]
    },
    {
      "cell_type": "code",
      "execution_count": 39,
      "metadata": {},
      "outputs": [
        {
          "data": {
            "image/png": "[encoded data removed]",
            "text/plain": [
              "<Figure size 333.74x411.524 with 1 Axes>"
            ]
          },
          "metadata": {},
          "output_type": "display_data"
        }
      ],
      "source": [
        "# Figure 3\n",
        "\n",
        "df_tmp = df3[df3.index.get_level_values(1) != \"pre-training\"]\n",
        "\n",
        "fig, ax = plt.subplots(figsize=(7.00697, 7.00697))\n",
        "\n",
        "method_colors = [color_map[name] for name in method_order]\n",
        "df_tmp.unstack(level=1)[\"trainable_params\"].fillna(0.0)\\\n",
        "      .sort_index(key=lambda x: x.map({v: i for i, v in enumerate(model_order)}))\\\n",
        "      .plot( kind='barh', stacked=False, ax=ax, legend=True, color = method_colors)\n",
        "\n",
        "handles, labels = ax.get_legend_handles_labels()\n",
        "dict_legends = dict(zip(labels, handles))\n",
        "handles_order =[dict_legends[lo] for lo in method_order if lo != \"pre-training\"]\n",
        "method_names = [method_mapping[name] for name in method_order if name != \"pre-training\"]\n",
        "ax.legend(handles_order, method_names, bbox_to_anchor=(0,1.02,1,0.2), loc=\"lower center\", mode=None, borderaxespad=0, ncol=2, frameon=False)\n",
        "\n",
        "model_names = [model_mapping[item.get_text()] for item in ax.get_yticklabels()]\n",
        "ax.set_yticklabels(model_names, rotation=0, ha='right')\n",
        "ax.set_xlabel('Trainable parameters')\n",
        "ax.set_ylabel('Model')\n",
        "ax.yaxis.label.set_visible(False)\n",
        "ax.grid(True)\n",
        "ax.set_xscale('log')\n",
        "\n",
        "plt.gca().invert_yaxis()\n",
        "\n",
        "# Show and save the plot\n",
        "fig.set_size_inches(w=3.3374, h=(8.66367/2)*0.95)\n",
        "plt.show()\n",
        "fig.tight_layout()\n",
        "fig.savefig('../figures/parameters.pdf', bbox_inches='tight')\n",
        "\n",
        "ax.yaxis.set_tick_params(pad=-5)\n",
        "fig.savefig('../figures/parameters.pgf', bbox_inches='tight')\n",
        "\n",
        "\n"
      ]
    },
    {
      "cell_type": "code",
      "execution_count": 38,
      "metadata": {},
      "outputs": [
        {
          "data": {
            "image/png": "[encoded data removed]",
            "text/plain": [
              "<Figure size 333.74x411.524 with 1 Axes>"
            ]
          },
          "metadata": {},
          "output_type": "display_data"
        }
      ],
      "source": [
        "# Figure 4\n",
        "\n",
        "import numpy as np\n",
        "df_tmp = df3[df3.index.get_level_values(1) != \"pre-training\"]\n",
        "\n",
        "fig, ax = plt.subplots(figsize=(7.00697, 7.00697))\n",
        "\n",
        "method_colors = [color_map[name] for name in method_order]\n",
        "df_tmp.unstack(level=1)[\"codebleu\"].fillna(0.0)\\\n",
        "      .sort_index(key=lambda x: x.map({v: i for i, v in enumerate(model_order)}))\\\n",
        "      .plot( kind='barh', stacked=False, ax=ax, legend=True, color = method_colors)\n",
        "\n",
        "x = np.arange(len(df_tmp.columns))\n",
        "baselines= df3.unstack(level=1)[\"codebleu\"].fillna(0.0)\\\n",
        "      .sort_index(key=lambda x: x.map({v: i for i, v in enumerate(model_order)}))[\"pre-training\"]\n",
        "width = 0.75\n",
        "ax.vlines(baselines, x - width/2, x + width/2, color=\"black\", label=\"pre-training\", linewidth=1)\n",
        "\n",
        "handles, labels = ax.get_legend_handles_labels()\n",
        "dict_legends = dict(zip(labels, handles))\n",
        "handles_order =[dict_legends[lo] for lo in method_order]\n",
        "method_names = [method_mapping[name] for name in method_order]\n",
        "ax.legend(handles_order, method_names, bbox_to_anchor=(0,1.02,1,0.2), loc=\"lower center\", mode=None, borderaxespad=0, ncol=2, frameon=False)\n",
        "\n",
        "model_names = [model_mapping[item.get_text()] for item in ax.get_yticklabels()]\n",
        "ax.set_yticklabels(model_names,  rotation=0, ha='right', rotation_mode='default')\n",
        "ax.set_xlabel('CodeBLEU score')\n",
        "ax.set_ylabel('Model')\n",
        "ax.yaxis.label.set_visible(False)\n",
        "ax.grid(True)\n",
        "\n",
        "plt.gca().invert_yaxis()\n",
        "\n",
        "# Show and save the plot\n",
        "fig.set_size_inches(w=3.3374, h=(8.66367/2)*0.95)\n",
        "plt.show()\n",
        "fig.tight_layout()\n",
        "fig.savefig('../figures/codebleu.pdf', bbox_inches='tight')\n",
        "ax.yaxis.set_tick_params(pad=-5)\n",
        "fig.savefig('../figures/codebleu.pgf', bbox_inches='tight')\n"
      ]
    }
  ],
  "metadata": {
    "colab": {
      "provenance": []
    },
    "kernelspec": {
      "display_name": "Python 3",
      "name": "python3"
    },
    "language_info": {
      "codemirror_mode": {
        "name": "ipython",
        "version": 3
      },
      "file_extension": ".py",
      "mimetype": "text/x-python",
      "name": "python",
      "nbconvert_exporter": "python",
      "pygments_lexer": "ipython3",
      "version": "3.9.13"
    }
  },
  "nbformat": 4,
  "nbformat_minor": 0
}
