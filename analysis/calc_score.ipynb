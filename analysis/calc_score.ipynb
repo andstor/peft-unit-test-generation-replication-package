{
 "cells": [
  {
   "cell_type": "code",
   "execution_count": 6,
   "metadata": {},
   "outputs": [],
   "source": [
    "import os\n",
    "import pandas as pd\n",
    "from pathlib import Path\n",
    "import re\n",
    "from codebleu import calc_codebleu\n",
    "\n",
    "\n",
    "def calc_experiment_codebleu(file):\n",
    "    print(file)\n",
    "    df = pd.read_json(file, orient='records', lines=True, dtype=False)\n",
    "    \n",
    "    if df.shape[0] > 0:\n",
    "        list_of_references =[[pred] for pred in df[\"reference\"].to_list()]\n",
    "        hypotheses = df[\"prediction\"].to_list()\n",
    "        code_bleu_score = calc_codebleu(list_of_references, hypotheses, \"java\", tokenizer=lambda x: x)\n",
    "    else:\n",
    "        code_bleu_score = {\"codebleu\": 0.0}\n",
    "    \n",
    "    return code_bleu_score[\"codebleu\"]\n"
   ]
  },
  {
   "cell_type": "code",
   "execution_count": null,
   "metadata": {},
   "outputs": [],
   "source": [
    "import os\n",
    "from pathlib import Path\n",
    "from tqdm.auto import tqdm\n",
    "\n",
    "import fnmatch\n",
    "import os\n",
    "\n",
    "root, dirs, files = next(os.walk(\"../data\"))\n",
    "datasets = dirs\n",
    "\n",
    "for dataset in datasets:\n",
    "    dataset_path = Path(root, dataset, \"fixed\")\n",
    "    \n",
    "    paths = []\n",
    "    for d_root, dirnames, filenames in os.walk(dataset_path):\n",
    "        for filename in fnmatch.filter(filenames, '*00001-of-00001.jsonl'):\n",
    "            paths.append( Path(d_root, filename))\n",
    "\n",
    "    scores_data = {}\n",
    "    for path in tqdm(paths):\n",
    "        print(path)\n",
    "        method = path.parts[4]\n",
    "        model = path.parts[5] + \"/\" + path.parts[6]\n",
    "        print(dataset, method, model)\n",
    "    \n",
    "        code_bleu_score = calc_experiment_codebleu(path)\n",
    "        scores_data.setdefault(model, {})\n",
    "        scores_data[model][method] = code_bleu_score\n",
    "    \n",
    "    scores_df = pd.DataFrame(scores_data)\n",
    "    scores_df.T.to_csv(Path(root, dataset, \"scores.csv\"), index_label = 'model')"
   ]
  }
 ],
 "metadata": {
  "kernelspec": {
   "display_name": ".venv",
   "language": "python",
   "name": "python3"
  },
  "language_info": {
   "codemirror_mode": {
    "name": "ipython",
    "version": 3
   },
   "file_extension": ".py",
   "mimetype": "text/x-python",
   "name": "python",
   "nbconvert_exporter": "python",
   "pygments_lexer": "ipython3",
   "version": "3.9.13"
  }
 },
 "nbformat": 4,
 "nbformat_minor": 2
}
