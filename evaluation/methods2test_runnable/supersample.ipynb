{
 "cells": [
  {
   "cell_type": "code",
   "execution_count": 15,
   "id": "683044fa",
   "metadata": {},
   "outputs": [],
   "source": [
    "from datasets import load_dataset\n",
    "\n",
    "# Login using e.g. `huggingface-cli login` to access this dataset\n",
    "meta_ds = load_dataset(\"andstor/methods2test_meta\", \"test_status\", split=\"test\")"
   ]
  },
  {
   "cell_type": "code",
   "execution_count": 5,
   "id": "7eb826db",
   "metadata": {},
   "outputs": [
    {
     "data": {
      "application/vnd.jupyter.widget-view+json": {
       "model_id": "7a6a173341db42f789f0ed496080a94e",
       "version_major": 2,
       "version_minor": 0
      },
      "text/plain": [
       "train-00000-of-00003.parquet:   0%|          | 0.00/111M [00:00<?, ?B/s]"
      ]
     },
     "metadata": {},
     "output_type": "display_data"
    },
    {
     "data": {
      "application/vnd.jupyter.widget-view+json": {
       "model_id": "898497cb872e4d87a54bd6a80a5fc352",
       "version_major": 2,
       "version_minor": 0
      },
      "text/plain": [
       "train-00001-of-00003.parquet:   0%|          | 0.00/117M [00:00<?, ?B/s]"
      ]
     },
     "metadata": {},
     "output_type": "display_data"
    },
    {
     "data": {
      "application/vnd.jupyter.widget-view+json": {
       "model_id": "ca245d529c46490f9772017d785962b0",
       "version_major": 2,
       "version_minor": 0
      },
      "text/plain": [
       "train-00002-of-00003.parquet:   0%|          | 0.00/64.1M [00:00<?, ?B/s]"
      ]
     },
     "metadata": {},
     "output_type": "display_data"
    },
    {
     "data": {
      "application/vnd.jupyter.widget-view+json": {
       "model_id": "e8e8a18ac70a4f3aa3b323a18ccb77c6",
       "version_major": 2,
       "version_minor": 0
      },
      "text/plain": [
       "test-00000-of-00001.parquet:   0%|          | 0.00/39.2M [00:00<?, ?B/s]"
      ]
     },
     "metadata": {},
     "output_type": "display_data"
    },
    {
     "data": {
      "application/vnd.jupyter.widget-view+json": {
       "model_id": "8f492e8444a84c0f88775995ecde506f",
       "version_major": 2,
       "version_minor": 0
      },
      "text/plain": [
       "validation-00000-of-00001.parquet:   0%|          | 0.00/39.6M [00:00<?, ?B/s]"
      ]
     },
     "metadata": {},
     "output_type": "display_data"
    },
    {
     "data": {
      "application/vnd.jupyter.widget-view+json": {
       "model_id": "2d23316e27be43459c49777cd2314476",
       "version_major": 2,
       "version_minor": 0
      },
      "text/plain": [
       "Generating train split:   0%|          | 0/624022 [00:00<?, ? examples/s]"
      ]
     },
     "metadata": {},
     "output_type": "display_data"
    },
    {
     "data": {
      "application/vnd.jupyter.widget-view+json": {
       "model_id": "93be74f082fa4ff4a3fcf382bb69e256",
       "version_major": 2,
       "version_minor": 0
      },
      "text/plain": [
       "Generating test split:   0%|          | 0/78388 [00:00<?, ? examples/s]"
      ]
     },
     "metadata": {},
     "output_type": "display_data"
    },
    {
     "data": {
      "application/vnd.jupyter.widget-view+json": {
       "model_id": "84b017a9a37b484eba6b14a235558dbb",
       "version_major": 2,
       "version_minor": 0
      },
      "text/plain": [
       "Generating validation split:   0%|          | 0/78534 [00:00<?, ? examples/s]"
      ]
     },
     "metadata": {},
     "output_type": "display_data"
    }
   ],
   "source": [
    "from datasets import load_dataset\n",
    "\n",
    "methods2test_ds = load_dataset(\"andstor/methods2test\", 'fm+fc+c+m+f+t+tc', split=\"test\")"
   ]
  },
  {
   "cell_type": "code",
   "execution_count": 38,
   "id": "cb8c2eae",
   "metadata": {},
   "outputs": [],
   "source": [
    "from datasets import Dataset\n",
    "import json\n",
    "import pandas as pd\n",
    "from datasets import DatasetDict, Features, Sequence, Value\n",
    "\n",
    "\n",
    "feat = Features(\n",
    "    {\n",
    "    'id': Value(dtype='string', id=None),\n",
    "    'build_tool': Value(dtype='string', id=None),\n",
    "    'status': Value(dtype='string', id=None)\n",
    "    }\n",
    ")\n",
    "\n",
    "runnable_df = meta_ds.to_pandas().set_index(\"id\")\n",
    "runnable_df = runnable_df[runnable_df[\"status\"] == \"success\"]\n",
    "\n",
    "def gen_ds():\n",
    "    for row in methods2test_ds:\n",
    "        if row[\"id\"] in runnable_df.index:\n",
    "            yield row\n",
    "        else:\n",
    "            continue\n",
    "\n",
    "ds = Dataset.from_generator(generator=gen_ds, features=methods2test_ds.features, split=\"test\")"
   ]
  },
  {
   "cell_type": "code",
   "execution_count": 35,
   "id": "2a12a90f",
   "metadata": {},
   "outputs": [
    {
     "data": {
      "application/vnd.jupyter.widget-view+json": {
       "model_id": "ecd5222aa6d04add8b45a514ed475c16",
       "version_major": 2,
       "version_minor": 0
      },
      "text/plain": [
       "Uploading the dataset shards:   0%|          | 0/1 [00:00<?, ?it/s]"
      ]
     },
     "metadata": {},
     "output_type": "display_data"
    },
    {
     "data": {
      "application/vnd.jupyter.widget-view+json": {
       "model_id": "eada516d089f43c489050b2d5e2f4be4",
       "version_major": 2,
       "version_minor": 0
      },
      "text/plain": [
       "Creating parquet from Arrow format:   0%|          | 0/8 [00:00<?, ?ba/s]"
      ]
     },
     "metadata": {},
     "output_type": "display_data"
    },
    {
     "data": {
      "text/plain": [
       "CommitInfo(commit_url='https://huggingface.co/datasets/andstor/methods2test_runnable/commit/d16acd64daac7919de4cd3d08e47e3672845051a', commit_message='Upload dataset', commit_description='', oid='d16acd64daac7919de4cd3d08e47e3672845051a', pr_url=None, repo_url=RepoUrl('https://huggingface.co/datasets/andstor/methods2test_runnable', endpoint='https://huggingface.co', repo_type='dataset', repo_id='andstor/methods2test_runnable'), pr_revision=None, pr_num=None)"
      ]
     },
     "execution_count": 35,
     "metadata": {},
     "output_type": "execute_result"
    }
   ],
   "source": [
    "ds.push_to_hub(\"andstor/methods2test_runnable\", \"fm+fc+c+m+f+t+tc\", private=False, max_shard_size=\"250MB\")"
   ]
  },
  {
   "cell_type": "code",
   "execution_count": null,
   "id": "6e345d94",
   "metadata": {},
   "outputs": [],
   "source": []
  }
 ],
 "metadata": {
  "kernelspec": {
   "display_name": ".venv",
   "language": "python",
   "name": "python3"
  },
  "language_info": {
   "codemirror_mode": {
    "name": "ipython",
    "version": 3
   },
   "file_extension": ".py",
   "mimetype": "text/x-python",
   "name": "python",
   "nbconvert_exporter": "python",
   "pygments_lexer": "ipython3",
   "version": "3.9.13"
  }
 },
 "nbformat": 4,
 "nbformat_minor": 5
}
